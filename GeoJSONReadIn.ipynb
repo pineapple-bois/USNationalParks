{
 "cells": [
  {
   "cell_type": "code",
   "id": "initial_id",
   "metadata": {
    "collapsed": true,
    "ExecuteTime": {
     "end_time": "2024-09-03T11:22:56.431229Z",
     "start_time": "2024-09-03T11:22:55.885598Z"
    }
   },
   "source": "import geopandas as gpd",
   "outputs": [],
   "execution_count": 1
  },
  {
   "metadata": {
    "ExecuteTime": {
     "end_time": "2024-09-03T11:23:03.013353Z",
     "start_time": "2024-09-03T11:22:58.579881Z"
    }
   },
   "cell_type": "code",
   "source": [
    "gdf = gpd.read_file('nps_boundary.geojson')\n",
    "gdf.head()"
   ],
   "id": "c43e90ccaf0b90db",
   "outputs": [
    {
     "data": {
      "text/plain": [
       "  GIS_LOC_ID UNIT_CODE GROUP_CODE        UNIT_NAME  \\\n",
       "0       None      UPDE       None   Upper Delaware   \n",
       "1       None      BAND       None        Bandelier   \n",
       "2       None      ACAD       None           Acadia   \n",
       "3       None      ROCR       None  Achbold Parkway   \n",
       "4       None      ADAM       None            Adams   \n",
       "\n",
       "                       UNIT_TYPE META_MIDF LANDS_CODE   DATE_EDIT  \\\n",
       "0  Scenic and Recreational River      None       None  2006-06-06   \n",
       "1              National Monument      None       None        None   \n",
       "2                  National Park      None       None        None   \n",
       "3                           Park      None       None        None   \n",
       "4       National Historical Park      None       None        None   \n",
       "\n",
       "                                           GIS_NOTES  \\\n",
       "0  POC for this update:  leslie_morlock@nps.gov -...   \n",
       "1         Park Created Boundary - contact Kay Beeley   \n",
       "2                                     Shift 0.03 mi.   \n",
       "3                                               None   \n",
       "4                                     Shift 0.03 mi.   \n",
       "\n",
       "                                            geometry  \n",
       "0  POLYGON ((-74.92112 41.4903, -74.91918 41.4912...  \n",
       "1  MULTIPOLYGON (((-106.19585 35.85378, -106.2214...  \n",
       "2  MULTIPOLYGON (((-68.22595 44.39584, -68.22766 ...  \n",
       "3  MULTIPOLYGON (((-77.0843 38.91673, -77.08482 3...  \n",
       "4  POLYGON ((-71.00948 42.25625, -71.01133 42.255...  "
      ],
      "text/html": [
       "<div>\n",
       "<style scoped>\n",
       "    .dataframe tbody tr th:only-of-type {\n",
       "        vertical-align: middle;\n",
       "    }\n",
       "\n",
       "    .dataframe tbody tr th {\n",
       "        vertical-align: top;\n",
       "    }\n",
       "\n",
       "    .dataframe thead th {\n",
       "        text-align: right;\n",
       "    }\n",
       "</style>\n",
       "<table border=\"1\" class=\"dataframe\">\n",
       "  <thead>\n",
       "    <tr style=\"text-align: right;\">\n",
       "      <th></th>\n",
       "      <th>GIS_LOC_ID</th>\n",
       "      <th>UNIT_CODE</th>\n",
       "      <th>GROUP_CODE</th>\n",
       "      <th>UNIT_NAME</th>\n",
       "      <th>UNIT_TYPE</th>\n",
       "      <th>META_MIDF</th>\n",
       "      <th>LANDS_CODE</th>\n",
       "      <th>DATE_EDIT</th>\n",
       "      <th>GIS_NOTES</th>\n",
       "      <th>geometry</th>\n",
       "    </tr>\n",
       "  </thead>\n",
       "  <tbody>\n",
       "    <tr>\n",
       "      <th>0</th>\n",
       "      <td>None</td>\n",
       "      <td>UPDE</td>\n",
       "      <td>None</td>\n",
       "      <td>Upper Delaware</td>\n",
       "      <td>Scenic and Recreational River</td>\n",
       "      <td>None</td>\n",
       "      <td>None</td>\n",
       "      <td>2006-06-06</td>\n",
       "      <td>POC for this update:  leslie_morlock@nps.gov -...</td>\n",
       "      <td>POLYGON ((-74.92112 41.4903, -74.91918 41.4912...</td>\n",
       "    </tr>\n",
       "    <tr>\n",
       "      <th>1</th>\n",
       "      <td>None</td>\n",
       "      <td>BAND</td>\n",
       "      <td>None</td>\n",
       "      <td>Bandelier</td>\n",
       "      <td>National Monument</td>\n",
       "      <td>None</td>\n",
       "      <td>None</td>\n",
       "      <td>None</td>\n",
       "      <td>Park Created Boundary - contact Kay Beeley</td>\n",
       "      <td>MULTIPOLYGON (((-106.19585 35.85378, -106.2214...</td>\n",
       "    </tr>\n",
       "    <tr>\n",
       "      <th>2</th>\n",
       "      <td>None</td>\n",
       "      <td>ACAD</td>\n",
       "      <td>None</td>\n",
       "      <td>Acadia</td>\n",
       "      <td>National Park</td>\n",
       "      <td>None</td>\n",
       "      <td>None</td>\n",
       "      <td>None</td>\n",
       "      <td>Shift 0.03 mi.</td>\n",
       "      <td>MULTIPOLYGON (((-68.22595 44.39584, -68.22766 ...</td>\n",
       "    </tr>\n",
       "    <tr>\n",
       "      <th>3</th>\n",
       "      <td>None</td>\n",
       "      <td>ROCR</td>\n",
       "      <td>None</td>\n",
       "      <td>Achbold Parkway</td>\n",
       "      <td>Park</td>\n",
       "      <td>None</td>\n",
       "      <td>None</td>\n",
       "      <td>None</td>\n",
       "      <td>None</td>\n",
       "      <td>MULTIPOLYGON (((-77.0843 38.91673, -77.08482 3...</td>\n",
       "    </tr>\n",
       "    <tr>\n",
       "      <th>4</th>\n",
       "      <td>None</td>\n",
       "      <td>ADAM</td>\n",
       "      <td>None</td>\n",
       "      <td>Adams</td>\n",
       "      <td>National Historical Park</td>\n",
       "      <td>None</td>\n",
       "      <td>None</td>\n",
       "      <td>None</td>\n",
       "      <td>Shift 0.03 mi.</td>\n",
       "      <td>POLYGON ((-71.00948 42.25625, -71.01133 42.255...</td>\n",
       "    </tr>\n",
       "  </tbody>\n",
       "</table>\n",
       "</div>"
      ]
     },
     "execution_count": 2,
     "metadata": {},
     "output_type": "execute_result"
    }
   ],
   "execution_count": 2
  },
  {
   "metadata": {
    "ExecuteTime": {
     "end_time": "2024-09-03T11:24:43.730057Z",
     "start_time": "2024-09-03T11:24:43.718578Z"
    }
   },
   "cell_type": "code",
   "source": [
    "gdf_nat_parks = gdf[gdf['UNIT_TYPE'] == 'National Park']\n",
    "print(f\"Shape: {gdf_nat_parks.shape}\")"
   ],
   "id": "6259ff6fec6f38aa",
   "outputs": [
    {
     "name": "stdout",
     "output_type": "stream",
     "text": [
      "Shape: (58, 10)\n"
     ]
    }
   ],
   "execution_count": 3
  },
  {
   "metadata": {
    "ExecuteTime": {
     "end_time": "2024-09-03T11:25:43.138989Z",
     "start_time": "2024-09-03T11:25:43.129458Z"
    }
   },
   "cell_type": "code",
   "source": "print(gdf_nat_parks['UNIT_NAME'].unique())",
   "id": "197a97b776b8bdb1",
   "outputs": [
    {
     "name": "stdout",
     "output_type": "stream",
     "text": [
      "['Acadia' 'Big Bend' 'Biscayne' 'Canyonlands' 'Capitol Reef' 'Crater Lake'\n",
      " 'Death Valley' 'Everglades' 'Grand Canyon' 'Grand Teton' 'Great Basin'\n",
      " 'Great Smoky Mountains' 'Guadalupe Mountains' 'Haleakala' 'Isle Royale'\n",
      " 'Mount Rainier' 'National Park of American Samoa' 'North Cascades'\n",
      " 'Olympic' 'Redwood' 'Rocky Mountain' 'Saguaro' 'Shenandoah'\n",
      " 'Black Canyon of the Gunnison' 'Mammoth Cave' 'Yosemite'\n",
      " 'Great Sand Dunes' 'Wind Cave' 'Glacier' 'Arches' 'Channel Islands'\n",
      " 'Joshua Tree' 'Voyageurs' 'Theodore Roosevelt' 'Congaree'\n",
      " 'Virgin Islands' 'Hot Springs' 'Petrified Forest' 'Dry Tortugas' 'Denali'\n",
      " 'Gates of the Arctic' 'Glacier Bay' 'Katmai' 'Kenai Fjords'\n",
      " 'Kobuk Valley' 'Lake Clark' 'Wrangell-St. Elias' 'Zion' 'Badlands'\n",
      " 'Bryce Canyon' 'Cuyahoga Valley' 'Carlsbad Caverns' \"Hawai'i Volcanoes\"\n",
      " 'Lassen Volcanic' 'Yellowstone' 'Mesa Verde' 'Kings Canyon' 'Sequoia']\n"
     ]
    }
   ],
   "execution_count": 4
  },
  {
   "metadata": {
    "ExecuteTime": {
     "end_time": "2024-09-03T11:26:46.624026Z",
     "start_time": "2024-09-03T11:26:46.604907Z"
    }
   },
   "cell_type": "code",
   "source": "gdf_nat_parks.head()",
   "id": "ffe7d2b94c6b1473",
   "outputs": [
    {
     "data": {
      "text/plain": [
       "   GIS_LOC_ID UNIT_CODE GROUP_CODE     UNIT_NAME      UNIT_TYPE META_MIDF  \\\n",
       "2        None      ACAD       None        Acadia  National Park      None   \n",
       "29       None      BIBE       None      Big Bend  National Park      None   \n",
       "35       None      BISC       None      Biscayne  National Park      None   \n",
       "45       None      CANY       None   Canyonlands  National Park      None   \n",
       "49       None      CARE       None  Capitol Reef  National Park      None   \n",
       "\n",
       "   LANDS_CODE DATE_EDIT           GIS_NOTES  \\\n",
       "2        None      None      Shift 0.03 mi.   \n",
       "29       None      None      Shift 0.03 mi.   \n",
       "35       None      None                Good   \n",
       "45       None      None  Shifted 0.04 miles   \n",
       "49       None      None  Shifted 0.04 miles   \n",
       "\n",
       "                                             geometry  \n",
       "2   MULTIPOLYGON (((-68.22595 44.39584, -68.22766 ...  \n",
       "29  POLYGON ((-102.84985 29.35623, -102.85101 29.3...  \n",
       "35  POLYGON ((-80.34638 25.4484, -80.34631 25.4492...  \n",
       "45  MULTIPOLYGON (((-109.88562 38.48543, -109.8853...  \n",
       "49  POLYGON ((-110.93617 37.7308, -110.93593 37.73...  "
      ],
      "text/html": [
       "<div>\n",
       "<style scoped>\n",
       "    .dataframe tbody tr th:only-of-type {\n",
       "        vertical-align: middle;\n",
       "    }\n",
       "\n",
       "    .dataframe tbody tr th {\n",
       "        vertical-align: top;\n",
       "    }\n",
       "\n",
       "    .dataframe thead th {\n",
       "        text-align: right;\n",
       "    }\n",
       "</style>\n",
       "<table border=\"1\" class=\"dataframe\">\n",
       "  <thead>\n",
       "    <tr style=\"text-align: right;\">\n",
       "      <th></th>\n",
       "      <th>GIS_LOC_ID</th>\n",
       "      <th>UNIT_CODE</th>\n",
       "      <th>GROUP_CODE</th>\n",
       "      <th>UNIT_NAME</th>\n",
       "      <th>UNIT_TYPE</th>\n",
       "      <th>META_MIDF</th>\n",
       "      <th>LANDS_CODE</th>\n",
       "      <th>DATE_EDIT</th>\n",
       "      <th>GIS_NOTES</th>\n",
       "      <th>geometry</th>\n",
       "    </tr>\n",
       "  </thead>\n",
       "  <tbody>\n",
       "    <tr>\n",
       "      <th>2</th>\n",
       "      <td>None</td>\n",
       "      <td>ACAD</td>\n",
       "      <td>None</td>\n",
       "      <td>Acadia</td>\n",
       "      <td>National Park</td>\n",
       "      <td>None</td>\n",
       "      <td>None</td>\n",
       "      <td>None</td>\n",
       "      <td>Shift 0.03 mi.</td>\n",
       "      <td>MULTIPOLYGON (((-68.22595 44.39584, -68.22766 ...</td>\n",
       "    </tr>\n",
       "    <tr>\n",
       "      <th>29</th>\n",
       "      <td>None</td>\n",
       "      <td>BIBE</td>\n",
       "      <td>None</td>\n",
       "      <td>Big Bend</td>\n",
       "      <td>National Park</td>\n",
       "      <td>None</td>\n",
       "      <td>None</td>\n",
       "      <td>None</td>\n",
       "      <td>Shift 0.03 mi.</td>\n",
       "      <td>POLYGON ((-102.84985 29.35623, -102.85101 29.3...</td>\n",
       "    </tr>\n",
       "    <tr>\n",
       "      <th>35</th>\n",
       "      <td>None</td>\n",
       "      <td>BISC</td>\n",
       "      <td>None</td>\n",
       "      <td>Biscayne</td>\n",
       "      <td>National Park</td>\n",
       "      <td>None</td>\n",
       "      <td>None</td>\n",
       "      <td>None</td>\n",
       "      <td>Good</td>\n",
       "      <td>POLYGON ((-80.34638 25.4484, -80.34631 25.4492...</td>\n",
       "    </tr>\n",
       "    <tr>\n",
       "      <th>45</th>\n",
       "      <td>None</td>\n",
       "      <td>CANY</td>\n",
       "      <td>None</td>\n",
       "      <td>Canyonlands</td>\n",
       "      <td>National Park</td>\n",
       "      <td>None</td>\n",
       "      <td>None</td>\n",
       "      <td>None</td>\n",
       "      <td>Shifted 0.04 miles</td>\n",
       "      <td>MULTIPOLYGON (((-109.88562 38.48543, -109.8853...</td>\n",
       "    </tr>\n",
       "    <tr>\n",
       "      <th>49</th>\n",
       "      <td>None</td>\n",
       "      <td>CARE</td>\n",
       "      <td>None</td>\n",
       "      <td>Capitol Reef</td>\n",
       "      <td>National Park</td>\n",
       "      <td>None</td>\n",
       "      <td>None</td>\n",
       "      <td>None</td>\n",
       "      <td>Shifted 0.04 miles</td>\n",
       "      <td>POLYGON ((-110.93617 37.7308, -110.93593 37.73...</td>\n",
       "    </tr>\n",
       "  </tbody>\n",
       "</table>\n",
       "</div>"
      ]
     },
     "execution_count": 5,
     "metadata": {},
     "output_type": "execute_result"
    }
   ],
   "execution_count": 5
  },
  {
   "metadata": {
    "ExecuteTime": {
     "end_time": "2024-09-03T11:27:34.635400Z",
     "start_time": "2024-09-03T11:27:34.631106Z"
    }
   },
   "cell_type": "code",
   "source": "print(gdf_nat_parks['GIS_NOTES'].unique())",
   "id": "7fa08b61fe542fe3",
   "outputs": [
    {
     "name": "stdout",
     "output_type": "stream",
     "text": [
      "['Shift 0.03 mi.' 'Good' 'Shifted 0.04 miles' 'Shifted 0.06 miles'\n",
      " 'Shifted 0.05 miles' 'Shifted 0.03 miles'\n",
      " \"Shifted 0.29 miles; some internal islands missing from Dean's set\"\n",
      " \"Dean's set is just islands; Dave's boundary extends 4.5 mi. offshore\"\n",
      " 'Big Problems' 'Shifted 0.06 - 0.07 miles'\n",
      " 'Shifted 0.02 miles; Discrepancy at south end (at BLRI); other minor discrepancies'\n",
      " 'Lands - http://landsnet.nps.gov/tractsnet/documents/BLCA/Metadata/blca_metadata.xml'\n",
      " 'Lands - http://landsnet.nps.gov/tractsnet/documents/MACA/Metadata/maca_metadata.xml'\n",
      " 'Lands'\n",
      " 'Lands - http://landsnet.nps.gov/tractsnet/documents/WICA/Metadata/wica_metadata.xml'\n",
      " 'POC for this update:  richard_menicke@nps.gov - http://landsnet.nps.gov/tractsnet/documents/GLAC/Metadata/glac_metadata.xml'\n",
      " 'Lands - http://landsnet.nps.gov/tractsnet/documents/VOYA/Metadata/voya_metadata.xml'\n",
      " 'Lands - http://landsnet.nps.gov/tractsnet/documents/THRO/Metadata/thro_metadata.xml'\n",
      " 'POC for this update:  alex_gregg@nps.gov - http://landsnet.nps.gov/tractsnet/documents/COSW/Metadata/cosw_metadata.xml'\n",
      " 'POC for this update:  dean_gettinger@nps.gov - http://landsnet.nps.gov/tractsnet/documents/VIIS/Metadata/viis_metadata.xml'\n",
      " 'Lands - http://landsnet.nps.gov/tractsnet/documents/HOSP/Metadata/hosp_metadata.xml'\n",
      " 'Lands - http://landsnet.nps.gov/tractsnet/documents/PEFO/Metadata/pefo_metadata.xml'\n",
      " 'Lands - http://landsnet.nps.gov/tractsnet/documents/DRTO/Metadata/drto_metadata.xml'\n",
      " 'Lands - http://landsnet.nps.gov/tractsnet/documents/ZION/Metadata/zion_metadata.xml'\n",
      " 'Lands - http://landsnet.nps.gov/tractsnet/documents/BADL/Metadata/badl_metadata.xml'\n",
      " 'Lands - http://landsnet.nps.gov/tractsnet/documents/BRCA/Metadata/brca_metadata.xml'\n",
      " 'Lands - http://landsnet.nps.gov/tractsnet/documents/CUVA/Metadata/cuva_metadata.xml'\n",
      " 'Lands - http://landsnet.nps.gov/tractsnet/documents/CAVE/Metadata/cave_metadata.xml'\n",
      " 'Lands - http://landsnet.nps.gov/tractsnet/documents/HAVO/Metadata/havo_metadata.xml'\n",
      " 'Lands - http://landsnet.nps.gov/tractsnet/documents/LAVO/Metadata/lavo_metadata.xml'\n",
      " 'Lands - http://landsnet.nps.gov/tractsnet/documents/YELL/Metadata/yell_metadata.xml'\n",
      " 'Lands - http://landsnet.nps.gov/tractsnet/documents/MEVE/Metadata/meve_metadata.xml']\n"
     ]
    }
   ],
   "execution_count": 6
  },
  {
   "metadata": {},
   "cell_type": "code",
   "outputs": [],
   "execution_count": null,
   "source": "",
   "id": "29430dad1fe84795"
  }
 ],
 "metadata": {
  "kernelspec": {
   "display_name": "Python 3",
   "language": "python",
   "name": "python3"
  },
  "language_info": {
   "codemirror_mode": {
    "name": "ipython",
    "version": 2
   },
   "file_extension": ".py",
   "mimetype": "text/x-python",
   "name": "python",
   "nbconvert_exporter": "python",
   "pygments_lexer": "ipython2",
   "version": "2.7.6"
  }
 },
 "nbformat": 4,
 "nbformat_minor": 5
}
