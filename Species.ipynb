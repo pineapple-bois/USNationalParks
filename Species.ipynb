{
 "cells": [
  {
   "metadata": {},
   "cell_type": "markdown",
   "source": [
    "# North American Bird Records\n",
    "Using `species.csv`"
   ],
   "id": "2f01befecc627128"
  },
  {
   "cell_type": "code",
   "id": "initial_id",
   "metadata": {
    "collapsed": true,
    "ExecuteTime": {
     "end_time": "2024-09-05T21:22:27.897918Z",
     "start_time": "2024-09-05T21:22:27.895144Z"
    }
   },
   "source": [
    "import pandas as pd\n",
    "import numpy as np\n",
    "import re\n",
    "from collections import Counter, defaultdict\n",
    "from fuzzywuzzy import process, fuzz\n",
    "from itertools import islice\n",
    "\n",
    "from Functions import process_scientific_names, standardize_common_names, standardize_common_names_subspecies"
   ],
   "outputs": [],
   "execution_count": 295
  },
  {
   "metadata": {},
   "cell_type": "markdown",
   "source": [
    "----\n",
    "&nbsp;\n",
    "## Exploratory Analysis"
   ],
   "id": "f7030eaa872263e8"
  },
  {
   "metadata": {
    "ExecuteTime": {
     "end_time": "2024-09-05T21:22:28.192407Z",
     "start_time": "2024-09-05T21:22:27.980383Z"
    }
   },
   "cell_type": "code",
   "source": [
    "df = pd.read_csv('DATA/species.csv', low_memory=False)\n",
    "print(f\"Shape: {df.shape}\")\n",
    "df.head()"
   ],
   "id": "d0c32bb4902c8a3",
   "outputs": [
    {
     "name": "stdout",
     "output_type": "stream",
     "text": [
      "Shape: (119248, 14)\n"
     ]
    },
    {
     "data": {
      "text/plain": [
       "  Species ID             Park Name Category         Order    Family  \\\n",
       "0  ACAD-1000  Acadia National Park   Mammal  Artiodactyla  Cervidae   \n",
       "1  ACAD-1001  Acadia National Park   Mammal  Artiodactyla  Cervidae   \n",
       "2  ACAD-1002  Acadia National Park   Mammal     Carnivora   Canidae   \n",
       "3  ACAD-1003  Acadia National Park   Mammal     Carnivora   Canidae   \n",
       "4  ACAD-1004  Acadia National Park   Mammal     Carnivora   Canidae   \n",
       "\n",
       "          Scientific Name                                       Common Names  \\\n",
       "0             Alces alces                                              Moose   \n",
       "1  Odocoileus virginianus  Northern White-Tailed Deer, Virginia Deer, Whi...   \n",
       "2           Canis latrans                             Coyote, Eastern Coyote   \n",
       "3             Canis lupus        Eastern Timber Wolf, Gray Wolf, Timber Wolf   \n",
       "4           Vulpes vulpes  Black Fox, Cross Fox, Eastern Red Fox, Fox, Re...   \n",
       "\n",
       "  Record Status     Occurrence  Nativeness Abundance Seasonality  \\\n",
       "0      Approved        Present      Native      Rare    Resident   \n",
       "1      Approved        Present      Native  Abundant         NaN   \n",
       "2      Approved        Present  Not Native    Common         NaN   \n",
       "3      Approved  Not Confirmed      Native       NaN         NaN   \n",
       "4      Approved        Present     Unknown    Common     Breeder   \n",
       "\n",
       "  Conservation Status Unnamed: 13  \n",
       "0                 NaN         NaN  \n",
       "1                 NaN         NaN  \n",
       "2  Species of Concern         NaN  \n",
       "3          Endangered         NaN  \n",
       "4                 NaN         NaN  "
      ],
      "text/html": [
       "<div>\n",
       "<style scoped>\n",
       "    .dataframe tbody tr th:only-of-type {\n",
       "        vertical-align: middle;\n",
       "    }\n",
       "\n",
       "    .dataframe tbody tr th {\n",
       "        vertical-align: top;\n",
       "    }\n",
       "\n",
       "    .dataframe thead th {\n",
       "        text-align: right;\n",
       "    }\n",
       "</style>\n",
       "<table border=\"1\" class=\"dataframe\">\n",
       "  <thead>\n",
       "    <tr style=\"text-align: right;\">\n",
       "      <th></th>\n",
       "      <th>Species ID</th>\n",
       "      <th>Park Name</th>\n",
       "      <th>Category</th>\n",
       "      <th>Order</th>\n",
       "      <th>Family</th>\n",
       "      <th>Scientific Name</th>\n",
       "      <th>Common Names</th>\n",
       "      <th>Record Status</th>\n",
       "      <th>Occurrence</th>\n",
       "      <th>Nativeness</th>\n",
       "      <th>Abundance</th>\n",
       "      <th>Seasonality</th>\n",
       "      <th>Conservation Status</th>\n",
       "      <th>Unnamed: 13</th>\n",
       "    </tr>\n",
       "  </thead>\n",
       "  <tbody>\n",
       "    <tr>\n",
       "      <th>0</th>\n",
       "      <td>ACAD-1000</td>\n",
       "      <td>Acadia National Park</td>\n",
       "      <td>Mammal</td>\n",
       "      <td>Artiodactyla</td>\n",
       "      <td>Cervidae</td>\n",
       "      <td>Alces alces</td>\n",
       "      <td>Moose</td>\n",
       "      <td>Approved</td>\n",
       "      <td>Present</td>\n",
       "      <td>Native</td>\n",
       "      <td>Rare</td>\n",
       "      <td>Resident</td>\n",
       "      <td>NaN</td>\n",
       "      <td>NaN</td>\n",
       "    </tr>\n",
       "    <tr>\n",
       "      <th>1</th>\n",
       "      <td>ACAD-1001</td>\n",
       "      <td>Acadia National Park</td>\n",
       "      <td>Mammal</td>\n",
       "      <td>Artiodactyla</td>\n",
       "      <td>Cervidae</td>\n",
       "      <td>Odocoileus virginianus</td>\n",
       "      <td>Northern White-Tailed Deer, Virginia Deer, Whi...</td>\n",
       "      <td>Approved</td>\n",
       "      <td>Present</td>\n",
       "      <td>Native</td>\n",
       "      <td>Abundant</td>\n",
       "      <td>NaN</td>\n",
       "      <td>NaN</td>\n",
       "      <td>NaN</td>\n",
       "    </tr>\n",
       "    <tr>\n",
       "      <th>2</th>\n",
       "      <td>ACAD-1002</td>\n",
       "      <td>Acadia National Park</td>\n",
       "      <td>Mammal</td>\n",
       "      <td>Carnivora</td>\n",
       "      <td>Canidae</td>\n",
       "      <td>Canis latrans</td>\n",
       "      <td>Coyote, Eastern Coyote</td>\n",
       "      <td>Approved</td>\n",
       "      <td>Present</td>\n",
       "      <td>Not Native</td>\n",
       "      <td>Common</td>\n",
       "      <td>NaN</td>\n",
       "      <td>Species of Concern</td>\n",
       "      <td>NaN</td>\n",
       "    </tr>\n",
       "    <tr>\n",
       "      <th>3</th>\n",
       "      <td>ACAD-1003</td>\n",
       "      <td>Acadia National Park</td>\n",
       "      <td>Mammal</td>\n",
       "      <td>Carnivora</td>\n",
       "      <td>Canidae</td>\n",
       "      <td>Canis lupus</td>\n",
       "      <td>Eastern Timber Wolf, Gray Wolf, Timber Wolf</td>\n",
       "      <td>Approved</td>\n",
       "      <td>Not Confirmed</td>\n",
       "      <td>Native</td>\n",
       "      <td>NaN</td>\n",
       "      <td>NaN</td>\n",
       "      <td>Endangered</td>\n",
       "      <td>NaN</td>\n",
       "    </tr>\n",
       "    <tr>\n",
       "      <th>4</th>\n",
       "      <td>ACAD-1004</td>\n",
       "      <td>Acadia National Park</td>\n",
       "      <td>Mammal</td>\n",
       "      <td>Carnivora</td>\n",
       "      <td>Canidae</td>\n",
       "      <td>Vulpes vulpes</td>\n",
       "      <td>Black Fox, Cross Fox, Eastern Red Fox, Fox, Re...</td>\n",
       "      <td>Approved</td>\n",
       "      <td>Present</td>\n",
       "      <td>Unknown</td>\n",
       "      <td>Common</td>\n",
       "      <td>Breeder</td>\n",
       "      <td>NaN</td>\n",
       "      <td>NaN</td>\n",
       "    </tr>\n",
       "  </tbody>\n",
       "</table>\n",
       "</div>"
      ]
     },
     "execution_count": 296,
     "metadata": {},
     "output_type": "execute_result"
    }
   ],
   "execution_count": 296
  },
  {
   "metadata": {
    "ExecuteTime": {
     "end_time": "2024-09-05T21:22:28.422502Z",
     "start_time": "2024-09-05T21:22:28.417844Z"
    }
   },
   "cell_type": "code",
   "source": "print(f\"Type of data:\\n\\n{df.dtypes}\\n\")",
   "id": "58802d2057dfcc20",
   "outputs": [
    {
     "name": "stdout",
     "output_type": "stream",
     "text": [
      "Type of data:\n",
      "\n",
      "Species ID             object\n",
      "Park Name              object\n",
      "Category               object\n",
      "Order                  object\n",
      "Family                 object\n",
      "Scientific Name        object\n",
      "Common Names           object\n",
      "Record Status          object\n",
      "Occurrence             object\n",
      "Nativeness             object\n",
      "Abundance              object\n",
      "Seasonality            object\n",
      "Conservation Status    object\n",
      "Unnamed: 13            object\n",
      "dtype: object\n",
      "\n"
     ]
    }
   ],
   "execution_count": 297
  },
  {
   "metadata": {
    "ExecuteTime": {
     "end_time": "2024-09-05T21:22:28.650328Z",
     "start_time": "2024-09-05T21:22:28.575317Z"
    }
   },
   "cell_type": "code",
   "source": "print(f\"Unique values:\\n\\n{df.nunique()}\")",
   "id": "86a99a64f36eb4a9",
   "outputs": [
    {
     "name": "stdout",
     "output_type": "stream",
     "text": [
      "Unique values:\n",
      "\n",
      "Species ID             119248\n",
      "Park Name                  56\n",
      "Category                   14\n",
      "Order                     554\n",
      "Family                   2332\n",
      "Scientific Name         46022\n",
      "Common Names            35825\n",
      "Record Status              53\n",
      "Occurrence                  7\n",
      "Nativeness                  5\n",
      "Abundance                   8\n",
      "Seasonality                24\n",
      "Conservation Status        11\n",
      "Unnamed: 13                 3\n",
      "dtype: int64\n"
     ]
    }
   ],
   "execution_count": 298
  },
  {
   "metadata": {
    "ExecuteTime": {
     "end_time": "2024-09-05T21:22:28.754433Z",
     "start_time": "2024-09-05T21:22:28.751167Z"
    }
   },
   "cell_type": "code",
   "source": [
    "df.columns = [col.lower().replace(\" \", \"_\") for col in df.columns]\n",
    "df.rename(columns={'unnamed:_13': 'unnamed'}, inplace=True)\n",
    "print(f\"Columns: {df.columns.tolist()}\\n\")"
   ],
   "id": "ff9fa2526a5b12a6",
   "outputs": [
    {
     "name": "stdout",
     "output_type": "stream",
     "text": [
      "Columns: ['species_id', 'park_name', 'category', 'order', 'family', 'scientific_name', 'common_names', 'record_status', 'occurrence', 'nativeness', 'abundance', 'seasonality', 'conservation_status', 'unnamed']\n",
      "\n"
     ]
    }
   ],
   "execution_count": 299
  },
  {
   "metadata": {
    "ExecuteTime": {
     "end_time": "2024-09-05T21:22:28.913794Z",
     "start_time": "2024-09-05T21:22:28.908037Z"
    }
   },
   "cell_type": "code",
   "source": "print(df['unnamed'].unique())",
   "id": "51adc97c44ca7d11",
   "outputs": [
    {
     "name": "stdout",
     "output_type": "stream",
     "text": [
      "[nan 'Endangered' 'Threatened' 'Species of Concern']\n"
     ]
    }
   ],
   "execution_count": 300
  },
  {
   "metadata": {
    "ExecuteTime": {
     "end_time": "2024-09-05T21:22:29.068420Z",
     "start_time": "2024-09-05T21:22:29.057465Z"
    }
   },
   "cell_type": "code",
   "source": [
    "# Filter rows where 'Unnamed: 13' is not NaN\n",
    "filtered_df = df[df['unnamed'].notna()]\n",
    "filtered_df"
   ],
   "id": "8878b258ba40ba59",
   "outputs": [
    {
     "data": {
      "text/plain": [
       "      species_id                                    park_name        category  \\\n",
       "6441   BISC-1026                       Biscayne National Park          Mammal   \n",
       "31786  EVER-1414                     Everglades National Park         Reptile   \n",
       "31826  EVER-1454                     Everglades National Park         Reptile   \n",
       "44733  GRSA-1136  Great Sand Dunes National Park and Preserve            Bird   \n",
       "44944  GRSA-1347  Great Sand Dunes National Park and Preserve  Vascular Plant   \n",
       "\n",
       "               order        family     scientific_name        common_names  \\\n",
       "6441         Sirenia  Trichechidae  Trichechus manatus             Manatee   \n",
       "31786     Crocodilia  Crocodylidae   Crocodylus acutus  American Crocodile   \n",
       "31826     Testudines   Cheloniidae     Caretta caretta          Loggerhead   \n",
       "44733  Falconiformes    Falconidae   Falco columbarius              Merlin   \n",
       "44944    Asparagales     Iridaceae  Iris missouriensis           Blue Flag   \n",
       "\n",
       "              record_status occurrence nativeness abundance seasonality  \\\n",
       "6441                 Manati   Approved    Present   Unknown     Unknown   \n",
       "31786   Cocodrilo De Tumbes   Approved    Present    Native    Uncommon   \n",
       "31826               Cabezon   Approved    Present    Native        Rare   \n",
       "44733           Pigeon Hawk   Approved    Present    Native        Rare   \n",
       "44944             Wild Iris   Approved    Present    Native        Rare   \n",
       "\n",
       "      conservation_status             unnamed  \n",
       "6441                  NaN          Endangered  \n",
       "31786            Resident          Threatened  \n",
       "31826             Breeder          Threatened  \n",
       "44733            Resident  Species of Concern  \n",
       "44944                 NaN  Species of Concern  "
      ],
      "text/html": [
       "<div>\n",
       "<style scoped>\n",
       "    .dataframe tbody tr th:only-of-type {\n",
       "        vertical-align: middle;\n",
       "    }\n",
       "\n",
       "    .dataframe tbody tr th {\n",
       "        vertical-align: top;\n",
       "    }\n",
       "\n",
       "    .dataframe thead th {\n",
       "        text-align: right;\n",
       "    }\n",
       "</style>\n",
       "<table border=\"1\" class=\"dataframe\">\n",
       "  <thead>\n",
       "    <tr style=\"text-align: right;\">\n",
       "      <th></th>\n",
       "      <th>species_id</th>\n",
       "      <th>park_name</th>\n",
       "      <th>category</th>\n",
       "      <th>order</th>\n",
       "      <th>family</th>\n",
       "      <th>scientific_name</th>\n",
       "      <th>common_names</th>\n",
       "      <th>record_status</th>\n",
       "      <th>occurrence</th>\n",
       "      <th>nativeness</th>\n",
       "      <th>abundance</th>\n",
       "      <th>seasonality</th>\n",
       "      <th>conservation_status</th>\n",
       "      <th>unnamed</th>\n",
       "    </tr>\n",
       "  </thead>\n",
       "  <tbody>\n",
       "    <tr>\n",
       "      <th>6441</th>\n",
       "      <td>BISC-1026</td>\n",
       "      <td>Biscayne National Park</td>\n",
       "      <td>Mammal</td>\n",
       "      <td>Sirenia</td>\n",
       "      <td>Trichechidae</td>\n",
       "      <td>Trichechus manatus</td>\n",
       "      <td>Manatee</td>\n",
       "      <td>Manati</td>\n",
       "      <td>Approved</td>\n",
       "      <td>Present</td>\n",
       "      <td>Unknown</td>\n",
       "      <td>Unknown</td>\n",
       "      <td>NaN</td>\n",
       "      <td>Endangered</td>\n",
       "    </tr>\n",
       "    <tr>\n",
       "      <th>31786</th>\n",
       "      <td>EVER-1414</td>\n",
       "      <td>Everglades National Park</td>\n",
       "      <td>Reptile</td>\n",
       "      <td>Crocodilia</td>\n",
       "      <td>Crocodylidae</td>\n",
       "      <td>Crocodylus acutus</td>\n",
       "      <td>American Crocodile</td>\n",
       "      <td>Cocodrilo De Tumbes</td>\n",
       "      <td>Approved</td>\n",
       "      <td>Present</td>\n",
       "      <td>Native</td>\n",
       "      <td>Uncommon</td>\n",
       "      <td>Resident</td>\n",
       "      <td>Threatened</td>\n",
       "    </tr>\n",
       "    <tr>\n",
       "      <th>31826</th>\n",
       "      <td>EVER-1454</td>\n",
       "      <td>Everglades National Park</td>\n",
       "      <td>Reptile</td>\n",
       "      <td>Testudines</td>\n",
       "      <td>Cheloniidae</td>\n",
       "      <td>Caretta caretta</td>\n",
       "      <td>Loggerhead</td>\n",
       "      <td>Cabezon</td>\n",
       "      <td>Approved</td>\n",
       "      <td>Present</td>\n",
       "      <td>Native</td>\n",
       "      <td>Rare</td>\n",
       "      <td>Breeder</td>\n",
       "      <td>Threatened</td>\n",
       "    </tr>\n",
       "    <tr>\n",
       "      <th>44733</th>\n",
       "      <td>GRSA-1136</td>\n",
       "      <td>Great Sand Dunes National Park and Preserve</td>\n",
       "      <td>Bird</td>\n",
       "      <td>Falconiformes</td>\n",
       "      <td>Falconidae</td>\n",
       "      <td>Falco columbarius</td>\n",
       "      <td>Merlin</td>\n",
       "      <td>Pigeon Hawk</td>\n",
       "      <td>Approved</td>\n",
       "      <td>Present</td>\n",
       "      <td>Native</td>\n",
       "      <td>Rare</td>\n",
       "      <td>Resident</td>\n",
       "      <td>Species of Concern</td>\n",
       "    </tr>\n",
       "    <tr>\n",
       "      <th>44944</th>\n",
       "      <td>GRSA-1347</td>\n",
       "      <td>Great Sand Dunes National Park and Preserve</td>\n",
       "      <td>Vascular Plant</td>\n",
       "      <td>Asparagales</td>\n",
       "      <td>Iridaceae</td>\n",
       "      <td>Iris missouriensis</td>\n",
       "      <td>Blue Flag</td>\n",
       "      <td>Wild Iris</td>\n",
       "      <td>Approved</td>\n",
       "      <td>Present</td>\n",
       "      <td>Native</td>\n",
       "      <td>Rare</td>\n",
       "      <td>NaN</td>\n",
       "      <td>Species of Concern</td>\n",
       "    </tr>\n",
       "  </tbody>\n",
       "</table>\n",
       "</div>"
      ]
     },
     "execution_count": 301,
     "metadata": {},
     "output_type": "execute_result"
    }
   ],
   "execution_count": 301
  },
  {
   "metadata": {
    "ExecuteTime": {
     "end_time": "2024-09-05T21:22:29.251494Z",
     "start_time": "2024-09-05T21:22:29.246359Z"
    }
   },
   "cell_type": "code",
   "source": "print(df['conservation_status'].unique())",
   "id": "494b87c30f937add",
   "outputs": [
    {
     "name": "stdout",
     "output_type": "stream",
     "text": [
      "[nan 'Species of Concern' 'Endangered' 'In Recovery' 'Threatened'\n",
      " 'Under Review' 'Proposed Threatened' 'Extinct' 'Proposed Endangered'\n",
      " 'Resident' 'Breeder' 'Migratory']\n"
     ]
    }
   ],
   "execution_count": 302
  },
  {
   "metadata": {},
   "cell_type": "markdown",
   "source": [
    "#### *Discrepancies between `conservation_status` and `unnamed` need to be assessed later\n",
    "It seems as if `unnamed` can be written to `conservation_status`"
   ],
   "id": "5b869e25a117c6df"
  },
  {
   "metadata": {
    "ExecuteTime": {
     "end_time": "2024-09-05T21:22:29.406060Z",
     "start_time": "2024-09-05T21:22:29.330961Z"
    }
   },
   "cell_type": "code",
   "source": [
    "# Remove all text beyond \" National Park\" including variations like \" and Preserve\"\n",
    "df['park_name'] = df['park_name'].str.replace(r' National Park.*', '', case=False, regex=True)"
   ],
   "id": "715bf6e73d21d7ed",
   "outputs": [],
   "execution_count": 303
  },
  {
   "metadata": {
    "ExecuteTime": {
     "end_time": "2024-09-05T21:22:29.512263Z",
     "start_time": "2024-09-05T21:22:29.431450Z"
    }
   },
   "cell_type": "code",
   "source": [
    "# Is the species-id unique?\n",
    "condor_df = df[df['common_names'].str.contains('condor', case=False, na=False)]\n",
    "condor_df"
   ],
   "id": "11e00f0cd000cb61",
   "outputs": [
    {
     "data": {
      "text/plain": [
       "       species_id                 park_name category            order  \\\n",
       "1779    ARCH-1070                    Arches     Bird  Accipitriformes   \n",
       "9334    BRCA-1087              Bryce Canyon     Bird  Accipitriformes   \n",
       "10620   CANY-1087               Canyonlands     Bird  Accipitriformes   \n",
       "11841   CARE-1085              Capitol Reef     Bird  Accipitriformes   \n",
       "26319   DEVA-1234              Death Valley     Bird  Accipitriformes   \n",
       "39444   GRBA-1122               Great Basin     Bird  Accipitriformes   \n",
       "42096   GRCA-1121              Grand Canyon     Bird  Accipitriformes   \n",
       "65258   JOTR-1085               Joshua Tree     Bird  Accipitriformes   \n",
       "72896   LAVO-1115           Lassen Volcanic     Bird  Accipitriformes   \n",
       "77178   MEVE-1101                Mesa Verde     Bird  Accipitriformes   \n",
       "86301   PINN-1074                 Pinnacles     Bird  Accipitriformes   \n",
       "99042   SEKI-1103  Sequoia and Kings Canyon     Bird  Accipitriformes   \n",
       "115465  YOSE-1101                  Yosemite     Bird  Accipitriformes   \n",
       "117548  ZION-1096                      Zion     Bird  Accipitriformes   \n",
       "\n",
       "             family          scientific_name       common_names record_status  \\\n",
       "1779    Cathartidae  Gymnogyps californianus  California Condor      Approved   \n",
       "9334    Cathartidae  Gymnogyps californianus  California Condor      Approved   \n",
       "10620   Cathartidae  Gymnogyps californianus  California Condor      Approved   \n",
       "11841   Cathartidae  Gymnogyps californianus  California Condor      Approved   \n",
       "26319   Cathartidae  Gymnogyps californianus  California Condor      Approved   \n",
       "39444   Cathartidae  Gymnogyps californianus  California Condor      Approved   \n",
       "42096   Cathartidae  Gymnogyps californianus  California Condor      Approved   \n",
       "65258   Cathartidae  Gymnogyps californianus  California Condor      Approved   \n",
       "72896   Cathartidae  Gymnogyps californianus  California Condor      Approved   \n",
       "77178   Cathartidae  Gymnogyps californianus  California Condor      Approved   \n",
       "86301   Cathartidae  Gymnogyps californianus  California Condor      Approved   \n",
       "99042   Cathartidae  Gymnogyps californianus  California Condor      Approved   \n",
       "115465  Cathartidae  Gymnogyps californianus  California Condor      Approved   \n",
       "117548  Cathartidae  Gymnogyps californianus  California Condor      Approved   \n",
       "\n",
       "                             occurrence nativeness   abundance seasonality  \\\n",
       "1779                            Present     Native  Occasional     Vagrant   \n",
       "9334                            Present     Native  Occasional     Vagrant   \n",
       "10620                     Not Confirmed     Native         NaN         NaN   \n",
       "11841                     Not Confirmed     Native         NaN         NaN   \n",
       "26319        Not Present (False Report)     Native         NaN         NaN   \n",
       "39444   Not Present (Historical Report)     Native         NaN         NaN   \n",
       "42096                           Present     Native      Common     Breeder   \n",
       "65258                     Not Confirmed     Native         NaN         NaN   \n",
       "72896   Not Present (Historical Report)     Native         NaN         NaN   \n",
       "77178                           Present     Native  Occasional     Vagrant   \n",
       "86301                           Present     Native      Common    Resident   \n",
       "99042   Not Present (Historical Report)     Native         NaN         NaN   \n",
       "115465  Not Present (Historical Report)     Native         NaN         NaN   \n",
       "117548                          Present     Native     Unknown     Vagrant   \n",
       "\n",
       "       conservation_status unnamed  \n",
       "1779            Endangered     NaN  \n",
       "9334            Endangered     NaN  \n",
       "10620           Endangered     NaN  \n",
       "11841           Endangered     NaN  \n",
       "26319           Endangered     NaN  \n",
       "39444           Endangered     NaN  \n",
       "42096           Endangered     NaN  \n",
       "65258           Endangered     NaN  \n",
       "72896           Endangered     NaN  \n",
       "77178           Endangered     NaN  \n",
       "86301           Endangered     NaN  \n",
       "99042           Endangered     NaN  \n",
       "115465          Endangered     NaN  \n",
       "117548          Endangered     NaN  "
      ],
      "text/html": [
       "<div>\n",
       "<style scoped>\n",
       "    .dataframe tbody tr th:only-of-type {\n",
       "        vertical-align: middle;\n",
       "    }\n",
       "\n",
       "    .dataframe tbody tr th {\n",
       "        vertical-align: top;\n",
       "    }\n",
       "\n",
       "    .dataframe thead th {\n",
       "        text-align: right;\n",
       "    }\n",
       "</style>\n",
       "<table border=\"1\" class=\"dataframe\">\n",
       "  <thead>\n",
       "    <tr style=\"text-align: right;\">\n",
       "      <th></th>\n",
       "      <th>species_id</th>\n",
       "      <th>park_name</th>\n",
       "      <th>category</th>\n",
       "      <th>order</th>\n",
       "      <th>family</th>\n",
       "      <th>scientific_name</th>\n",
       "      <th>common_names</th>\n",
       "      <th>record_status</th>\n",
       "      <th>occurrence</th>\n",
       "      <th>nativeness</th>\n",
       "      <th>abundance</th>\n",
       "      <th>seasonality</th>\n",
       "      <th>conservation_status</th>\n",
       "      <th>unnamed</th>\n",
       "    </tr>\n",
       "  </thead>\n",
       "  <tbody>\n",
       "    <tr>\n",
       "      <th>1779</th>\n",
       "      <td>ARCH-1070</td>\n",
       "      <td>Arches</td>\n",
       "      <td>Bird</td>\n",
       "      <td>Accipitriformes</td>\n",
       "      <td>Cathartidae</td>\n",
       "      <td>Gymnogyps californianus</td>\n",
       "      <td>California Condor</td>\n",
       "      <td>Approved</td>\n",
       "      <td>Present</td>\n",
       "      <td>Native</td>\n",
       "      <td>Occasional</td>\n",
       "      <td>Vagrant</td>\n",
       "      <td>Endangered</td>\n",
       "      <td>NaN</td>\n",
       "    </tr>\n",
       "    <tr>\n",
       "      <th>9334</th>\n",
       "      <td>BRCA-1087</td>\n",
       "      <td>Bryce Canyon</td>\n",
       "      <td>Bird</td>\n",
       "      <td>Accipitriformes</td>\n",
       "      <td>Cathartidae</td>\n",
       "      <td>Gymnogyps californianus</td>\n",
       "      <td>California Condor</td>\n",
       "      <td>Approved</td>\n",
       "      <td>Present</td>\n",
       "      <td>Native</td>\n",
       "      <td>Occasional</td>\n",
       "      <td>Vagrant</td>\n",
       "      <td>Endangered</td>\n",
       "      <td>NaN</td>\n",
       "    </tr>\n",
       "    <tr>\n",
       "      <th>10620</th>\n",
       "      <td>CANY-1087</td>\n",
       "      <td>Canyonlands</td>\n",
       "      <td>Bird</td>\n",
       "      <td>Accipitriformes</td>\n",
       "      <td>Cathartidae</td>\n",
       "      <td>Gymnogyps californianus</td>\n",
       "      <td>California Condor</td>\n",
       "      <td>Approved</td>\n",
       "      <td>Not Confirmed</td>\n",
       "      <td>Native</td>\n",
       "      <td>NaN</td>\n",
       "      <td>NaN</td>\n",
       "      <td>Endangered</td>\n",
       "      <td>NaN</td>\n",
       "    </tr>\n",
       "    <tr>\n",
       "      <th>11841</th>\n",
       "      <td>CARE-1085</td>\n",
       "      <td>Capitol Reef</td>\n",
       "      <td>Bird</td>\n",
       "      <td>Accipitriformes</td>\n",
       "      <td>Cathartidae</td>\n",
       "      <td>Gymnogyps californianus</td>\n",
       "      <td>California Condor</td>\n",
       "      <td>Approved</td>\n",
       "      <td>Not Confirmed</td>\n",
       "      <td>Native</td>\n",
       "      <td>NaN</td>\n",
       "      <td>NaN</td>\n",
       "      <td>Endangered</td>\n",
       "      <td>NaN</td>\n",
       "    </tr>\n",
       "    <tr>\n",
       "      <th>26319</th>\n",
       "      <td>DEVA-1234</td>\n",
       "      <td>Death Valley</td>\n",
       "      <td>Bird</td>\n",
       "      <td>Accipitriformes</td>\n",
       "      <td>Cathartidae</td>\n",
       "      <td>Gymnogyps californianus</td>\n",
       "      <td>California Condor</td>\n",
       "      <td>Approved</td>\n",
       "      <td>Not Present (False Report)</td>\n",
       "      <td>Native</td>\n",
       "      <td>NaN</td>\n",
       "      <td>NaN</td>\n",
       "      <td>Endangered</td>\n",
       "      <td>NaN</td>\n",
       "    </tr>\n",
       "    <tr>\n",
       "      <th>39444</th>\n",
       "      <td>GRBA-1122</td>\n",
       "      <td>Great Basin</td>\n",
       "      <td>Bird</td>\n",
       "      <td>Accipitriformes</td>\n",
       "      <td>Cathartidae</td>\n",
       "      <td>Gymnogyps californianus</td>\n",
       "      <td>California Condor</td>\n",
       "      <td>Approved</td>\n",
       "      <td>Not Present (Historical Report)</td>\n",
       "      <td>Native</td>\n",
       "      <td>NaN</td>\n",
       "      <td>NaN</td>\n",
       "      <td>Endangered</td>\n",
       "      <td>NaN</td>\n",
       "    </tr>\n",
       "    <tr>\n",
       "      <th>42096</th>\n",
       "      <td>GRCA-1121</td>\n",
       "      <td>Grand Canyon</td>\n",
       "      <td>Bird</td>\n",
       "      <td>Accipitriformes</td>\n",
       "      <td>Cathartidae</td>\n",
       "      <td>Gymnogyps californianus</td>\n",
       "      <td>California Condor</td>\n",
       "      <td>Approved</td>\n",
       "      <td>Present</td>\n",
       "      <td>Native</td>\n",
       "      <td>Common</td>\n",
       "      <td>Breeder</td>\n",
       "      <td>Endangered</td>\n",
       "      <td>NaN</td>\n",
       "    </tr>\n",
       "    <tr>\n",
       "      <th>65258</th>\n",
       "      <td>JOTR-1085</td>\n",
       "      <td>Joshua Tree</td>\n",
       "      <td>Bird</td>\n",
       "      <td>Accipitriformes</td>\n",
       "      <td>Cathartidae</td>\n",
       "      <td>Gymnogyps californianus</td>\n",
       "      <td>California Condor</td>\n",
       "      <td>Approved</td>\n",
       "      <td>Not Confirmed</td>\n",
       "      <td>Native</td>\n",
       "      <td>NaN</td>\n",
       "      <td>NaN</td>\n",
       "      <td>Endangered</td>\n",
       "      <td>NaN</td>\n",
       "    </tr>\n",
       "    <tr>\n",
       "      <th>72896</th>\n",
       "      <td>LAVO-1115</td>\n",
       "      <td>Lassen Volcanic</td>\n",
       "      <td>Bird</td>\n",
       "      <td>Accipitriformes</td>\n",
       "      <td>Cathartidae</td>\n",
       "      <td>Gymnogyps californianus</td>\n",
       "      <td>California Condor</td>\n",
       "      <td>Approved</td>\n",
       "      <td>Not Present (Historical Report)</td>\n",
       "      <td>Native</td>\n",
       "      <td>NaN</td>\n",
       "      <td>NaN</td>\n",
       "      <td>Endangered</td>\n",
       "      <td>NaN</td>\n",
       "    </tr>\n",
       "    <tr>\n",
       "      <th>77178</th>\n",
       "      <td>MEVE-1101</td>\n",
       "      <td>Mesa Verde</td>\n",
       "      <td>Bird</td>\n",
       "      <td>Accipitriformes</td>\n",
       "      <td>Cathartidae</td>\n",
       "      <td>Gymnogyps californianus</td>\n",
       "      <td>California Condor</td>\n",
       "      <td>Approved</td>\n",
       "      <td>Present</td>\n",
       "      <td>Native</td>\n",
       "      <td>Occasional</td>\n",
       "      <td>Vagrant</td>\n",
       "      <td>Endangered</td>\n",
       "      <td>NaN</td>\n",
       "    </tr>\n",
       "    <tr>\n",
       "      <th>86301</th>\n",
       "      <td>PINN-1074</td>\n",
       "      <td>Pinnacles</td>\n",
       "      <td>Bird</td>\n",
       "      <td>Accipitriformes</td>\n",
       "      <td>Cathartidae</td>\n",
       "      <td>Gymnogyps californianus</td>\n",
       "      <td>California Condor</td>\n",
       "      <td>Approved</td>\n",
       "      <td>Present</td>\n",
       "      <td>Native</td>\n",
       "      <td>Common</td>\n",
       "      <td>Resident</td>\n",
       "      <td>Endangered</td>\n",
       "      <td>NaN</td>\n",
       "    </tr>\n",
       "    <tr>\n",
       "      <th>99042</th>\n",
       "      <td>SEKI-1103</td>\n",
       "      <td>Sequoia and Kings Canyon</td>\n",
       "      <td>Bird</td>\n",
       "      <td>Accipitriformes</td>\n",
       "      <td>Cathartidae</td>\n",
       "      <td>Gymnogyps californianus</td>\n",
       "      <td>California Condor</td>\n",
       "      <td>Approved</td>\n",
       "      <td>Not Present (Historical Report)</td>\n",
       "      <td>Native</td>\n",
       "      <td>NaN</td>\n",
       "      <td>NaN</td>\n",
       "      <td>Endangered</td>\n",
       "      <td>NaN</td>\n",
       "    </tr>\n",
       "    <tr>\n",
       "      <th>115465</th>\n",
       "      <td>YOSE-1101</td>\n",
       "      <td>Yosemite</td>\n",
       "      <td>Bird</td>\n",
       "      <td>Accipitriformes</td>\n",
       "      <td>Cathartidae</td>\n",
       "      <td>Gymnogyps californianus</td>\n",
       "      <td>California Condor</td>\n",
       "      <td>Approved</td>\n",
       "      <td>Not Present (Historical Report)</td>\n",
       "      <td>Native</td>\n",
       "      <td>NaN</td>\n",
       "      <td>NaN</td>\n",
       "      <td>Endangered</td>\n",
       "      <td>NaN</td>\n",
       "    </tr>\n",
       "    <tr>\n",
       "      <th>117548</th>\n",
       "      <td>ZION-1096</td>\n",
       "      <td>Zion</td>\n",
       "      <td>Bird</td>\n",
       "      <td>Accipitriformes</td>\n",
       "      <td>Cathartidae</td>\n",
       "      <td>Gymnogyps californianus</td>\n",
       "      <td>California Condor</td>\n",
       "      <td>Approved</td>\n",
       "      <td>Present</td>\n",
       "      <td>Native</td>\n",
       "      <td>Unknown</td>\n",
       "      <td>Vagrant</td>\n",
       "      <td>Endangered</td>\n",
       "      <td>NaN</td>\n",
       "    </tr>\n",
       "  </tbody>\n",
       "</table>\n",
       "</div>"
      ]
     },
     "execution_count": 304,
     "metadata": {},
     "output_type": "execute_result"
    }
   ],
   "execution_count": 304
  },
  {
   "metadata": {},
   "cell_type": "markdown",
   "source": "`species_id` numeric is not unique for similar species but it probably should be",
   "id": "8c7467a56647b92a"
  },
  {
   "metadata": {
    "ExecuteTime": {
     "end_time": "2024-09-05T21:22:29.841897Z",
     "start_time": "2024-09-05T21:22:29.686913Z"
    }
   },
   "cell_type": "code",
   "source": [
    "# Splitting species_id column at the hyphen to create a new `park_code` public key\n",
    "df['park_code'] = df['species_id'].str.split('-').str[0]\n",
    "\n",
    "# Reorder columns to place 'park_code' as the second column\n",
    "cols = list(df.columns)  # Get the list of current columns\n",
    "cols.insert(1, cols.pop(cols.index('park_code')))  # Move 'park_code' to the second position\n",
    "df = df[cols]  # Reorder DataFrame"
   ],
   "id": "bcdc2915096c8dbd",
   "outputs": [],
   "execution_count": 305
  },
  {
   "metadata": {
    "ExecuteTime": {
     "end_time": "2024-09-05T21:22:29.889475Z",
     "start_time": "2024-09-05T21:22:29.879896Z"
    }
   },
   "cell_type": "code",
   "source": "df.head()",
   "id": "fc20ffd79c603230",
   "outputs": [
    {
     "data": {
      "text/plain": [
       "  species_id park_code park_name category         order    family  \\\n",
       "0  ACAD-1000      ACAD    Acadia   Mammal  Artiodactyla  Cervidae   \n",
       "1  ACAD-1001      ACAD    Acadia   Mammal  Artiodactyla  Cervidae   \n",
       "2  ACAD-1002      ACAD    Acadia   Mammal     Carnivora   Canidae   \n",
       "3  ACAD-1003      ACAD    Acadia   Mammal     Carnivora   Canidae   \n",
       "4  ACAD-1004      ACAD    Acadia   Mammal     Carnivora   Canidae   \n",
       "\n",
       "          scientific_name                                       common_names  \\\n",
       "0             Alces alces                                              Moose   \n",
       "1  Odocoileus virginianus  Northern White-Tailed Deer, Virginia Deer, Whi...   \n",
       "2           Canis latrans                             Coyote, Eastern Coyote   \n",
       "3             Canis lupus        Eastern Timber Wolf, Gray Wolf, Timber Wolf   \n",
       "4           Vulpes vulpes  Black Fox, Cross Fox, Eastern Red Fox, Fox, Re...   \n",
       "\n",
       "  record_status     occurrence  nativeness abundance seasonality  \\\n",
       "0      Approved        Present      Native      Rare    Resident   \n",
       "1      Approved        Present      Native  Abundant         NaN   \n",
       "2      Approved        Present  Not Native    Common         NaN   \n",
       "3      Approved  Not Confirmed      Native       NaN         NaN   \n",
       "4      Approved        Present     Unknown    Common     Breeder   \n",
       "\n",
       "  conservation_status unnamed  \n",
       "0                 NaN     NaN  \n",
       "1                 NaN     NaN  \n",
       "2  Species of Concern     NaN  \n",
       "3          Endangered     NaN  \n",
       "4                 NaN     NaN  "
      ],
      "text/html": [
       "<div>\n",
       "<style scoped>\n",
       "    .dataframe tbody tr th:only-of-type {\n",
       "        vertical-align: middle;\n",
       "    }\n",
       "\n",
       "    .dataframe tbody tr th {\n",
       "        vertical-align: top;\n",
       "    }\n",
       "\n",
       "    .dataframe thead th {\n",
       "        text-align: right;\n",
       "    }\n",
       "</style>\n",
       "<table border=\"1\" class=\"dataframe\">\n",
       "  <thead>\n",
       "    <tr style=\"text-align: right;\">\n",
       "      <th></th>\n",
       "      <th>species_id</th>\n",
       "      <th>park_code</th>\n",
       "      <th>park_name</th>\n",
       "      <th>category</th>\n",
       "      <th>order</th>\n",
       "      <th>family</th>\n",
       "      <th>scientific_name</th>\n",
       "      <th>common_names</th>\n",
       "      <th>record_status</th>\n",
       "      <th>occurrence</th>\n",
       "      <th>nativeness</th>\n",
       "      <th>abundance</th>\n",
       "      <th>seasonality</th>\n",
       "      <th>conservation_status</th>\n",
       "      <th>unnamed</th>\n",
       "    </tr>\n",
       "  </thead>\n",
       "  <tbody>\n",
       "    <tr>\n",
       "      <th>0</th>\n",
       "      <td>ACAD-1000</td>\n",
       "      <td>ACAD</td>\n",
       "      <td>Acadia</td>\n",
       "      <td>Mammal</td>\n",
       "      <td>Artiodactyla</td>\n",
       "      <td>Cervidae</td>\n",
       "      <td>Alces alces</td>\n",
       "      <td>Moose</td>\n",
       "      <td>Approved</td>\n",
       "      <td>Present</td>\n",
       "      <td>Native</td>\n",
       "      <td>Rare</td>\n",
       "      <td>Resident</td>\n",
       "      <td>NaN</td>\n",
       "      <td>NaN</td>\n",
       "    </tr>\n",
       "    <tr>\n",
       "      <th>1</th>\n",
       "      <td>ACAD-1001</td>\n",
       "      <td>ACAD</td>\n",
       "      <td>Acadia</td>\n",
       "      <td>Mammal</td>\n",
       "      <td>Artiodactyla</td>\n",
       "      <td>Cervidae</td>\n",
       "      <td>Odocoileus virginianus</td>\n",
       "      <td>Northern White-Tailed Deer, Virginia Deer, Whi...</td>\n",
       "      <td>Approved</td>\n",
       "      <td>Present</td>\n",
       "      <td>Native</td>\n",
       "      <td>Abundant</td>\n",
       "      <td>NaN</td>\n",
       "      <td>NaN</td>\n",
       "      <td>NaN</td>\n",
       "    </tr>\n",
       "    <tr>\n",
       "      <th>2</th>\n",
       "      <td>ACAD-1002</td>\n",
       "      <td>ACAD</td>\n",
       "      <td>Acadia</td>\n",
       "      <td>Mammal</td>\n",
       "      <td>Carnivora</td>\n",
       "      <td>Canidae</td>\n",
       "      <td>Canis latrans</td>\n",
       "      <td>Coyote, Eastern Coyote</td>\n",
       "      <td>Approved</td>\n",
       "      <td>Present</td>\n",
       "      <td>Not Native</td>\n",
       "      <td>Common</td>\n",
       "      <td>NaN</td>\n",
       "      <td>Species of Concern</td>\n",
       "      <td>NaN</td>\n",
       "    </tr>\n",
       "    <tr>\n",
       "      <th>3</th>\n",
       "      <td>ACAD-1003</td>\n",
       "      <td>ACAD</td>\n",
       "      <td>Acadia</td>\n",
       "      <td>Mammal</td>\n",
       "      <td>Carnivora</td>\n",
       "      <td>Canidae</td>\n",
       "      <td>Canis lupus</td>\n",
       "      <td>Eastern Timber Wolf, Gray Wolf, Timber Wolf</td>\n",
       "      <td>Approved</td>\n",
       "      <td>Not Confirmed</td>\n",
       "      <td>Native</td>\n",
       "      <td>NaN</td>\n",
       "      <td>NaN</td>\n",
       "      <td>Endangered</td>\n",
       "      <td>NaN</td>\n",
       "    </tr>\n",
       "    <tr>\n",
       "      <th>4</th>\n",
       "      <td>ACAD-1004</td>\n",
       "      <td>ACAD</td>\n",
       "      <td>Acadia</td>\n",
       "      <td>Mammal</td>\n",
       "      <td>Carnivora</td>\n",
       "      <td>Canidae</td>\n",
       "      <td>Vulpes vulpes</td>\n",
       "      <td>Black Fox, Cross Fox, Eastern Red Fox, Fox, Re...</td>\n",
       "      <td>Approved</td>\n",
       "      <td>Present</td>\n",
       "      <td>Unknown</td>\n",
       "      <td>Common</td>\n",
       "      <td>Breeder</td>\n",
       "      <td>NaN</td>\n",
       "      <td>NaN</td>\n",
       "    </tr>\n",
       "  </tbody>\n",
       "</table>\n",
       "</div>"
      ]
     },
     "execution_count": 306,
     "metadata": {},
     "output_type": "execute_result"
    }
   ],
   "execution_count": 306
  },
  {
   "metadata": {},
   "cell_type": "markdown",
   "source": [
    "-----\n",
    "&nbsp;\n",
    "## Isolating Birds"
   ],
   "id": "48f34aefaf8681e4"
  },
  {
   "metadata": {
    "ExecuteTime": {
     "end_time": "2024-09-05T21:22:29.991705Z",
     "start_time": "2024-09-05T21:22:29.974415Z"
    }
   },
   "cell_type": "code",
   "source": [
    "birds = df[df.category == 'Bird']\n",
    "print(f\"Shape: {birds.shape}\")\n",
    "birds.head()"
   ],
   "id": "179337aecc2823bd",
   "outputs": [
    {
     "name": "stdout",
     "output_type": "stream",
     "text": [
      "Shape: (14601, 15)\n"
     ]
    },
    {
     "data": {
      "text/plain": [
       "   species_id park_code park_name category            order        family  \\\n",
       "55  ACAD-1055      ACAD    Acadia     Bird  Accipitriformes  Accipitridae   \n",
       "56  ACAD-1056      ACAD    Acadia     Bird  Accipitriformes  Accipitridae   \n",
       "57  ACAD-1057      ACAD    Acadia     Bird  Accipitriformes  Accipitridae   \n",
       "58  ACAD-1058      ACAD    Acadia     Bird  Accipitriformes  Accipitridae   \n",
       "59  ACAD-1059      ACAD    Acadia     Bird  Accipitriformes  Accipitridae   \n",
       "\n",
       "       scientific_name                                     common_names  \\\n",
       "55  Accipiter cooperii                                    Cooper's Hawk   \n",
       "56  Accipiter gentilis       Eastern Goshawk, Goshawk, Northern Goshawk   \n",
       "57  Accipiter striatus  Northern Sharp-Shinned Hawk, Sharp-Shinned Hawk   \n",
       "58   Aquila chrysaetos              American Golden Eagle, Golden Eagle   \n",
       "59   Buteo jamaicensis         Eastern Red-Tailed Hawk, Red-Tailed Hawk   \n",
       "\n",
       "   record_status occurrence nativeness   abundance seasonality  \\\n",
       "55      Approved    Present     Native    Uncommon         NaN   \n",
       "56      Approved    Present     Native    Uncommon     Breeder   \n",
       "57      Approved    Present     Native      Common     Breeder   \n",
       "58      Approved    Present     Native  Occasional     Vagrant   \n",
       "59      Approved    Present     Native      Common     Breeder   \n",
       "\n",
       "   conservation_status unnamed  \n",
       "55  Species of Concern     NaN  \n",
       "56                 NaN     NaN  \n",
       "57  Species of Concern     NaN  \n",
       "58  Species of Concern     NaN  \n",
       "59                 NaN     NaN  "
      ],
      "text/html": [
       "<div>\n",
       "<style scoped>\n",
       "    .dataframe tbody tr th:only-of-type {\n",
       "        vertical-align: middle;\n",
       "    }\n",
       "\n",
       "    .dataframe tbody tr th {\n",
       "        vertical-align: top;\n",
       "    }\n",
       "\n",
       "    .dataframe thead th {\n",
       "        text-align: right;\n",
       "    }\n",
       "</style>\n",
       "<table border=\"1\" class=\"dataframe\">\n",
       "  <thead>\n",
       "    <tr style=\"text-align: right;\">\n",
       "      <th></th>\n",
       "      <th>species_id</th>\n",
       "      <th>park_code</th>\n",
       "      <th>park_name</th>\n",
       "      <th>category</th>\n",
       "      <th>order</th>\n",
       "      <th>family</th>\n",
       "      <th>scientific_name</th>\n",
       "      <th>common_names</th>\n",
       "      <th>record_status</th>\n",
       "      <th>occurrence</th>\n",
       "      <th>nativeness</th>\n",
       "      <th>abundance</th>\n",
       "      <th>seasonality</th>\n",
       "      <th>conservation_status</th>\n",
       "      <th>unnamed</th>\n",
       "    </tr>\n",
       "  </thead>\n",
       "  <tbody>\n",
       "    <tr>\n",
       "      <th>55</th>\n",
       "      <td>ACAD-1055</td>\n",
       "      <td>ACAD</td>\n",
       "      <td>Acadia</td>\n",
       "      <td>Bird</td>\n",
       "      <td>Accipitriformes</td>\n",
       "      <td>Accipitridae</td>\n",
       "      <td>Accipiter cooperii</td>\n",
       "      <td>Cooper's Hawk</td>\n",
       "      <td>Approved</td>\n",
       "      <td>Present</td>\n",
       "      <td>Native</td>\n",
       "      <td>Uncommon</td>\n",
       "      <td>NaN</td>\n",
       "      <td>Species of Concern</td>\n",
       "      <td>NaN</td>\n",
       "    </tr>\n",
       "    <tr>\n",
       "      <th>56</th>\n",
       "      <td>ACAD-1056</td>\n",
       "      <td>ACAD</td>\n",
       "      <td>Acadia</td>\n",
       "      <td>Bird</td>\n",
       "      <td>Accipitriformes</td>\n",
       "      <td>Accipitridae</td>\n",
       "      <td>Accipiter gentilis</td>\n",
       "      <td>Eastern Goshawk, Goshawk, Northern Goshawk</td>\n",
       "      <td>Approved</td>\n",
       "      <td>Present</td>\n",
       "      <td>Native</td>\n",
       "      <td>Uncommon</td>\n",
       "      <td>Breeder</td>\n",
       "      <td>NaN</td>\n",
       "      <td>NaN</td>\n",
       "    </tr>\n",
       "    <tr>\n",
       "      <th>57</th>\n",
       "      <td>ACAD-1057</td>\n",
       "      <td>ACAD</td>\n",
       "      <td>Acadia</td>\n",
       "      <td>Bird</td>\n",
       "      <td>Accipitriformes</td>\n",
       "      <td>Accipitridae</td>\n",
       "      <td>Accipiter striatus</td>\n",
       "      <td>Northern Sharp-Shinned Hawk, Sharp-Shinned Hawk</td>\n",
       "      <td>Approved</td>\n",
       "      <td>Present</td>\n",
       "      <td>Native</td>\n",
       "      <td>Common</td>\n",
       "      <td>Breeder</td>\n",
       "      <td>Species of Concern</td>\n",
       "      <td>NaN</td>\n",
       "    </tr>\n",
       "    <tr>\n",
       "      <th>58</th>\n",
       "      <td>ACAD-1058</td>\n",
       "      <td>ACAD</td>\n",
       "      <td>Acadia</td>\n",
       "      <td>Bird</td>\n",
       "      <td>Accipitriformes</td>\n",
       "      <td>Accipitridae</td>\n",
       "      <td>Aquila chrysaetos</td>\n",
       "      <td>American Golden Eagle, Golden Eagle</td>\n",
       "      <td>Approved</td>\n",
       "      <td>Present</td>\n",
       "      <td>Native</td>\n",
       "      <td>Occasional</td>\n",
       "      <td>Vagrant</td>\n",
       "      <td>Species of Concern</td>\n",
       "      <td>NaN</td>\n",
       "    </tr>\n",
       "    <tr>\n",
       "      <th>59</th>\n",
       "      <td>ACAD-1059</td>\n",
       "      <td>ACAD</td>\n",
       "      <td>Acadia</td>\n",
       "      <td>Bird</td>\n",
       "      <td>Accipitriformes</td>\n",
       "      <td>Accipitridae</td>\n",
       "      <td>Buteo jamaicensis</td>\n",
       "      <td>Eastern Red-Tailed Hawk, Red-Tailed Hawk</td>\n",
       "      <td>Approved</td>\n",
       "      <td>Present</td>\n",
       "      <td>Native</td>\n",
       "      <td>Common</td>\n",
       "      <td>Breeder</td>\n",
       "      <td>NaN</td>\n",
       "      <td>NaN</td>\n",
       "    </tr>\n",
       "  </tbody>\n",
       "</table>\n",
       "</div>"
      ]
     },
     "execution_count": 307,
     "metadata": {},
     "output_type": "execute_result"
    }
   ],
   "execution_count": 307
  },
  {
   "metadata": {
    "ExecuteTime": {
     "end_time": "2024-09-05T21:22:30.188100Z",
     "start_time": "2024-09-05T21:22:30.176308Z"
    }
   },
   "cell_type": "code",
   "source": "print(f\"Unique values:\\n\\n{birds.nunique()}\")",
   "id": "d063c3fa52e74efc",
   "outputs": [
    {
     "name": "stdout",
     "output_type": "stream",
     "text": [
      "Unique values:\n",
      "\n",
      "species_id             14601\n",
      "park_code                 56\n",
      "park_name                 56\n",
      "category                   1\n",
      "order                     24\n",
      "family                    86\n",
      "scientific_name         1436\n",
      "common_names            1550\n",
      "record_status             10\n",
      "occurrence                 6\n",
      "nativeness                 4\n",
      "abundance                  7\n",
      "seasonality               23\n",
      "conservation_status        8\n",
      "unnamed                    1\n",
      "dtype: int64\n"
     ]
    }
   ],
   "execution_count": 308
  },
  {
   "metadata": {
    "ExecuteTime": {
     "end_time": "2024-09-05T21:22:30.386260Z",
     "start_time": "2024-09-05T21:22:30.383512Z"
    }
   },
   "cell_type": "code",
   "source": "print(birds['conservation_status'].unique())",
   "id": "dbe472e2c7db5947",
   "outputs": [
    {
     "name": "stdout",
     "output_type": "stream",
     "text": [
      "['Species of Concern' nan 'In Recovery' 'Threatened' 'Endangered'\n",
      " 'Under Review' 'Breeder' 'Resident' 'Proposed Endangered']\n"
     ]
    }
   ],
   "execution_count": 309
  },
  {
   "metadata": {
    "ExecuteTime": {
     "end_time": "2024-09-05T21:22:30.511575Z",
     "start_time": "2024-09-05T21:22:30.505696Z"
    }
   },
   "cell_type": "code",
   "source": [
    "print(f\"NaN count: {birds.conservation_status.isna().sum()}\\n\")\n",
    "birds.groupby(\"conservation_status\").size()"
   ],
   "id": "7c512bcd2797c70f",
   "outputs": [
    {
     "name": "stdout",
     "output_type": "stream",
     "text": [
      "NaN count: 11970\n",
      "\n"
     ]
    },
    {
     "data": {
      "text/plain": [
       "conservation_status\n",
       "Breeder                   4\n",
       "Endangered               64\n",
       "In Recovery              65\n",
       "Proposed Endangered       2\n",
       "Resident                  4\n",
       "Species of Concern     2371\n",
       "Threatened               51\n",
       "Under Review             70\n",
       "dtype: int64"
      ]
     },
     "execution_count": 310,
     "metadata": {},
     "output_type": "execute_result"
    }
   ],
   "execution_count": 310
  },
  {
   "metadata": {},
   "cell_type": "markdown",
   "source": [
    "### `conservation_status`\n",
    "\n",
    "- `Endangered`: seriously at risk of extinction\n",
    "- `In Recovery`: formerly `Endangered`, but currently not in danger of extinction throughout all or a significant portion of its range\n",
    "- `Threatened`: vulnerable to endangerment in the near future\n",
    "- `Species of Concern`: declining or appear to be in need of conservation\n",
    "- `Under Review`: ?\n",
    "- `Resident`: ?\n",
    "- `Breeder`: ?"
   ],
   "id": "3662bed69b819373"
  },
  {
   "metadata": {
    "ExecuteTime": {
     "end_time": "2024-09-05T21:22:30.689738Z",
     "start_time": "2024-09-05T21:22:30.685593Z"
    }
   },
   "cell_type": "code",
   "source": [
    "# Does resident and breeder come under `seasonality`?\n",
    "print(birds.seasonality.unique())"
   ],
   "id": "40aaef4b5b461e33",
   "outputs": [
    {
     "name": "stdout",
     "output_type": "stream",
     "text": [
      "[nan 'Breeder' 'Vagrant' 'Resident' 'Migratory' 'Breeder, Migratory'\n",
      " 'Breeder, Summer' 'Migratory, Vagrant' 'Migratory, Winter'\n",
      " 'Breeder, Winter' 'Winter' 'Resident, Winter' 'Summer, Vagrant'\n",
      " 'Breeder, Resident, Summer' 'Resident, Summer' 'Summer'\n",
      " 'Breeder, Resident, Migratory, Summer'\n",
      " 'Breeder, Resident, Summer, Winter' 'Migratory, Summer' 'Winter, Vagrant'\n",
      " 'Rare' 'Uncommon' 'Common' 'Breeder, Resident']\n"
     ]
    }
   ],
   "execution_count": 311
  },
  {
   "metadata": {},
   "cell_type": "markdown",
   "source": [
    "#### `Resident` and `Breeder` belong in `seasonality`. \n",
    "Seems wrong as a `conservation_status` and could be the result of Human Error. Investigating the unique values in the other columns"
   ],
   "id": "57459183839c49de"
  },
  {
   "metadata": {
    "ExecuteTime": {
     "end_time": "2024-09-05T21:22:30.819143Z",
     "start_time": "2024-09-05T21:22:30.805803Z"
    }
   },
   "cell_type": "code",
   "source": [
    "keywords = ['Breeder', 'Resident']\n",
    "pattern = '|'.join(keywords)  \n",
    "\n",
    "# Filter the DataFrame for rows where column contains any of the keywords\n",
    "matching_df = birds[birds['conservation_status'].str.contains(pattern, case=False, na=False)]\n",
    "matching_df"
   ],
   "id": "c370bf07453be82d",
   "outputs": [
    {
     "data": {
      "text/plain": [
       "      species_id park_code         park_name category             order  \\\n",
       "44666  GRSA-1069      GRSA  Great Sand Dunes     Bird   Accipitriformes   \n",
       "44678  GRSA-1081      GRSA  Great Sand Dunes     Bird      Anseriformes   \n",
       "44705  GRSA-1108      GRSA  Great Sand Dunes     Bird  Caprimulgiformes   \n",
       "44733  GRSA-1136      GRSA  Great Sand Dunes     Bird     Falconiformes   \n",
       "44744  GRSA-1147      GRSA  Great Sand Dunes     Bird     Passeriformes   \n",
       "44759  GRSA-1162      GRSA  Great Sand Dunes     Bird     Passeriformes   \n",
       "44818  GRSA-1221      GRSA  Great Sand Dunes     Bird     Passeriformes   \n",
       "44859  GRSA-1262      GRSA  Great Sand Dunes     Bird     Passeriformes   \n",
       "\n",
       "              family           scientific_name    common_names  \\\n",
       "44666   Accipitridae        Accipiter gentilis         Goshawk   \n",
       "44678       Anatidae                Anas acuta         Pintail   \n",
       "44705  Caprimulgidae  Phalaenoptilus nuttallii       Poor-Will   \n",
       "44733     Falconidae         Falco columbarius          Merlin   \n",
       "44744   Aegithalidae      Psaltriparus minimus  Common Bushtit   \n",
       "44759       Corvidae     Corvus brachyrhynchos     Common Crow   \n",
       "44818        Mimidae    Dumetella carolinensis    Gray Catbird   \n",
       "44859       Turdidae        Turdus migratorius  American Robin   \n",
       "\n",
       "           record_status occurrence nativeness abundance seasonality  \\\n",
       "44666   Northern Goshawk   Approved    Present    Native        Rare   \n",
       "44678   Northern Pintail   Approved    Present    Native        Rare   \n",
       "44705    Common Poorwill   Approved    Present    Native    Uncommon   \n",
       "44733        Pigeon Hawk   Approved    Present    Native        Rare   \n",
       "44744            Bushtit   Approved    Present    Native    Uncommon   \n",
       "44759      American Crow   Approved    Present    Native        Rare   \n",
       "44818            Catbird   Approved    Present    Native        Rare   \n",
       "44859              Robin   Approved    Present    Native      Common   \n",
       "\n",
       "      conservation_status             unnamed  \n",
       "44666             Breeder                 NaN  \n",
       "44678            Resident                 NaN  \n",
       "44705             Breeder                 NaN  \n",
       "44733            Resident  Species of Concern  \n",
       "44744             Breeder                 NaN  \n",
       "44759            Resident                 NaN  \n",
       "44818            Resident                 NaN  \n",
       "44859             Breeder                 NaN  "
      ],
      "text/html": [
       "<div>\n",
       "<style scoped>\n",
       "    .dataframe tbody tr th:only-of-type {\n",
       "        vertical-align: middle;\n",
       "    }\n",
       "\n",
       "    .dataframe tbody tr th {\n",
       "        vertical-align: top;\n",
       "    }\n",
       "\n",
       "    .dataframe thead th {\n",
       "        text-align: right;\n",
       "    }\n",
       "</style>\n",
       "<table border=\"1\" class=\"dataframe\">\n",
       "  <thead>\n",
       "    <tr style=\"text-align: right;\">\n",
       "      <th></th>\n",
       "      <th>species_id</th>\n",
       "      <th>park_code</th>\n",
       "      <th>park_name</th>\n",
       "      <th>category</th>\n",
       "      <th>order</th>\n",
       "      <th>family</th>\n",
       "      <th>scientific_name</th>\n",
       "      <th>common_names</th>\n",
       "      <th>record_status</th>\n",
       "      <th>occurrence</th>\n",
       "      <th>nativeness</th>\n",
       "      <th>abundance</th>\n",
       "      <th>seasonality</th>\n",
       "      <th>conservation_status</th>\n",
       "      <th>unnamed</th>\n",
       "    </tr>\n",
       "  </thead>\n",
       "  <tbody>\n",
       "    <tr>\n",
       "      <th>44666</th>\n",
       "      <td>GRSA-1069</td>\n",
       "      <td>GRSA</td>\n",
       "      <td>Great Sand Dunes</td>\n",
       "      <td>Bird</td>\n",
       "      <td>Accipitriformes</td>\n",
       "      <td>Accipitridae</td>\n",
       "      <td>Accipiter gentilis</td>\n",
       "      <td>Goshawk</td>\n",
       "      <td>Northern Goshawk</td>\n",
       "      <td>Approved</td>\n",
       "      <td>Present</td>\n",
       "      <td>Native</td>\n",
       "      <td>Rare</td>\n",
       "      <td>Breeder</td>\n",
       "      <td>NaN</td>\n",
       "    </tr>\n",
       "    <tr>\n",
       "      <th>44678</th>\n",
       "      <td>GRSA-1081</td>\n",
       "      <td>GRSA</td>\n",
       "      <td>Great Sand Dunes</td>\n",
       "      <td>Bird</td>\n",
       "      <td>Anseriformes</td>\n",
       "      <td>Anatidae</td>\n",
       "      <td>Anas acuta</td>\n",
       "      <td>Pintail</td>\n",
       "      <td>Northern Pintail</td>\n",
       "      <td>Approved</td>\n",
       "      <td>Present</td>\n",
       "      <td>Native</td>\n",
       "      <td>Rare</td>\n",
       "      <td>Resident</td>\n",
       "      <td>NaN</td>\n",
       "    </tr>\n",
       "    <tr>\n",
       "      <th>44705</th>\n",
       "      <td>GRSA-1108</td>\n",
       "      <td>GRSA</td>\n",
       "      <td>Great Sand Dunes</td>\n",
       "      <td>Bird</td>\n",
       "      <td>Caprimulgiformes</td>\n",
       "      <td>Caprimulgidae</td>\n",
       "      <td>Phalaenoptilus nuttallii</td>\n",
       "      <td>Poor-Will</td>\n",
       "      <td>Common Poorwill</td>\n",
       "      <td>Approved</td>\n",
       "      <td>Present</td>\n",
       "      <td>Native</td>\n",
       "      <td>Uncommon</td>\n",
       "      <td>Breeder</td>\n",
       "      <td>NaN</td>\n",
       "    </tr>\n",
       "    <tr>\n",
       "      <th>44733</th>\n",
       "      <td>GRSA-1136</td>\n",
       "      <td>GRSA</td>\n",
       "      <td>Great Sand Dunes</td>\n",
       "      <td>Bird</td>\n",
       "      <td>Falconiformes</td>\n",
       "      <td>Falconidae</td>\n",
       "      <td>Falco columbarius</td>\n",
       "      <td>Merlin</td>\n",
       "      <td>Pigeon Hawk</td>\n",
       "      <td>Approved</td>\n",
       "      <td>Present</td>\n",
       "      <td>Native</td>\n",
       "      <td>Rare</td>\n",
       "      <td>Resident</td>\n",
       "      <td>Species of Concern</td>\n",
       "    </tr>\n",
       "    <tr>\n",
       "      <th>44744</th>\n",
       "      <td>GRSA-1147</td>\n",
       "      <td>GRSA</td>\n",
       "      <td>Great Sand Dunes</td>\n",
       "      <td>Bird</td>\n",
       "      <td>Passeriformes</td>\n",
       "      <td>Aegithalidae</td>\n",
       "      <td>Psaltriparus minimus</td>\n",
       "      <td>Common Bushtit</td>\n",
       "      <td>Bushtit</td>\n",
       "      <td>Approved</td>\n",
       "      <td>Present</td>\n",
       "      <td>Native</td>\n",
       "      <td>Uncommon</td>\n",
       "      <td>Breeder</td>\n",
       "      <td>NaN</td>\n",
       "    </tr>\n",
       "    <tr>\n",
       "      <th>44759</th>\n",
       "      <td>GRSA-1162</td>\n",
       "      <td>GRSA</td>\n",
       "      <td>Great Sand Dunes</td>\n",
       "      <td>Bird</td>\n",
       "      <td>Passeriformes</td>\n",
       "      <td>Corvidae</td>\n",
       "      <td>Corvus brachyrhynchos</td>\n",
       "      <td>Common Crow</td>\n",
       "      <td>American Crow</td>\n",
       "      <td>Approved</td>\n",
       "      <td>Present</td>\n",
       "      <td>Native</td>\n",
       "      <td>Rare</td>\n",
       "      <td>Resident</td>\n",
       "      <td>NaN</td>\n",
       "    </tr>\n",
       "    <tr>\n",
       "      <th>44818</th>\n",
       "      <td>GRSA-1221</td>\n",
       "      <td>GRSA</td>\n",
       "      <td>Great Sand Dunes</td>\n",
       "      <td>Bird</td>\n",
       "      <td>Passeriformes</td>\n",
       "      <td>Mimidae</td>\n",
       "      <td>Dumetella carolinensis</td>\n",
       "      <td>Gray Catbird</td>\n",
       "      <td>Catbird</td>\n",
       "      <td>Approved</td>\n",
       "      <td>Present</td>\n",
       "      <td>Native</td>\n",
       "      <td>Rare</td>\n",
       "      <td>Resident</td>\n",
       "      <td>NaN</td>\n",
       "    </tr>\n",
       "    <tr>\n",
       "      <th>44859</th>\n",
       "      <td>GRSA-1262</td>\n",
       "      <td>GRSA</td>\n",
       "      <td>Great Sand Dunes</td>\n",
       "      <td>Bird</td>\n",
       "      <td>Passeriformes</td>\n",
       "      <td>Turdidae</td>\n",
       "      <td>Turdus migratorius</td>\n",
       "      <td>American Robin</td>\n",
       "      <td>Robin</td>\n",
       "      <td>Approved</td>\n",
       "      <td>Present</td>\n",
       "      <td>Native</td>\n",
       "      <td>Common</td>\n",
       "      <td>Breeder</td>\n",
       "      <td>NaN</td>\n",
       "    </tr>\n",
       "  </tbody>\n",
       "</table>\n",
       "</div>"
      ]
     },
     "execution_count": 312,
     "metadata": {},
     "output_type": "execute_result"
    }
   ],
   "execution_count": 312
  },
  {
   "metadata": {
    "ExecuteTime": {
     "end_time": "2024-09-05T21:22:30.925179Z",
     "start_time": "2024-09-05T21:22:30.922421Z"
    }
   },
   "cell_type": "code",
   "source": "print(birds.abundance.unique())",
   "id": "adcd7f0d6b452164",
   "outputs": [
    {
     "name": "stdout",
     "output_type": "stream",
     "text": [
      "['Uncommon' 'Common' 'Occasional' nan 'Rare' 'Unknown' 'Abundant' 'Native']\n"
     ]
    }
   ],
   "execution_count": 313
  },
  {
   "metadata": {
    "ExecuteTime": {
     "end_time": "2024-09-05T21:22:31.048104Z",
     "start_time": "2024-09-05T21:22:31.044385Z"
    }
   },
   "cell_type": "code",
   "source": [
    "# Count unique values where 'abundance' is 'Native'\n",
    "unique_native_abundance = birds[birds['abundance'] == 'Native']['species_id'].nunique()\n",
    "print(f\"Unique records where abundance is 'Native': {unique_native_abundance}\")"
   ],
   "id": "5dfccfc2e43c441d",
   "outputs": [
    {
     "name": "stdout",
     "output_type": "stream",
     "text": [
      "Unique records where abundance is 'Native': 8\n"
     ]
    }
   ],
   "execution_count": 314
  },
  {
   "metadata": {
    "ExecuteTime": {
     "end_time": "2024-09-05T21:22:31.163229Z",
     "start_time": "2024-09-05T21:22:31.160489Z"
    }
   },
   "cell_type": "code",
   "source": "print(birds.nativeness.unique())",
   "id": "377fc9f2959ba93",
   "outputs": [
    {
     "name": "stdout",
     "output_type": "stream",
     "text": [
      "['Native' 'Unknown' 'Not Native' nan 'Present']\n"
     ]
    }
   ],
   "execution_count": 315
  },
  {
   "metadata": {
    "ExecuteTime": {
     "end_time": "2024-09-05T21:22:31.316686Z",
     "start_time": "2024-09-05T21:22:31.311682Z"
    }
   },
   "cell_type": "code",
   "source": [
    "# Count unique values where 'nativeness' is 'Present'\n",
    "unique_present_nativeness = birds[birds['nativeness'] == 'Present']['species_id'].nunique()\n",
    "print(f\"Unique records where nativeness is 'Present': {unique_present_nativeness}\")"
   ],
   "id": "4d392186fdbf3a49",
   "outputs": [
    {
     "name": "stdout",
     "output_type": "stream",
     "text": [
      "Unique records where nativeness is 'Present': 8\n"
     ]
    }
   ],
   "execution_count": 316
  },
  {
   "metadata": {
    "ExecuteTime": {
     "end_time": "2024-09-05T21:22:31.467166Z",
     "start_time": "2024-09-05T21:22:31.462728Z"
    }
   },
   "cell_type": "code",
   "source": "print(birds.record_status.unique())",
   "id": "152646aa60716879",
   "outputs": [
    {
     "name": "stdout",
     "output_type": "stream",
     "text": [
      "['Approved' 'In Review' ' Northern Goshawk' ' Northern Pintail'\n",
      " ' Common Poorwill' ' Pigeon Hawk' ' Bushtit' ' American Crow' ' Catbird'\n",
      " ' Robin']\n"
     ]
    }
   ],
   "execution_count": 317
  },
  {
   "metadata": {},
   "cell_type": "markdown",
   "source": [
    "#### Discrepancies in these records seem to be the result of human error\n",
    "We need to remove the common_name values in `record_status` and shift all columns to the right, one column left"
   ],
   "id": "281c6086d5cc5029"
  },
  {
   "metadata": {
    "ExecuteTime": {
     "end_time": "2024-09-05T21:22:31.643376Z",
     "start_time": "2024-09-05T21:22:31.612398Z"
    }
   },
   "cell_type": "code",
   "source": [
    "# indices that need correction are based on 'matching_df'\n",
    "indices_to_shift = matching_df.index\n",
    "\n",
    "# Define the column start position for shifting\n",
    "start_pos = matching_df.columns.get_loc('record_status')\n",
    "\n",
    "# Create a shifted version of the relevant subset of matching_df\n",
    "# Shifting is done by slicing the DataFrame to remove the start position column, and appending NaN at the end\n",
    "shifted_df = matching_df.loc[indices_to_shift].apply(\n",
    "    lambda row: pd.Series(np.append(row[start_pos + 1:].values, pd.NA), index=row[start_pos:].index), axis=1\n",
    ")\n",
    "\n",
    "# Combine the unchanged part of the rows with the shifted part\n",
    "matching_df.loc[indices_to_shift, matching_df.columns[start_pos:]] = shifted_df\n",
    "\n",
    "# Apply the same changes to the parent and child DataFrames using indices\n",
    "df.loc[indices_to_shift] = matching_df.loc[indices_to_shift]\n",
    "birds.loc[indices_to_shift] = matching_df.loc[indices_to_shift]"
   ],
   "id": "cd4759932b178103",
   "outputs": [],
   "execution_count": 318
  },
  {
   "metadata": {
    "ExecuteTime": {
     "end_time": "2024-09-05T21:22:31.787567Z",
     "start_time": "2024-09-05T21:22:31.781760Z"
    }
   },
   "cell_type": "code",
   "source": [
    "columns = ['conservation_status', 'abundance', 'nativeness', 'record_status', 'occurrence', 'unnamed']\n",
    "for column in columns:\n",
    "    print(f\"{column.title()}:\\n{birds[column].unique()}\")"
   ],
   "id": "2e5f04c9e4302a0e",
   "outputs": [
    {
     "name": "stdout",
     "output_type": "stream",
     "text": [
      "Conservation_Status:\n",
      "['Species of Concern' nan 'In Recovery' 'Threatened' 'Endangered'\n",
      " 'Under Review' 'Proposed Endangered']\n",
      "Abundance:\n",
      "['Uncommon' 'Common' 'Occasional' nan 'Rare' 'Unknown' 'Abundant']\n",
      "Nativeness:\n",
      "['Native' 'Unknown' 'Not Native' nan]\n",
      "Record_Status:\n",
      "['Approved' 'In Review']\n",
      "Occurrence:\n",
      "['Present' 'Not Confirmed' 'Not Present (Historical Report)'\n",
      " 'Not Present (False Report)' nan 'Not Present']\n",
      "Unnamed:\n",
      "[nan <NA>]\n"
     ]
    }
   ],
   "execution_count": 319
  },
  {
   "metadata": {
    "ExecuteTime": {
     "end_time": "2024-09-05T21:22:31.933942Z",
     "start_time": "2024-09-05T21:22:31.929311Z"
    }
   },
   "cell_type": "code",
   "source": [
    "# Dropping unnamed\n",
    "birds = birds.drop(columns=['unnamed'])"
   ],
   "id": "b502c1f88e67e7f8",
   "outputs": [],
   "execution_count": 320
  },
  {
   "metadata": {},
   "cell_type": "markdown",
   "source": "#### Dealing with `seasonality` column",
   "id": "85291725b2ca627e"
  },
  {
   "metadata": {
    "ExecuteTime": {
     "end_time": "2024-09-05T21:22:32.076963Z",
     "start_time": "2024-09-05T21:22:32.074111Z"
    }
   },
   "cell_type": "code",
   "source": "print(birds.seasonality.unique())",
   "id": "cbe31784f20a530b",
   "outputs": [
    {
     "name": "stdout",
     "output_type": "stream",
     "text": [
      "[nan 'Breeder' 'Vagrant' 'Resident' 'Migratory' 'Breeder, Migratory'\n",
      " 'Breeder, Summer' 'Migratory, Vagrant' 'Migratory, Winter'\n",
      " 'Breeder, Winter' 'Winter' 'Resident, Winter' 'Summer, Vagrant'\n",
      " 'Breeder, Resident, Summer' 'Resident, Summer' 'Summer'\n",
      " 'Breeder, Resident, Migratory, Summer'\n",
      " 'Breeder, Resident, Summer, Winter' 'Migratory, Summer' 'Winter, Vagrant'\n",
      " 'Breeder, Resident']\n"
     ]
    }
   ],
   "execution_count": 321
  },
  {
   "metadata": {
    "ExecuteTime": {
     "end_time": "2024-09-05T21:22:32.239715Z",
     "start_time": "2024-09-05T21:22:32.233336Z"
    }
   },
   "cell_type": "code",
   "source": [
    "print(f\"NaN count: {birds.seasonality.isna().sum()}\\n\")\n",
    "birds.groupby(\"seasonality\").size()"
   ],
   "id": "82fb51ae68c8e5b4",
   "outputs": [
    {
     "name": "stdout",
     "output_type": "stream",
     "text": [
      "NaN count: 3502\n",
      "\n"
     ]
    },
    {
     "data": {
      "text/plain": [
       "seasonality\n",
       "Breeder                                 5005\n",
       "Breeder, Migratory                         4\n",
       "Breeder, Resident                          9\n",
       "Breeder, Resident, Migratory, Summer       1\n",
       "Breeder, Resident, Summer                  3\n",
       "Breeder, Resident, Summer, Winter          1\n",
       "Breeder, Summer                            2\n",
       "Breeder, Winter                           64\n",
       "Migratory                               2726\n",
       "Migratory, Summer                          2\n",
       "Migratory, Vagrant                         4\n",
       "Migratory, Winter                         23\n",
       "Resident                                1632\n",
       "Resident, Summer                           2\n",
       "Resident, Winter                           9\n",
       "Summer                                    25\n",
       "Summer, Vagrant                            3\n",
       "Vagrant                                 1563\n",
       "Winter                                    20\n",
       "Winter, Vagrant                            1\n",
       "dtype: int64"
      ]
     },
     "execution_count": 322,
     "metadata": {},
     "output_type": "execute_result"
    }
   ],
   "execution_count": 322
  },
  {
   "metadata": {},
   "cell_type": "markdown",
   "source": "There's not enough records to warrant this variation. Change to `Breeder`, `Migratory`, `Unknown`",
   "id": "ab929d0e98d9930e"
  },
  {
   "metadata": {
    "ExecuteTime": {
     "end_time": "2024-09-05T21:22:32.426691Z",
     "start_time": "2024-09-05T21:22:32.414923Z"
    }
   },
   "cell_type": "code",
   "source": [
    "# Fill NaN values with 'Unknown'\n",
    "birds['seasonality'] = birds['seasonality'].fillna('Unknown')\n",
    "\n",
    "# Define keywords in the order of priority\n",
    "priority_keywords = ['Winter', 'Summer', 'Breeder', 'Migratory', 'Resident', 'Vagrant']\n",
    "\n",
    "def simplify_seasonality(value):\n",
    "    for keyword in priority_keywords:\n",
    "        if keyword in value:\n",
    "            return keyword\n",
    "    return 'Unknown'\n",
    "\n",
    "# Apply the classification function to simplify seasonality to one word\n",
    "birds['seasonality'] = birds['seasonality'].apply(simplify_seasonality)\n",
    "\n",
    "# Display the updated counts for verification\n",
    "seasonality_counts = birds['seasonality'].value_counts()\n",
    "print(seasonality_counts)"
   ],
   "id": "3cfd572d486486ca",
   "outputs": [
    {
     "name": "stdout",
     "output_type": "stream",
     "text": [
      "seasonality\n",
      "Breeder      5018\n",
      "Unknown      3502\n",
      "Migratory    2730\n",
      "Resident     1632\n",
      "Vagrant      1563\n",
      "Winter        118\n",
      "Summer         38\n",
      "Name: count, dtype: int64\n"
     ]
    }
   ],
   "execution_count": 323
  },
  {
   "metadata": {},
   "cell_type": "markdown",
   "source": [
    "----\n",
    "&nbsp;\n",
    "### Dealing with `NaN` values and conversion to categorical columns"
   ],
   "id": "7bda83db53b688c8"
  },
  {
   "metadata": {},
   "cell_type": "markdown",
   "source": [
    "#### `conservation_status` as per [IUCN](https://en.wikipedia.org/wiki/IUCN_Red_List) Red List\n",
    "We fill nan with `Least Concern` meaning 'non-protected' where all other values mean 'protected'"
   ],
   "id": "381386d45a795e47"
  },
  {
   "metadata": {
    "ExecuteTime": {
     "end_time": "2024-09-05T21:22:32.509320Z",
     "start_time": "2024-09-05T21:22:32.500755Z"
    }
   },
   "cell_type": "code",
   "source": [
    "# Define the fill values for each column\n",
    "fill_values = {\n",
    "    'conservation_status': 'Least Concern',\n",
    "    'abundance': 'Unknown',\n",
    "    'nativeness': 'Unknown',\n",
    "    'occurrence': 'Not Confirmed'\n",
    "}\n",
    "\n",
    "# Fill NaN values in the specified columns\n",
    "birds['conservation_status'] = birds['conservation_status'].fillna(fill_values['conservation_status'])\n",
    "birds['abundance'] = birds['abundance'].fillna(fill_values['abundance'])\n",
    "birds['nativeness'] = birds['nativeness'].fillna(fill_values['nativeness'])\n",
    "birds['occurrence'] = birds['occurrence'].fillna(fill_values['occurrence'])"
   ],
   "id": "80f5ec7dec4f4012",
   "outputs": [],
   "execution_count": 324
  },
  {
   "metadata": {
    "ExecuteTime": {
     "end_time": "2024-09-05T21:22:32.544976Z",
     "start_time": "2024-09-05T21:22:32.541997Z"
    }
   },
   "cell_type": "code",
   "source": [
    "# Define the ordered categories for each column\n",
    "conservation_status_order = ['Least Concern', 'Species of Concern', 'In Recovery', 'Under Review', 'Threatened', 'Proposed Endangered', 'Endangered']\n",
    "abundance_order = ['Rare', 'Uncommon', 'Unknown', 'Occasional', 'Common', 'Abundant']\n",
    "nativeness_order = ['Not Native', 'Unknown', 'Native']\n",
    "record_status_order = ['In Review', 'Approved']\n",
    "occurrence_order = ['Not Present (False Report)', 'Not Present (Historical Report)', 'Not Present', 'Not Confirmed', 'Present']"
   ],
   "id": "1b4ae293a735cba0",
   "outputs": [],
   "execution_count": 325
  },
  {
   "metadata": {
    "ExecuteTime": {
     "end_time": "2024-09-05T21:22:32.701509Z",
     "start_time": "2024-09-05T21:22:32.686748Z"
    }
   },
   "cell_type": "code",
   "source": [
    "# Covert columns to categorical\n",
    "birds['record_status'] = pd.Categorical(birds['record_status'], categories=record_status_order, ordered=True)\n",
    "birds['occurrence'] = pd.Categorical(birds['occurrence'], categories=occurrence_order, ordered=True)\n",
    "birds['nativeness'] = pd.Categorical(birds['nativeness'], categories=nativeness_order, ordered=True)\n",
    "birds['abundance'] = pd.Categorical(birds['abundance'], categories=abundance_order, ordered=True)\n",
    "birds['conservation_status'] = pd.Categorical(birds['conservation_status'], categories=conservation_status_order, ordered=True)\n",
    "\n",
    "# add boolean column 'is_protected'\n",
    "birds['is_protected'] = birds.conservation_status != 'Least Concern'\n",
    "\n",
    "# Dropping category as all birds\n",
    "birds = birds.drop(columns=['category'])"
   ],
   "id": "f95d04e3a0d2391d",
   "outputs": [],
   "execution_count": 326
  },
  {
   "metadata": {
    "ExecuteTime": {
     "end_time": "2024-09-05T21:22:32.859147Z",
     "start_time": "2024-09-05T21:22:32.850035Z"
    }
   },
   "cell_type": "code",
   "source": [
    "print(birds.dtypes) \n",
    "birds.head() "
   ],
   "id": "e0e3de0aff1b2017",
   "outputs": [
    {
     "name": "stdout",
     "output_type": "stream",
     "text": [
      "species_id               object\n",
      "park_code                object\n",
      "park_name                object\n",
      "order                    object\n",
      "family                   object\n",
      "scientific_name          object\n",
      "common_names             object\n",
      "record_status          category\n",
      "occurrence             category\n",
      "nativeness             category\n",
      "abundance              category\n",
      "seasonality              object\n",
      "conservation_status    category\n",
      "is_protected               bool\n",
      "dtype: object\n"
     ]
    },
    {
     "data": {
      "text/plain": [
       "   species_id park_code park_name            order        family  \\\n",
       "55  ACAD-1055      ACAD    Acadia  Accipitriformes  Accipitridae   \n",
       "56  ACAD-1056      ACAD    Acadia  Accipitriformes  Accipitridae   \n",
       "57  ACAD-1057      ACAD    Acadia  Accipitriformes  Accipitridae   \n",
       "58  ACAD-1058      ACAD    Acadia  Accipitriformes  Accipitridae   \n",
       "59  ACAD-1059      ACAD    Acadia  Accipitriformes  Accipitridae   \n",
       "\n",
       "       scientific_name                                     common_names  \\\n",
       "55  Accipiter cooperii                                    Cooper's Hawk   \n",
       "56  Accipiter gentilis       Eastern Goshawk, Goshawk, Northern Goshawk   \n",
       "57  Accipiter striatus  Northern Sharp-Shinned Hawk, Sharp-Shinned Hawk   \n",
       "58   Aquila chrysaetos              American Golden Eagle, Golden Eagle   \n",
       "59   Buteo jamaicensis         Eastern Red-Tailed Hawk, Red-Tailed Hawk   \n",
       "\n",
       "   record_status occurrence nativeness   abundance seasonality  \\\n",
       "55      Approved    Present     Native    Uncommon     Unknown   \n",
       "56      Approved    Present     Native    Uncommon     Breeder   \n",
       "57      Approved    Present     Native      Common     Breeder   \n",
       "58      Approved    Present     Native  Occasional     Vagrant   \n",
       "59      Approved    Present     Native      Common     Breeder   \n",
       "\n",
       "   conservation_status  is_protected  \n",
       "55  Species of Concern          True  \n",
       "56       Least Concern         False  \n",
       "57  Species of Concern          True  \n",
       "58  Species of Concern          True  \n",
       "59       Least Concern         False  "
      ],
      "text/html": [
       "<div>\n",
       "<style scoped>\n",
       "    .dataframe tbody tr th:only-of-type {\n",
       "        vertical-align: middle;\n",
       "    }\n",
       "\n",
       "    .dataframe tbody tr th {\n",
       "        vertical-align: top;\n",
       "    }\n",
       "\n",
       "    .dataframe thead th {\n",
       "        text-align: right;\n",
       "    }\n",
       "</style>\n",
       "<table border=\"1\" class=\"dataframe\">\n",
       "  <thead>\n",
       "    <tr style=\"text-align: right;\">\n",
       "      <th></th>\n",
       "      <th>species_id</th>\n",
       "      <th>park_code</th>\n",
       "      <th>park_name</th>\n",
       "      <th>order</th>\n",
       "      <th>family</th>\n",
       "      <th>scientific_name</th>\n",
       "      <th>common_names</th>\n",
       "      <th>record_status</th>\n",
       "      <th>occurrence</th>\n",
       "      <th>nativeness</th>\n",
       "      <th>abundance</th>\n",
       "      <th>seasonality</th>\n",
       "      <th>conservation_status</th>\n",
       "      <th>is_protected</th>\n",
       "    </tr>\n",
       "  </thead>\n",
       "  <tbody>\n",
       "    <tr>\n",
       "      <th>55</th>\n",
       "      <td>ACAD-1055</td>\n",
       "      <td>ACAD</td>\n",
       "      <td>Acadia</td>\n",
       "      <td>Accipitriformes</td>\n",
       "      <td>Accipitridae</td>\n",
       "      <td>Accipiter cooperii</td>\n",
       "      <td>Cooper's Hawk</td>\n",
       "      <td>Approved</td>\n",
       "      <td>Present</td>\n",
       "      <td>Native</td>\n",
       "      <td>Uncommon</td>\n",
       "      <td>Unknown</td>\n",
       "      <td>Species of Concern</td>\n",
       "      <td>True</td>\n",
       "    </tr>\n",
       "    <tr>\n",
       "      <th>56</th>\n",
       "      <td>ACAD-1056</td>\n",
       "      <td>ACAD</td>\n",
       "      <td>Acadia</td>\n",
       "      <td>Accipitriformes</td>\n",
       "      <td>Accipitridae</td>\n",
       "      <td>Accipiter gentilis</td>\n",
       "      <td>Eastern Goshawk, Goshawk, Northern Goshawk</td>\n",
       "      <td>Approved</td>\n",
       "      <td>Present</td>\n",
       "      <td>Native</td>\n",
       "      <td>Uncommon</td>\n",
       "      <td>Breeder</td>\n",
       "      <td>Least Concern</td>\n",
       "      <td>False</td>\n",
       "    </tr>\n",
       "    <tr>\n",
       "      <th>57</th>\n",
       "      <td>ACAD-1057</td>\n",
       "      <td>ACAD</td>\n",
       "      <td>Acadia</td>\n",
       "      <td>Accipitriformes</td>\n",
       "      <td>Accipitridae</td>\n",
       "      <td>Accipiter striatus</td>\n",
       "      <td>Northern Sharp-Shinned Hawk, Sharp-Shinned Hawk</td>\n",
       "      <td>Approved</td>\n",
       "      <td>Present</td>\n",
       "      <td>Native</td>\n",
       "      <td>Common</td>\n",
       "      <td>Breeder</td>\n",
       "      <td>Species of Concern</td>\n",
       "      <td>True</td>\n",
       "    </tr>\n",
       "    <tr>\n",
       "      <th>58</th>\n",
       "      <td>ACAD-1058</td>\n",
       "      <td>ACAD</td>\n",
       "      <td>Acadia</td>\n",
       "      <td>Accipitriformes</td>\n",
       "      <td>Accipitridae</td>\n",
       "      <td>Aquila chrysaetos</td>\n",
       "      <td>American Golden Eagle, Golden Eagle</td>\n",
       "      <td>Approved</td>\n",
       "      <td>Present</td>\n",
       "      <td>Native</td>\n",
       "      <td>Occasional</td>\n",
       "      <td>Vagrant</td>\n",
       "      <td>Species of Concern</td>\n",
       "      <td>True</td>\n",
       "    </tr>\n",
       "    <tr>\n",
       "      <th>59</th>\n",
       "      <td>ACAD-1059</td>\n",
       "      <td>ACAD</td>\n",
       "      <td>Acadia</td>\n",
       "      <td>Accipitriformes</td>\n",
       "      <td>Accipitridae</td>\n",
       "      <td>Buteo jamaicensis</td>\n",
       "      <td>Eastern Red-Tailed Hawk, Red-Tailed Hawk</td>\n",
       "      <td>Approved</td>\n",
       "      <td>Present</td>\n",
       "      <td>Native</td>\n",
       "      <td>Common</td>\n",
       "      <td>Breeder</td>\n",
       "      <td>Least Concern</td>\n",
       "      <td>False</td>\n",
       "    </tr>\n",
       "  </tbody>\n",
       "</table>\n",
       "</div>"
      ]
     },
     "execution_count": 327,
     "metadata": {},
     "output_type": "execute_result"
    }
   ],
   "execution_count": 327
  },
  {
   "metadata": {},
   "cell_type": "markdown",
   "source": [
    "----\n",
    "&nbsp;\n",
    "## Classifying Species Records\n"
   ],
   "id": "72cba16aef3f8d40"
  },
  {
   "metadata": {
    "ExecuteTime": {
     "end_time": "2024-09-05T21:22:33.042974Z",
     "start_time": "2024-09-05T21:22:33.034929Z"
    }
   },
   "cell_type": "code",
   "source": [
    "print(f\"There are {birds.species_id.nunique()} records\")\n",
    "print(f\"There are {birds.common_names.nunique()} unique common names\")\n",
    "print(f\"There are {birds.scientific_name.nunique()} unique scientific names\")\n",
    "print(f\"There are {birds.family.nunique()} unique families\")"
   ],
   "id": "e1777cd2eddda986",
   "outputs": [
    {
     "name": "stdout",
     "output_type": "stream",
     "text": [
      "There are 14601 records\n",
      "There are 1550 unique common names\n",
      "There are 1436 unique scientific names\n",
      "There are 86 unique families\n"
     ]
    }
   ],
   "execution_count": 328
  },
  {
   "metadata": {
    "ExecuteTime": {
     "end_time": "2024-09-05T21:22:33.161279Z",
     "start_time": "2024-09-05T21:22:33.128654Z"
    }
   },
   "cell_type": "code",
   "source": [
    "# This dataset is well formatted with zero lower case values\n",
    "lowercase_count = (birds.map(lambda x: isinstance(x, str) and x.islower())).sum().sum()\n",
    "print(lowercase_count)"
   ],
   "id": "9aa40f1858da2614",
   "outputs": [
    {
     "name": "stdout",
     "output_type": "stream",
     "text": [
      "0\n"
     ]
    }
   ],
   "execution_count": 329
  },
  {
   "metadata": {
    "ExecuteTime": {
     "end_time": "2024-09-05T21:22:33.245344Z",
     "start_time": "2024-09-05T21:22:33.231014Z"
    }
   },
   "cell_type": "code",
   "source": [
    "# Searching for punctuation in scientific name\n",
    "punctuation_pattern = r\"[^\\w\\s,]\"\n",
    "punctuation_matches = birds[birds['scientific_name'].str.contains(punctuation_pattern, na=False)]\n",
    "\n",
    "# Display the results\n",
    "print(f\"Found {len(punctuation_matches)} scientific names with punctuation:\")\n",
    "punctuation_matches[['scientific_name', 'common_names']]"
   ],
   "id": "c1e7a8e98f1c51a5",
   "outputs": [
    {
     "name": "stdout",
     "output_type": "stream",
     "text": [
      "Found 1 scientific names with punctuation:\n"
     ]
    },
    {
     "data": {
      "text/plain": [
       "                      scientific_name  \\\n",
       "30773  Tyrannus melancholicus/couchii   \n",
       "\n",
       "                                            common_names  \n",
       "30773  \"Tropical\" Kingbird,In Review,Present,Not Nati...  "
      ],
      "text/html": [
       "<div>\n",
       "<style scoped>\n",
       "    .dataframe tbody tr th:only-of-type {\n",
       "        vertical-align: middle;\n",
       "    }\n",
       "\n",
       "    .dataframe tbody tr th {\n",
       "        vertical-align: top;\n",
       "    }\n",
       "\n",
       "    .dataframe thead th {\n",
       "        text-align: right;\n",
       "    }\n",
       "</style>\n",
       "<table border=\"1\" class=\"dataframe\">\n",
       "  <thead>\n",
       "    <tr style=\"text-align: right;\">\n",
       "      <th></th>\n",
       "      <th>scientific_name</th>\n",
       "      <th>common_names</th>\n",
       "    </tr>\n",
       "  </thead>\n",
       "  <tbody>\n",
       "    <tr>\n",
       "      <th>30773</th>\n",
       "      <td>Tyrannus melancholicus/couchii</td>\n",
       "      <td>\"Tropical\" Kingbird,In Review,Present,Not Nati...</td>\n",
       "    </tr>\n",
       "  </tbody>\n",
       "</table>\n",
       "</div>"
      ]
     },
     "execution_count": 330,
     "metadata": {},
     "output_type": "execute_result"
    }
   ],
   "execution_count": 330
  },
  {
   "metadata": {
    "ExecuteTime": {
     "end_time": "2024-09-05T21:22:33.450305Z",
     "start_time": "2024-09-05T21:22:33.430606Z"
    }
   },
   "cell_type": "code",
   "source": [
    "def strip_punctuation(text):\n",
    "    return re.sub(punctuation_pattern, ' ', text)\n",
    "\n",
    "# Apply the function to the 'scientific_name' column\n",
    "birds['scientific_name'] = birds['scientific_name'].apply(strip_punctuation)"
   ],
   "id": "5e2d2491bcc80075",
   "outputs": [],
   "execution_count": 331
  },
  {
   "metadata": {
    "ExecuteTime": {
     "end_time": "2024-09-05T21:22:33.527009Z",
     "start_time": "2024-09-05T21:22:33.523218Z"
    }
   },
   "cell_type": "code",
   "source": [
    "print(f\"Scientific name NaN count: {birds.scientific_name.isna().sum()}\")\n",
    "print(f\"Common Name NaN count: {birds.common_names.isna().sum()}\")"
   ],
   "id": "498bdd331340916b",
   "outputs": [
    {
     "name": "stdout",
     "output_type": "stream",
     "text": [
      "Scientific name NaN count: 0\n",
      "Common Name NaN count: 280\n"
     ]
    }
   ],
   "execution_count": 332
  },
  {
   "metadata": {},
   "cell_type": "markdown",
   "source": [
    "We aim to:\n",
    "\n",
    "Extract Unique Scientific Names into two groups:\n",
    "\n",
    "    - Single Names: Scientific names listing only Genus\n",
    "    - Standard Names: Scientific names with two words (genus and species).\n",
    "    - Extended Names: Scientific names with more than two words (includes subspecies).\n",
    "\n",
    "Attach Common Name Counts to Each Scientific Name:\n",
    "\n",
    "    - Create a dictionary that maps each scientific name to the counts of its associated common names.\n",
    "\n",
    "Determine an ‘Ultimate Common Name’:\n",
    "\n",
    "    - Based on the frequency of common names and possible ambiguities, establish a preferred common name for each scientific name."
   ],
   "id": "75f829ff13ae43c4"
  },
  {
   "metadata": {
    "ExecuteTime": {
     "end_time": "2024-09-05T21:22:33.613255Z",
     "start_time": "2024-09-05T21:22:33.607709Z"
    }
   },
   "cell_type": "code",
   "source": [
    "sci_name_set = set(birds.scientific_name)\n",
    "\n",
    "# Separate scientific names into standard and extended based on word count\n",
    "single_sci_names = {name for name in sci_name_set if len(name.split()) == 1}\n",
    "standard_sci_names = {name for name in sci_name_set if len(name.split()) == 2}\n",
    "extended_sci_names = {name for name in sci_name_set if len(name.split()) > 2}\n",
    "\n",
    "print(\"Single Scientific Name Count (1 word):\", len(single_sci_names))\n",
    "print(\"Standard Scientific Names Count (2 words):\", len(standard_sci_names))\n",
    "print(\"Extended Scientific Names Count (> 2 words):\", len(extended_sci_names))"
   ],
   "id": "3b483d24772ca26e",
   "outputs": [
    {
     "name": "stdout",
     "output_type": "stream",
     "text": [
      "Single Scientific Name Count (1 word): 64\n",
      "Standard Scientific Names Count (2 words): 998\n",
      "Extended Scientific Names Count (> 2 words): 374\n"
     ]
    }
   ],
   "execution_count": 333
  },
  {
   "metadata": {},
   "cell_type": "markdown",
   "source": [
    "----\n",
    "&nbsp;\n",
    "### Single `scientific_name`"
   ],
   "id": "604f445dc7b22657"
  },
  {
   "metadata": {
    "ExecuteTime": {
     "end_time": "2024-09-05T21:22:33.840833Z",
     "start_time": "2024-09-05T21:22:33.764376Z"
    }
   },
   "cell_type": "code",
   "source": "results = process_scientific_names(birds, condition=1)",
   "id": "bf02013e1ce435ca",
   "outputs": [
    {
     "name": "stdout",
     "output_type": "stream",
     "text": [
      "Single Scientific Name Count (1 word): 64\n",
      "Scientific names with no associated common names: 7\n",
      "Scientific names with multiple associated common names: 9\n",
      "Scientific names with a single associated common name: 48\n"
     ]
    }
   ],
   "execution_count": 334
  },
  {
   "metadata": {
    "ExecuteTime": {
     "end_time": "2024-09-05T21:22:33.998527Z",
     "start_time": "2024-09-05T21:22:33.986451Z"
    }
   },
   "cell_type": "code",
   "source": [
    "# Filter the birds DataFrame to get records with a single scientific name\n",
    "single_sci_name_records = birds[birds['scientific_name'].isin(single_sci_names)]\n",
    "\n",
    "print(f\"Shape: {single_sci_name_records.shape}\")\n",
    "print(single_sci_name_records['record_status'].value_counts())\n",
    "\n",
    "single_sci_name_records_common = single_sci_name_records.common_names.tolist()\n",
    "print(f\"Assoc common names: {single_sci_name_records_common}\")\n",
    "single_sci_name_records.head()"
   ],
   "id": "564a60f46e0ab9df",
   "outputs": [
    {
     "name": "stdout",
     "output_type": "stream",
     "text": [
      "Shape: (100, 14)\n",
      "record_status\n",
      "In Review    99\n",
      "Approved      1\n",
      "Name: count, dtype: int64\n",
      "Assoc common names: ['Nighthawks', 'Meadowlarks', 'Warbler', 'Starling', 'Woodpecker', 'Coots, Rails, Waterhens', 'Empidonax Sp.', 'Eagle', 'Hummingbird', 'Falconiforms, Falcons', 'Barn Owl', nan, 'Bird Hawks', 'Dabbling Ducks', 'Diving Ducks', 'Rufous Hummingbirds', 'Nighthawks', \"Gulls, Ivory Gulls, Kittiwakes, Ross' Gulls, Sabine's Gulls\", 'Stints', 'Dowitchers', 'Coots', 'Scrub Jays', 'Crows', 'Rough-Winged Swallow', 'Cowbirds', 'Mockingbirds', 'Pipits', 'Phainopeplas', 'Empidonax Flycatchers', 'Kingbirds', 'Diving Ducks', 'Goldeneyes', 'Scoters', 'Greater Mergansers', \"Gulls, Ivory Gulls, Kittiwakes, Ross' Gulls, Sabine's Gulls\", 'Western Grebe', 'Jaegers', 'Saw-Whet Owls', 'Barn-Owls', 'Dowitcher', 'Rufous Hummingbirds', nan, nan, 'Diving Ducks', 'Goldeneyes', 'Swans', 'Alcids, Auks, Gulls, Oystercatchers, Plovers, Shore Birds', 'Dowitcher', 'Jaegers', 'Falconiforms, Falcons', 'Ptarmigans', 'Perching Birds', 'Dipper', 'Magpie', 'Goldfinches', 'Gray-Crowned Rosy Finch, Rosy Finch', nan, 'Robin', 'Herons, Ibises, Pelicans', 'Murrelet, Murrelet Species', 'Ptarmigan', nan, 'Diving Ducks', 'Alcids, Auks, Gulls, Oystercatchers, Plovers, Shore Birds', nan, 'Falconiforms, Falcons', 'Perching Birds', 'American Sparrows, Buntings, Emberizid Finches, New World Sparrows, Towhees', 'Goldfinches', nan, nan, nan, 'Buteonine Hawks', 'Diving Ducks', 'Scoters', 'Greater Mergansers', 'Rufous Hummingbirds', 'Auks, Guillemots, Murrelets, Murres, Puffins', \"Gulls, Ivory Gulls, Kittiwakes, Ross' Gulls, Sabine's Gulls\", 'Typical Terns', 'Stints', 'Loons', 'Cormorants', 'Hummingbirds', 'Dowitchers', 'Cardinals', 'American Sparrows, Buntings, Emberizid Finches, New World Sparrows, Towhees', 'New World Warblers, Wood-Warblers', 'Empidonax Flycatchers', 'Crested Flycatchers', 'Flickers', 'Woodpeckers, Wrynecks', 'Yellow-Crowned Night-Heron', \"Audubon's Shearwater\", 'Buteo', 'Gull', 'Mockingbird', 'Murrelet', 'Typical Terns', nan]\n"
     ]
    },
    {
     "data": {
      "text/plain": [
       "     species_id park_code park_name             order         family  \\\n",
       "4301  BIBE-1155      BIBE  Big Bend  Caprimulgiformes  Caprimulgidae   \n",
       "4459  BIBE-1313      BIBE  Big Bend     Passeriformes      Icteridae   \n",
       "6579  BISC-1164      BISC  Biscayne     Passeriformes      Parulidae   \n",
       "6615  BISC-1200      BISC  Biscayne     Passeriformes      Sturnidae   \n",
       "6660  BISC-1245      BISC  Biscayne        Piciformes        Picidae   \n",
       "\n",
       "     scientific_name common_names record_status     occurrence nativeness  \\\n",
       "4301      Chordeiles   Nighthawks     In Review  Not Confirmed    Unknown   \n",
       "4459       Sturnella  Meadowlarks     In Review  Not Confirmed    Unknown   \n",
       "6579       Dendroica      Warbler     In Review  Not Confirmed    Unknown   \n",
       "6615         Sturnus     Starling     In Review  Not Confirmed    Unknown   \n",
       "6660        Picoides   Woodpecker     In Review  Not Confirmed    Unknown   \n",
       "\n",
       "     abundance seasonality conservation_status  is_protected  \n",
       "4301   Unknown     Unknown       Least Concern         False  \n",
       "4459   Unknown     Unknown       Least Concern         False  \n",
       "6579   Unknown     Unknown       Least Concern         False  \n",
       "6615   Unknown     Unknown       Least Concern         False  \n",
       "6660   Unknown     Unknown       Least Concern         False  "
      ],
      "text/html": [
       "<div>\n",
       "<style scoped>\n",
       "    .dataframe tbody tr th:only-of-type {\n",
       "        vertical-align: middle;\n",
       "    }\n",
       "\n",
       "    .dataframe tbody tr th {\n",
       "        vertical-align: top;\n",
       "    }\n",
       "\n",
       "    .dataframe thead th {\n",
       "        text-align: right;\n",
       "    }\n",
       "</style>\n",
       "<table border=\"1\" class=\"dataframe\">\n",
       "  <thead>\n",
       "    <tr style=\"text-align: right;\">\n",
       "      <th></th>\n",
       "      <th>species_id</th>\n",
       "      <th>park_code</th>\n",
       "      <th>park_name</th>\n",
       "      <th>order</th>\n",
       "      <th>family</th>\n",
       "      <th>scientific_name</th>\n",
       "      <th>common_names</th>\n",
       "      <th>record_status</th>\n",
       "      <th>occurrence</th>\n",
       "      <th>nativeness</th>\n",
       "      <th>abundance</th>\n",
       "      <th>seasonality</th>\n",
       "      <th>conservation_status</th>\n",
       "      <th>is_protected</th>\n",
       "    </tr>\n",
       "  </thead>\n",
       "  <tbody>\n",
       "    <tr>\n",
       "      <th>4301</th>\n",
       "      <td>BIBE-1155</td>\n",
       "      <td>BIBE</td>\n",
       "      <td>Big Bend</td>\n",
       "      <td>Caprimulgiformes</td>\n",
       "      <td>Caprimulgidae</td>\n",
       "      <td>Chordeiles</td>\n",
       "      <td>Nighthawks</td>\n",
       "      <td>In Review</td>\n",
       "      <td>Not Confirmed</td>\n",
       "      <td>Unknown</td>\n",
       "      <td>Unknown</td>\n",
       "      <td>Unknown</td>\n",
       "      <td>Least Concern</td>\n",
       "      <td>False</td>\n",
       "    </tr>\n",
       "    <tr>\n",
       "      <th>4459</th>\n",
       "      <td>BIBE-1313</td>\n",
       "      <td>BIBE</td>\n",
       "      <td>Big Bend</td>\n",
       "      <td>Passeriformes</td>\n",
       "      <td>Icteridae</td>\n",
       "      <td>Sturnella</td>\n",
       "      <td>Meadowlarks</td>\n",
       "      <td>In Review</td>\n",
       "      <td>Not Confirmed</td>\n",
       "      <td>Unknown</td>\n",
       "      <td>Unknown</td>\n",
       "      <td>Unknown</td>\n",
       "      <td>Least Concern</td>\n",
       "      <td>False</td>\n",
       "    </tr>\n",
       "    <tr>\n",
       "      <th>6579</th>\n",
       "      <td>BISC-1164</td>\n",
       "      <td>BISC</td>\n",
       "      <td>Biscayne</td>\n",
       "      <td>Passeriformes</td>\n",
       "      <td>Parulidae</td>\n",
       "      <td>Dendroica</td>\n",
       "      <td>Warbler</td>\n",
       "      <td>In Review</td>\n",
       "      <td>Not Confirmed</td>\n",
       "      <td>Unknown</td>\n",
       "      <td>Unknown</td>\n",
       "      <td>Unknown</td>\n",
       "      <td>Least Concern</td>\n",
       "      <td>False</td>\n",
       "    </tr>\n",
       "    <tr>\n",
       "      <th>6615</th>\n",
       "      <td>BISC-1200</td>\n",
       "      <td>BISC</td>\n",
       "      <td>Biscayne</td>\n",
       "      <td>Passeriformes</td>\n",
       "      <td>Sturnidae</td>\n",
       "      <td>Sturnus</td>\n",
       "      <td>Starling</td>\n",
       "      <td>In Review</td>\n",
       "      <td>Not Confirmed</td>\n",
       "      <td>Unknown</td>\n",
       "      <td>Unknown</td>\n",
       "      <td>Unknown</td>\n",
       "      <td>Least Concern</td>\n",
       "      <td>False</td>\n",
       "    </tr>\n",
       "    <tr>\n",
       "      <th>6660</th>\n",
       "      <td>BISC-1245</td>\n",
       "      <td>BISC</td>\n",
       "      <td>Biscayne</td>\n",
       "      <td>Piciformes</td>\n",
       "      <td>Picidae</td>\n",
       "      <td>Picoides</td>\n",
       "      <td>Woodpecker</td>\n",
       "      <td>In Review</td>\n",
       "      <td>Not Confirmed</td>\n",
       "      <td>Unknown</td>\n",
       "      <td>Unknown</td>\n",
       "      <td>Unknown</td>\n",
       "      <td>Least Concern</td>\n",
       "      <td>False</td>\n",
       "    </tr>\n",
       "  </tbody>\n",
       "</table>\n",
       "</div>"
      ]
     },
     "execution_count": 335,
     "metadata": {},
     "output_type": "execute_result"
    }
   ],
   "execution_count": 335
  },
  {
   "metadata": {},
   "cell_type": "markdown",
   "source": [
    "It seems reasonable to drop the single name records for several reasons:\n",
    "\n",
    "1. **Generic Common Names:** The common names listed are very generic and often refer to groups or types rather than specific species, which can lead to ambiguity and confusion.\n",
    "\n",
    "2. **Review Status:** The fact that all but one of these records are marked as “In Review” suggests that these records are not finalized and are potentially under investigation or pending confirmation.\n",
    "\n",
    "3. **Data Quality and Relevance:** The goal is to create a well-defined OLAP database with precise species information.\n"
   ],
   "id": "be669cc3bb9d2d2"
  },
  {
   "metadata": {
    "ExecuteTime": {
     "end_time": "2024-09-05T21:22:34.175503Z",
     "start_time": "2024-09-05T21:22:34.168034Z"
    }
   },
   "cell_type": "code",
   "source": [
    "# Save the single scientific name records to a CSV for backup\n",
    "single_sci_name_records.to_csv('DATA/Backups/single_sci_name_birds.csv', index=True)\n",
    "\n",
    "# Drop the records with single scientific names from the birds DataFrame in place\n",
    "birds.drop(birds[birds['scientific_name'].isin(single_sci_names)].index, inplace=True)"
   ],
   "id": "add03e855ef71598",
   "outputs": [],
   "execution_count": 336
  },
  {
   "metadata": {
    "ExecuteTime": {
     "end_time": "2024-09-05T21:22:34.215068Z",
     "start_time": "2024-09-05T21:22:34.210894Z"
    }
   },
   "cell_type": "code",
   "source": [
    "sci_name_set = set(birds.scientific_name)\n",
    "single_sci_names = {name for name in sci_name_set if len(name.split()) == 1}\n",
    "assert single_sci_names == set(), \"single_sci_names is not an empty set as required\""
   ],
   "id": "87f4db39a6c2d715",
   "outputs": [],
   "execution_count": 337
  },
  {
   "metadata": {},
   "cell_type": "markdown",
   "source": [
    "----\n",
    "&nbsp;\n",
    "### Standard `scientific_name`"
   ],
   "id": "20fcaba77186779c"
  },
  {
   "metadata": {
    "ExecuteTime": {
     "end_time": "2024-09-05T21:22:35.525500Z",
     "start_time": "2024-09-05T21:22:34.286274Z"
    }
   },
   "cell_type": "code",
   "source": [
    "results2 = process_scientific_names(birds, condition=2)\n",
    "no_common_names = results2['no_common_names']\n",
    "multiple_common_names = results2['multiple_common_names']\n",
    "single_common_names = results2['single_common_names']"
   ],
   "id": "875d20d7af4678a1",
   "outputs": [
    {
     "name": "stdout",
     "output_type": "stream",
     "text": [
      "Standard Scientific Names Count (2 words): 998\n",
      "Scientific names with no associated common names: 36\n",
      "Scientific names with multiple associated common names: 371\n",
      "Scientific names with a single associated common name: 591\n"
     ]
    }
   ],
   "execution_count": 338
  },
  {
   "metadata": {
    "ExecuteTime": {
     "end_time": "2024-09-05T21:22:35.700395Z",
     "start_time": "2024-09-05T21:22:35.685400Z"
    }
   },
   "cell_type": "code",
   "source": [
    "# Extract all records from birds where scientific_name is in no_common_names\n",
    "no_common_names_records = birds[birds['scientific_name'].isin(no_common_names)]\n",
    "print(f\"Shape: {no_common_names_records.shape}\")\n",
    "print(no_common_names_records['record_status'].value_counts())\n",
    "no_common_names_records.head()"
   ],
   "id": "1700bbffdf655b5f",
   "outputs": [
    {
     "name": "stdout",
     "output_type": "stream",
     "text": [
      "Shape: (41, 14)\n",
      "record_status\n",
      "In Review    38\n",
      "Approved      3\n",
      "Name: count, dtype: int64\n"
     ]
    },
    {
     "data": {
      "text/plain": [
       "      species_id park_code     park_name            order       family  \\\n",
       "26320  DEVA-1235      DEVA  Death Valley  Accipitriformes  Cathartidae   \n",
       "26367  DEVA-1282      DEVA  Death Valley      Apodiformes     Apodidae   \n",
       "26472  DEVA-1387      DEVA  Death Valley      Gaviiformes     Gaviidae   \n",
       "26473  DEVA-1388      DEVA  Death Valley      Gaviiformes     Gaviidae   \n",
       "26474  DEVA-1389      DEVA  Death Valley      Gaviiformes     Gaviidae   \n",
       "\n",
       "                   scientific_name common_names record_status     occurrence  \\\n",
       "26320  Pseudogryphus californianus          NaN     In Review  Not Confirmed   \n",
       "26367            Nephoecetes niger          NaN     In Review  Not Confirmed   \n",
       "26472               Urinator imber          NaN     In Review  Not Confirmed   \n",
       "26473               Urinator lumme          NaN     In Review  Not Confirmed   \n",
       "26474           Urinator pacificus          NaN     In Review  Not Confirmed   \n",
       "\n",
       "      nativeness abundance seasonality conservation_status  is_protected  \n",
       "26320    Unknown   Unknown     Unknown       Least Concern         False  \n",
       "26367    Unknown   Unknown     Unknown       Least Concern         False  \n",
       "26472    Unknown   Unknown     Unknown       Least Concern         False  \n",
       "26473    Unknown   Unknown     Unknown       Least Concern         False  \n",
       "26474    Unknown   Unknown     Unknown       Least Concern         False  "
      ],
      "text/html": [
       "<div>\n",
       "<style scoped>\n",
       "    .dataframe tbody tr th:only-of-type {\n",
       "        vertical-align: middle;\n",
       "    }\n",
       "\n",
       "    .dataframe tbody tr th {\n",
       "        vertical-align: top;\n",
       "    }\n",
       "\n",
       "    .dataframe thead th {\n",
       "        text-align: right;\n",
       "    }\n",
       "</style>\n",
       "<table border=\"1\" class=\"dataframe\">\n",
       "  <thead>\n",
       "    <tr style=\"text-align: right;\">\n",
       "      <th></th>\n",
       "      <th>species_id</th>\n",
       "      <th>park_code</th>\n",
       "      <th>park_name</th>\n",
       "      <th>order</th>\n",
       "      <th>family</th>\n",
       "      <th>scientific_name</th>\n",
       "      <th>common_names</th>\n",
       "      <th>record_status</th>\n",
       "      <th>occurrence</th>\n",
       "      <th>nativeness</th>\n",
       "      <th>abundance</th>\n",
       "      <th>seasonality</th>\n",
       "      <th>conservation_status</th>\n",
       "      <th>is_protected</th>\n",
       "    </tr>\n",
       "  </thead>\n",
       "  <tbody>\n",
       "    <tr>\n",
       "      <th>26320</th>\n",
       "      <td>DEVA-1235</td>\n",
       "      <td>DEVA</td>\n",
       "      <td>Death Valley</td>\n",
       "      <td>Accipitriformes</td>\n",
       "      <td>Cathartidae</td>\n",
       "      <td>Pseudogryphus californianus</td>\n",
       "      <td>NaN</td>\n",
       "      <td>In Review</td>\n",
       "      <td>Not Confirmed</td>\n",
       "      <td>Unknown</td>\n",
       "      <td>Unknown</td>\n",
       "      <td>Unknown</td>\n",
       "      <td>Least Concern</td>\n",
       "      <td>False</td>\n",
       "    </tr>\n",
       "    <tr>\n",
       "      <th>26367</th>\n",
       "      <td>DEVA-1282</td>\n",
       "      <td>DEVA</td>\n",
       "      <td>Death Valley</td>\n",
       "      <td>Apodiformes</td>\n",
       "      <td>Apodidae</td>\n",
       "      <td>Nephoecetes niger</td>\n",
       "      <td>NaN</td>\n",
       "      <td>In Review</td>\n",
       "      <td>Not Confirmed</td>\n",
       "      <td>Unknown</td>\n",
       "      <td>Unknown</td>\n",
       "      <td>Unknown</td>\n",
       "      <td>Least Concern</td>\n",
       "      <td>False</td>\n",
       "    </tr>\n",
       "    <tr>\n",
       "      <th>26472</th>\n",
       "      <td>DEVA-1387</td>\n",
       "      <td>DEVA</td>\n",
       "      <td>Death Valley</td>\n",
       "      <td>Gaviiformes</td>\n",
       "      <td>Gaviidae</td>\n",
       "      <td>Urinator imber</td>\n",
       "      <td>NaN</td>\n",
       "      <td>In Review</td>\n",
       "      <td>Not Confirmed</td>\n",
       "      <td>Unknown</td>\n",
       "      <td>Unknown</td>\n",
       "      <td>Unknown</td>\n",
       "      <td>Least Concern</td>\n",
       "      <td>False</td>\n",
       "    </tr>\n",
       "    <tr>\n",
       "      <th>26473</th>\n",
       "      <td>DEVA-1388</td>\n",
       "      <td>DEVA</td>\n",
       "      <td>Death Valley</td>\n",
       "      <td>Gaviiformes</td>\n",
       "      <td>Gaviidae</td>\n",
       "      <td>Urinator lumme</td>\n",
       "      <td>NaN</td>\n",
       "      <td>In Review</td>\n",
       "      <td>Not Confirmed</td>\n",
       "      <td>Unknown</td>\n",
       "      <td>Unknown</td>\n",
       "      <td>Unknown</td>\n",
       "      <td>Least Concern</td>\n",
       "      <td>False</td>\n",
       "    </tr>\n",
       "    <tr>\n",
       "      <th>26474</th>\n",
       "      <td>DEVA-1389</td>\n",
       "      <td>DEVA</td>\n",
       "      <td>Death Valley</td>\n",
       "      <td>Gaviiformes</td>\n",
       "      <td>Gaviidae</td>\n",
       "      <td>Urinator pacificus</td>\n",
       "      <td>NaN</td>\n",
       "      <td>In Review</td>\n",
       "      <td>Not Confirmed</td>\n",
       "      <td>Unknown</td>\n",
       "      <td>Unknown</td>\n",
       "      <td>Unknown</td>\n",
       "      <td>Least Concern</td>\n",
       "      <td>False</td>\n",
       "    </tr>\n",
       "  </tbody>\n",
       "</table>\n",
       "</div>"
      ]
     },
     "execution_count": 339,
     "metadata": {},
     "output_type": "execute_result"
    }
   ],
   "execution_count": 339
  },
  {
   "metadata": {
    "ExecuteTime": {
     "end_time": "2024-09-05T21:22:35.901870Z",
     "start_time": "2024-09-05T21:22:35.897847Z"
    }
   },
   "cell_type": "code",
   "source": [
    "# Save the no_common_names_records to a CSV for backup\n",
    "no_common_names_records.to_csv('DATA/Backups/no_common_names_birds.csv', index=True)"
   ],
   "id": "c92f3af2194a0d2b",
   "outputs": [],
   "execution_count": 340
  },
  {
   "metadata": {
    "ExecuteTime": {
     "end_time": "2024-09-05T21:22:35.954029Z",
     "start_time": "2024-09-05T21:22:35.945159Z"
    }
   },
   "cell_type": "code",
   "source": [
    "# Filter records with 'record_status' == 'Approved'\n",
    "approved_records = no_common_names_records[no_common_names_records['record_status'] == 'Approved']\n",
    "print(approved_records.scientific_name.unique())\n",
    "approved_records"
   ],
   "id": "39644d3d4e4d999b",
   "outputs": [
    {
     "name": "stdout",
     "output_type": "stream",
     "text": [
      "['Eromophila alpestris' 'Glaucidium californicum' 'Geothlypis tolomiei']\n"
     ]
    },
    {
     "data": {
      "text/plain": [
       "       species_id park_code    park_name          order     family  \\\n",
       "37569   GLBA-1204      GLBA  Glacier Bay  Passeriformes  Alaudidae   \n",
       "86453   PINN-1226      PINN    Pinnacles   Strigiformes  Strigidae   \n",
       "111476  YELL-1078      YELL  Yellowstone  Passeriformes  Parulidae   \n",
       "\n",
       "                scientific_name common_names record_status     occurrence  \\\n",
       "37569      Eromophila alpestris          NaN      Approved        Present   \n",
       "86453   Glaucidium californicum          NaN      Approved  Not Confirmed   \n",
       "111476      Geothlypis tolomiei          NaN      Approved        Present   \n",
       "\n",
       "       nativeness abundance seasonality conservation_status  is_protected  \n",
       "37569      Native      Rare   Migratory       Least Concern         False  \n",
       "86453      Native   Unknown     Unknown       Least Concern         False  \n",
       "111476     Native  Uncommon     Breeder       Least Concern         False  "
      ],
      "text/html": [
       "<div>\n",
       "<style scoped>\n",
       "    .dataframe tbody tr th:only-of-type {\n",
       "        vertical-align: middle;\n",
       "    }\n",
       "\n",
       "    .dataframe tbody tr th {\n",
       "        vertical-align: top;\n",
       "    }\n",
       "\n",
       "    .dataframe thead th {\n",
       "        text-align: right;\n",
       "    }\n",
       "</style>\n",
       "<table border=\"1\" class=\"dataframe\">\n",
       "  <thead>\n",
       "    <tr style=\"text-align: right;\">\n",
       "      <th></th>\n",
       "      <th>species_id</th>\n",
       "      <th>park_code</th>\n",
       "      <th>park_name</th>\n",
       "      <th>order</th>\n",
       "      <th>family</th>\n",
       "      <th>scientific_name</th>\n",
       "      <th>common_names</th>\n",
       "      <th>record_status</th>\n",
       "      <th>occurrence</th>\n",
       "      <th>nativeness</th>\n",
       "      <th>abundance</th>\n",
       "      <th>seasonality</th>\n",
       "      <th>conservation_status</th>\n",
       "      <th>is_protected</th>\n",
       "    </tr>\n",
       "  </thead>\n",
       "  <tbody>\n",
       "    <tr>\n",
       "      <th>37569</th>\n",
       "      <td>GLBA-1204</td>\n",
       "      <td>GLBA</td>\n",
       "      <td>Glacier Bay</td>\n",
       "      <td>Passeriformes</td>\n",
       "      <td>Alaudidae</td>\n",
       "      <td>Eromophila alpestris</td>\n",
       "      <td>NaN</td>\n",
       "      <td>Approved</td>\n",
       "      <td>Present</td>\n",
       "      <td>Native</td>\n",
       "      <td>Rare</td>\n",
       "      <td>Migratory</td>\n",
       "      <td>Least Concern</td>\n",
       "      <td>False</td>\n",
       "    </tr>\n",
       "    <tr>\n",
       "      <th>86453</th>\n",
       "      <td>PINN-1226</td>\n",
       "      <td>PINN</td>\n",
       "      <td>Pinnacles</td>\n",
       "      <td>Strigiformes</td>\n",
       "      <td>Strigidae</td>\n",
       "      <td>Glaucidium californicum</td>\n",
       "      <td>NaN</td>\n",
       "      <td>Approved</td>\n",
       "      <td>Not Confirmed</td>\n",
       "      <td>Native</td>\n",
       "      <td>Unknown</td>\n",
       "      <td>Unknown</td>\n",
       "      <td>Least Concern</td>\n",
       "      <td>False</td>\n",
       "    </tr>\n",
       "    <tr>\n",
       "      <th>111476</th>\n",
       "      <td>YELL-1078</td>\n",
       "      <td>YELL</td>\n",
       "      <td>Yellowstone</td>\n",
       "      <td>Passeriformes</td>\n",
       "      <td>Parulidae</td>\n",
       "      <td>Geothlypis tolomiei</td>\n",
       "      <td>NaN</td>\n",
       "      <td>Approved</td>\n",
       "      <td>Present</td>\n",
       "      <td>Native</td>\n",
       "      <td>Uncommon</td>\n",
       "      <td>Breeder</td>\n",
       "      <td>Least Concern</td>\n",
       "      <td>False</td>\n",
       "    </tr>\n",
       "  </tbody>\n",
       "</table>\n",
       "</div>"
      ]
     },
     "execution_count": 341,
     "metadata": {},
     "output_type": "execute_result"
    }
   ],
   "execution_count": 341
  },
  {
   "metadata": {
    "ExecuteTime": {
     "end_time": "2024-09-05T21:22:36.087737Z",
     "start_time": "2024-09-05T21:22:36.073701Z"
    }
   },
   "cell_type": "code",
   "source": [
    "# Extract genera of approved records\n",
    "approved_genera = approved_records['scientific_name'].apply(lambda x: x.split()[0]).unique()\n",
    "\n",
    "# Create separate DataFrames for each genus using a dictionary comprehension\n",
    "genus_dataframes = {genus: birds[birds['scientific_name'].str.startswith(genus)] for genus in approved_genera}\n",
    "\n",
    "# Accessing each DataFrame by genus name\n",
    "glaucidium_df = genus_dataframes.get('Glaucidium')\n",
    "geothlypis_df = genus_dataframes.get('Geothlypis')\n",
    "eromophila_df = genus_dataframes.get('Eromophila')"
   ],
   "id": "e4fb9b46ac7576c8",
   "outputs": [],
   "execution_count": 342
  },
  {
   "metadata": {},
   "cell_type": "markdown",
   "source": [
    "- *Geothlypis tolomiei* not being assigned a `common_name` seems to be the result of a typo\n",
    "- *Glaucidium californicum* could be the result of ambiguous naming of the [`Northern/Mountain Pygmy Owl`](https://en.wikipedia.org/wiki/Northern_pygmy_owl)"
   ],
   "id": "c763f48fe93dd3c9"
  },
  {
   "metadata": {
    "ExecuteTime": {
     "end_time": "2024-09-05T21:22:36.184089Z",
     "start_time": "2024-09-05T21:22:36.177461Z"
    }
   },
   "cell_type": "code",
   "source": [
    "geothlypis_df = geothlypis_df[geothlypis_df['scientific_name'] == 'Geothlypis tolmiei']\n",
    "geothlypis_df[['scientific_name', 'common_names', 'record_status']].head()"
   ],
   "id": "4b7742e9aae5b40d",
   "outputs": [
    {
     "data": {
      "text/plain": [
       "           scientific_name            common_names record_status\n",
       "8329    Geothlypis tolmiei  Macgillivray's Warbler      Approved\n",
       "26637   Geothlypis tolmiei  Macgillivray's Warbler      Approved\n",
       "42370   Geothlypis tolmiei  Macgillivray's Warbler      Approved\n",
       "65428   Geothlypis tolmiei  Macgillivray's Warbler      Approved\n",
       "115621  Geothlypis tolmiei  Macgillivray's Warbler      Approved"
      ],
      "text/html": [
       "<div>\n",
       "<style scoped>\n",
       "    .dataframe tbody tr th:only-of-type {\n",
       "        vertical-align: middle;\n",
       "    }\n",
       "\n",
       "    .dataframe tbody tr th {\n",
       "        vertical-align: top;\n",
       "    }\n",
       "\n",
       "    .dataframe thead th {\n",
       "        text-align: right;\n",
       "    }\n",
       "</style>\n",
       "<table border=\"1\" class=\"dataframe\">\n",
       "  <thead>\n",
       "    <tr style=\"text-align: right;\">\n",
       "      <th></th>\n",
       "      <th>scientific_name</th>\n",
       "      <th>common_names</th>\n",
       "      <th>record_status</th>\n",
       "    </tr>\n",
       "  </thead>\n",
       "  <tbody>\n",
       "    <tr>\n",
       "      <th>8329</th>\n",
       "      <td>Geothlypis tolmiei</td>\n",
       "      <td>Macgillivray's Warbler</td>\n",
       "      <td>Approved</td>\n",
       "    </tr>\n",
       "    <tr>\n",
       "      <th>26637</th>\n",
       "      <td>Geothlypis tolmiei</td>\n",
       "      <td>Macgillivray's Warbler</td>\n",
       "      <td>Approved</td>\n",
       "    </tr>\n",
       "    <tr>\n",
       "      <th>42370</th>\n",
       "      <td>Geothlypis tolmiei</td>\n",
       "      <td>Macgillivray's Warbler</td>\n",
       "      <td>Approved</td>\n",
       "    </tr>\n",
       "    <tr>\n",
       "      <th>65428</th>\n",
       "      <td>Geothlypis tolmiei</td>\n",
       "      <td>Macgillivray's Warbler</td>\n",
       "      <td>Approved</td>\n",
       "    </tr>\n",
       "    <tr>\n",
       "      <th>115621</th>\n",
       "      <td>Geothlypis tolmiei</td>\n",
       "      <td>Macgillivray's Warbler</td>\n",
       "      <td>Approved</td>\n",
       "    </tr>\n",
       "  </tbody>\n",
       "</table>\n",
       "</div>"
      ]
     },
     "execution_count": 343,
     "metadata": {},
     "output_type": "execute_result"
    }
   ],
   "execution_count": 343
  },
  {
   "metadata": {
    "ExecuteTime": {
     "end_time": "2024-09-05T21:22:36.287454Z",
     "start_time": "2024-09-05T21:22:36.281253Z"
    }
   },
   "cell_type": "code",
   "source": [
    "glaucidium_df = glaucidium_df[glaucidium_df['common_names'] == 'Mountain Pygmy Owl, Northern Pygmy-Owl']\n",
    "glaucidium_df[['scientific_name', 'common_names', 'record_status']]"
   ],
   "id": "f528a47e85eb2d0",
   "outputs": [
    {
     "data": {
      "text/plain": [
       "         scientific_name                            common_names record_status\n",
       "52505   Glaucidium gnoma  Mountain Pygmy Owl, Northern Pygmy-Owl      Approved\n",
       "73119   Glaucidium gnoma  Mountain Pygmy Owl, Northern Pygmy-Owl      Approved\n",
       "77396   Glaucidium gnoma  Mountain Pygmy Owl, Northern Pygmy-Owl      Approved\n",
       "99240   Glaucidium gnoma  Mountain Pygmy Owl, Northern Pygmy-Owl      Approved\n",
       "111801  Glaucidium gnoma  Mountain Pygmy Owl, Northern Pygmy-Owl      Approved"
      ],
      "text/html": [
       "<div>\n",
       "<style scoped>\n",
       "    .dataframe tbody tr th:only-of-type {\n",
       "        vertical-align: middle;\n",
       "    }\n",
       "\n",
       "    .dataframe tbody tr th {\n",
       "        vertical-align: top;\n",
       "    }\n",
       "\n",
       "    .dataframe thead th {\n",
       "        text-align: right;\n",
       "    }\n",
       "</style>\n",
       "<table border=\"1\" class=\"dataframe\">\n",
       "  <thead>\n",
       "    <tr style=\"text-align: right;\">\n",
       "      <th></th>\n",
       "      <th>scientific_name</th>\n",
       "      <th>common_names</th>\n",
       "      <th>record_status</th>\n",
       "    </tr>\n",
       "  </thead>\n",
       "  <tbody>\n",
       "    <tr>\n",
       "      <th>52505</th>\n",
       "      <td>Glaucidium gnoma</td>\n",
       "      <td>Mountain Pygmy Owl, Northern Pygmy-Owl</td>\n",
       "      <td>Approved</td>\n",
       "    </tr>\n",
       "    <tr>\n",
       "      <th>73119</th>\n",
       "      <td>Glaucidium gnoma</td>\n",
       "      <td>Mountain Pygmy Owl, Northern Pygmy-Owl</td>\n",
       "      <td>Approved</td>\n",
       "    </tr>\n",
       "    <tr>\n",
       "      <th>77396</th>\n",
       "      <td>Glaucidium gnoma</td>\n",
       "      <td>Mountain Pygmy Owl, Northern Pygmy-Owl</td>\n",
       "      <td>Approved</td>\n",
       "    </tr>\n",
       "    <tr>\n",
       "      <th>99240</th>\n",
       "      <td>Glaucidium gnoma</td>\n",
       "      <td>Mountain Pygmy Owl, Northern Pygmy-Owl</td>\n",
       "      <td>Approved</td>\n",
       "    </tr>\n",
       "    <tr>\n",
       "      <th>111801</th>\n",
       "      <td>Glaucidium gnoma</td>\n",
       "      <td>Mountain Pygmy Owl, Northern Pygmy-Owl</td>\n",
       "      <td>Approved</td>\n",
       "    </tr>\n",
       "  </tbody>\n",
       "</table>\n",
       "</div>"
      ]
     },
     "execution_count": 344,
     "metadata": {},
     "output_type": "execute_result"
    }
   ],
   "execution_count": 344
  },
  {
   "metadata": {
    "ExecuteTime": {
     "end_time": "2024-09-05T21:22:36.439818Z",
     "start_time": "2024-09-05T21:22:36.432353Z"
    }
   },
   "cell_type": "code",
   "source": [
    "# Also possibly a typo\n",
    "eromophila_df"
   ],
   "id": "de77ac5ab1740538",
   "outputs": [
    {
     "data": {
      "text/plain": [
       "      species_id park_code    park_name          order     family  \\\n",
       "37569  GLBA-1204      GLBA  Glacier Bay  Passeriformes  Alaudidae   \n",
       "39528  GRBA-1206      GRBA  Great Basin  Passeriformes  Alaudidae   \n",
       "\n",
       "            scientific_name common_names record_status     occurrence  \\\n",
       "37569  Eromophila alpestris          NaN      Approved        Present   \n",
       "39528  Eromophila alpestris          NaN     In Review  Not Confirmed   \n",
       "\n",
       "      nativeness abundance seasonality conservation_status  is_protected  \n",
       "37569     Native      Rare   Migratory       Least Concern         False  \n",
       "39528    Unknown   Unknown     Unknown       Least Concern         False  "
      ],
      "text/html": [
       "<div>\n",
       "<style scoped>\n",
       "    .dataframe tbody tr th:only-of-type {\n",
       "        vertical-align: middle;\n",
       "    }\n",
       "\n",
       "    .dataframe tbody tr th {\n",
       "        vertical-align: top;\n",
       "    }\n",
       "\n",
       "    .dataframe thead th {\n",
       "        text-align: right;\n",
       "    }\n",
       "</style>\n",
       "<table border=\"1\" class=\"dataframe\">\n",
       "  <thead>\n",
       "    <tr style=\"text-align: right;\">\n",
       "      <th></th>\n",
       "      <th>species_id</th>\n",
       "      <th>park_code</th>\n",
       "      <th>park_name</th>\n",
       "      <th>order</th>\n",
       "      <th>family</th>\n",
       "      <th>scientific_name</th>\n",
       "      <th>common_names</th>\n",
       "      <th>record_status</th>\n",
       "      <th>occurrence</th>\n",
       "      <th>nativeness</th>\n",
       "      <th>abundance</th>\n",
       "      <th>seasonality</th>\n",
       "      <th>conservation_status</th>\n",
       "      <th>is_protected</th>\n",
       "    </tr>\n",
       "  </thead>\n",
       "  <tbody>\n",
       "    <tr>\n",
       "      <th>37569</th>\n",
       "      <td>GLBA-1204</td>\n",
       "      <td>GLBA</td>\n",
       "      <td>Glacier Bay</td>\n",
       "      <td>Passeriformes</td>\n",
       "      <td>Alaudidae</td>\n",
       "      <td>Eromophila alpestris</td>\n",
       "      <td>NaN</td>\n",
       "      <td>Approved</td>\n",
       "      <td>Present</td>\n",
       "      <td>Native</td>\n",
       "      <td>Rare</td>\n",
       "      <td>Migratory</td>\n",
       "      <td>Least Concern</td>\n",
       "      <td>False</td>\n",
       "    </tr>\n",
       "    <tr>\n",
       "      <th>39528</th>\n",
       "      <td>GRBA-1206</td>\n",
       "      <td>GRBA</td>\n",
       "      <td>Great Basin</td>\n",
       "      <td>Passeriformes</td>\n",
       "      <td>Alaudidae</td>\n",
       "      <td>Eromophila alpestris</td>\n",
       "      <td>NaN</td>\n",
       "      <td>In Review</td>\n",
       "      <td>Not Confirmed</td>\n",
       "      <td>Unknown</td>\n",
       "      <td>Unknown</td>\n",
       "      <td>Unknown</td>\n",
       "      <td>Least Concern</td>\n",
       "      <td>False</td>\n",
       "    </tr>\n",
       "  </tbody>\n",
       "</table>\n",
       "</div>"
      ]
     },
     "execution_count": 345,
     "metadata": {},
     "output_type": "execute_result"
    }
   ],
   "execution_count": 345
  },
  {
   "metadata": {
    "ExecuteTime": {
     "end_time": "2024-09-05T21:22:36.820818Z",
     "start_time": "2024-09-05T21:22:36.609907Z"
    }
   },
   "cell_type": "code",
   "source": [
    "all_sci_names = birds['scientific_name'].unique()\n",
    "potential_matches = {}\n",
    "\n",
    "for sci_name in no_common_names:\n",
    "    # Use fuzzy matching to find the best matches in the list of all scientific names\n",
    "    matches = process.extract(sci_name, all_sci_names, scorer=fuzz.ratio, limit=5)  # Adjust limit as needed\n",
    "    \n",
    "    # Filter matches to include only those with a similarity score over 90\n",
    "    high_quality_matches = [match for match in matches if match[1] > 90]\n",
    "    if len(high_quality_matches) > 1:\n",
    "        # Retrieve common names for the matching scientific names\n",
    "        common_names = birds[birds['scientific_name'].isin([match[0] for match in high_quality_matches])]['common_names'].dropna()\n",
    "\n",
    "        common_names_counter = Counter([name.strip() for names in common_names for name in names.split(',')])\n",
    "        most_common_name = common_names_counter.most_common(1)\n",
    "        \n",
    "        potential_matches[sci_name] = {\n",
    "            'matches': high_quality_matches,\n",
    "            'most_common_name': most_common_name[0][0] if most_common_name else 'No common name found'\n",
    "        }\n",
    "\n",
    "for sci_name, info in potential_matches.items():\n",
    "    print(f\"\\nPotential matches for '{sci_name}':\")\n",
    "    for match in info['matches']:\n",
    "        print(f\"  - {match[0]} (Similarity Score: {match[1]})\")\n",
    "    print(f\"Most common common name: {info['most_common_name']}\")"
   ],
   "id": "925ec54057905258",
   "outputs": [
    {
     "name": "stdout",
     "output_type": "stream",
     "text": [
      "\n",
      "Potential matches for 'Geothlypis tolomiei':\n",
      "  - Geothlypis tolomiei (Similarity Score: 100)\n",
      "  - Geothlypis tolmiei (Similarity Score: 97)\n",
      "Most common common name: Macgillivray's Warbler\n",
      "\n",
      "Potential matches for 'Peucaea cassini':\n",
      "  - Peucaea cassini (Similarity Score: 100)\n",
      "  - Peucaea cassinii (Similarity Score: 97)\n",
      "  - Peucaea casinii (Similarity Score: 93)\n",
      "Most common common name: Cassin's Sparrow\n",
      "\n",
      "Potential matches for 'Lophortyx californica':\n",
      "  - Lophortyx californica (Similarity Score: 100)\n",
      "  - Lophortyx californicus (Similarity Score: 93)\n",
      "Most common common name: California Quail\n",
      "\n",
      "Potential matches for 'Eromophila alpestris':\n",
      "  - Eromophila alpestris (Similarity Score: 100)\n",
      "  - Eremophila alpestris (Similarity Score: 95)\n",
      "Most common common name: Horned Lark\n"
     ]
    }
   ],
   "execution_count": 346
  },
  {
   "metadata": {
    "ExecuteTime": {
     "end_time": "2024-09-05T21:22:36.890830Z",
     "start_time": "2024-09-05T21:22:36.881647Z"
    }
   },
   "cell_type": "code",
   "source": [
    "peucaea = birds[birds['scientific_name'].isin(['Peucaea casinii', 'Peucaea cassinii', 'Peucaea cassini'])]\n",
    "peucaea"
   ],
   "id": "98385653bafeb89c",
   "outputs": [
    {
     "data": {
      "text/plain": [
       "      species_id park_code     park_name          order       family  \\\n",
       "26551  DEVA-1466      DEVA  Death Valley  Passeriformes  Emberizidae   \n",
       "42281  GRCA-1306      GRCA  Grand Canyon  Passeriformes  Emberizidae   \n",
       "65240  JOTR-1067      JOTR   Joshua Tree  Passeriformes  Emberizidae   \n",
       "\n",
       "        scientific_name      common_names record_status     occurrence  \\\n",
       "26551   Peucaea cassini               NaN     In Review  Not Confirmed   \n",
       "42281  Peucaea cassinii  Cassin's Sparrow      Approved    Not Present   \n",
       "65240   Peucaea casinii  Cassin'a Sparrow      Approved  Not Confirmed   \n",
       "\n",
       "      nativeness abundance seasonality conservation_status  is_protected  \n",
       "26551    Unknown   Unknown     Unknown       Least Concern         False  \n",
       "42281     Native   Unknown     Vagrant       Least Concern         False  \n",
       "65240     Native   Unknown     Unknown       Least Concern         False  "
      ],
      "text/html": [
       "<div>\n",
       "<style scoped>\n",
       "    .dataframe tbody tr th:only-of-type {\n",
       "        vertical-align: middle;\n",
       "    }\n",
       "\n",
       "    .dataframe tbody tr th {\n",
       "        vertical-align: top;\n",
       "    }\n",
       "\n",
       "    .dataframe thead th {\n",
       "        text-align: right;\n",
       "    }\n",
       "</style>\n",
       "<table border=\"1\" class=\"dataframe\">\n",
       "  <thead>\n",
       "    <tr style=\"text-align: right;\">\n",
       "      <th></th>\n",
       "      <th>species_id</th>\n",
       "      <th>park_code</th>\n",
       "      <th>park_name</th>\n",
       "      <th>order</th>\n",
       "      <th>family</th>\n",
       "      <th>scientific_name</th>\n",
       "      <th>common_names</th>\n",
       "      <th>record_status</th>\n",
       "      <th>occurrence</th>\n",
       "      <th>nativeness</th>\n",
       "      <th>abundance</th>\n",
       "      <th>seasonality</th>\n",
       "      <th>conservation_status</th>\n",
       "      <th>is_protected</th>\n",
       "    </tr>\n",
       "  </thead>\n",
       "  <tbody>\n",
       "    <tr>\n",
       "      <th>26551</th>\n",
       "      <td>DEVA-1466</td>\n",
       "      <td>DEVA</td>\n",
       "      <td>Death Valley</td>\n",
       "      <td>Passeriformes</td>\n",
       "      <td>Emberizidae</td>\n",
       "      <td>Peucaea cassini</td>\n",
       "      <td>NaN</td>\n",
       "      <td>In Review</td>\n",
       "      <td>Not Confirmed</td>\n",
       "      <td>Unknown</td>\n",
       "      <td>Unknown</td>\n",
       "      <td>Unknown</td>\n",
       "      <td>Least Concern</td>\n",
       "      <td>False</td>\n",
       "    </tr>\n",
       "    <tr>\n",
       "      <th>42281</th>\n",
       "      <td>GRCA-1306</td>\n",
       "      <td>GRCA</td>\n",
       "      <td>Grand Canyon</td>\n",
       "      <td>Passeriformes</td>\n",
       "      <td>Emberizidae</td>\n",
       "      <td>Peucaea cassinii</td>\n",
       "      <td>Cassin's Sparrow</td>\n",
       "      <td>Approved</td>\n",
       "      <td>Not Present</td>\n",
       "      <td>Native</td>\n",
       "      <td>Unknown</td>\n",
       "      <td>Vagrant</td>\n",
       "      <td>Least Concern</td>\n",
       "      <td>False</td>\n",
       "    </tr>\n",
       "    <tr>\n",
       "      <th>65240</th>\n",
       "      <td>JOTR-1067</td>\n",
       "      <td>JOTR</td>\n",
       "      <td>Joshua Tree</td>\n",
       "      <td>Passeriformes</td>\n",
       "      <td>Emberizidae</td>\n",
       "      <td>Peucaea casinii</td>\n",
       "      <td>Cassin'a Sparrow</td>\n",
       "      <td>Approved</td>\n",
       "      <td>Not Confirmed</td>\n",
       "      <td>Native</td>\n",
       "      <td>Unknown</td>\n",
       "      <td>Unknown</td>\n",
       "      <td>Least Concern</td>\n",
       "      <td>False</td>\n",
       "    </tr>\n",
       "  </tbody>\n",
       "</table>\n",
       "</div>"
      ]
     },
     "execution_count": 347,
     "metadata": {},
     "output_type": "execute_result"
    }
   ],
   "execution_count": 347
  },
  {
   "metadata": {
    "ExecuteTime": {
     "end_time": "2024-09-05T21:22:37.021686Z",
     "start_time": "2024-09-05T21:22:36.999502Z"
    }
   },
   "cell_type": "code",
   "source": [
    "# Corrected scientific names mapping based on investigation\n",
    "corrected_names = {\n",
    "    'Lophortyx californica': 'Lophortyx californicus',  \n",
    "    'Eromophila alpestris': 'Eremophila alpestris',\n",
    "    'Peucaea cassini': 'Peucaea cassinii', \n",
    "    'Peucaea casinii': 'Peucaea cassinii',\n",
    "    'Geothlypis tolomiei': 'Geothlypis tolmiei',\n",
    "    'Glaucidium californicum': 'Glaucidium gnoma'\n",
    "}\n",
    "\n",
    "# Corresponding common names for the corrected scientific names\n",
    "common_name_updates = {\n",
    "    'Lophortyx californicus': 'California Quail',\n",
    "    'Eremophila alpestris': 'Horned Lark',\n",
    "    'Peucaea cassinii': \"Cassin's Sparrow\",  # Ensure this is correctly assigned\n",
    "    'Geothlypis tolmiei': \"Macgillivray's Warbler\",\n",
    "    'Glaucidium gnoma': 'Mountain Pygmy Owl, Northern Pygmy-Owl'\n",
    "}\n",
    "\n",
    "# Update scientific names in the birds DataFrame\n",
    "for old_name, new_name in corrected_names.items():\n",
    "    birds.loc[birds['scientific_name'] == old_name, 'scientific_name'] = new_name\n",
    "\n",
    "# Update common names based on corrected scientific names\n",
    "for sci_name, common_name in common_name_updates.items():\n",
    "    birds.loc[birds['scientific_name'] == sci_name, 'common_names'] = common_name\n",
    "\n",
    "birds_updated = birds[birds['scientific_name'].isin(corrected_names.values())]\n",
    "birds_updated[['scientific_name', 'common_names', 'record_status']].head()"
   ],
   "id": "b4990a8e6f816ac6",
   "outputs": [
    {
     "data": {
      "text/plain": [
       "           scientific_name                            common_names  \\\n",
       "207   Eremophila alpestris                             Horned Lark   \n",
       "1825  Eremophila alpestris                             Horned Lark   \n",
       "1969      Glaucidium gnoma  Mountain Pygmy Owl, Northern Pygmy-Owl   \n",
       "2912  Eremophila alpestris                             Horned Lark   \n",
       "4369  Eremophila alpestris                             Horned Lark   \n",
       "\n",
       "     record_status  \n",
       "207       Approved  \n",
       "1825      Approved  \n",
       "1969      Approved  \n",
       "2912      Approved  \n",
       "4369      Approved  "
      ],
      "text/html": [
       "<div>\n",
       "<style scoped>\n",
       "    .dataframe tbody tr th:only-of-type {\n",
       "        vertical-align: middle;\n",
       "    }\n",
       "\n",
       "    .dataframe tbody tr th {\n",
       "        vertical-align: top;\n",
       "    }\n",
       "\n",
       "    .dataframe thead th {\n",
       "        text-align: right;\n",
       "    }\n",
       "</style>\n",
       "<table border=\"1\" class=\"dataframe\">\n",
       "  <thead>\n",
       "    <tr style=\"text-align: right;\">\n",
       "      <th></th>\n",
       "      <th>scientific_name</th>\n",
       "      <th>common_names</th>\n",
       "      <th>record_status</th>\n",
       "    </tr>\n",
       "  </thead>\n",
       "  <tbody>\n",
       "    <tr>\n",
       "      <th>207</th>\n",
       "      <td>Eremophila alpestris</td>\n",
       "      <td>Horned Lark</td>\n",
       "      <td>Approved</td>\n",
       "    </tr>\n",
       "    <tr>\n",
       "      <th>1825</th>\n",
       "      <td>Eremophila alpestris</td>\n",
       "      <td>Horned Lark</td>\n",
       "      <td>Approved</td>\n",
       "    </tr>\n",
       "    <tr>\n",
       "      <th>1969</th>\n",
       "      <td>Glaucidium gnoma</td>\n",
       "      <td>Mountain Pygmy Owl, Northern Pygmy-Owl</td>\n",
       "      <td>Approved</td>\n",
       "    </tr>\n",
       "    <tr>\n",
       "      <th>2912</th>\n",
       "      <td>Eremophila alpestris</td>\n",
       "      <td>Horned Lark</td>\n",
       "      <td>Approved</td>\n",
       "    </tr>\n",
       "    <tr>\n",
       "      <th>4369</th>\n",
       "      <td>Eremophila alpestris</td>\n",
       "      <td>Horned Lark</td>\n",
       "      <td>Approved</td>\n",
       "    </tr>\n",
       "  </tbody>\n",
       "</table>\n",
       "</div>"
      ]
     },
     "execution_count": 348,
     "metadata": {},
     "output_type": "execute_result"
    }
   ],
   "execution_count": 348
  },
  {
   "metadata": {
    "ExecuteTime": {
     "end_time": "2024-09-05T21:22:38.344783Z",
     "start_time": "2024-09-05T21:22:37.175564Z"
    }
   },
   "cell_type": "code",
   "source": [
    "results2 = process_scientific_names(birds, condition=2)\n",
    "no_common_names = results2['no_common_names']\n",
    "multiple_common_names = results2['multiple_common_names']\n",
    "single_common_names = results2['single_common_names']"
   ],
   "id": "3bb2cf47a60ec9ce",
   "outputs": [
    {
     "name": "stdout",
     "output_type": "stream",
     "text": [
      "Standard Scientific Names Count (2 words): 992\n",
      "Scientific names with no associated common names: 31\n",
      "Scientific names with multiple associated common names: 369\n",
      "Scientific names with a single associated common name: 592\n"
     ]
    }
   ],
   "execution_count": 349
  },
  {
   "metadata": {
    "ExecuteTime": {
     "end_time": "2024-09-05T21:22:38.381194Z",
     "start_time": "2024-09-05T21:22:38.374849Z"
    }
   },
   "cell_type": "code",
   "source": [
    "# Extract all records from birds where scientific_name is in no_common_names\n",
    "no_common_names_records = birds[birds['scientific_name'].isin(no_common_names)]\n",
    "print(f\"Shape: {no_common_names_records.shape}\")\n",
    "print(no_common_names_records['record_status'].value_counts())"
   ],
   "id": "c5892153baab6fc",
   "outputs": [
    {
     "name": "stdout",
     "output_type": "stream",
     "text": [
      "Shape: (34, 14)\n",
      "record_status\n",
      "In Review    34\n",
      "Approved      0\n",
      "Name: count, dtype: int64\n"
     ]
    }
   ],
   "execution_count": 350
  },
  {
   "metadata": {
    "ExecuteTime": {
     "end_time": "2024-09-05T21:22:38.416068Z",
     "start_time": "2024-09-05T21:22:38.409857Z"
    }
   },
   "cell_type": "code",
   "source": [
    "# Drop the records with no common names from the birds DataFrame in place\n",
    "birds.drop(birds[birds['scientific_name'].isin(no_common_names)].index, inplace=True)"
   ],
   "id": "39baac8262258095",
   "outputs": [],
   "execution_count": 351
  },
  {
   "metadata": {
    "ExecuteTime": {
     "end_time": "2024-09-05T21:22:39.575645Z",
     "start_time": "2024-09-05T21:22:38.560858Z"
    }
   },
   "cell_type": "code",
   "source": "results2 = process_scientific_names(birds, condition=2)",
   "id": "318101e448831d10",
   "outputs": [
    {
     "name": "stdout",
     "output_type": "stream",
     "text": [
      "Standard Scientific Names Count (2 words): 961\n",
      "Scientific names with no associated common names: 0\n",
      "Scientific names with multiple associated common names: 369\n",
      "Scientific names with a single associated common name: 592\n"
     ]
    }
   ],
   "execution_count": 352
  },
  {
   "metadata": {},
   "cell_type": "markdown",
   "source": [
    "----\n",
    "&nbsp;\n",
    "#### Multiple `common_names`"
   ],
   "id": "45cfb3d2a37fa849"
  },
  {
   "metadata": {
    "ExecuteTime": {
     "end_time": "2024-09-05T21:22:39.720443Z",
     "start_time": "2024-09-05T21:22:39.716629Z"
    }
   },
   "cell_type": "code",
   "source": [
    "print(f\"Scientific names with multiple associated common names: {len(multiple_common_names)}\\n\")\n",
    "\n",
    "# Display subset of scientific names with multiple common names\n",
    "for sci_name, counts in multiple_common_names[:5]:\n",
    "    print(f\"{sci_name}: {counts}\")"
   ],
   "id": "9b1955127d3cef4d",
   "outputs": [
    {
     "name": "stdout",
     "output_type": "stream",
     "text": [
      "Scientific names with multiple associated common names: 369\n",
      "\n",
      "Gavia adamsii: Counter({'Yellow-Billed Loon': 9, 'White-Billed Diver, Yellow-Billed Loon': 1})\n",
      "Melanitta nigra: Counter({'Black Scoter': 13, 'Black Scoter, Common Scoter': 2, 'American Common Scoter, American Scoter, Black Scoter, Butter-Bill, Common Scoter': 1})\n",
      "Branta bernicla: Counter({'Brant': 11, 'American Brant, Brant': 2, 'Brant, Brant Goose, Brent Goose': 2})\n",
      "Myioborus pictus: Counter({'Painted Redstart': 9, 'Painted Redstart, Painted Whitestart': 1})\n",
      "Stercorarius pomarinus: Counter({'Pomarine Jaeger': 15, 'Pomarine Jaeger, Pomarine Skua': 2})\n"
     ]
    }
   ],
   "execution_count": 353
  },
  {
   "metadata": {
    "ExecuteTime": {
     "end_time": "2024-09-05T21:22:39.866196Z",
     "start_time": "2024-09-05T21:22:39.863507Z"
    }
   },
   "cell_type": "code",
   "source": [
    "# Apply the function to the multiple_common_names\n",
    "standardized_name_mapping = standardize_common_names(multiple_common_names)"
   ],
   "id": "d238f412d4af36aa",
   "outputs": [
    {
     "name": "stdout",
     "output_type": "stream",
     "text": [
      "Total ties: 31\n"
     ]
    }
   ],
   "execution_count": 354
  },
  {
   "metadata": {
    "ExecuteTime": {
     "end_time": "2024-09-05T21:22:40.011779Z",
     "start_time": "2024-09-05T21:22:40.008890Z"
    }
   },
   "cell_type": "code",
   "source": "print(f\"Length: {len(standardized_name_mapping)}, Type: {type(standardized_name_mapping)}\")",
   "id": "4ad374e40a8cec9a",
   "outputs": [
    {
     "name": "stdout",
     "output_type": "stream",
     "text": [
      "Length: 369, Type: <class 'dict'>\n"
     ]
    }
   ],
   "execution_count": 355
  },
  {
   "metadata": {
    "ExecuteTime": {
     "end_time": "2024-09-05T21:22:40.158199Z",
     "start_time": "2024-09-05T21:22:40.154841Z"
    }
   },
   "cell_type": "code",
   "source": [
    "# Extract the first elements (scientific names) from the list of tuples\n",
    "multi_sci_names_list = [sci_name for sci_name, counts in multiple_common_names]\n",
    "print(multi_sci_names_list[:5])"
   ],
   "id": "388f345b40bccc88",
   "outputs": [
    {
     "name": "stdout",
     "output_type": "stream",
     "text": [
      "['Gavia adamsii', 'Melanitta nigra', 'Branta bernicla', 'Myioborus pictus', 'Stercorarius pomarinus']\n"
     ]
    }
   ],
   "execution_count": 356
  },
  {
   "metadata": {
    "ExecuteTime": {
     "end_time": "2024-09-05T21:22:40.319767Z",
     "start_time": "2024-09-05T21:22:40.306543Z"
    }
   },
   "cell_type": "code",
   "source": [
    "# Return a subset of the birds DataFrame where scientific_name matches any in the list\n",
    "multi_common_names_records = birds[birds['scientific_name'].isin(multi_sci_names_list)]\n",
    "print(f\"Shape: {multi_common_names_records.shape}\")\n",
    "multi_common_names_records.head()"
   ],
   "id": "5c0c7efb6bdedbf8",
   "outputs": [
    {
     "name": "stdout",
     "output_type": "stream",
     "text": [
      "Shape: (8650, 14)\n"
     ]
    },
    {
     "data": {
      "text/plain": [
       "   species_id park_code park_name            order        family  \\\n",
       "56  ACAD-1056      ACAD    Acadia  Accipitriformes  Accipitridae   \n",
       "57  ACAD-1057      ACAD    Acadia  Accipitriformes  Accipitridae   \n",
       "58  ACAD-1058      ACAD    Acadia  Accipitriformes  Accipitridae   \n",
       "59  ACAD-1059      ACAD    Acadia  Accipitriformes  Accipitridae   \n",
       "60  ACAD-1060      ACAD    Acadia  Accipitriformes  Accipitridae   \n",
       "\n",
       "       scientific_name                                     common_names  \\\n",
       "56  Accipiter gentilis       Eastern Goshawk, Goshawk, Northern Goshawk   \n",
       "57  Accipiter striatus  Northern Sharp-Shinned Hawk, Sharp-Shinned Hawk   \n",
       "58   Aquila chrysaetos              American Golden Eagle, Golden Eagle   \n",
       "59   Buteo jamaicensis         Eastern Red-Tailed Hawk, Red-Tailed Hawk   \n",
       "60       Buteo lagopus    American Rough-Legged Hawk, Rough-Legged Hawk   \n",
       "\n",
       "   record_status occurrence nativeness   abundance seasonality  \\\n",
       "56      Approved    Present     Native    Uncommon     Breeder   \n",
       "57      Approved    Present     Native      Common     Breeder   \n",
       "58      Approved    Present     Native  Occasional     Vagrant   \n",
       "59      Approved    Present     Native      Common     Breeder   \n",
       "60      Approved    Present     Native    Uncommon    Resident   \n",
       "\n",
       "   conservation_status  is_protected  \n",
       "56       Least Concern         False  \n",
       "57  Species of Concern          True  \n",
       "58  Species of Concern          True  \n",
       "59       Least Concern         False  \n",
       "60  Species of Concern          True  "
      ],
      "text/html": [
       "<div>\n",
       "<style scoped>\n",
       "    .dataframe tbody tr th:only-of-type {\n",
       "        vertical-align: middle;\n",
       "    }\n",
       "\n",
       "    .dataframe tbody tr th {\n",
       "        vertical-align: top;\n",
       "    }\n",
       "\n",
       "    .dataframe thead th {\n",
       "        text-align: right;\n",
       "    }\n",
       "</style>\n",
       "<table border=\"1\" class=\"dataframe\">\n",
       "  <thead>\n",
       "    <tr style=\"text-align: right;\">\n",
       "      <th></th>\n",
       "      <th>species_id</th>\n",
       "      <th>park_code</th>\n",
       "      <th>park_name</th>\n",
       "      <th>order</th>\n",
       "      <th>family</th>\n",
       "      <th>scientific_name</th>\n",
       "      <th>common_names</th>\n",
       "      <th>record_status</th>\n",
       "      <th>occurrence</th>\n",
       "      <th>nativeness</th>\n",
       "      <th>abundance</th>\n",
       "      <th>seasonality</th>\n",
       "      <th>conservation_status</th>\n",
       "      <th>is_protected</th>\n",
       "    </tr>\n",
       "  </thead>\n",
       "  <tbody>\n",
       "    <tr>\n",
       "      <th>56</th>\n",
       "      <td>ACAD-1056</td>\n",
       "      <td>ACAD</td>\n",
       "      <td>Acadia</td>\n",
       "      <td>Accipitriformes</td>\n",
       "      <td>Accipitridae</td>\n",
       "      <td>Accipiter gentilis</td>\n",
       "      <td>Eastern Goshawk, Goshawk, Northern Goshawk</td>\n",
       "      <td>Approved</td>\n",
       "      <td>Present</td>\n",
       "      <td>Native</td>\n",
       "      <td>Uncommon</td>\n",
       "      <td>Breeder</td>\n",
       "      <td>Least Concern</td>\n",
       "      <td>False</td>\n",
       "    </tr>\n",
       "    <tr>\n",
       "      <th>57</th>\n",
       "      <td>ACAD-1057</td>\n",
       "      <td>ACAD</td>\n",
       "      <td>Acadia</td>\n",
       "      <td>Accipitriformes</td>\n",
       "      <td>Accipitridae</td>\n",
       "      <td>Accipiter striatus</td>\n",
       "      <td>Northern Sharp-Shinned Hawk, Sharp-Shinned Hawk</td>\n",
       "      <td>Approved</td>\n",
       "      <td>Present</td>\n",
       "      <td>Native</td>\n",
       "      <td>Common</td>\n",
       "      <td>Breeder</td>\n",
       "      <td>Species of Concern</td>\n",
       "      <td>True</td>\n",
       "    </tr>\n",
       "    <tr>\n",
       "      <th>58</th>\n",
       "      <td>ACAD-1058</td>\n",
       "      <td>ACAD</td>\n",
       "      <td>Acadia</td>\n",
       "      <td>Accipitriformes</td>\n",
       "      <td>Accipitridae</td>\n",
       "      <td>Aquila chrysaetos</td>\n",
       "      <td>American Golden Eagle, Golden Eagle</td>\n",
       "      <td>Approved</td>\n",
       "      <td>Present</td>\n",
       "      <td>Native</td>\n",
       "      <td>Occasional</td>\n",
       "      <td>Vagrant</td>\n",
       "      <td>Species of Concern</td>\n",
       "      <td>True</td>\n",
       "    </tr>\n",
       "    <tr>\n",
       "      <th>59</th>\n",
       "      <td>ACAD-1059</td>\n",
       "      <td>ACAD</td>\n",
       "      <td>Acadia</td>\n",
       "      <td>Accipitriformes</td>\n",
       "      <td>Accipitridae</td>\n",
       "      <td>Buteo jamaicensis</td>\n",
       "      <td>Eastern Red-Tailed Hawk, Red-Tailed Hawk</td>\n",
       "      <td>Approved</td>\n",
       "      <td>Present</td>\n",
       "      <td>Native</td>\n",
       "      <td>Common</td>\n",
       "      <td>Breeder</td>\n",
       "      <td>Least Concern</td>\n",
       "      <td>False</td>\n",
       "    </tr>\n",
       "    <tr>\n",
       "      <th>60</th>\n",
       "      <td>ACAD-1060</td>\n",
       "      <td>ACAD</td>\n",
       "      <td>Acadia</td>\n",
       "      <td>Accipitriformes</td>\n",
       "      <td>Accipitridae</td>\n",
       "      <td>Buteo lagopus</td>\n",
       "      <td>American Rough-Legged Hawk, Rough-Legged Hawk</td>\n",
       "      <td>Approved</td>\n",
       "      <td>Present</td>\n",
       "      <td>Native</td>\n",
       "      <td>Uncommon</td>\n",
       "      <td>Resident</td>\n",
       "      <td>Species of Concern</td>\n",
       "      <td>True</td>\n",
       "    </tr>\n",
       "  </tbody>\n",
       "</table>\n",
       "</div>"
      ]
     },
     "execution_count": 357,
     "metadata": {},
     "output_type": "execute_result"
    }
   ],
   "execution_count": 357
  },
  {
   "metadata": {
    "ExecuteTime": {
     "end_time": "2024-09-05T21:22:40.527466Z",
     "start_time": "2024-09-05T21:22:40.489890Z"
    }
   },
   "cell_type": "code",
   "source": [
    "# Save the no_common_names_records to a CSV for backup\n",
    "multi_common_names_records.to_csv('DATA/Backups/multi_common_names_birds.csv', index=True)"
   ],
   "id": "e48f93c954c0d0c5",
   "outputs": [],
   "execution_count": 358
  },
  {
   "metadata": {
    "ExecuteTime": {
     "end_time": "2024-09-05T21:22:40.942540Z",
     "start_time": "2024-09-05T21:22:40.561260Z"
    }
   },
   "cell_type": "code",
   "source": [
    "# Update the birds DataFrame with the standardized common names\n",
    "for sci_name, common_name in standardized_name_mapping.items():\n",
    "    birds.loc[birds['scientific_name'] == sci_name, 'common_names'] = common_name"
   ],
   "id": "107195744c1c256f",
   "outputs": [],
   "execution_count": 359
  },
  {
   "metadata": {
    "ExecuteTime": {
     "end_time": "2024-09-05T21:22:42.063814Z",
     "start_time": "2024-09-05T21:22:41.010847Z"
    }
   },
   "cell_type": "code",
   "source": "results2 = process_scientific_names(birds, condition=2)",
   "id": "1faa8d5f89b11f2f",
   "outputs": [
    {
     "name": "stdout",
     "output_type": "stream",
     "text": [
      "Standard Scientific Names Count (2 words): 961\n",
      "Scientific names with no associated common names: 0\n",
      "Scientific names with multiple associated common names: 0\n",
      "Scientific names with a single associated common name: 961\n"
     ]
    }
   ],
   "execution_count": 360
  },
  {
   "metadata": {
    "ExecuteTime": {
     "end_time": "2024-09-05T21:22:42.211639Z",
     "start_time": "2024-09-05T21:22:42.204310Z"
    }
   },
   "cell_type": "code",
   "source": [
    "print(f\"There are {birds.species_id.nunique()} records\")\n",
    "print(f\"There are {birds.common_names.nunique()} unique common names\")\n",
    "print(f\"There are {birds.scientific_name.nunique()} unique scientific names\")\n",
    "print(f\"There are {birds.family.nunique()} unique families\")"
   ],
   "id": "2662e4c883fd4870",
   "outputs": [
    {
     "name": "stdout",
     "output_type": "stream",
     "text": [
      "There are 14467 records\n",
      "There are 927 unique common names\n",
      "There are 1335 unique scientific names\n",
      "There are 86 unique families\n"
     ]
    }
   ],
   "execution_count": 361
  },
  {
   "metadata": {},
   "cell_type": "markdown",
   "source": [
    "----\n",
    "&nbsp;\n",
    "### Extended `scientific_name`\n",
    "Potential the most complicated records to fixed"
   ],
   "id": "1bd2fbfdd7165d79"
  },
  {
   "metadata": {
    "ExecuteTime": {
     "end_time": "2024-09-05T21:22:42.743323Z",
     "start_time": "2024-09-05T21:22:42.357029Z"
    }
   },
   "cell_type": "code",
   "source": [
    "results3 = process_scientific_names(birds, condition=3)\n",
    "no_common_names = results3['no_common_names']\n",
    "multiple_common_names = results3['multiple_common_names']\n",
    "single_common_names = results3['single_common_names']"
   ],
   "id": "f6b56d7e219a2b3e",
   "outputs": [
    {
     "name": "stdout",
     "output_type": "stream",
     "text": [
      "Extended Scientific Names Count (> 2 words): 374\n",
      "Scientific names with no associated common names: 160\n",
      "Scientific names with multiple associated common names: 29\n",
      "Scientific names with a single associated common name: 185\n"
     ]
    }
   ],
   "execution_count": 362
  },
  {
   "metadata": {
    "ExecuteTime": {
     "end_time": "2024-09-05T21:22:42.897939Z",
     "start_time": "2024-09-05T21:22:42.886345Z"
    }
   },
   "cell_type": "code",
   "source": [
    "# Extract all records from birds where scientific_name is in no_common_names\n",
    "no_common_names_records = birds[birds['scientific_name'].isin(no_common_names)]\n",
    "print(f\"Shape: {no_common_names_records.shape}\")\n",
    "print(no_common_names_records['record_status'].value_counts())\n",
    "no_common_names_records.head()"
   ],
   "id": "2a057ddb6e07aba4",
   "outputs": [
    {
     "name": "stdout",
     "output_type": "stream",
     "text": [
      "Shape: (163, 14)\n",
      "record_status\n",
      "Approved     96\n",
      "In Review    67\n",
      "Name: count, dtype: int64\n"
     ]
    },
    {
     "data": {
      "text/plain": [
       "      species_id park_code     park_name            order         family  \\\n",
       "19294  CRLA-1232      CRLA   Crater Lake    Passeriformes   Fringillidae   \n",
       "19350  CRLA-1288      CRLA   Crater Lake    Passeriformes  Troglodytidae   \n",
       "26298  DEVA-1213      DEVA  Death Valley    Passeriformes        Paridae   \n",
       "26308  DEVA-1223      DEVA  Death Valley  Accipitriformes   Accipitridae   \n",
       "26342  DEVA-1257      DEVA  Death Valley     Anseriformes       Anatidae   \n",
       "\n",
       "                          scientific_name common_names record_status  \\\n",
       "19294  Coccothraustes vespertinus brooksi          NaN      Approved   \n",
       "19350   Troglodytes troglodytes pacificus          NaN      Approved   \n",
       "26298             Parus inornatus griseus          NaN     In Review   \n",
       "26308              Buteo lineatus elegans          NaN     In Review   \n",
       "26342      Branta canadensis occidentalis          NaN     In Review   \n",
       "\n",
       "          occurrence nativeness abundance seasonality conservation_status  \\\n",
       "19294  Not Confirmed     Native   Unknown     Unknown       Least Concern   \n",
       "19350        Present     Native  Uncommon     Breeder       Least Concern   \n",
       "26298  Not Confirmed    Unknown   Unknown     Unknown       Least Concern   \n",
       "26308  Not Confirmed    Unknown   Unknown     Unknown       Least Concern   \n",
       "26342  Not Confirmed    Unknown   Unknown     Unknown       Least Concern   \n",
       "\n",
       "       is_protected  \n",
       "19294         False  \n",
       "19350         False  \n",
       "26298         False  \n",
       "26308         False  \n",
       "26342         False  "
      ],
      "text/html": [
       "<div>\n",
       "<style scoped>\n",
       "    .dataframe tbody tr th:only-of-type {\n",
       "        vertical-align: middle;\n",
       "    }\n",
       "\n",
       "    .dataframe tbody tr th {\n",
       "        vertical-align: top;\n",
       "    }\n",
       "\n",
       "    .dataframe thead th {\n",
       "        text-align: right;\n",
       "    }\n",
       "</style>\n",
       "<table border=\"1\" class=\"dataframe\">\n",
       "  <thead>\n",
       "    <tr style=\"text-align: right;\">\n",
       "      <th></th>\n",
       "      <th>species_id</th>\n",
       "      <th>park_code</th>\n",
       "      <th>park_name</th>\n",
       "      <th>order</th>\n",
       "      <th>family</th>\n",
       "      <th>scientific_name</th>\n",
       "      <th>common_names</th>\n",
       "      <th>record_status</th>\n",
       "      <th>occurrence</th>\n",
       "      <th>nativeness</th>\n",
       "      <th>abundance</th>\n",
       "      <th>seasonality</th>\n",
       "      <th>conservation_status</th>\n",
       "      <th>is_protected</th>\n",
       "    </tr>\n",
       "  </thead>\n",
       "  <tbody>\n",
       "    <tr>\n",
       "      <th>19294</th>\n",
       "      <td>CRLA-1232</td>\n",
       "      <td>CRLA</td>\n",
       "      <td>Crater Lake</td>\n",
       "      <td>Passeriformes</td>\n",
       "      <td>Fringillidae</td>\n",
       "      <td>Coccothraustes vespertinus brooksi</td>\n",
       "      <td>NaN</td>\n",
       "      <td>Approved</td>\n",
       "      <td>Not Confirmed</td>\n",
       "      <td>Native</td>\n",
       "      <td>Unknown</td>\n",
       "      <td>Unknown</td>\n",
       "      <td>Least Concern</td>\n",
       "      <td>False</td>\n",
       "    </tr>\n",
       "    <tr>\n",
       "      <th>19350</th>\n",
       "      <td>CRLA-1288</td>\n",
       "      <td>CRLA</td>\n",
       "      <td>Crater Lake</td>\n",
       "      <td>Passeriformes</td>\n",
       "      <td>Troglodytidae</td>\n",
       "      <td>Troglodytes troglodytes pacificus</td>\n",
       "      <td>NaN</td>\n",
       "      <td>Approved</td>\n",
       "      <td>Present</td>\n",
       "      <td>Native</td>\n",
       "      <td>Uncommon</td>\n",
       "      <td>Breeder</td>\n",
       "      <td>Least Concern</td>\n",
       "      <td>False</td>\n",
       "    </tr>\n",
       "    <tr>\n",
       "      <th>26298</th>\n",
       "      <td>DEVA-1213</td>\n",
       "      <td>DEVA</td>\n",
       "      <td>Death Valley</td>\n",
       "      <td>Passeriformes</td>\n",
       "      <td>Paridae</td>\n",
       "      <td>Parus inornatus griseus</td>\n",
       "      <td>NaN</td>\n",
       "      <td>In Review</td>\n",
       "      <td>Not Confirmed</td>\n",
       "      <td>Unknown</td>\n",
       "      <td>Unknown</td>\n",
       "      <td>Unknown</td>\n",
       "      <td>Least Concern</td>\n",
       "      <td>False</td>\n",
       "    </tr>\n",
       "    <tr>\n",
       "      <th>26308</th>\n",
       "      <td>DEVA-1223</td>\n",
       "      <td>DEVA</td>\n",
       "      <td>Death Valley</td>\n",
       "      <td>Accipitriformes</td>\n",
       "      <td>Accipitridae</td>\n",
       "      <td>Buteo lineatus elegans</td>\n",
       "      <td>NaN</td>\n",
       "      <td>In Review</td>\n",
       "      <td>Not Confirmed</td>\n",
       "      <td>Unknown</td>\n",
       "      <td>Unknown</td>\n",
       "      <td>Unknown</td>\n",
       "      <td>Least Concern</td>\n",
       "      <td>False</td>\n",
       "    </tr>\n",
       "    <tr>\n",
       "      <th>26342</th>\n",
       "      <td>DEVA-1257</td>\n",
       "      <td>DEVA</td>\n",
       "      <td>Death Valley</td>\n",
       "      <td>Anseriformes</td>\n",
       "      <td>Anatidae</td>\n",
       "      <td>Branta canadensis occidentalis</td>\n",
       "      <td>NaN</td>\n",
       "      <td>In Review</td>\n",
       "      <td>Not Confirmed</td>\n",
       "      <td>Unknown</td>\n",
       "      <td>Unknown</td>\n",
       "      <td>Unknown</td>\n",
       "      <td>Least Concern</td>\n",
       "      <td>False</td>\n",
       "    </tr>\n",
       "  </tbody>\n",
       "</table>\n",
       "</div>"
      ]
     },
     "execution_count": 363,
     "metadata": {},
     "output_type": "execute_result"
    }
   ],
   "execution_count": 363
  },
  {
   "metadata": {
    "ExecuteTime": {
     "end_time": "2024-09-05T21:22:43.073353Z",
     "start_time": "2024-09-05T21:22:43.068278Z"
    }
   },
   "cell_type": "code",
   "source": [
    "# Save the no_common_names_records to a CSV for backup\n",
    "no_common_names_records.to_csv('DATA/Backups/no_common_names_subspecies_birds.csv', index=True)"
   ],
   "id": "1488dd2f120bad4b",
   "outputs": [],
   "execution_count": 364
  },
  {
   "metadata": {},
   "cell_type": "markdown",
   "source": [
    "#### Handling [Subspecies](https://en.wikipedia.org/wiki/Subspecies) in Scientific Names\n",
    "\n",
    "A subspecies is a taxonomic classification below species, representing populations of a species that are genetically distinct due to geographic or ecological factors. Subspecies names are often included in scientific naming as a third part, following the genus and species (e.g., *Buteo jamaicensis borealis*).\n",
    "\n",
    "- **Matching on Genus and Species**: We extracted the genus and species parts of the scientific names and used fuzzy matching to find existing records with associated common names.\n",
    "- **Updating Common Names**: For each match, the most appropriate common name was selected and updated to include the subspecies designation in parentheses (e.g., *Red-Tailed Hawk (borealis subspecies)*)."
   ],
   "id": "97c46b9a68e9d71d"
  },
  {
   "metadata": {
    "ExecuteTime": {
     "end_time": "2024-09-05T21:22:44.322637Z",
     "start_time": "2024-09-05T21:22:43.110578Z"
    }
   },
   "cell_type": "code",
   "source": [
    "all_sci_names = birds['scientific_name'].unique()\n",
    "potential_matches = {}\n",
    "\n",
    "for sci_name in no_common_names:\n",
    "    genus_species = ' '.join(sci_name.split()[:2])\n",
    "\n",
    "    # Use fuzzy matching to find best matches in the list of all scientific names\n",
    "    matches = process.extract(genus_species, all_sci_names, scorer=fuzz.ratio, limit=5)\n",
    "    high_quality_matches = [match for match in matches if match[1] > 90]\n",
    "\n",
    "    if high_quality_matches:\n",
    "        # Retrieve common names for the matching scientific names\n",
    "        matched_sci_names = [match[0] for match in high_quality_matches]\n",
    "        common_names = birds[birds['scientific_name'].isin(matched_sci_names)]['common_names'].dropna()\n",
    "\n",
    "        # Count occurrences of each common name\n",
    "        common_names_counter = Counter([name.strip() for names in common_names for name in names.split(',')])\n",
    "        most_common_name = common_names_counter.most_common(1)\n",
    "\n",
    "        # Store potential matches and the most common name found\n",
    "        potential_matches[sci_name] = {\n",
    "            'matches': high_quality_matches,\n",
    "            'most_common_name': most_common_name[0][0] if most_common_name else 'No common name found'\n",
    "        }\n",
    "\n",
    "print(f\"Potential matches: {len(potential_matches)}\")\n",
    "\n",
    "# Subset the first 5 items from the potential_matches dictionary\n",
    "matches_subset = dict(islice(potential_matches.items(), 5))\n",
    "for sci_name, info in matches_subset.items():\n",
    "    print(f\"\\nPotential matches for '{sci_name}':\")\n",
    "    for match in info['matches']:\n",
    "        print(f\"  - {match[0]} (Similarity Score: {match[1]})\")\n",
    "    print(f\"Most common common name: {info['most_common_name']}\")"
   ],
   "id": "89f6f615ed61fb87",
   "outputs": [
    {
     "name": "stdout",
     "output_type": "stream",
     "text": [
      "Potential matches: 145\n",
      "\n",
      "Potential matches for 'Poecile gambeli inyoensis':\n",
      "  - Poecile gambeli (Similarity Score: 100)\n",
      "Most common common name: Mountain Chickadee\n",
      "\n",
      "Potential matches for 'Mimus polyglottos polyglottos':\n",
      "  - Mimus polyglottos (Similarity Score: 100)\n",
      "Most common common name: Northern Mockingbird\n",
      "\n",
      "Potential matches for 'Vireo griseus griseus':\n",
      "  - Vireo griseus (Similarity Score: 100)\n",
      "Most common common name: White-Eyed Vireo\n",
      "\n",
      "Potential matches for 'Agelaius phoeniceus phoeniceus':\n",
      "  - Agelaius phoeniceus (Similarity Score: 100)\n",
      "Most common common name: Red-Winged Blackbird\n",
      "\n",
      "Potential matches for 'Carpodacus mexicanus solitudinus':\n",
      "  - Carpodacus mexicanus (Similarity Score: 100)\n",
      "Most common common name: House Finch\n"
     ]
    }
   ],
   "execution_count": 365
  },
  {
   "metadata": {
    "ExecuteTime": {
     "end_time": "2024-09-05T21:22:44.497743Z",
     "start_time": "2024-09-05T21:22:44.353537Z"
    }
   },
   "cell_type": "code",
   "source": [
    "updated_common_names = {}\n",
    "\n",
    "for sci_name, info in potential_matches.items():\n",
    "    most_common_name = info['most_common_name']\n",
    "    subspecies = sci_name.split()[2]  \n",
    "    updated_name = f\"{most_common_name} ({subspecies} subspecies)\"\n",
    "    updated_common_names[sci_name] = updated_name\n",
    "\n",
    "# Update the birds DataFrame with the new common names\n",
    "for sci_name, common_name in updated_common_names.items():\n",
    "    birds.loc[birds['scientific_name'] == sci_name, 'common_names'] = common_name"
   ],
   "id": "fcfcaaa2322a6e5c",
   "outputs": [],
   "execution_count": 366
  },
  {
   "metadata": {
    "ExecuteTime": {
     "end_time": "2024-09-05T21:22:45.032569Z",
     "start_time": "2024-09-05T21:22:44.636115Z"
    }
   },
   "cell_type": "code",
   "source": [
    "results3 = process_scientific_names(birds, condition=3)\n",
    "no_common_names = results3['no_common_names']"
   ],
   "id": "4e25ecab3c7692b9",
   "outputs": [
    {
     "name": "stdout",
     "output_type": "stream",
     "text": [
      "Extended Scientific Names Count (> 2 words): 374\n",
      "Scientific names with no associated common names: 15\n",
      "Scientific names with multiple associated common names: 29\n",
      "Scientific names with a single associated common name: 330\n"
     ]
    }
   ],
   "execution_count": 367
  },
  {
   "metadata": {
    "ExecuteTime": {
     "end_time": "2024-09-05T21:22:45.185835Z",
     "start_time": "2024-09-05T21:22:45.172967Z"
    }
   },
   "cell_type": "code",
   "source": [
    "no_common_names_records = birds[birds['scientific_name'].isin(no_common_names)]\n",
    "print(f\"Shape: {no_common_names_records.shape}\")\n",
    "print(no_common_names_records['record_status'].value_counts())\n",
    "no_common_names_records"
   ],
   "id": "a12a9caa1bebfd1b",
   "outputs": [
    {
     "name": "stdout",
     "output_type": "stream",
     "text": [
      "Shape: (15, 14)\n",
      "record_status\n",
      "In Review    14\n",
      "Approved      1\n",
      "Name: count, dtype: int64\n"
     ]
    },
    {
     "data": {
      "text/plain": [
       "      species_id park_code     park_name            order             family  \\\n",
       "26433  DEVA-1348      DEVA  Death Valley  Charadriiformes       Scolopacidae   \n",
       "26489  DEVA-1404      DEVA  Death Valley    Passeriformes          Alaudidae   \n",
       "26490  DEVA-1405      DEVA  Death Valley    Passeriformes          Alaudidae   \n",
       "26564  DEVA-1479      DEVA  Death Valley    Passeriformes        Emberizidae   \n",
       "26568  DEVA-1483      DEVA  Death Valley    Passeriformes        Emberizidae   \n",
       "26675  DEVA-1590      DEVA  Death Valley    Passeriformes          Parulidae   \n",
       "26703  DEVA-1618      DEVA  Death Valley    Passeriformes      Troglodytidae   \n",
       "26718  DEVA-1633      DEVA  Death Valley    Passeriformes           Turdidae   \n",
       "26722  DEVA-1637      DEVA  Death Valley    Passeriformes           Turdidae   \n",
       "26759  DEVA-1674      DEVA  Death Valley    Passeriformes         Vireonidae   \n",
       "26779  DEVA-1694      DEVA  Death Valley       Piciformes            Picidae   \n",
       "26780  DEVA-1695      DEVA  Death Valley       Piciformes            Picidae   \n",
       "26824  DEVA-1739      DEVA  Death Valley       Suliformes  Phalacrocoracidae   \n",
       "39562  GRBA-1240      GRBA   Great Basin    Passeriformes        Emberizidae   \n",
       "62232  HOSP-1406      HOSP   Hot Springs   Pelecaniformes           Ardeidae   \n",
       "\n",
       "                           scientific_name common_names record_status  \\\n",
       "26433       Symphemia semipalmata inornata          NaN     In Review   \n",
       "26489         Otocoris alpestris arenicola          NaN     In Review   \n",
       "26490       Otocoris alpestris chrysolaema          NaN     In Review   \n",
       "26564          Spizella monticola ochracea          NaN     In Review   \n",
       "26568           Spizella socialis arizonae          NaN     In Review   \n",
       "26675           Sylvania pusilla pileolata          NaN     In Review   \n",
       "26703        Thryothorus bewickii spilurus          NaN     In Review   \n",
       "26718         Turdus aonalaschkae auduboni          NaN     In Review   \n",
       "26722          Turdus ustulatus swainsonii          NaN     In Review   \n",
       "26759          Vireosylva gilva swainsonii          NaN     In Review   \n",
       "26779        Dryobates villosus hyloscopus          NaN     In Review   \n",
       "26780    Dryobates villosus leucotherostes          NaN     In Review   \n",
       "26824  Phalacrocorax dilophus albociliatus          NaN     In Review   \n",
       "39562              Junco caniceps caniceps          NaN     In Review   \n",
       "62232       Hydranassa tricolor ruficollis          NaN      Approved   \n",
       "\n",
       "          occurrence nativeness abundance seasonality conservation_status  \\\n",
       "26433  Not Confirmed    Unknown   Unknown     Unknown       Least Concern   \n",
       "26489  Not Confirmed    Unknown   Unknown     Unknown       Least Concern   \n",
       "26490  Not Confirmed    Unknown   Unknown     Unknown       Least Concern   \n",
       "26564  Not Confirmed    Unknown   Unknown     Unknown       Least Concern   \n",
       "26568  Not Confirmed    Unknown   Unknown     Unknown       Least Concern   \n",
       "26675  Not Confirmed    Unknown   Unknown     Unknown       Least Concern   \n",
       "26703  Not Confirmed    Unknown   Unknown     Unknown       Least Concern   \n",
       "26718  Not Confirmed    Unknown   Unknown     Unknown       Least Concern   \n",
       "26722  Not Confirmed    Unknown   Unknown     Unknown       Least Concern   \n",
       "26759  Not Confirmed    Unknown   Unknown     Unknown       Least Concern   \n",
       "26779  Not Confirmed    Unknown   Unknown     Unknown       Least Concern   \n",
       "26780  Not Confirmed    Unknown   Unknown     Unknown       Least Concern   \n",
       "26824  Not Confirmed    Unknown   Unknown     Unknown       Least Concern   \n",
       "39562  Not Confirmed    Unknown   Unknown     Unknown       Least Concern   \n",
       "62232  Not Confirmed    Unknown   Unknown     Unknown       Least Concern   \n",
       "\n",
       "       is_protected  \n",
       "26433         False  \n",
       "26489         False  \n",
       "26490         False  \n",
       "26564         False  \n",
       "26568         False  \n",
       "26675         False  \n",
       "26703         False  \n",
       "26718         False  \n",
       "26722         False  \n",
       "26759         False  \n",
       "26779         False  \n",
       "26780         False  \n",
       "26824         False  \n",
       "39562         False  \n",
       "62232         False  "
      ],
      "text/html": [
       "<div>\n",
       "<style scoped>\n",
       "    .dataframe tbody tr th:only-of-type {\n",
       "        vertical-align: middle;\n",
       "    }\n",
       "\n",
       "    .dataframe tbody tr th {\n",
       "        vertical-align: top;\n",
       "    }\n",
       "\n",
       "    .dataframe thead th {\n",
       "        text-align: right;\n",
       "    }\n",
       "</style>\n",
       "<table border=\"1\" class=\"dataframe\">\n",
       "  <thead>\n",
       "    <tr style=\"text-align: right;\">\n",
       "      <th></th>\n",
       "      <th>species_id</th>\n",
       "      <th>park_code</th>\n",
       "      <th>park_name</th>\n",
       "      <th>order</th>\n",
       "      <th>family</th>\n",
       "      <th>scientific_name</th>\n",
       "      <th>common_names</th>\n",
       "      <th>record_status</th>\n",
       "      <th>occurrence</th>\n",
       "      <th>nativeness</th>\n",
       "      <th>abundance</th>\n",
       "      <th>seasonality</th>\n",
       "      <th>conservation_status</th>\n",
       "      <th>is_protected</th>\n",
       "    </tr>\n",
       "  </thead>\n",
       "  <tbody>\n",
       "    <tr>\n",
       "      <th>26433</th>\n",
       "      <td>DEVA-1348</td>\n",
       "      <td>DEVA</td>\n",
       "      <td>Death Valley</td>\n",
       "      <td>Charadriiformes</td>\n",
       "      <td>Scolopacidae</td>\n",
       "      <td>Symphemia semipalmata inornata</td>\n",
       "      <td>NaN</td>\n",
       "      <td>In Review</td>\n",
       "      <td>Not Confirmed</td>\n",
       "      <td>Unknown</td>\n",
       "      <td>Unknown</td>\n",
       "      <td>Unknown</td>\n",
       "      <td>Least Concern</td>\n",
       "      <td>False</td>\n",
       "    </tr>\n",
       "    <tr>\n",
       "      <th>26489</th>\n",
       "      <td>DEVA-1404</td>\n",
       "      <td>DEVA</td>\n",
       "      <td>Death Valley</td>\n",
       "      <td>Passeriformes</td>\n",
       "      <td>Alaudidae</td>\n",
       "      <td>Otocoris alpestris arenicola</td>\n",
       "      <td>NaN</td>\n",
       "      <td>In Review</td>\n",
       "      <td>Not Confirmed</td>\n",
       "      <td>Unknown</td>\n",
       "      <td>Unknown</td>\n",
       "      <td>Unknown</td>\n",
       "      <td>Least Concern</td>\n",
       "      <td>False</td>\n",
       "    </tr>\n",
       "    <tr>\n",
       "      <th>26490</th>\n",
       "      <td>DEVA-1405</td>\n",
       "      <td>DEVA</td>\n",
       "      <td>Death Valley</td>\n",
       "      <td>Passeriformes</td>\n",
       "      <td>Alaudidae</td>\n",
       "      <td>Otocoris alpestris chrysolaema</td>\n",
       "      <td>NaN</td>\n",
       "      <td>In Review</td>\n",
       "      <td>Not Confirmed</td>\n",
       "      <td>Unknown</td>\n",
       "      <td>Unknown</td>\n",
       "      <td>Unknown</td>\n",
       "      <td>Least Concern</td>\n",
       "      <td>False</td>\n",
       "    </tr>\n",
       "    <tr>\n",
       "      <th>26564</th>\n",
       "      <td>DEVA-1479</td>\n",
       "      <td>DEVA</td>\n",
       "      <td>Death Valley</td>\n",
       "      <td>Passeriformes</td>\n",
       "      <td>Emberizidae</td>\n",
       "      <td>Spizella monticola ochracea</td>\n",
       "      <td>NaN</td>\n",
       "      <td>In Review</td>\n",
       "      <td>Not Confirmed</td>\n",
       "      <td>Unknown</td>\n",
       "      <td>Unknown</td>\n",
       "      <td>Unknown</td>\n",
       "      <td>Least Concern</td>\n",
       "      <td>False</td>\n",
       "    </tr>\n",
       "    <tr>\n",
       "      <th>26568</th>\n",
       "      <td>DEVA-1483</td>\n",
       "      <td>DEVA</td>\n",
       "      <td>Death Valley</td>\n",
       "      <td>Passeriformes</td>\n",
       "      <td>Emberizidae</td>\n",
       "      <td>Spizella socialis arizonae</td>\n",
       "      <td>NaN</td>\n",
       "      <td>In Review</td>\n",
       "      <td>Not Confirmed</td>\n",
       "      <td>Unknown</td>\n",
       "      <td>Unknown</td>\n",
       "      <td>Unknown</td>\n",
       "      <td>Least Concern</td>\n",
       "      <td>False</td>\n",
       "    </tr>\n",
       "    <tr>\n",
       "      <th>26675</th>\n",
       "      <td>DEVA-1590</td>\n",
       "      <td>DEVA</td>\n",
       "      <td>Death Valley</td>\n",
       "      <td>Passeriformes</td>\n",
       "      <td>Parulidae</td>\n",
       "      <td>Sylvania pusilla pileolata</td>\n",
       "      <td>NaN</td>\n",
       "      <td>In Review</td>\n",
       "      <td>Not Confirmed</td>\n",
       "      <td>Unknown</td>\n",
       "      <td>Unknown</td>\n",
       "      <td>Unknown</td>\n",
       "      <td>Least Concern</td>\n",
       "      <td>False</td>\n",
       "    </tr>\n",
       "    <tr>\n",
       "      <th>26703</th>\n",
       "      <td>DEVA-1618</td>\n",
       "      <td>DEVA</td>\n",
       "      <td>Death Valley</td>\n",
       "      <td>Passeriformes</td>\n",
       "      <td>Troglodytidae</td>\n",
       "      <td>Thryothorus bewickii spilurus</td>\n",
       "      <td>NaN</td>\n",
       "      <td>In Review</td>\n",
       "      <td>Not Confirmed</td>\n",
       "      <td>Unknown</td>\n",
       "      <td>Unknown</td>\n",
       "      <td>Unknown</td>\n",
       "      <td>Least Concern</td>\n",
       "      <td>False</td>\n",
       "    </tr>\n",
       "    <tr>\n",
       "      <th>26718</th>\n",
       "      <td>DEVA-1633</td>\n",
       "      <td>DEVA</td>\n",
       "      <td>Death Valley</td>\n",
       "      <td>Passeriformes</td>\n",
       "      <td>Turdidae</td>\n",
       "      <td>Turdus aonalaschkae auduboni</td>\n",
       "      <td>NaN</td>\n",
       "      <td>In Review</td>\n",
       "      <td>Not Confirmed</td>\n",
       "      <td>Unknown</td>\n",
       "      <td>Unknown</td>\n",
       "      <td>Unknown</td>\n",
       "      <td>Least Concern</td>\n",
       "      <td>False</td>\n",
       "    </tr>\n",
       "    <tr>\n",
       "      <th>26722</th>\n",
       "      <td>DEVA-1637</td>\n",
       "      <td>DEVA</td>\n",
       "      <td>Death Valley</td>\n",
       "      <td>Passeriformes</td>\n",
       "      <td>Turdidae</td>\n",
       "      <td>Turdus ustulatus swainsonii</td>\n",
       "      <td>NaN</td>\n",
       "      <td>In Review</td>\n",
       "      <td>Not Confirmed</td>\n",
       "      <td>Unknown</td>\n",
       "      <td>Unknown</td>\n",
       "      <td>Unknown</td>\n",
       "      <td>Least Concern</td>\n",
       "      <td>False</td>\n",
       "    </tr>\n",
       "    <tr>\n",
       "      <th>26759</th>\n",
       "      <td>DEVA-1674</td>\n",
       "      <td>DEVA</td>\n",
       "      <td>Death Valley</td>\n",
       "      <td>Passeriformes</td>\n",
       "      <td>Vireonidae</td>\n",
       "      <td>Vireosylva gilva swainsonii</td>\n",
       "      <td>NaN</td>\n",
       "      <td>In Review</td>\n",
       "      <td>Not Confirmed</td>\n",
       "      <td>Unknown</td>\n",
       "      <td>Unknown</td>\n",
       "      <td>Unknown</td>\n",
       "      <td>Least Concern</td>\n",
       "      <td>False</td>\n",
       "    </tr>\n",
       "    <tr>\n",
       "      <th>26779</th>\n",
       "      <td>DEVA-1694</td>\n",
       "      <td>DEVA</td>\n",
       "      <td>Death Valley</td>\n",
       "      <td>Piciformes</td>\n",
       "      <td>Picidae</td>\n",
       "      <td>Dryobates villosus hyloscopus</td>\n",
       "      <td>NaN</td>\n",
       "      <td>In Review</td>\n",
       "      <td>Not Confirmed</td>\n",
       "      <td>Unknown</td>\n",
       "      <td>Unknown</td>\n",
       "      <td>Unknown</td>\n",
       "      <td>Least Concern</td>\n",
       "      <td>False</td>\n",
       "    </tr>\n",
       "    <tr>\n",
       "      <th>26780</th>\n",
       "      <td>DEVA-1695</td>\n",
       "      <td>DEVA</td>\n",
       "      <td>Death Valley</td>\n",
       "      <td>Piciformes</td>\n",
       "      <td>Picidae</td>\n",
       "      <td>Dryobates villosus leucotherostes</td>\n",
       "      <td>NaN</td>\n",
       "      <td>In Review</td>\n",
       "      <td>Not Confirmed</td>\n",
       "      <td>Unknown</td>\n",
       "      <td>Unknown</td>\n",
       "      <td>Unknown</td>\n",
       "      <td>Least Concern</td>\n",
       "      <td>False</td>\n",
       "    </tr>\n",
       "    <tr>\n",
       "      <th>26824</th>\n",
       "      <td>DEVA-1739</td>\n",
       "      <td>DEVA</td>\n",
       "      <td>Death Valley</td>\n",
       "      <td>Suliformes</td>\n",
       "      <td>Phalacrocoracidae</td>\n",
       "      <td>Phalacrocorax dilophus albociliatus</td>\n",
       "      <td>NaN</td>\n",
       "      <td>In Review</td>\n",
       "      <td>Not Confirmed</td>\n",
       "      <td>Unknown</td>\n",
       "      <td>Unknown</td>\n",
       "      <td>Unknown</td>\n",
       "      <td>Least Concern</td>\n",
       "      <td>False</td>\n",
       "    </tr>\n",
       "    <tr>\n",
       "      <th>39562</th>\n",
       "      <td>GRBA-1240</td>\n",
       "      <td>GRBA</td>\n",
       "      <td>Great Basin</td>\n",
       "      <td>Passeriformes</td>\n",
       "      <td>Emberizidae</td>\n",
       "      <td>Junco caniceps caniceps</td>\n",
       "      <td>NaN</td>\n",
       "      <td>In Review</td>\n",
       "      <td>Not Confirmed</td>\n",
       "      <td>Unknown</td>\n",
       "      <td>Unknown</td>\n",
       "      <td>Unknown</td>\n",
       "      <td>Least Concern</td>\n",
       "      <td>False</td>\n",
       "    </tr>\n",
       "    <tr>\n",
       "      <th>62232</th>\n",
       "      <td>HOSP-1406</td>\n",
       "      <td>HOSP</td>\n",
       "      <td>Hot Springs</td>\n",
       "      <td>Pelecaniformes</td>\n",
       "      <td>Ardeidae</td>\n",
       "      <td>Hydranassa tricolor ruficollis</td>\n",
       "      <td>NaN</td>\n",
       "      <td>Approved</td>\n",
       "      <td>Not Confirmed</td>\n",
       "      <td>Unknown</td>\n",
       "      <td>Unknown</td>\n",
       "      <td>Unknown</td>\n",
       "      <td>Least Concern</td>\n",
       "      <td>False</td>\n",
       "    </tr>\n",
       "  </tbody>\n",
       "</table>\n",
       "</div>"
      ]
     },
     "execution_count": 368,
     "metadata": {},
     "output_type": "execute_result"
    }
   ],
   "execution_count": 368
  },
  {
   "metadata": {
    "ExecuteTime": {
     "end_time": "2024-09-05T21:22:45.369785Z",
     "start_time": "2024-09-05T21:22:45.363039Z"
    }
   },
   "cell_type": "code",
   "source": [
    "# Dropping the remaining unnamed subspecies\n",
    "birds.drop(birds[birds['scientific_name'].isin(no_common_names)].index, inplace=True)"
   ],
   "id": "ca776e0bd427ea7e",
   "outputs": [],
   "execution_count": 369
  },
  {
   "metadata": {
    "ExecuteTime": {
     "end_time": "2024-09-05T21:22:45.794618Z",
     "start_time": "2024-09-05T21:22:45.408235Z"
    }
   },
   "cell_type": "code",
   "source": [
    "results3 = process_scientific_names(birds, condition=3)\n",
    "multiple_common_names = results3['multiple_common_names']"
   ],
   "id": "2da104994aa918fa",
   "outputs": [
    {
     "name": "stdout",
     "output_type": "stream",
     "text": [
      "Extended Scientific Names Count (> 2 words): 359\n",
      "Scientific names with no associated common names: 0\n",
      "Scientific names with multiple associated common names: 29\n",
      "Scientific names with a single associated common name: 330\n"
     ]
    }
   ],
   "execution_count": 370
  },
  {
   "metadata": {},
   "cell_type": "markdown",
   "source": [
    "----\n",
    "&nbsp;\n",
    "#### Multiple `common_names`"
   ],
   "id": "748d93b1b311f238"
  },
  {
   "metadata": {
    "ExecuteTime": {
     "end_time": "2024-09-05T21:22:45.823696Z",
     "start_time": "2024-09-05T21:22:45.821243Z"
    }
   },
   "cell_type": "code",
   "source": "print(f\"Scientific names with multiple associated common names: {len(multiple_common_names)}\\n\")",
   "id": "649b4bc6c284442c",
   "outputs": [
    {
     "name": "stdout",
     "output_type": "stream",
     "text": [
      "Scientific names with multiple associated common names: 29\n",
      "\n"
     ]
    }
   ],
   "execution_count": 371
  },
  {
   "metadata": {
    "ExecuteTime": {
     "end_time": "2024-09-05T21:22:45.975246Z",
     "start_time": "2024-09-05T21:22:45.971513Z"
    }
   },
   "cell_type": "code",
   "source": "standardized_names_mapping = standardize_common_names_subspecies(multiple_common_names)",
   "id": "9ea3f557f8823387",
   "outputs": [
    {
     "name": "stdout",
     "output_type": "stream",
     "text": [
      "Total ties: 11\n"
     ]
    }
   ],
   "execution_count": 372
  },
  {
   "metadata": {
    "ExecuteTime": {
     "end_time": "2024-09-05T21:22:46.265169Z",
     "start_time": "2024-09-05T21:22:46.261853Z"
    }
   },
   "cell_type": "code",
   "source": [
    "print(f\"Length: {len(standardized_names_mapping)}, Type: {type(standardized_names_mapping)}\")\n",
    "\n",
    "# Extract the first elements (scientific names) from the list of tuples\n",
    "multi_sci_names_list = [sci_name for sci_name, counts in multiple_common_names]\n",
    "print(multi_sci_names_list[:5])"
   ],
   "id": "cf292d22dff26477",
   "outputs": [
    {
     "name": "stdout",
     "output_type": "stream",
     "text": [
      "Length: 29, Type: <class 'dict'>\n",
      "['Junco hyemalis caniceps', 'Vermivora pinus X chrysoptera', 'Cinclus mexicanus unicolor', 'Bonasa umbellus sabini', 'Junco hyemalis mearnsi']\n"
     ]
    }
   ],
   "execution_count": 373
  },
  {
   "metadata": {
    "ExecuteTime": {
     "end_time": "2024-09-05T21:22:46.308776Z",
     "start_time": "2024-09-05T21:22:46.298015Z"
    }
   },
   "cell_type": "code",
   "source": [
    "# Return a subset of the birds DataFrame where scientific_name matches any in the list\n",
    "multi_common_names_records = birds[birds['scientific_name'].isin(multi_sci_names_list)]\n",
    "print(f\"Shape: {multi_common_names_records.shape}\")\n",
    "multi_common_names_records.head()"
   ],
   "id": "6ac89455f71370b9",
   "outputs": [
    {
     "name": "stdout",
     "output_type": "stream",
     "text": [
      "Shape: (123, 14)\n"
     ]
    },
    {
     "data": {
      "text/plain": [
       "     species_id park_code park_name          order       family  \\\n",
       "1847  ARCH-1138      ARCH    Arches  Passeriformes  Emberizidae   \n",
       "1848  ARCH-1139      ARCH    Arches  Passeriformes  Emberizidae   \n",
       "1849  ARCH-1140      ARCH    Arches  Passeriformes  Emberizidae   \n",
       "1850  ARCH-1141      ARCH    Arches  Passeriformes  Emberizidae   \n",
       "1935  ARCH-1226      ARCH    Arches  Passeriformes   Tyrannidae   \n",
       "\n",
       "                 scientific_name                     common_names  \\\n",
       "1847     Junco hyemalis caniceps    Dark-Eyed Junco (Gray-Headed)   \n",
       "1848     Junco hyemalis hyemalis  Dark-Eyed Junco (Slate-Colored)   \n",
       "1849      Junco hyemalis mearnsi     Dark-Eyed Junco (Pink-Sided)   \n",
       "1850     Junco hyemalis oreganus         Dark-Eyed Junco (Oregon)   \n",
       "1935  Empidonax traillii extimus      Southwest Willow Flycatcher   \n",
       "\n",
       "     record_status     occurrence nativeness abundance seasonality  \\\n",
       "1847      Approved        Present     Native    Common   Migratory   \n",
       "1848      Approved        Present     Native      Rare    Resident   \n",
       "1849      Approved        Present     Native    Common    Resident   \n",
       "1850      Approved        Present     Native    Common    Resident   \n",
       "1935      Approved  Not Confirmed     Native   Unknown     Unknown   \n",
       "\n",
       "     conservation_status  is_protected  \n",
       "1847       Least Concern         False  \n",
       "1848       Least Concern         False  \n",
       "1849       Least Concern         False  \n",
       "1850       Least Concern         False  \n",
       "1935          Endangered          True  "
      ],
      "text/html": [
       "<div>\n",
       "<style scoped>\n",
       "    .dataframe tbody tr th:only-of-type {\n",
       "        vertical-align: middle;\n",
       "    }\n",
       "\n",
       "    .dataframe tbody tr th {\n",
       "        vertical-align: top;\n",
       "    }\n",
       "\n",
       "    .dataframe thead th {\n",
       "        text-align: right;\n",
       "    }\n",
       "</style>\n",
       "<table border=\"1\" class=\"dataframe\">\n",
       "  <thead>\n",
       "    <tr style=\"text-align: right;\">\n",
       "      <th></th>\n",
       "      <th>species_id</th>\n",
       "      <th>park_code</th>\n",
       "      <th>park_name</th>\n",
       "      <th>order</th>\n",
       "      <th>family</th>\n",
       "      <th>scientific_name</th>\n",
       "      <th>common_names</th>\n",
       "      <th>record_status</th>\n",
       "      <th>occurrence</th>\n",
       "      <th>nativeness</th>\n",
       "      <th>abundance</th>\n",
       "      <th>seasonality</th>\n",
       "      <th>conservation_status</th>\n",
       "      <th>is_protected</th>\n",
       "    </tr>\n",
       "  </thead>\n",
       "  <tbody>\n",
       "    <tr>\n",
       "      <th>1847</th>\n",
       "      <td>ARCH-1138</td>\n",
       "      <td>ARCH</td>\n",
       "      <td>Arches</td>\n",
       "      <td>Passeriformes</td>\n",
       "      <td>Emberizidae</td>\n",
       "      <td>Junco hyemalis caniceps</td>\n",
       "      <td>Dark-Eyed Junco (Gray-Headed)</td>\n",
       "      <td>Approved</td>\n",
       "      <td>Present</td>\n",
       "      <td>Native</td>\n",
       "      <td>Common</td>\n",
       "      <td>Migratory</td>\n",
       "      <td>Least Concern</td>\n",
       "      <td>False</td>\n",
       "    </tr>\n",
       "    <tr>\n",
       "      <th>1848</th>\n",
       "      <td>ARCH-1139</td>\n",
       "      <td>ARCH</td>\n",
       "      <td>Arches</td>\n",
       "      <td>Passeriformes</td>\n",
       "      <td>Emberizidae</td>\n",
       "      <td>Junco hyemalis hyemalis</td>\n",
       "      <td>Dark-Eyed Junco (Slate-Colored)</td>\n",
       "      <td>Approved</td>\n",
       "      <td>Present</td>\n",
       "      <td>Native</td>\n",
       "      <td>Rare</td>\n",
       "      <td>Resident</td>\n",
       "      <td>Least Concern</td>\n",
       "      <td>False</td>\n",
       "    </tr>\n",
       "    <tr>\n",
       "      <th>1849</th>\n",
       "      <td>ARCH-1140</td>\n",
       "      <td>ARCH</td>\n",
       "      <td>Arches</td>\n",
       "      <td>Passeriformes</td>\n",
       "      <td>Emberizidae</td>\n",
       "      <td>Junco hyemalis mearnsi</td>\n",
       "      <td>Dark-Eyed Junco (Pink-Sided)</td>\n",
       "      <td>Approved</td>\n",
       "      <td>Present</td>\n",
       "      <td>Native</td>\n",
       "      <td>Common</td>\n",
       "      <td>Resident</td>\n",
       "      <td>Least Concern</td>\n",
       "      <td>False</td>\n",
       "    </tr>\n",
       "    <tr>\n",
       "      <th>1850</th>\n",
       "      <td>ARCH-1141</td>\n",
       "      <td>ARCH</td>\n",
       "      <td>Arches</td>\n",
       "      <td>Passeriformes</td>\n",
       "      <td>Emberizidae</td>\n",
       "      <td>Junco hyemalis oreganus</td>\n",
       "      <td>Dark-Eyed Junco (Oregon)</td>\n",
       "      <td>Approved</td>\n",
       "      <td>Present</td>\n",
       "      <td>Native</td>\n",
       "      <td>Common</td>\n",
       "      <td>Resident</td>\n",
       "      <td>Least Concern</td>\n",
       "      <td>False</td>\n",
       "    </tr>\n",
       "    <tr>\n",
       "      <th>1935</th>\n",
       "      <td>ARCH-1226</td>\n",
       "      <td>ARCH</td>\n",
       "      <td>Arches</td>\n",
       "      <td>Passeriformes</td>\n",
       "      <td>Tyrannidae</td>\n",
       "      <td>Empidonax traillii extimus</td>\n",
       "      <td>Southwest Willow Flycatcher</td>\n",
       "      <td>Approved</td>\n",
       "      <td>Not Confirmed</td>\n",
       "      <td>Native</td>\n",
       "      <td>Unknown</td>\n",
       "      <td>Unknown</td>\n",
       "      <td>Endangered</td>\n",
       "      <td>True</td>\n",
       "    </tr>\n",
       "  </tbody>\n",
       "</table>\n",
       "</div>"
      ]
     },
     "execution_count": 374,
     "metadata": {},
     "output_type": "execute_result"
    }
   ],
   "execution_count": 374
  },
  {
   "metadata": {
    "ExecuteTime": {
     "end_time": "2024-09-05T21:22:46.530589Z",
     "start_time": "2024-09-05T21:22:46.496576Z"
    }
   },
   "cell_type": "code",
   "source": [
    "# Update the birds DataFrame with the standardized common names\n",
    "for sci_name, common_name in standardized_names_mapping.items():\n",
    "    birds.loc[birds['scientific_name'] == sci_name, 'common_names'] = common_name"
   ],
   "id": "3befdfd6e8f0f877",
   "outputs": [],
   "execution_count": 375
  },
  {
   "metadata": {
    "ExecuteTime": {
     "end_time": "2024-09-05T21:22:46.959079Z",
     "start_time": "2024-09-05T21:22:46.575140Z"
    }
   },
   "cell_type": "code",
   "source": [
    "results3 = process_scientific_names(birds, condition=3)\n",
    "single_common_names = results3['single_common_names']"
   ],
   "id": "8e9a2131b4a49ad7",
   "outputs": [
    {
     "name": "stdout",
     "output_type": "stream",
     "text": [
      "Extended Scientific Names Count (> 2 words): 359\n",
      "Scientific names with no associated common names: 0\n",
      "Scientific names with multiple associated common names: 0\n",
      "Scientific names with a single associated common name: 359\n"
     ]
    }
   ],
   "execution_count": 376
  },
  {
   "metadata": {},
   "cell_type": "markdown",
   "source": [
    "----\n",
    "&nbsp;\n",
    "#### Remaining NaN records in `birds`"
   ],
   "id": "8100e9cdc4ed0e2d"
  },
  {
   "metadata": {
    "ExecuteTime": {
     "end_time": "2024-09-05T21:22:46.980302Z",
     "start_time": "2024-09-05T21:22:46.976328Z"
    }
   },
   "cell_type": "code",
   "source": [
    "print(f\"Scientific name NaN count: {birds.scientific_name.isna().sum()}\")\n",
    "print(f\"Common Name NaN count: {birds.common_names.isna().sum()}\")"
   ],
   "id": "daa469c09a51e8ac",
   "outputs": [
    {
     "name": "stdout",
     "output_type": "stream",
     "text": [
      "Scientific name NaN count: 0\n",
      "Common Name NaN count: 41\n"
     ]
    }
   ],
   "execution_count": 377
  },
  {
   "metadata": {
    "ExecuteTime": {
     "end_time": "2024-09-05T21:22:47.134381Z",
     "start_time": "2024-09-05T21:22:47.124482Z"
    }
   },
   "cell_type": "code",
   "source": [
    "nan_common = birds[birds.common_names.isna()]\n",
    "print(f\"Shape: {nan_common.shape}\")\n",
    "nan_common.head()"
   ],
   "id": "1dd32a9c8474b8ac",
   "outputs": [
    {
     "name": "stdout",
     "output_type": "stream",
     "text": [
      "Shape: (41, 14)\n"
     ]
    },
    {
     "data": {
      "text/plain": [
       "      species_id park_code    park_name          order         family  \\\n",
       "19285  CRLA-1223      CRLA  Crater Lake  Passeriformes    Emberizidae   \n",
       "19308  CRLA-1246      CRLA  Crater Lake  Passeriformes      Icteridae   \n",
       "19348  CRLA-1286      CRLA  Crater Lake  Passeriformes  Troglodytidae   \n",
       "19355  CRLA-1293      CRLA  Crater Lake  Passeriformes       Turdidae   \n",
       "19379  CRLA-1317      CRLA  Crater Lake     Piciformes        Picidae   \n",
       "\n",
       "                         scientific_name common_names record_status  \\\n",
       "19285  Zonotrichia leucophrys pugetensis          NaN      Approved   \n",
       "19308       Agelaius phoeniceus caurinus          NaN      Approved   \n",
       "19348        Troglodytes aedon parkmanii          NaN      Approved   \n",
       "19355      Myadestes townsendi townsendi          NaN      Approved   \n",
       "19379          Colaptes auratus collaris          NaN      Approved   \n",
       "\n",
       "          occurrence nativeness abundance seasonality conservation_status  \\\n",
       "19285        Present     Native  Uncommon   Migratory       Least Concern   \n",
       "19308  Not Confirmed     Native   Unknown     Unknown       Least Concern   \n",
       "19348        Present     Native      Rare     Breeder       Least Concern   \n",
       "19355        Present     Native  Uncommon     Breeder       Least Concern   \n",
       "19379        Present     Native    Common     Breeder       Least Concern   \n",
       "\n",
       "       is_protected  \n",
       "19285         False  \n",
       "19308         False  \n",
       "19348         False  \n",
       "19355         False  \n",
       "19379         False  "
      ],
      "text/html": [
       "<div>\n",
       "<style scoped>\n",
       "    .dataframe tbody tr th:only-of-type {\n",
       "        vertical-align: middle;\n",
       "    }\n",
       "\n",
       "    .dataframe tbody tr th {\n",
       "        vertical-align: top;\n",
       "    }\n",
       "\n",
       "    .dataframe thead th {\n",
       "        text-align: right;\n",
       "    }\n",
       "</style>\n",
       "<table border=\"1\" class=\"dataframe\">\n",
       "  <thead>\n",
       "    <tr style=\"text-align: right;\">\n",
       "      <th></th>\n",
       "      <th>species_id</th>\n",
       "      <th>park_code</th>\n",
       "      <th>park_name</th>\n",
       "      <th>order</th>\n",
       "      <th>family</th>\n",
       "      <th>scientific_name</th>\n",
       "      <th>common_names</th>\n",
       "      <th>record_status</th>\n",
       "      <th>occurrence</th>\n",
       "      <th>nativeness</th>\n",
       "      <th>abundance</th>\n",
       "      <th>seasonality</th>\n",
       "      <th>conservation_status</th>\n",
       "      <th>is_protected</th>\n",
       "    </tr>\n",
       "  </thead>\n",
       "  <tbody>\n",
       "    <tr>\n",
       "      <th>19285</th>\n",
       "      <td>CRLA-1223</td>\n",
       "      <td>CRLA</td>\n",
       "      <td>Crater Lake</td>\n",
       "      <td>Passeriformes</td>\n",
       "      <td>Emberizidae</td>\n",
       "      <td>Zonotrichia leucophrys pugetensis</td>\n",
       "      <td>NaN</td>\n",
       "      <td>Approved</td>\n",
       "      <td>Present</td>\n",
       "      <td>Native</td>\n",
       "      <td>Uncommon</td>\n",
       "      <td>Migratory</td>\n",
       "      <td>Least Concern</td>\n",
       "      <td>False</td>\n",
       "    </tr>\n",
       "    <tr>\n",
       "      <th>19308</th>\n",
       "      <td>CRLA-1246</td>\n",
       "      <td>CRLA</td>\n",
       "      <td>Crater Lake</td>\n",
       "      <td>Passeriformes</td>\n",
       "      <td>Icteridae</td>\n",
       "      <td>Agelaius phoeniceus caurinus</td>\n",
       "      <td>NaN</td>\n",
       "      <td>Approved</td>\n",
       "      <td>Not Confirmed</td>\n",
       "      <td>Native</td>\n",
       "      <td>Unknown</td>\n",
       "      <td>Unknown</td>\n",
       "      <td>Least Concern</td>\n",
       "      <td>False</td>\n",
       "    </tr>\n",
       "    <tr>\n",
       "      <th>19348</th>\n",
       "      <td>CRLA-1286</td>\n",
       "      <td>CRLA</td>\n",
       "      <td>Crater Lake</td>\n",
       "      <td>Passeriformes</td>\n",
       "      <td>Troglodytidae</td>\n",
       "      <td>Troglodytes aedon parkmanii</td>\n",
       "      <td>NaN</td>\n",
       "      <td>Approved</td>\n",
       "      <td>Present</td>\n",
       "      <td>Native</td>\n",
       "      <td>Rare</td>\n",
       "      <td>Breeder</td>\n",
       "      <td>Least Concern</td>\n",
       "      <td>False</td>\n",
       "    </tr>\n",
       "    <tr>\n",
       "      <th>19355</th>\n",
       "      <td>CRLA-1293</td>\n",
       "      <td>CRLA</td>\n",
       "      <td>Crater Lake</td>\n",
       "      <td>Passeriformes</td>\n",
       "      <td>Turdidae</td>\n",
       "      <td>Myadestes townsendi townsendi</td>\n",
       "      <td>NaN</td>\n",
       "      <td>Approved</td>\n",
       "      <td>Present</td>\n",
       "      <td>Native</td>\n",
       "      <td>Uncommon</td>\n",
       "      <td>Breeder</td>\n",
       "      <td>Least Concern</td>\n",
       "      <td>False</td>\n",
       "    </tr>\n",
       "    <tr>\n",
       "      <th>19379</th>\n",
       "      <td>CRLA-1317</td>\n",
       "      <td>CRLA</td>\n",
       "      <td>Crater Lake</td>\n",
       "      <td>Piciformes</td>\n",
       "      <td>Picidae</td>\n",
       "      <td>Colaptes auratus collaris</td>\n",
       "      <td>NaN</td>\n",
       "      <td>Approved</td>\n",
       "      <td>Present</td>\n",
       "      <td>Native</td>\n",
       "      <td>Common</td>\n",
       "      <td>Breeder</td>\n",
       "      <td>Least Concern</td>\n",
       "      <td>False</td>\n",
       "    </tr>\n",
       "  </tbody>\n",
       "</table>\n",
       "</div>"
      ]
     },
     "execution_count": 378,
     "metadata": {},
     "output_type": "execute_result"
    }
   ],
   "execution_count": 378
  },
  {
   "metadata": {
    "ExecuteTime": {
     "end_time": "2024-09-05T21:22:47.308933Z",
     "start_time": "2024-09-05T21:22:47.306454Z"
    }
   },
   "cell_type": "code",
   "source": [
    "# Save unique scientific name in above df\n",
    "nan_sci_names = nan_common.scientific_name.unique().tolist()"
   ],
   "id": "972acd1b20e9674c",
   "outputs": [],
   "execution_count": 379
  },
  {
   "metadata": {
    "ExecuteTime": {
     "end_time": "2024-09-05T21:22:47.578453Z",
     "start_time": "2024-09-05T21:22:47.348489Z"
    }
   },
   "cell_type": "code",
   "source": [
    "all_sci_names = birds['scientific_name'].unique()\n",
    "potential_matches = {}\n",
    "\n",
    "for sci_name in nan_sci_names:\n",
    "    genus_species = ' '.join(sci_name.split()[:2])\n",
    "\n",
    "    # Use fuzzy matching to find best matches in the list of all scientific names\n",
    "    matches = process.extract(genus_species, all_sci_names, scorer=fuzz.ratio, limit=5)\n",
    "    high_quality_matches = [match for match in matches if match[1] > 90]\n",
    "\n",
    "    if high_quality_matches:\n",
    "        # Retrieve common names for the matching scientific names\n",
    "        matched_sci_names = [match[0] for match in high_quality_matches]\n",
    "        common_names = birds[birds['scientific_name'].isin(matched_sci_names)]['common_names'].dropna()\n",
    "\n",
    "        # Count occurrences of each common name\n",
    "        common_names_counter = Counter([name.strip() for names in common_names for name in names.split(',')])\n",
    "        most_common_name = common_names_counter.most_common(1)\n",
    "\n",
    "        # Store potential matches and the most common name found\n",
    "        potential_matches[sci_name] = {\n",
    "            'matches': high_quality_matches,\n",
    "            'most_common_name': most_common_name[0][0] if most_common_name else 'No common name found'\n",
    "        }\n",
    "\n",
    "print(f\"Potential matches: {len(potential_matches)}\")\n",
    "\n",
    "# Subset the first 5 items from the potential_matches dictionary\n",
    "matches_subset = dict(islice(potential_matches.items(), 5))\n",
    "for sci_name, info in matches_subset.items():\n",
    "    print(f\"\\nPotential matches for '{sci_name}':\")\n",
    "    for match in info['matches']:\n",
    "        print(f\"  - {match[0]} (Similarity Score: {match[1]})\")\n",
    "    print(f\"Most common common name: {info['most_common_name']}\")"
   ],
   "id": "2fd393a24454c0aa",
   "outputs": [
    {
     "name": "stdout",
     "output_type": "stream",
     "text": [
      "Potential matches: 37\n",
      "\n",
      "Potential matches for 'Zonotrichia leucophrys pugetensis':\n",
      "  - Zonotrichia leucophrys (Similarity Score: 100)\n",
      "Most common common name: White-Crowned Sparrow\n",
      "\n",
      "Potential matches for 'Agelaius phoeniceus caurinus':\n",
      "  - Agelaius phoeniceus (Similarity Score: 100)\n",
      "Most common common name: Red-Winged Blackbird\n",
      "\n",
      "Potential matches for 'Troglodytes aedon parkmanii':\n",
      "  - Troglodytes aedon (Similarity Score: 100)\n",
      "Most common common name: House Wren\n",
      "\n",
      "Potential matches for 'Myadestes townsendi townsendi':\n",
      "  - Myadestes townsendi (Similarity Score: 100)\n",
      "Most common common name: Townsend's Solitaire\n",
      "\n",
      "Potential matches for 'Colaptes auratus collaris':\n",
      "  - Colaptes auratus (Similarity Score: 100)\n",
      "  - Calaptes auratus (Similarity Score: 94)\n",
      "Most common common name: Northern Flicker\n"
     ]
    }
   ],
   "execution_count": 380
  },
  {
   "metadata": {
    "ExecuteTime": {
     "end_time": "2024-09-05T21:22:47.649805Z",
     "start_time": "2024-09-05T21:22:47.609029Z"
    }
   },
   "cell_type": "code",
   "source": [
    "updated_common_names = {}\n",
    "\n",
    "for sci_name, info in potential_matches.items():\n",
    "    most_common_name = info['most_common_name']\n",
    "    \n",
    "    # Split the scientific name into parts\n",
    "    sci_name_parts = sci_name.split()\n",
    "    \n",
    "    # Check if the scientific name includes a subspecies\n",
    "    if len(sci_name_parts) > 2:\n",
    "        subspecies = sci_name_parts[2]  # Get the subspecies part\n",
    "        updated_name = f\"{most_common_name} ({subspecies} subspecies)\"\n",
    "    else:\n",
    "        # If no subspecies, just use the most common name\n",
    "        updated_name = most_common_name\n",
    "\n",
    "    updated_common_names[sci_name] = updated_name\n",
    "\n",
    "# Update the birds DataFrame with the new common names\n",
    "for sci_name, common_name in updated_common_names.items():\n",
    "    birds.loc[birds['scientific_name'] == sci_name, 'common_names'] = common_name"
   ],
   "id": "8f3098bad0240a9d",
   "outputs": [],
   "execution_count": 381
  },
  {
   "metadata": {
    "ExecuteTime": {
     "end_time": "2024-09-05T21:22:47.795251Z",
     "start_time": "2024-09-05T21:22:47.792254Z"
    }
   },
   "cell_type": "code",
   "source": [
    "# Check if there are still any NaN values in 'common_names'\n",
    "print(f\"Common Name NaN count: {birds.common_names.isna().sum()}\")"
   ],
   "id": "7f214ad66a614faf",
   "outputs": [
    {
     "name": "stdout",
     "output_type": "stream",
     "text": [
      "Common Name NaN count: 0\n"
     ]
    }
   ],
   "execution_count": 382
  },
  {
   "metadata": {},
   "cell_type": "markdown",
   "source": [
    "----\n",
    "&nbsp;\n",
    "#### Single `common_names`\n",
    "Searching for 'unusual' records"
   ],
   "id": "7f97e2e97b514bec"
  },
  {
   "metadata": {
    "ExecuteTime": {
     "end_time": "2024-09-05T21:22:48.007922Z",
     "start_time": "2024-09-05T21:22:47.936183Z"
    }
   },
   "cell_type": "code",
   "source": [
    "# Define thresholds and patterns for identifying unusual names\n",
    "MAX_LENGTH = 50  # Define a threshold for very long common names\n",
    "MAX_WORD_COUNT = 6  # Define a word count threshold\n",
    "UNUSUAL_PUNCTUATION_PATTERN = r\"[^a-zA-Z\\s,\\'\\-\\(\\)/`´]\"  # Allows letters, spaces, commas, apostrophes, and hyphens\n",
    "\n",
    "long_names = birds[birds['common_names'].str.len() > MAX_LENGTH]\n",
    "high_word_count = birds[birds['common_names'].str.split().apply(len) > MAX_WORD_COUNT]\n",
    "unusual_punctuation = birds[birds['common_names'].str.contains(UNUSUAL_PUNCTUATION_PATTERN, na=False)]\n",
    "\n",
    "unusual_common_names = pd.concat([long_names, high_word_count, unusual_punctuation]).drop_duplicates()"
   ],
   "id": "152b9f65b2ad934f",
   "outputs": [],
   "execution_count": 383
  },
  {
   "metadata": {
    "ExecuteTime": {
     "end_time": "2024-09-05T21:22:48.157035Z",
     "start_time": "2024-09-05T21:22:48.147174Z"
    }
   },
   "cell_type": "code",
   "source": "unusual_common_names",
   "id": "e6ff6da5cd6b0923",
   "outputs": [
    {
     "data": {
      "text/plain": [
       "      species_id park_code         park_name            order        family  \\\n",
       "111    ACAD-1111      ACAD            Acadia  Charadriiformes       Alcidae   \n",
       "26297  DEVA-1212      DEVA      Death Valley    Passeriformes     Parulidae   \n",
       "26777  DEVA-1692      DEVA      Death Valley       Piciformes       Picidae   \n",
       "30773  DRTO-1249      DRTO      Dry Tortugas    Passeriformes    Tyrannidae   \n",
       "39491  GRBA-1169      GRBA       Great Basin  Charadriiformes  Scolopacidae   \n",
       "63823  ISRO-1047      ISRO       Isle Royale     Anseriformes      Anatidae   \n",
       "19387  CRLA-1325      CRLA       Crater Lake       Piciformes       Picidae   \n",
       "42377  GRCA-1402      GRCA      Grand Canyon    Passeriformes     Parulidae   \n",
       "58589  HAVO-1061      HAVO  Hawaii Volcanoes    Passeriformes  Fringillidae   \n",
       "58605  HAVO-1077      HAVO  Hawaii Volcanoes    Passeriformes      Turdidae   \n",
       "\n",
       "                      scientific_name  \\\n",
       "111                    Cepphus grylle   \n",
       "26297               Dendroica aestiva   \n",
       "26777             Ceophloeus pileatus   \n",
       "30773  Tyrannus melancholicus couchii   \n",
       "39491    Gallinago gallinago delicata   \n",
       "63823   Anas rubripes X platyrhynchos   \n",
       "19387  Picoides tridactylus fasciatus   \n",
       "42377              Leiothlypis luciae   \n",
       "58589             Hemignathus wilsoni   \n",
       "58605              Myadestes obscurus   \n",
       "\n",
       "                                            common_names record_status  \\\n",
       "111    Black Guillemot, Sea Pigeon, Southern Black Gu...      Approved   \n",
       "26297  Golden Warbler, Northern Yellow Warbler, Summe...     In Review   \n",
       "26777  Black Woodcock, Logcock, Pileated Woodpecker, ...     In Review   \n",
       "30773  \"Tropical\" Kingbird,In Review,Present,Not Nati...      Approved   \n",
       "39491  Common Snipe, English Snipe, Jacksnipe, Wilson...      Approved   \n",
       "63823  American Black Mallard, Mallard X Black Duck H...      Approved   \n",
       "19387                         Northern 3-Toed Woodpecker      Approved   \n",
       "42377                                     LucyS Warbler      Approved   \n",
       "58589                                       ´Akiap_L_´Au      Approved   \n",
       "58605                             ´_Ma´_, Hawai´I Thrush      Approved   \n",
       "\n",
       "          occurrence nativeness   abundance seasonality conservation_status  \\\n",
       "111          Present     Native      Common     Breeder       Least Concern   \n",
       "26297  Not Confirmed    Unknown     Unknown     Unknown       Least Concern   \n",
       "26777  Not Confirmed    Unknown     Unknown     Unknown       Least Concern   \n",
       "30773        Present     Native    Uncommon   Migratory       Least Concern   \n",
       "39491        Present     Native    Uncommon     Unknown       Least Concern   \n",
       "63823        Present     Native  Occasional     Unknown       Least Concern   \n",
       "19387        Present     Native    Uncommon     Breeder       Least Concern   \n",
       "42377        Present     Native      Common     Breeder       Least Concern   \n",
       "58589        Present     Native        Rare     Breeder       Least Concern   \n",
       "58605        Present     Native      Common     Breeder       Least Concern   \n",
       "\n",
       "       is_protected  \n",
       "111           False  \n",
       "26297         False  \n",
       "26777         False  \n",
       "30773         False  \n",
       "39491         False  \n",
       "63823         False  \n",
       "19387         False  \n",
       "42377         False  \n",
       "58589         False  \n",
       "58605         False  "
      ],
      "text/html": [
       "<div>\n",
       "<style scoped>\n",
       "    .dataframe tbody tr th:only-of-type {\n",
       "        vertical-align: middle;\n",
       "    }\n",
       "\n",
       "    .dataframe tbody tr th {\n",
       "        vertical-align: top;\n",
       "    }\n",
       "\n",
       "    .dataframe thead th {\n",
       "        text-align: right;\n",
       "    }\n",
       "</style>\n",
       "<table border=\"1\" class=\"dataframe\">\n",
       "  <thead>\n",
       "    <tr style=\"text-align: right;\">\n",
       "      <th></th>\n",
       "      <th>species_id</th>\n",
       "      <th>park_code</th>\n",
       "      <th>park_name</th>\n",
       "      <th>order</th>\n",
       "      <th>family</th>\n",
       "      <th>scientific_name</th>\n",
       "      <th>common_names</th>\n",
       "      <th>record_status</th>\n",
       "      <th>occurrence</th>\n",
       "      <th>nativeness</th>\n",
       "      <th>abundance</th>\n",
       "      <th>seasonality</th>\n",
       "      <th>conservation_status</th>\n",
       "      <th>is_protected</th>\n",
       "    </tr>\n",
       "  </thead>\n",
       "  <tbody>\n",
       "    <tr>\n",
       "      <th>111</th>\n",
       "      <td>ACAD-1111</td>\n",
       "      <td>ACAD</td>\n",
       "      <td>Acadia</td>\n",
       "      <td>Charadriiformes</td>\n",
       "      <td>Alcidae</td>\n",
       "      <td>Cepphus grylle</td>\n",
       "      <td>Black Guillemot, Sea Pigeon, Southern Black Gu...</td>\n",
       "      <td>Approved</td>\n",
       "      <td>Present</td>\n",
       "      <td>Native</td>\n",
       "      <td>Common</td>\n",
       "      <td>Breeder</td>\n",
       "      <td>Least Concern</td>\n",
       "      <td>False</td>\n",
       "    </tr>\n",
       "    <tr>\n",
       "      <th>26297</th>\n",
       "      <td>DEVA-1212</td>\n",
       "      <td>DEVA</td>\n",
       "      <td>Death Valley</td>\n",
       "      <td>Passeriformes</td>\n",
       "      <td>Parulidae</td>\n",
       "      <td>Dendroica aestiva</td>\n",
       "      <td>Golden Warbler, Northern Yellow Warbler, Summe...</td>\n",
       "      <td>In Review</td>\n",
       "      <td>Not Confirmed</td>\n",
       "      <td>Unknown</td>\n",
       "      <td>Unknown</td>\n",
       "      <td>Unknown</td>\n",
       "      <td>Least Concern</td>\n",
       "      <td>False</td>\n",
       "    </tr>\n",
       "    <tr>\n",
       "      <th>26777</th>\n",
       "      <td>DEVA-1692</td>\n",
       "      <td>DEVA</td>\n",
       "      <td>Death Valley</td>\n",
       "      <td>Piciformes</td>\n",
       "      <td>Picidae</td>\n",
       "      <td>Ceophloeus pileatus</td>\n",
       "      <td>Black Woodcock, Logcock, Pileated Woodpecker, ...</td>\n",
       "      <td>In Review</td>\n",
       "      <td>Not Confirmed</td>\n",
       "      <td>Unknown</td>\n",
       "      <td>Unknown</td>\n",
       "      <td>Unknown</td>\n",
       "      <td>Least Concern</td>\n",
       "      <td>False</td>\n",
       "    </tr>\n",
       "    <tr>\n",
       "      <th>30773</th>\n",
       "      <td>DRTO-1249</td>\n",
       "      <td>DRTO</td>\n",
       "      <td>Dry Tortugas</td>\n",
       "      <td>Passeriformes</td>\n",
       "      <td>Tyrannidae</td>\n",
       "      <td>Tyrannus melancholicus couchii</td>\n",
       "      <td>\"Tropical\" Kingbird,In Review,Present,Not Nati...</td>\n",
       "      <td>Approved</td>\n",
       "      <td>Present</td>\n",
       "      <td>Native</td>\n",
       "      <td>Uncommon</td>\n",
       "      <td>Migratory</td>\n",
       "      <td>Least Concern</td>\n",
       "      <td>False</td>\n",
       "    </tr>\n",
       "    <tr>\n",
       "      <th>39491</th>\n",
       "      <td>GRBA-1169</td>\n",
       "      <td>GRBA</td>\n",
       "      <td>Great Basin</td>\n",
       "      <td>Charadriiformes</td>\n",
       "      <td>Scolopacidae</td>\n",
       "      <td>Gallinago gallinago delicata</td>\n",
       "      <td>Common Snipe, English Snipe, Jacksnipe, Wilson...</td>\n",
       "      <td>Approved</td>\n",
       "      <td>Present</td>\n",
       "      <td>Native</td>\n",
       "      <td>Uncommon</td>\n",
       "      <td>Unknown</td>\n",
       "      <td>Least Concern</td>\n",
       "      <td>False</td>\n",
       "    </tr>\n",
       "    <tr>\n",
       "      <th>63823</th>\n",
       "      <td>ISRO-1047</td>\n",
       "      <td>ISRO</td>\n",
       "      <td>Isle Royale</td>\n",
       "      <td>Anseriformes</td>\n",
       "      <td>Anatidae</td>\n",
       "      <td>Anas rubripes X platyrhynchos</td>\n",
       "      <td>American Black Mallard, Mallard X Black Duck H...</td>\n",
       "      <td>Approved</td>\n",
       "      <td>Present</td>\n",
       "      <td>Native</td>\n",
       "      <td>Occasional</td>\n",
       "      <td>Unknown</td>\n",
       "      <td>Least Concern</td>\n",
       "      <td>False</td>\n",
       "    </tr>\n",
       "    <tr>\n",
       "      <th>19387</th>\n",
       "      <td>CRLA-1325</td>\n",
       "      <td>CRLA</td>\n",
       "      <td>Crater Lake</td>\n",
       "      <td>Piciformes</td>\n",
       "      <td>Picidae</td>\n",
       "      <td>Picoides tridactylus fasciatus</td>\n",
       "      <td>Northern 3-Toed Woodpecker</td>\n",
       "      <td>Approved</td>\n",
       "      <td>Present</td>\n",
       "      <td>Native</td>\n",
       "      <td>Uncommon</td>\n",
       "      <td>Breeder</td>\n",
       "      <td>Least Concern</td>\n",
       "      <td>False</td>\n",
       "    </tr>\n",
       "    <tr>\n",
       "      <th>42377</th>\n",
       "      <td>GRCA-1402</td>\n",
       "      <td>GRCA</td>\n",
       "      <td>Grand Canyon</td>\n",
       "      <td>Passeriformes</td>\n",
       "      <td>Parulidae</td>\n",
       "      <td>Leiothlypis luciae</td>\n",
       "      <td>LucyS Warbler</td>\n",
       "      <td>Approved</td>\n",
       "      <td>Present</td>\n",
       "      <td>Native</td>\n",
       "      <td>Common</td>\n",
       "      <td>Breeder</td>\n",
       "      <td>Least Concern</td>\n",
       "      <td>False</td>\n",
       "    </tr>\n",
       "    <tr>\n",
       "      <th>58589</th>\n",
       "      <td>HAVO-1061</td>\n",
       "      <td>HAVO</td>\n",
       "      <td>Hawaii Volcanoes</td>\n",
       "      <td>Passeriformes</td>\n",
       "      <td>Fringillidae</td>\n",
       "      <td>Hemignathus wilsoni</td>\n",
       "      <td>´Akiap_L_´Au</td>\n",
       "      <td>Approved</td>\n",
       "      <td>Present</td>\n",
       "      <td>Native</td>\n",
       "      <td>Rare</td>\n",
       "      <td>Breeder</td>\n",
       "      <td>Least Concern</td>\n",
       "      <td>False</td>\n",
       "    </tr>\n",
       "    <tr>\n",
       "      <th>58605</th>\n",
       "      <td>HAVO-1077</td>\n",
       "      <td>HAVO</td>\n",
       "      <td>Hawaii Volcanoes</td>\n",
       "      <td>Passeriformes</td>\n",
       "      <td>Turdidae</td>\n",
       "      <td>Myadestes obscurus</td>\n",
       "      <td>´_Ma´_, Hawai´I Thrush</td>\n",
       "      <td>Approved</td>\n",
       "      <td>Present</td>\n",
       "      <td>Native</td>\n",
       "      <td>Common</td>\n",
       "      <td>Breeder</td>\n",
       "      <td>Least Concern</td>\n",
       "      <td>False</td>\n",
       "    </tr>\n",
       "  </tbody>\n",
       "</table>\n",
       "</div>"
      ]
     },
     "execution_count": 384,
     "metadata": {},
     "output_type": "execute_result"
    }
   ],
   "execution_count": 384
  },
  {
   "metadata": {
    "ExecuteTime": {
     "end_time": "2024-09-05T21:22:48.332024Z",
     "start_time": "2024-09-05T21:22:48.327141Z"
    }
   },
   "cell_type": "code",
   "source": [
    "# Change manually for genus species records and numeric/strange characters\n",
    "birds.loc[111, 'common_names'] = 'Black Guillemot'\n",
    "birds.loc[26297, 'common_names'] = \"Yellow Warbler\"\n",
    "birds.loc[26777, 'common_names'] = \"Pileated Woodpecker\"\n",
    "birds.loc[19387, 'common_names'] = 'Northern Three-Toed Woodpecker'\n",
    "birds.loc[42377, 'common_names'] = \"Lucy's Warbler\""
   ],
   "id": "c69b155575206a49",
   "outputs": [],
   "execution_count": 385
  },
  {
   "metadata": {
    "ExecuteTime": {
     "end_time": "2024-09-05T21:22:48.386783Z",
     "start_time": "2024-09-05T21:22:48.375172Z"
    }
   },
   "cell_type": "code",
   "source": [
    "tyrannus_mix = birds[birds['scientific_name'].str.contains(\"Tyrannus melancholicus couchii\", na=False)]\n",
    "tyrannus_mix"
   ],
   "id": "63158f47ee795c26",
   "outputs": [
    {
     "data": {
      "text/plain": [
       "      species_id park_code     park_name          order      family  \\\n",
       "30773  DRTO-1249      DRTO  Dry Tortugas  Passeriformes  Tyrannidae   \n",
       "\n",
       "                      scientific_name  \\\n",
       "30773  Tyrannus melancholicus couchii   \n",
       "\n",
       "                                            common_names record_status  \\\n",
       "30773  \"Tropical\" Kingbird,In Review,Present,Not Nati...      Approved   \n",
       "\n",
       "      occurrence nativeness abundance seasonality conservation_status  \\\n",
       "30773    Present     Native  Uncommon   Migratory       Least Concern   \n",
       "\n",
       "       is_protected  \n",
       "30773         False  "
      ],
      "text/html": [
       "<div>\n",
       "<style scoped>\n",
       "    .dataframe tbody tr th:only-of-type {\n",
       "        vertical-align: middle;\n",
       "    }\n",
       "\n",
       "    .dataframe tbody tr th {\n",
       "        vertical-align: top;\n",
       "    }\n",
       "\n",
       "    .dataframe thead th {\n",
       "        text-align: right;\n",
       "    }\n",
       "</style>\n",
       "<table border=\"1\" class=\"dataframe\">\n",
       "  <thead>\n",
       "    <tr style=\"text-align: right;\">\n",
       "      <th></th>\n",
       "      <th>species_id</th>\n",
       "      <th>park_code</th>\n",
       "      <th>park_name</th>\n",
       "      <th>order</th>\n",
       "      <th>family</th>\n",
       "      <th>scientific_name</th>\n",
       "      <th>common_names</th>\n",
       "      <th>record_status</th>\n",
       "      <th>occurrence</th>\n",
       "      <th>nativeness</th>\n",
       "      <th>abundance</th>\n",
       "      <th>seasonality</th>\n",
       "      <th>conservation_status</th>\n",
       "      <th>is_protected</th>\n",
       "    </tr>\n",
       "  </thead>\n",
       "  <tbody>\n",
       "    <tr>\n",
       "      <th>30773</th>\n",
       "      <td>DRTO-1249</td>\n",
       "      <td>DRTO</td>\n",
       "      <td>Dry Tortugas</td>\n",
       "      <td>Passeriformes</td>\n",
       "      <td>Tyrannidae</td>\n",
       "      <td>Tyrannus melancholicus couchii</td>\n",
       "      <td>\"Tropical\" Kingbird,In Review,Present,Not Nati...</td>\n",
       "      <td>Approved</td>\n",
       "      <td>Present</td>\n",
       "      <td>Native</td>\n",
       "      <td>Uncommon</td>\n",
       "      <td>Migratory</td>\n",
       "      <td>Least Concern</td>\n",
       "      <td>False</td>\n",
       "    </tr>\n",
       "  </tbody>\n",
       "</table>\n",
       "</div>"
      ]
     },
     "execution_count": 386,
     "metadata": {},
     "output_type": "execute_result"
    }
   ],
   "execution_count": 386
  },
  {
   "metadata": {},
   "cell_type": "markdown",
   "source": "The above record is an absolute mess",
   "id": "dcab0a8549a9a2f"
  },
  {
   "metadata": {
    "ExecuteTime": {
     "end_time": "2024-09-05T21:22:48.489669Z",
     "start_time": "2024-09-05T21:22:48.476791Z"
    }
   },
   "cell_type": "code",
   "source": [
    "tyrannus1 = birds[birds['scientific_name'].str.contains(\"Tyrannus melancholicus\", na=False)]\n",
    "tyrannus1"
   ],
   "id": "e0c8a5b71aea6121",
   "outputs": [
    {
     "data": {
      "text/plain": [
       "      species_id park_code     park_name          order      family  \\\n",
       "4588   BIBE-1442      BIBE      Big Bend  Passeriformes  Tyrannidae   \n",
       "26742  DEVA-1657      DEVA  Death Valley  Passeriformes  Tyrannidae   \n",
       "30773  DRTO-1249      DRTO  Dry Tortugas  Passeriformes  Tyrannidae   \n",
       "88216  REDW-1574      REDW       Redwood  Passeriformes  Tyrannidae   \n",
       "\n",
       "                      scientific_name  \\\n",
       "4588           Tyrannus melancholicus   \n",
       "26742          Tyrannus melancholicus   \n",
       "30773  Tyrannus melancholicus couchii   \n",
       "88216          Tyrannus melancholicus   \n",
       "\n",
       "                                            common_names record_status  \\\n",
       "4588                                   Tropical Kingbird      Approved   \n",
       "26742                                  Tropical Kingbird      Approved   \n",
       "30773  \"Tropical\" Kingbird,In Review,Present,Not Nati...      Approved   \n",
       "88216                                  Tropical Kingbird      Approved   \n",
       "\n",
       "      occurrence  nativeness   abundance seasonality conservation_status  \\\n",
       "4588     Present      Native    Uncommon     Breeder       Least Concern   \n",
       "26742    Present      Native  Occasional     Vagrant       Least Concern   \n",
       "30773    Present      Native    Uncommon   Migratory       Least Concern   \n",
       "88216    Present  Not Native  Occasional     Vagrant       Least Concern   \n",
       "\n",
       "       is_protected  \n",
       "4588          False  \n",
       "26742         False  \n",
       "30773         False  \n",
       "88216         False  "
      ],
      "text/html": [
       "<div>\n",
       "<style scoped>\n",
       "    .dataframe tbody tr th:only-of-type {\n",
       "        vertical-align: middle;\n",
       "    }\n",
       "\n",
       "    .dataframe tbody tr th {\n",
       "        vertical-align: top;\n",
       "    }\n",
       "\n",
       "    .dataframe thead th {\n",
       "        text-align: right;\n",
       "    }\n",
       "</style>\n",
       "<table border=\"1\" class=\"dataframe\">\n",
       "  <thead>\n",
       "    <tr style=\"text-align: right;\">\n",
       "      <th></th>\n",
       "      <th>species_id</th>\n",
       "      <th>park_code</th>\n",
       "      <th>park_name</th>\n",
       "      <th>order</th>\n",
       "      <th>family</th>\n",
       "      <th>scientific_name</th>\n",
       "      <th>common_names</th>\n",
       "      <th>record_status</th>\n",
       "      <th>occurrence</th>\n",
       "      <th>nativeness</th>\n",
       "      <th>abundance</th>\n",
       "      <th>seasonality</th>\n",
       "      <th>conservation_status</th>\n",
       "      <th>is_protected</th>\n",
       "    </tr>\n",
       "  </thead>\n",
       "  <tbody>\n",
       "    <tr>\n",
       "      <th>4588</th>\n",
       "      <td>BIBE-1442</td>\n",
       "      <td>BIBE</td>\n",
       "      <td>Big Bend</td>\n",
       "      <td>Passeriformes</td>\n",
       "      <td>Tyrannidae</td>\n",
       "      <td>Tyrannus melancholicus</td>\n",
       "      <td>Tropical Kingbird</td>\n",
       "      <td>Approved</td>\n",
       "      <td>Present</td>\n",
       "      <td>Native</td>\n",
       "      <td>Uncommon</td>\n",
       "      <td>Breeder</td>\n",
       "      <td>Least Concern</td>\n",
       "      <td>False</td>\n",
       "    </tr>\n",
       "    <tr>\n",
       "      <th>26742</th>\n",
       "      <td>DEVA-1657</td>\n",
       "      <td>DEVA</td>\n",
       "      <td>Death Valley</td>\n",
       "      <td>Passeriformes</td>\n",
       "      <td>Tyrannidae</td>\n",
       "      <td>Tyrannus melancholicus</td>\n",
       "      <td>Tropical Kingbird</td>\n",
       "      <td>Approved</td>\n",
       "      <td>Present</td>\n",
       "      <td>Native</td>\n",
       "      <td>Occasional</td>\n",
       "      <td>Vagrant</td>\n",
       "      <td>Least Concern</td>\n",
       "      <td>False</td>\n",
       "    </tr>\n",
       "    <tr>\n",
       "      <th>30773</th>\n",
       "      <td>DRTO-1249</td>\n",
       "      <td>DRTO</td>\n",
       "      <td>Dry Tortugas</td>\n",
       "      <td>Passeriformes</td>\n",
       "      <td>Tyrannidae</td>\n",
       "      <td>Tyrannus melancholicus couchii</td>\n",
       "      <td>\"Tropical\" Kingbird,In Review,Present,Not Nati...</td>\n",
       "      <td>Approved</td>\n",
       "      <td>Present</td>\n",
       "      <td>Native</td>\n",
       "      <td>Uncommon</td>\n",
       "      <td>Migratory</td>\n",
       "      <td>Least Concern</td>\n",
       "      <td>False</td>\n",
       "    </tr>\n",
       "    <tr>\n",
       "      <th>88216</th>\n",
       "      <td>REDW-1574</td>\n",
       "      <td>REDW</td>\n",
       "      <td>Redwood</td>\n",
       "      <td>Passeriformes</td>\n",
       "      <td>Tyrannidae</td>\n",
       "      <td>Tyrannus melancholicus</td>\n",
       "      <td>Tropical Kingbird</td>\n",
       "      <td>Approved</td>\n",
       "      <td>Present</td>\n",
       "      <td>Not Native</td>\n",
       "      <td>Occasional</td>\n",
       "      <td>Vagrant</td>\n",
       "      <td>Least Concern</td>\n",
       "      <td>False</td>\n",
       "    </tr>\n",
       "  </tbody>\n",
       "</table>\n",
       "</div>"
      ]
     },
     "execution_count": 387,
     "metadata": {},
     "output_type": "execute_result"
    }
   ],
   "execution_count": 387
  },
  {
   "metadata": {
    "ExecuteTime": {
     "end_time": "2024-09-05T21:22:48.622164Z",
     "start_time": "2024-09-05T21:22:48.610013Z"
    }
   },
   "cell_type": "code",
   "source": [
    "tyrannus2 = birds[birds['scientific_name'].str.contains(\"Tyrannus couchii\", na=False)]\n",
    "tyrannus2"
   ],
   "id": "666f929f194eb35e",
   "outputs": [
    {
     "data": {
      "text/plain": [
       "     species_id park_code park_name          order      family  \\\n",
       "4585  BIBE-1439      BIBE  Big Bend  Passeriformes  Tyrannidae   \n",
       "\n",
       "       scientific_name      common_names record_status occurrence nativeness  \\\n",
       "4585  Tyrannus couchii  Couch's Kingbird      Approved    Present     Native   \n",
       "\n",
       "     abundance seasonality conservation_status  is_protected  \n",
       "4585      Rare     Breeder       Least Concern         False  "
      ],
      "text/html": [
       "<div>\n",
       "<style scoped>\n",
       "    .dataframe tbody tr th:only-of-type {\n",
       "        vertical-align: middle;\n",
       "    }\n",
       "\n",
       "    .dataframe tbody tr th {\n",
       "        vertical-align: top;\n",
       "    }\n",
       "\n",
       "    .dataframe thead th {\n",
       "        text-align: right;\n",
       "    }\n",
       "</style>\n",
       "<table border=\"1\" class=\"dataframe\">\n",
       "  <thead>\n",
       "    <tr style=\"text-align: right;\">\n",
       "      <th></th>\n",
       "      <th>species_id</th>\n",
       "      <th>park_code</th>\n",
       "      <th>park_name</th>\n",
       "      <th>order</th>\n",
       "      <th>family</th>\n",
       "      <th>scientific_name</th>\n",
       "      <th>common_names</th>\n",
       "      <th>record_status</th>\n",
       "      <th>occurrence</th>\n",
       "      <th>nativeness</th>\n",
       "      <th>abundance</th>\n",
       "      <th>seasonality</th>\n",
       "      <th>conservation_status</th>\n",
       "      <th>is_protected</th>\n",
       "    </tr>\n",
       "  </thead>\n",
       "  <tbody>\n",
       "    <tr>\n",
       "      <th>4585</th>\n",
       "      <td>BIBE-1439</td>\n",
       "      <td>BIBE</td>\n",
       "      <td>Big Bend</td>\n",
       "      <td>Passeriformes</td>\n",
       "      <td>Tyrannidae</td>\n",
       "      <td>Tyrannus couchii</td>\n",
       "      <td>Couch's Kingbird</td>\n",
       "      <td>Approved</td>\n",
       "      <td>Present</td>\n",
       "      <td>Native</td>\n",
       "      <td>Rare</td>\n",
       "      <td>Breeder</td>\n",
       "      <td>Least Concern</td>\n",
       "      <td>False</td>\n",
       "    </tr>\n",
       "  </tbody>\n",
       "</table>\n",
       "</div>"
      ]
     },
     "execution_count": 388,
     "metadata": {},
     "output_type": "execute_result"
    }
   ],
   "execution_count": 388
  },
  {
   "metadata": {
    "ExecuteTime": {
     "end_time": "2024-09-05T21:22:48.784760Z",
     "start_time": "2024-09-05T21:22:48.779366Z"
    }
   },
   "cell_type": "code",
   "source": [
    "# Drop the record with index 30773\n",
    "birds.drop(index=30773, inplace=True)\n",
    "\n",
    "# Verify the record has been dropped\n",
    "assert not 30773 in birds.index, \"30773 exists in birds df\""
   ],
   "id": "2370254adcc6a31c",
   "outputs": [],
   "execution_count": 389
  },
  {
   "metadata": {
    "ExecuteTime": {
     "end_time": "2024-09-05T21:22:48.885756Z",
     "start_time": "2024-09-05T21:22:48.877064Z"
    }
   },
   "cell_type": "code",
   "source": [
    "print(f\"There are {birds.species_id.nunique()} records\")\n",
    "print(f\"There are {birds.common_names.nunique()} unique common names\")\n",
    "print(f\"There are {birds.scientific_name.nunique()} unique scientific names\")\n",
    "print(f\"There are {birds.family.nunique()} unique families\")"
   ],
   "id": "2e83d7c769bb22b4",
   "outputs": [
    {
     "name": "stdout",
     "output_type": "stream",
     "text": [
      "There are 14451 records\n",
      "There are 1062 unique common names\n",
      "There are 1319 unique scientific names\n",
      "There are 86 unique families\n"
     ]
    }
   ],
   "execution_count": 390
  },
  {
   "metadata": {},
   "cell_type": "markdown",
   "source": [
    "----\n",
    "&nbsp;\n",
    "### Finding typos under `scientific_name`, normalising subspecies"
   ],
   "id": "b33b1f1de9f775f1"
  },
  {
   "metadata": {
    "ExecuteTime": {
     "end_time": "2024-09-05T21:22:50.488631Z",
     "start_time": "2024-09-05T21:22:48.978591Z"
    }
   },
   "cell_type": "code",
   "source": [
    "# Step 1: Generate the common name counts for each scientific name\n",
    "sci_name_common_name_counts = {}\n",
    "\n",
    "for sci_name in birds['scientific_name'].unique():\n",
    "    # Extract common names associated with the current scientific name\n",
    "    common_names = birds[birds['scientific_name'] == sci_name]['common_names']\n",
    "    # Count occurrences of each common name\n",
    "    all_common_names = [name.strip() for names in common_names.dropna() for name in names.split(',')]\n",
    "    sci_name_common_name_counts[sci_name] = Counter(all_common_names)"
   ],
   "id": "f188ef0c402123b0",
   "outputs": [],
   "execution_count": 391
  },
  {
   "metadata": {
    "ExecuteTime": {
     "end_time": "2024-09-05T21:22:50.632587Z",
     "start_time": "2024-09-05T21:22:50.630063Z"
    }
   },
   "cell_type": "code",
   "source": "print(len(sci_name_common_name_counts))",
   "id": "7d4c25cbd838dba5",
   "outputs": [
    {
     "name": "stdout",
     "output_type": "stream",
     "text": [
      "1319\n"
     ]
    }
   ],
   "execution_count": 392
  },
  {
   "metadata": {},
   "cell_type": "markdown",
   "source": [
    "##### Cross-referencing potential typos with the common name counts will provide a data-driven way to determine which scientific name is likely correct. \n",
    "We do not have domain expertise in taxonomic nomenclature or ornithology..."
   ],
   "id": "af3c127358f88d5f"
  },
  {
   "metadata": {
    "ExecuteTime": {
     "end_time": "2024-09-05T21:22:50.805770Z",
     "start_time": "2024-09-05T21:22:50.772795Z"
    }
   },
   "cell_type": "code",
   "source": [
    "# DataFrame ordered by scientific name in ascending order\n",
    "birds_sorted = birds.sort_values(by='scientific_name', ascending=True)\n",
    "\n",
    "two_word_sci_names = birds_sorted[birds_sorted['scientific_name'].str.split().str.len() == 2]\n",
    "three_or_more_word_sci_names = birds_sorted[birds_sorted['scientific_name'].str.split().str.len() >= 3]"
   ],
   "id": "7a33b99f99192391",
   "outputs": [],
   "execution_count": 393
  },
  {
   "metadata": {
    "ExecuteTime": {
     "end_time": "2024-09-05T21:22:50.954594Z",
     "start_time": "2024-09-05T21:22:50.945624Z"
    }
   },
   "cell_type": "code",
   "source": [
    "print(f\"Shape: {two_word_sci_names.shape}\")\n",
    "two_word_sci_names.head()"
   ],
   "id": "a7b446eabc95f838",
   "outputs": [
    {
     "name": "stdout",
     "output_type": "stream",
     "text": [
      "Shape: (13925, 14)\n"
     ]
    },
    {
     "data": {
      "text/plain": [
       "       species_id park_code     park_name            order        family  \\\n",
       "24922   DENA-1157      DENA        Denali    Passeriformes  Fringillidae   \n",
       "26573   DEVA-1488      DEVA  Death Valley    Passeriformes  Fringillidae   \n",
       "42299   GRCA-1324      GRCA  Grand Canyon    Passeriformes  Fringillidae   \n",
       "111658  YELL-1260      YELL   Yellowstone    Passeriformes  Fringillidae   \n",
       "55      ACAD-1055      ACAD        Acadia  Accipitriformes  Accipitridae   \n",
       "\n",
       "           scientific_name             common_names record_status  \\\n",
       "24922     Acanthis flammea           Common Redpoll      Approved   \n",
       "26573     Acanthis flammea           Common Redpoll      Approved   \n",
       "42299     Acanthis flammea           Common Redpoll      Approved   \n",
       "111658    Acanthus flammea  Common Redpoll, Redpoll      Approved   \n",
       "55      Accipiter cooperii            Cooper's Hawk      Approved   \n",
       "\n",
       "                        occurrence nativeness   abundance seasonality  \\\n",
       "24922   Not Present (False Report)     Native     Unknown     Unknown   \n",
       "26573   Not Present (False Report)     Native     Unknown     Unknown   \n",
       "42299                      Present     Native  Occasional     Vagrant   \n",
       "111658                     Present     Native    Uncommon      Winter   \n",
       "55                         Present     Native    Uncommon     Unknown   \n",
       "\n",
       "       conservation_status  is_protected  \n",
       "24922        Least Concern         False  \n",
       "26573        Least Concern         False  \n",
       "42299        Least Concern         False  \n",
       "111658       Least Concern         False  \n",
       "55      Species of Concern          True  "
      ],
      "text/html": [
       "<div>\n",
       "<style scoped>\n",
       "    .dataframe tbody tr th:only-of-type {\n",
       "        vertical-align: middle;\n",
       "    }\n",
       "\n",
       "    .dataframe tbody tr th {\n",
       "        vertical-align: top;\n",
       "    }\n",
       "\n",
       "    .dataframe thead th {\n",
       "        text-align: right;\n",
       "    }\n",
       "</style>\n",
       "<table border=\"1\" class=\"dataframe\">\n",
       "  <thead>\n",
       "    <tr style=\"text-align: right;\">\n",
       "      <th></th>\n",
       "      <th>species_id</th>\n",
       "      <th>park_code</th>\n",
       "      <th>park_name</th>\n",
       "      <th>order</th>\n",
       "      <th>family</th>\n",
       "      <th>scientific_name</th>\n",
       "      <th>common_names</th>\n",
       "      <th>record_status</th>\n",
       "      <th>occurrence</th>\n",
       "      <th>nativeness</th>\n",
       "      <th>abundance</th>\n",
       "      <th>seasonality</th>\n",
       "      <th>conservation_status</th>\n",
       "      <th>is_protected</th>\n",
       "    </tr>\n",
       "  </thead>\n",
       "  <tbody>\n",
       "    <tr>\n",
       "      <th>24922</th>\n",
       "      <td>DENA-1157</td>\n",
       "      <td>DENA</td>\n",
       "      <td>Denali</td>\n",
       "      <td>Passeriformes</td>\n",
       "      <td>Fringillidae</td>\n",
       "      <td>Acanthis flammea</td>\n",
       "      <td>Common Redpoll</td>\n",
       "      <td>Approved</td>\n",
       "      <td>Not Present (False Report)</td>\n",
       "      <td>Native</td>\n",
       "      <td>Unknown</td>\n",
       "      <td>Unknown</td>\n",
       "      <td>Least Concern</td>\n",
       "      <td>False</td>\n",
       "    </tr>\n",
       "    <tr>\n",
       "      <th>26573</th>\n",
       "      <td>DEVA-1488</td>\n",
       "      <td>DEVA</td>\n",
       "      <td>Death Valley</td>\n",
       "      <td>Passeriformes</td>\n",
       "      <td>Fringillidae</td>\n",
       "      <td>Acanthis flammea</td>\n",
       "      <td>Common Redpoll</td>\n",
       "      <td>Approved</td>\n",
       "      <td>Not Present (False Report)</td>\n",
       "      <td>Native</td>\n",
       "      <td>Unknown</td>\n",
       "      <td>Unknown</td>\n",
       "      <td>Least Concern</td>\n",
       "      <td>False</td>\n",
       "    </tr>\n",
       "    <tr>\n",
       "      <th>42299</th>\n",
       "      <td>GRCA-1324</td>\n",
       "      <td>GRCA</td>\n",
       "      <td>Grand Canyon</td>\n",
       "      <td>Passeriformes</td>\n",
       "      <td>Fringillidae</td>\n",
       "      <td>Acanthis flammea</td>\n",
       "      <td>Common Redpoll</td>\n",
       "      <td>Approved</td>\n",
       "      <td>Present</td>\n",
       "      <td>Native</td>\n",
       "      <td>Occasional</td>\n",
       "      <td>Vagrant</td>\n",
       "      <td>Least Concern</td>\n",
       "      <td>False</td>\n",
       "    </tr>\n",
       "    <tr>\n",
       "      <th>111658</th>\n",
       "      <td>YELL-1260</td>\n",
       "      <td>YELL</td>\n",
       "      <td>Yellowstone</td>\n",
       "      <td>Passeriformes</td>\n",
       "      <td>Fringillidae</td>\n",
       "      <td>Acanthus flammea</td>\n",
       "      <td>Common Redpoll, Redpoll</td>\n",
       "      <td>Approved</td>\n",
       "      <td>Present</td>\n",
       "      <td>Native</td>\n",
       "      <td>Uncommon</td>\n",
       "      <td>Winter</td>\n",
       "      <td>Least Concern</td>\n",
       "      <td>False</td>\n",
       "    </tr>\n",
       "    <tr>\n",
       "      <th>55</th>\n",
       "      <td>ACAD-1055</td>\n",
       "      <td>ACAD</td>\n",
       "      <td>Acadia</td>\n",
       "      <td>Accipitriformes</td>\n",
       "      <td>Accipitridae</td>\n",
       "      <td>Accipiter cooperii</td>\n",
       "      <td>Cooper's Hawk</td>\n",
       "      <td>Approved</td>\n",
       "      <td>Present</td>\n",
       "      <td>Native</td>\n",
       "      <td>Uncommon</td>\n",
       "      <td>Unknown</td>\n",
       "      <td>Species of Concern</td>\n",
       "      <td>True</td>\n",
       "    </tr>\n",
       "  </tbody>\n",
       "</table>\n",
       "</div>"
      ]
     },
     "execution_count": 394,
     "metadata": {},
     "output_type": "execute_result"
    }
   ],
   "execution_count": 394
  },
  {
   "metadata": {
    "ExecuteTime": {
     "end_time": "2024-09-05T21:22:51.141286Z",
     "start_time": "2024-09-05T21:22:51.131836Z"
    }
   },
   "cell_type": "code",
   "source": [
    "print(f\"Shape: {three_or_more_word_sci_names.shape}\")\n",
    "three_or_more_word_sci_names.head()"
   ],
   "id": "3cbac272ed0a8698",
   "outputs": [
    {
     "name": "stdout",
     "output_type": "stream",
     "text": [
      "Shape: (526, 14)\n"
     ]
    },
    {
     "data": {
      "text/plain": [
       "      species_id park_code      park_name            order        family  \\\n",
       "78390  MORA-1070      MORA  Mount Rainier  Accipitriformes  Accipitridae   \n",
       "78391  MORA-1071      MORA  Mount Rainier  Accipitriformes  Accipitridae   \n",
       "61880  HOSP-1054      HOSP    Hot Springs  Accipitriformes  Accipitridae   \n",
       "39433  GRBA-1111      GRBA    Great Basin  Accipitriformes  Accipitridae   \n",
       "42133  GRCA-1158      GRCA   Grand Canyon      Apodiformes      Apodidae   \n",
       "\n",
       "                       scientific_name                           common_names  \\\n",
       "78390  Accipiter gentilis atricapillus                        Western Goshawk   \n",
       "78391        Accipiter gentilis laingi                                Goshawk   \n",
       "61880         Accipiter striatus velox  Sharp-Shinned Hawk (velox subspecies)   \n",
       "39433         Accipiter striatus velox  Sharp-Shinned Hawk (velox subspecies)   \n",
       "42133   Aeronautes saxatalis saxatalis                   White-Throated Swift   \n",
       "\n",
       "      record_status                  occurrence nativeness abundance  \\\n",
       "78390      Approved                     Present     Native  Uncommon   \n",
       "78391      Approved  Not Present (False Report)     Native   Unknown   \n",
       "61880      Approved               Not Confirmed    Unknown   Unknown   \n",
       "39433      Approved                     Present     Native   Unknown   \n",
       "42133      Approved                     Present     Native    Common   \n",
       "\n",
       "      seasonality conservation_status  is_protected  \n",
       "78390     Breeder       Least Concern         False  \n",
       "78391     Unknown       Least Concern         False  \n",
       "61880     Unknown       Least Concern         False  \n",
       "39433     Unknown       Least Concern         False  \n",
       "42133     Breeder       Least Concern         False  "
      ],
      "text/html": [
       "<div>\n",
       "<style scoped>\n",
       "    .dataframe tbody tr th:only-of-type {\n",
       "        vertical-align: middle;\n",
       "    }\n",
       "\n",
       "    .dataframe tbody tr th {\n",
       "        vertical-align: top;\n",
       "    }\n",
       "\n",
       "    .dataframe thead th {\n",
       "        text-align: right;\n",
       "    }\n",
       "</style>\n",
       "<table border=\"1\" class=\"dataframe\">\n",
       "  <thead>\n",
       "    <tr style=\"text-align: right;\">\n",
       "      <th></th>\n",
       "      <th>species_id</th>\n",
       "      <th>park_code</th>\n",
       "      <th>park_name</th>\n",
       "      <th>order</th>\n",
       "      <th>family</th>\n",
       "      <th>scientific_name</th>\n",
       "      <th>common_names</th>\n",
       "      <th>record_status</th>\n",
       "      <th>occurrence</th>\n",
       "      <th>nativeness</th>\n",
       "      <th>abundance</th>\n",
       "      <th>seasonality</th>\n",
       "      <th>conservation_status</th>\n",
       "      <th>is_protected</th>\n",
       "    </tr>\n",
       "  </thead>\n",
       "  <tbody>\n",
       "    <tr>\n",
       "      <th>78390</th>\n",
       "      <td>MORA-1070</td>\n",
       "      <td>MORA</td>\n",
       "      <td>Mount Rainier</td>\n",
       "      <td>Accipitriformes</td>\n",
       "      <td>Accipitridae</td>\n",
       "      <td>Accipiter gentilis atricapillus</td>\n",
       "      <td>Western Goshawk</td>\n",
       "      <td>Approved</td>\n",
       "      <td>Present</td>\n",
       "      <td>Native</td>\n",
       "      <td>Uncommon</td>\n",
       "      <td>Breeder</td>\n",
       "      <td>Least Concern</td>\n",
       "      <td>False</td>\n",
       "    </tr>\n",
       "    <tr>\n",
       "      <th>78391</th>\n",
       "      <td>MORA-1071</td>\n",
       "      <td>MORA</td>\n",
       "      <td>Mount Rainier</td>\n",
       "      <td>Accipitriformes</td>\n",
       "      <td>Accipitridae</td>\n",
       "      <td>Accipiter gentilis laingi</td>\n",
       "      <td>Goshawk</td>\n",
       "      <td>Approved</td>\n",
       "      <td>Not Present (False Report)</td>\n",
       "      <td>Native</td>\n",
       "      <td>Unknown</td>\n",
       "      <td>Unknown</td>\n",
       "      <td>Least Concern</td>\n",
       "      <td>False</td>\n",
       "    </tr>\n",
       "    <tr>\n",
       "      <th>61880</th>\n",
       "      <td>HOSP-1054</td>\n",
       "      <td>HOSP</td>\n",
       "      <td>Hot Springs</td>\n",
       "      <td>Accipitriformes</td>\n",
       "      <td>Accipitridae</td>\n",
       "      <td>Accipiter striatus velox</td>\n",
       "      <td>Sharp-Shinned Hawk (velox subspecies)</td>\n",
       "      <td>Approved</td>\n",
       "      <td>Not Confirmed</td>\n",
       "      <td>Unknown</td>\n",
       "      <td>Unknown</td>\n",
       "      <td>Unknown</td>\n",
       "      <td>Least Concern</td>\n",
       "      <td>False</td>\n",
       "    </tr>\n",
       "    <tr>\n",
       "      <th>39433</th>\n",
       "      <td>GRBA-1111</td>\n",
       "      <td>GRBA</td>\n",
       "      <td>Great Basin</td>\n",
       "      <td>Accipitriformes</td>\n",
       "      <td>Accipitridae</td>\n",
       "      <td>Accipiter striatus velox</td>\n",
       "      <td>Sharp-Shinned Hawk (velox subspecies)</td>\n",
       "      <td>Approved</td>\n",
       "      <td>Present</td>\n",
       "      <td>Native</td>\n",
       "      <td>Unknown</td>\n",
       "      <td>Unknown</td>\n",
       "      <td>Least Concern</td>\n",
       "      <td>False</td>\n",
       "    </tr>\n",
       "    <tr>\n",
       "      <th>42133</th>\n",
       "      <td>GRCA-1158</td>\n",
       "      <td>GRCA</td>\n",
       "      <td>Grand Canyon</td>\n",
       "      <td>Apodiformes</td>\n",
       "      <td>Apodidae</td>\n",
       "      <td>Aeronautes saxatalis saxatalis</td>\n",
       "      <td>White-Throated Swift</td>\n",
       "      <td>Approved</td>\n",
       "      <td>Present</td>\n",
       "      <td>Native</td>\n",
       "      <td>Common</td>\n",
       "      <td>Breeder</td>\n",
       "      <td>Least Concern</td>\n",
       "      <td>False</td>\n",
       "    </tr>\n",
       "  </tbody>\n",
       "</table>\n",
       "</div>"
      ]
     },
     "execution_count": 395,
     "metadata": {},
     "output_type": "execute_result"
    }
   ],
   "execution_count": 395
  },
  {
   "metadata": {},
   "cell_type": "markdown",
   "source": [
    "----\n",
    "&nbsp;\n",
    "#### Reviewing `scientific_name` for multiple comma-separated entries under `common_names`"
   ],
   "id": "461a019993bcff42"
  },
  {
   "metadata": {
    "ExecuteTime": {
     "end_time": "2024-09-05T21:22:51.277632Z",
     "start_time": "2024-09-05T21:22:51.264410Z"
    }
   },
   "cell_type": "code",
   "source": [
    "# Isolate records with comma-separated common names\n",
    "comma_separated_common_names = two_word_sci_names[two_word_sci_names['common_names'].str.contains(',', na=False)]\n",
    "\n",
    "print(f\"Shape: {comma_separated_common_names.shape}\")\n",
    "comma_separated_common_names.head()"
   ],
   "id": "3281032929d2fa7e",
   "outputs": [
    {
     "name": "stdout",
     "output_type": "stream",
     "text": [
      "Shape: (153, 14)\n"
     ]
    },
    {
     "data": {
      "text/plain": [
       "       species_id park_code    park_name            order        family  \\\n",
       "111658  YELL-1260      YELL  Yellowstone    Passeriformes  Fringillidae   \n",
       "109     ACAD-1109      ACAD       Acadia  Charadriiformes       Alcidae   \n",
       "31592   EVER-1220      EVER   Everglades    Passeriformes   Emberizidae   \n",
       "62041   HOSP-1215      HOSP  Hot Springs    Passeriformes   Emberizidae   \n",
       "227     ACAD-1227      ACAD       Acadia    Passeriformes   Emberizidae   \n",
       "\n",
       "              scientific_name  \\\n",
       "111658       Acanthus flammea   \n",
       "109                Alca torda   \n",
       "31592   Ammodramus caudacutus   \n",
       "62041   Ammodramus caudacutus   \n",
       "227     Ammodramus caudacutus   \n",
       "\n",
       "                                             common_names record_status  \\\n",
       "111658                            Common Redpoll, Redpoll      Approved   \n",
       "109                  Northern Razor-Billed Auk, Razorbill      Approved   \n",
       "31592   Saltmarsh Sharp-Tailed Sparrow, Saltmarsh Sparrow      Approved   \n",
       "62041   Saltmarsh Sharp-Tailed Sparrow, Saltmarsh Sparrow      Approved   \n",
       "227     Saltmarsh Sharp-Tailed Sparrow, Saltmarsh Sparrow      Approved   \n",
       "\n",
       "                        occurrence nativeness abundance seasonality  \\\n",
       "111658                     Present     Native  Uncommon      Winter   \n",
       "109                  Not Confirmed    Unknown   Unknown     Unknown   \n",
       "31592                      Present     Native  Uncommon    Resident   \n",
       "62041   Not Present (False Report)    Unknown   Unknown     Unknown   \n",
       "227     Not Present (False Report)    Unknown   Unknown     Unknown   \n",
       "\n",
       "       conservation_status  is_protected  \n",
       "111658       Least Concern         False  \n",
       "109          Least Concern         False  \n",
       "31592        Least Concern         False  \n",
       "62041        Least Concern         False  \n",
       "227          Least Concern         False  "
      ],
      "text/html": [
       "<div>\n",
       "<style scoped>\n",
       "    .dataframe tbody tr th:only-of-type {\n",
       "        vertical-align: middle;\n",
       "    }\n",
       "\n",
       "    .dataframe tbody tr th {\n",
       "        vertical-align: top;\n",
       "    }\n",
       "\n",
       "    .dataframe thead th {\n",
       "        text-align: right;\n",
       "    }\n",
       "</style>\n",
       "<table border=\"1\" class=\"dataframe\">\n",
       "  <thead>\n",
       "    <tr style=\"text-align: right;\">\n",
       "      <th></th>\n",
       "      <th>species_id</th>\n",
       "      <th>park_code</th>\n",
       "      <th>park_name</th>\n",
       "      <th>order</th>\n",
       "      <th>family</th>\n",
       "      <th>scientific_name</th>\n",
       "      <th>common_names</th>\n",
       "      <th>record_status</th>\n",
       "      <th>occurrence</th>\n",
       "      <th>nativeness</th>\n",
       "      <th>abundance</th>\n",
       "      <th>seasonality</th>\n",
       "      <th>conservation_status</th>\n",
       "      <th>is_protected</th>\n",
       "    </tr>\n",
       "  </thead>\n",
       "  <tbody>\n",
       "    <tr>\n",
       "      <th>111658</th>\n",
       "      <td>YELL-1260</td>\n",
       "      <td>YELL</td>\n",
       "      <td>Yellowstone</td>\n",
       "      <td>Passeriformes</td>\n",
       "      <td>Fringillidae</td>\n",
       "      <td>Acanthus flammea</td>\n",
       "      <td>Common Redpoll, Redpoll</td>\n",
       "      <td>Approved</td>\n",
       "      <td>Present</td>\n",
       "      <td>Native</td>\n",
       "      <td>Uncommon</td>\n",
       "      <td>Winter</td>\n",
       "      <td>Least Concern</td>\n",
       "      <td>False</td>\n",
       "    </tr>\n",
       "    <tr>\n",
       "      <th>109</th>\n",
       "      <td>ACAD-1109</td>\n",
       "      <td>ACAD</td>\n",
       "      <td>Acadia</td>\n",
       "      <td>Charadriiformes</td>\n",
       "      <td>Alcidae</td>\n",
       "      <td>Alca torda</td>\n",
       "      <td>Northern Razor-Billed Auk, Razorbill</td>\n",
       "      <td>Approved</td>\n",
       "      <td>Not Confirmed</td>\n",
       "      <td>Unknown</td>\n",
       "      <td>Unknown</td>\n",
       "      <td>Unknown</td>\n",
       "      <td>Least Concern</td>\n",
       "      <td>False</td>\n",
       "    </tr>\n",
       "    <tr>\n",
       "      <th>31592</th>\n",
       "      <td>EVER-1220</td>\n",
       "      <td>EVER</td>\n",
       "      <td>Everglades</td>\n",
       "      <td>Passeriformes</td>\n",
       "      <td>Emberizidae</td>\n",
       "      <td>Ammodramus caudacutus</td>\n",
       "      <td>Saltmarsh Sharp-Tailed Sparrow, Saltmarsh Sparrow</td>\n",
       "      <td>Approved</td>\n",
       "      <td>Present</td>\n",
       "      <td>Native</td>\n",
       "      <td>Uncommon</td>\n",
       "      <td>Resident</td>\n",
       "      <td>Least Concern</td>\n",
       "      <td>False</td>\n",
       "    </tr>\n",
       "    <tr>\n",
       "      <th>62041</th>\n",
       "      <td>HOSP-1215</td>\n",
       "      <td>HOSP</td>\n",
       "      <td>Hot Springs</td>\n",
       "      <td>Passeriformes</td>\n",
       "      <td>Emberizidae</td>\n",
       "      <td>Ammodramus caudacutus</td>\n",
       "      <td>Saltmarsh Sharp-Tailed Sparrow, Saltmarsh Sparrow</td>\n",
       "      <td>Approved</td>\n",
       "      <td>Not Present (False Report)</td>\n",
       "      <td>Unknown</td>\n",
       "      <td>Unknown</td>\n",
       "      <td>Unknown</td>\n",
       "      <td>Least Concern</td>\n",
       "      <td>False</td>\n",
       "    </tr>\n",
       "    <tr>\n",
       "      <th>227</th>\n",
       "      <td>ACAD-1227</td>\n",
       "      <td>ACAD</td>\n",
       "      <td>Acadia</td>\n",
       "      <td>Passeriformes</td>\n",
       "      <td>Emberizidae</td>\n",
       "      <td>Ammodramus caudacutus</td>\n",
       "      <td>Saltmarsh Sharp-Tailed Sparrow, Saltmarsh Sparrow</td>\n",
       "      <td>Approved</td>\n",
       "      <td>Not Present (False Report)</td>\n",
       "      <td>Unknown</td>\n",
       "      <td>Unknown</td>\n",
       "      <td>Unknown</td>\n",
       "      <td>Least Concern</td>\n",
       "      <td>False</td>\n",
       "    </tr>\n",
       "  </tbody>\n",
       "</table>\n",
       "</div>"
      ]
     },
     "execution_count": 396,
     "metadata": {},
     "output_type": "execute_result"
    }
   ],
   "execution_count": 396
  },
  {
   "metadata": {
    "ExecuteTime": {
     "end_time": "2024-09-05T21:22:51.651329Z",
     "start_time": "2024-09-05T21:22:51.423752Z"
    }
   },
   "cell_type": "code",
   "source": [
    "subset_sci_names = comma_separated_common_names['scientific_name'].unique()\n",
    "potential_matches = {}\n",
    "\n",
    "for sci_name in subset_sci_names:\n",
    "    # Extract genus and species from the scientific name\n",
    "    genus_species = ' '.join(sci_name.split()[:2])\n",
    "\n",
    "    # Use fuzzy matching to find best matches in the list of all scientific names\n",
    "    matches = process.extract(genus_species, all_sci_names, scorer=fuzz.ratio, limit=5)\n",
    "    high_quality_matches = [match for match in matches if match[1] > 90]\n",
    "\n",
    "    if high_quality_matches:\n",
    "        # Retrieve common names for the matching scientific names\n",
    "        matched_sci_names = [match[0] for match in high_quality_matches]\n",
    "        common_names = birds[birds['scientific_name'].isin(matched_sci_names)]['common_names'].dropna()\n",
    "\n",
    "        # Count occurrences of each full common name as a whole string\n",
    "        common_names_counter = Counter(common_names)\n",
    "\n",
    "        # Only consider potential matches with multiple distinct common names\n",
    "        if len(common_names_counter) > 1:\n",
    "            most_common_name = common_names_counter.most_common(1)\n",
    "\n",
    "            # Store potential matches and the most common name found, along with the counter\n",
    "            potential_matches[sci_name] = {\n",
    "                'matches': high_quality_matches,\n",
    "                'most_common_name': most_common_name[0][0] if most_common_name else 'No common name found',\n",
    "                'common_name_counts': common_names_counter  # Include the Counter object with counts of full strings\n",
    "            }"
   ],
   "id": "167578fd54cbe084",
   "outputs": [],
   "execution_count": 397
  },
  {
   "metadata": {
    "ExecuteTime": {
     "end_time": "2024-09-05T21:22:51.687914Z",
     "start_time": "2024-09-05T21:22:51.683841Z"
    }
   },
   "cell_type": "code",
   "source": [
    "print(f\"Potential matches: {len(potential_matches)}\")\n",
    "for sci_name, info in potential_matches.items():\n",
    "    print(f\"\\nPotential matches for '{sci_name}':\")\n",
    "    for match in info['matches']:\n",
    "        print(f\"  - {match[0]} (Similarity Score: {match[1]})\")\n",
    "    print(f\"Most common common name: {info['most_common_name']}\")\n",
    "    print(f\"Common name counts: {info['common_name_counts']}\") "
   ],
   "id": "f4d1a9df0c6f90be",
   "outputs": [
    {
     "name": "stdout",
     "output_type": "stream",
     "text": [
      "Potential matches: 3\n",
      "\n",
      "Potential matches for 'Acanthus flammea':\n",
      "  - Acanthus flammea (Similarity Score: 100)\n",
      "  - Acanthis flammea (Similarity Score: 94)\n",
      "Most common common name: Common Redpoll\n",
      "Common name counts: Counter({'Common Redpoll': 3, 'Common Redpoll, Redpoll': 1})\n",
      "\n",
      "Potential matches for 'Butorides striata':\n",
      "  - Butorides striata (Similarity Score: 100)\n",
      "  - Butorides striatus (Similarity Score: 91)\n",
      "Most common common name: Green-Backed Heron\n",
      "Common name counts: Counter({'Green-Backed Heron': 5, 'Green-Backed Heron, Striated Heron': 1})\n",
      "\n",
      "Potential matches for 'Charadrius vociferous':\n",
      "  - Charadrius vociferous (Similarity Score: 100)\n",
      "  - Charadrius vociferus (Similarity Score: 98)\n",
      "Most common common name: Killdeer\n",
      "Common name counts: Counter({'Killdeer': 50, 'Killdeer, Killdeer Plover': 1})\n"
     ]
    }
   ],
   "execution_count": 398
  },
  {
   "metadata": {
    "ExecuteTime": {
     "end_time": "2024-09-05T21:22:51.763220Z",
     "start_time": "2024-09-05T21:22:51.759763Z"
    }
   },
   "cell_type": "code",
   "source": [
    "# Create mappings for scientific names and common names based on potential matches\n",
    "scientific_name_mapping = {}\n",
    "common_name_mapping = {}\n",
    "\n",
    "for sci_name, info in potential_matches.items():\n",
    "    # Assume the best match is the one with the highest count\n",
    "    best_match_sci_name = info['matches'][1][0]  \n",
    "    best_common_name = info['most_common_name']\n",
    "    \n",
    "    # Add to the mapping dictionaries\n",
    "    scientific_name_mapping[sci_name] = best_match_sci_name\n",
    "    common_name_mapping[sci_name] = best_common_name\n",
    "\n",
    "print(f\"Scientific Name Mapping: {scientific_name_mapping}\")\n",
    "print(f\"Common Name Mapping: {common_name_mapping}\")"
   ],
   "id": "64f7f1733e4d9bbb",
   "outputs": [
    {
     "name": "stdout",
     "output_type": "stream",
     "text": [
      "Scientific Name Mapping: {'Acanthus flammea': 'Acanthis flammea', 'Butorides striata': 'Butorides striatus', 'Charadrius vociferous': 'Charadrius vociferus'}\n",
      "Common Name Mapping: {'Acanthus flammea': 'Common Redpoll', 'Butorides striata': 'Green-Backed Heron', 'Charadrius vociferous': 'Killdeer'}\n"
     ]
    }
   ],
   "execution_count": 399
  },
  {
   "metadata": {
    "ExecuteTime": {
     "end_time": "2024-09-05T21:22:52.098378Z",
     "start_time": "2024-09-05T21:22:51.911825Z"
    }
   },
   "cell_type": "code",
   "source": [
    "# Update the common_names\n",
    "birds['common_names'] = birds.apply(\n",
    "    lambda row: common_name_mapping.get(row['scientific_name'], row['common_names']), axis=1\n",
    ")\n",
    "\n",
    "# Update the scientific_name\n",
    "birds['scientific_name'] = birds.apply(\n",
    "    lambda row: scientific_name_mapping.get(row['scientific_name'], row['scientific_name']), axis=1\n",
    ")"
   ],
   "id": "6920ac909201c57f",
   "outputs": [],
   "execution_count": 400
  },
  {
   "metadata": {},
   "cell_type": "markdown",
   "source": [
    "----\n",
    "&nbsp;\n",
    "#### Looking for typos/ambiguities under matching common names where `scientific_name` is of form: *Genus species*"
   ],
   "id": "d0fa9f1d2d25801e"
  },
  {
   "metadata": {
    "ExecuteTime": {
     "end_time": "2024-09-05T21:22:53.103759Z",
     "start_time": "2024-09-05T21:22:52.236945Z"
    }
   },
   "cell_type": "code",
   "source": [
    "# Initialize dictionary to store common names and their associated scientific names with counts\n",
    "common_name_to_sci_names = {}\n",
    "\n",
    "for common_name in two_word_sci_names['common_names'].unique():\n",
    "    # Extract associated scientific names and their record counts\n",
    "    associated_sci_names = two_word_sci_names[two_word_sci_names['common_names'] == common_name]['scientific_name']\n",
    "    sci_name_counts = Counter(associated_sci_names)\n",
    "    common_name_to_sci_names[common_name] = sci_name_counts\n",
    "\n",
    "# Step 2: Analyze counts to identify potential typos or inconsistencies\n",
    "potential_issues = {}\n",
    "for common_name, sci_name_counts in common_name_to_sci_names.items():\n",
    "    if len(sci_name_counts) > 1:  # If multiple scientific names are associated with the same common name\n",
    "        potential_issues[common_name] = sci_name_counts"
   ],
   "id": "5d67791d91201bd3",
   "outputs": [],
   "execution_count": 401
  },
  {
   "metadata": {
    "ExecuteTime": {
     "end_time": "2024-09-05T21:22:53.254289Z",
     "start_time": "2024-09-05T21:22:53.246430Z"
    }
   },
   "cell_type": "code",
   "source": [
    "# Convert potential issues to a DataFrame\n",
    "potential_issues_df = pd.DataFrame([\n",
    "    {'common_names': common_name, \n",
    "     'scientific_name': sci_name, \n",
    "     'record_count': count\n",
    "     } \n",
    "    for common_name, sci_name_counts in potential_issues.items()\n",
    "    for sci_name, count in sci_name_counts.items()\n",
    "])\n",
    "\n",
    "print(f\"Shape: {potential_issues_df.shape}\")\n",
    "potential_issues_df.head(10)"
   ],
   "id": "36ea36b1b0fe8b0b",
   "outputs": [
    {
     "name": "stdout",
     "output_type": "stream",
     "text": [
      "Shape: (265, 3)\n"
     ]
    },
    {
     "data": {
      "text/plain": [
       "         common_names       scientific_name  record_count\n",
       "0      Common Redpoll      Acanthis flammea             3\n",
       "1      Common Redpoll     Carduelis flammea            28\n",
       "2   Spotted Sandpiper     Actitis macularia            25\n",
       "3   Spotted Sandpiper    Actitis macularius            30\n",
       "4   Spotted Sandpiper      Tringa macularia             1\n",
       "5    Cassin's Sparrow    Aimophila cassinii             6\n",
       "6    Cassin's Sparrow      Peucaea cassinii             3\n",
       "7   Roseate Spoonbill           Ajaia ajaja             1\n",
       "8   Roseate Spoonbill        Platalea ajaja             4\n",
       "9  Le Conte's Sparrow  Ammodramus leconteii            11"
      ],
      "text/html": [
       "<div>\n",
       "<style scoped>\n",
       "    .dataframe tbody tr th:only-of-type {\n",
       "        vertical-align: middle;\n",
       "    }\n",
       "\n",
       "    .dataframe tbody tr th {\n",
       "        vertical-align: top;\n",
       "    }\n",
       "\n",
       "    .dataframe thead th {\n",
       "        text-align: right;\n",
       "    }\n",
       "</style>\n",
       "<table border=\"1\" class=\"dataframe\">\n",
       "  <thead>\n",
       "    <tr style=\"text-align: right;\">\n",
       "      <th></th>\n",
       "      <th>common_names</th>\n",
       "      <th>scientific_name</th>\n",
       "      <th>record_count</th>\n",
       "    </tr>\n",
       "  </thead>\n",
       "  <tbody>\n",
       "    <tr>\n",
       "      <th>0</th>\n",
       "      <td>Common Redpoll</td>\n",
       "      <td>Acanthis flammea</td>\n",
       "      <td>3</td>\n",
       "    </tr>\n",
       "    <tr>\n",
       "      <th>1</th>\n",
       "      <td>Common Redpoll</td>\n",
       "      <td>Carduelis flammea</td>\n",
       "      <td>28</td>\n",
       "    </tr>\n",
       "    <tr>\n",
       "      <th>2</th>\n",
       "      <td>Spotted Sandpiper</td>\n",
       "      <td>Actitis macularia</td>\n",
       "      <td>25</td>\n",
       "    </tr>\n",
       "    <tr>\n",
       "      <th>3</th>\n",
       "      <td>Spotted Sandpiper</td>\n",
       "      <td>Actitis macularius</td>\n",
       "      <td>30</td>\n",
       "    </tr>\n",
       "    <tr>\n",
       "      <th>4</th>\n",
       "      <td>Spotted Sandpiper</td>\n",
       "      <td>Tringa macularia</td>\n",
       "      <td>1</td>\n",
       "    </tr>\n",
       "    <tr>\n",
       "      <th>5</th>\n",
       "      <td>Cassin's Sparrow</td>\n",
       "      <td>Aimophila cassinii</td>\n",
       "      <td>6</td>\n",
       "    </tr>\n",
       "    <tr>\n",
       "      <th>6</th>\n",
       "      <td>Cassin's Sparrow</td>\n",
       "      <td>Peucaea cassinii</td>\n",
       "      <td>3</td>\n",
       "    </tr>\n",
       "    <tr>\n",
       "      <th>7</th>\n",
       "      <td>Roseate Spoonbill</td>\n",
       "      <td>Ajaia ajaja</td>\n",
       "      <td>1</td>\n",
       "    </tr>\n",
       "    <tr>\n",
       "      <th>8</th>\n",
       "      <td>Roseate Spoonbill</td>\n",
       "      <td>Platalea ajaja</td>\n",
       "      <td>4</td>\n",
       "    </tr>\n",
       "    <tr>\n",
       "      <th>9</th>\n",
       "      <td>Le Conte's Sparrow</td>\n",
       "      <td>Ammodramus leconteii</td>\n",
       "      <td>11</td>\n",
       "    </tr>\n",
       "  </tbody>\n",
       "</table>\n",
       "</div>"
      ]
     },
     "execution_count": 402,
     "metadata": {},
     "output_type": "execute_result"
    }
   ],
   "execution_count": 402
  },
  {
   "metadata": {},
   "cell_type": "markdown",
   "source": "#### We identify the affected indices in `birds` to create a backup",
   "id": "ea9258c5ffd8301"
  },
  {
   "metadata": {
    "ExecuteTime": {
     "end_time": "2024-09-05T21:22:55.580227Z",
     "start_time": "2024-09-05T21:22:53.427384Z"
    }
   },
   "cell_type": "code",
   "source": [
    "# Create a dictionary to hold indices and affected records for each common name\n",
    "affected_records = {}\n",
    "issues_common_names = set(potential_issues_df.common_names)\n",
    "\n",
    "for common_name in issues_common_names:\n",
    "    records = birds[(birds['common_names'] == common_name) & \n",
    "                    (birds['scientific_name'].str.split().apply(len) == 2)]\n",
    "    indices = records.index.tolist()\n",
    "    if indices:  \n",
    "        affected_records[common_name] = records\n",
    "\n",
    "# Combine all affected records into a single DataFrame for exporting\n",
    "affected_records_df = pd.concat(affected_records.values())\n",
    "print(f\"Shape: {affected_records_df.shape}\")\n",
    "assert set(potential_issues_df.common_names) == set(affected_records_df.common_names), \"The sets are not equal as required\"\n",
    "assert all(affected_records_df['scientific_name'].str.split().apply(len) == 2), \"There are subspecies or incorrect scientific names present\"\n",
    "affected_records_df.head()"
   ],
   "id": "1a0740ac1836ea8a",
   "outputs": [
    {
     "name": "stdout",
     "output_type": "stream",
     "text": [
      "Shape: (3270, 14)\n"
     ]
    },
    {
     "data": {
      "text/plain": [
       "     species_id park_code park_name       order   family   scientific_name  \\\n",
       "383   ACAD-1383      ACAD    Acadia  Piciformes  Picidae  Colaptes auratus   \n",
       "1954  ARCH-1245      ARCH    Arches  Piciformes  Picidae  Colaptes auratus   \n",
       "3041  BADL-1284      BADL  Badlands  Piciformes  Picidae  Calaptes auratus   \n",
       "3042  BADL-1285      BADL  Badlands  Piciformes  Picidae  Colaptes auratus   \n",
       "4622  BIBE-1476      BIBE  Big Bend  Piciformes  Picidae  Colaptes auratus   \n",
       "\n",
       "          common_names record_status occurrence nativeness abundance  \\\n",
       "383   Northern Flicker      Approved    Present     Native    Common   \n",
       "1954  Northern Flicker      Approved    Present     Native  Uncommon   \n",
       "3041  Northern Flicker      Approved    Present     Native  Uncommon   \n",
       "3042  Northern Flicker      Approved    Present     Native    Common   \n",
       "4622  Northern Flicker      Approved    Present     Native    Common   \n",
       "\n",
       "     seasonality conservation_status  is_protected  \n",
       "383      Breeder       Least Concern         False  \n",
       "1954     Breeder       Least Concern         False  \n",
       "3041     Unknown       Least Concern         False  \n",
       "3042     Breeder       Least Concern         False  \n",
       "4622     Breeder       Least Concern         False  "
      ],
      "text/html": [
       "<div>\n",
       "<style scoped>\n",
       "    .dataframe tbody tr th:only-of-type {\n",
       "        vertical-align: middle;\n",
       "    }\n",
       "\n",
       "    .dataframe tbody tr th {\n",
       "        vertical-align: top;\n",
       "    }\n",
       "\n",
       "    .dataframe thead th {\n",
       "        text-align: right;\n",
       "    }\n",
       "</style>\n",
       "<table border=\"1\" class=\"dataframe\">\n",
       "  <thead>\n",
       "    <tr style=\"text-align: right;\">\n",
       "      <th></th>\n",
       "      <th>species_id</th>\n",
       "      <th>park_code</th>\n",
       "      <th>park_name</th>\n",
       "      <th>order</th>\n",
       "      <th>family</th>\n",
       "      <th>scientific_name</th>\n",
       "      <th>common_names</th>\n",
       "      <th>record_status</th>\n",
       "      <th>occurrence</th>\n",
       "      <th>nativeness</th>\n",
       "      <th>abundance</th>\n",
       "      <th>seasonality</th>\n",
       "      <th>conservation_status</th>\n",
       "      <th>is_protected</th>\n",
       "    </tr>\n",
       "  </thead>\n",
       "  <tbody>\n",
       "    <tr>\n",
       "      <th>383</th>\n",
       "      <td>ACAD-1383</td>\n",
       "      <td>ACAD</td>\n",
       "      <td>Acadia</td>\n",
       "      <td>Piciformes</td>\n",
       "      <td>Picidae</td>\n",
       "      <td>Colaptes auratus</td>\n",
       "      <td>Northern Flicker</td>\n",
       "      <td>Approved</td>\n",
       "      <td>Present</td>\n",
       "      <td>Native</td>\n",
       "      <td>Common</td>\n",
       "      <td>Breeder</td>\n",
       "      <td>Least Concern</td>\n",
       "      <td>False</td>\n",
       "    </tr>\n",
       "    <tr>\n",
       "      <th>1954</th>\n",
       "      <td>ARCH-1245</td>\n",
       "      <td>ARCH</td>\n",
       "      <td>Arches</td>\n",
       "      <td>Piciformes</td>\n",
       "      <td>Picidae</td>\n",
       "      <td>Colaptes auratus</td>\n",
       "      <td>Northern Flicker</td>\n",
       "      <td>Approved</td>\n",
       "      <td>Present</td>\n",
       "      <td>Native</td>\n",
       "      <td>Uncommon</td>\n",
       "      <td>Breeder</td>\n",
       "      <td>Least Concern</td>\n",
       "      <td>False</td>\n",
       "    </tr>\n",
       "    <tr>\n",
       "      <th>3041</th>\n",
       "      <td>BADL-1284</td>\n",
       "      <td>BADL</td>\n",
       "      <td>Badlands</td>\n",
       "      <td>Piciformes</td>\n",
       "      <td>Picidae</td>\n",
       "      <td>Calaptes auratus</td>\n",
       "      <td>Northern Flicker</td>\n",
       "      <td>Approved</td>\n",
       "      <td>Present</td>\n",
       "      <td>Native</td>\n",
       "      <td>Uncommon</td>\n",
       "      <td>Unknown</td>\n",
       "      <td>Least Concern</td>\n",
       "      <td>False</td>\n",
       "    </tr>\n",
       "    <tr>\n",
       "      <th>3042</th>\n",
       "      <td>BADL-1285</td>\n",
       "      <td>BADL</td>\n",
       "      <td>Badlands</td>\n",
       "      <td>Piciformes</td>\n",
       "      <td>Picidae</td>\n",
       "      <td>Colaptes auratus</td>\n",
       "      <td>Northern Flicker</td>\n",
       "      <td>Approved</td>\n",
       "      <td>Present</td>\n",
       "      <td>Native</td>\n",
       "      <td>Common</td>\n",
       "      <td>Breeder</td>\n",
       "      <td>Least Concern</td>\n",
       "      <td>False</td>\n",
       "    </tr>\n",
       "    <tr>\n",
       "      <th>4622</th>\n",
       "      <td>BIBE-1476</td>\n",
       "      <td>BIBE</td>\n",
       "      <td>Big Bend</td>\n",
       "      <td>Piciformes</td>\n",
       "      <td>Picidae</td>\n",
       "      <td>Colaptes auratus</td>\n",
       "      <td>Northern Flicker</td>\n",
       "      <td>Approved</td>\n",
       "      <td>Present</td>\n",
       "      <td>Native</td>\n",
       "      <td>Common</td>\n",
       "      <td>Breeder</td>\n",
       "      <td>Least Concern</td>\n",
       "      <td>False</td>\n",
       "    </tr>\n",
       "  </tbody>\n",
       "</table>\n",
       "</div>"
      ]
     },
     "execution_count": 403,
     "metadata": {},
     "output_type": "execute_result"
    }
   ],
   "execution_count": 403
  },
  {
   "metadata": {
    "ExecuteTime": {
     "end_time": "2024-09-05T21:22:55.654873Z",
     "start_time": "2024-09-05T21:22:55.638905Z"
    }
   },
   "cell_type": "code",
   "source": [
    "# Save the affected records to a CSV file for backup before making changes\n",
    "affected_records_df.to_csv('DATA/Backups/multi_sci_names_birds.csv', index=True)"
   ],
   "id": "2280b87384d6a690",
   "outputs": [],
   "execution_count": 404
  },
  {
   "metadata": {
    "ExecuteTime": {
     "end_time": "2024-09-05T21:22:55.768344Z",
     "start_time": "2024-09-05T21:22:55.728975Z"
    }
   },
   "cell_type": "code",
   "source": [
    "# Create a mapping of common names to the selected scientific name based on highest count, and flag ties for manual review\n",
    "selected_sci_names = {}\n",
    "ties_for_review = {}\n",
    "\n",
    "for common_name, group in potential_issues_df.groupby('common_names'):\n",
    "    max_count = group['record_count'].max()\n",
    "    max_count_names = group[group['record_count'] == max_count]\n",
    "    \n",
    "    if len(max_count_names) > 1:\n",
    "        # Flag for manual review due to tie\n",
    "        ties_for_review[common_name] = max_count_names[['scientific_name', 'record_count']].to_dict(orient='records')\n",
    "        print(f\"Tie detected for '{common_name}':\\n{ties_for_review[common_name]}\\n\")\n",
    "    else:\n",
    "        chosen_name = max_count_names.iloc[0]['scientific_name']\n",
    "        selected_sci_names[common_name] = chosen_name"
   ],
   "id": "7584511865389e22",
   "outputs": [
    {
     "name": "stdout",
     "output_type": "stream",
     "text": [
      "Tie detected for 'Abert's Towhee':\n",
      "[{'scientific_name': 'Melozone aberti', 'record_count': 2}, {'scientific_name': 'Pipilo aberti', 'record_count': 2}]\n",
      "\n",
      "Tie detected for 'Black-Footed Albatross':\n",
      "[{'scientific_name': 'Diomedea nigripes', 'record_count': 3}, {'scientific_name': 'Phoebastria nigripes', 'record_count': 3}]\n",
      "\n",
      "Tie detected for 'Far Eastern Curlew':\n",
      "[{'scientific_name': 'Numenius arquata', 'record_count': 1}, {'scientific_name': 'Numenius madagascariensis', 'record_count': 1}]\n",
      "\n",
      "Tie detected for 'Gray-Headed Chickadee':\n",
      "[{'scientific_name': 'Poecile cincta', 'record_count': 1}, {'scientific_name': 'Poecile cinctus', 'record_count': 1}]\n",
      "\n",
      "Tie detected for 'Lawrence's Warbler':\n",
      "[{'scientific_name': 'Vermivora lawrencei', 'record_count': 1}, {'scientific_name': 'Vermivora lawrencii', 'record_count': 1}]\n",
      "\n",
      "Tie detected for 'Wandering Tattler':\n",
      "[{'scientific_name': 'Heteroscelus incanus', 'record_count': 9}, {'scientific_name': 'Tringa incana', 'record_count': 9}]\n",
      "\n"
     ]
    }
   ],
   "execution_count": 405
  },
  {
   "metadata": {
    "ExecuteTime": {
     "end_time": "2024-09-05T21:22:55.867762Z",
     "start_time": "2024-09-05T21:22:55.864931Z"
    }
   },
   "cell_type": "code",
   "source": [
    "# The above records, tied on count will be reviewed manually on wikipedia\n",
    "manual_choices = {\n",
    "    \"Abert's Towhee\": \"Melozone aberti\",\n",
    "    \"Black-Footed Albatross\": \"Phoebastria nigripes\",\n",
    "    \"Far Eastern Curlew\": \"Numenius madagascariensis\",\n",
    "    \"Gray-Headed Chickadee\": \"Poecile cinctus\",\n",
    "    \"Lawrence's Warbler\": \"Vermivora lawrencei\",  # Example choice\n",
    "    \"Wandering Tattler\": \"Tringa incana\"\n",
    "}\n",
    "\n",
    "# Append manual choices to selected_sci_names\n",
    "selected_sci_names.update(manual_choices)\n",
    "print(f\"Number of amendments: {len(selected_sci_names)}\")"
   ],
   "id": "5893f0cfc450ef1b",
   "outputs": [
    {
     "name": "stdout",
     "output_type": "stream",
     "text": [
      "Number of amendments: 126\n"
     ]
    }
   ],
   "execution_count": 406
  },
  {
   "metadata": {
    "ExecuteTime": {
     "end_time": "2024-09-05T21:22:56.138053Z",
     "start_time": "2024-09-05T21:22:56.013968Z"
    }
   },
   "cell_type": "code",
   "source": [
    "# Create a mapping of common names to selected scientific names\n",
    "selected_sci_names_mapping = {common_name: sci_name for common_name, sci_name in selected_sci_names.items()}\n",
    "\n",
    "# Update the birds DataFrame in place, only affecting scientific names with exactly two words\n",
    "birds['scientific_name'] = birds.apply(\n",
    "    lambda row: selected_sci_names_mapping.get(row['common_names'], row['scientific_name']) \n",
    "    if len(row['scientific_name'].split()) == 2 else row['scientific_name'], \n",
    "    axis=1\n",
    ")"
   ],
   "id": "2eef2fec7d28f6c4",
   "outputs": [],
   "execution_count": 407
  },
  {
   "metadata": {
    "ExecuteTime": {
     "end_time": "2024-09-05T21:22:56.302946Z",
     "start_time": "2024-09-05T21:22:56.294984Z"
    }
   },
   "cell_type": "code",
   "source": [
    "print(f\"There are {birds.species_id.nunique()} records\")\n",
    "print(f\"There are {birds.common_names.nunique()} unique common names\")\n",
    "print(f\"There are {birds.scientific_name.nunique()} unique scientific names\")\n",
    "print(f\"There are {birds.family.nunique()} unique families\")"
   ],
   "id": "16d4673b322cae34",
   "outputs": [
    {
     "name": "stdout",
     "output_type": "stream",
     "text": [
      "There are 14451 records\n",
      "There are 1059 unique common names\n",
      "There are 1177 unique scientific names\n",
      "There are 86 unique families\n"
     ]
    }
   ],
   "execution_count": 408
  },
  {
   "metadata": {
    "ExecuteTime": {
     "end_time": "2024-09-05T21:22:56.885052Z",
     "start_time": "2024-09-05T21:22:56.440822Z"
    }
   },
   "cell_type": "code",
   "source": [
    "two_word_sci_names = birds_sorted[birds_sorted['scientific_name'].str.split().str.len() == 2]\n",
    "sci_name_to_common_names = defaultdict(list)\n",
    "\n",
    "for index, row in two_word_sci_names.iterrows():\n",
    "    sci_name = row['scientific_name']\n",
    "    common_name = row['common_names']\n",
    "    sci_name_to_common_names[sci_name].append(common_name)\n",
    "\n",
    "sci_name_to_common_names = {sci_name: list(set(common_names)) for sci_name, common_names in sci_name_to_common_names.items()}\n",
    "print(f\"Length of genus species sci names: {len(sci_name_to_common_names)}\")\n",
    "\n",
    "comma_separated_names = {\n",
    "    sci_name: list(set(common_names)) \n",
    "    for sci_name, common_names in sci_name_to_common_names.items() \n",
    "    if any(',' in name for name in common_names)\n",
    "}\n",
    "print(f\"Length comma separated common names: {len(comma_separated_names)}\")"
   ],
   "id": "5a4c7cbacca993b7",
   "outputs": [
    {
     "name": "stdout",
     "output_type": "stream",
     "text": [
      "Length of genus species sci names: 961\n",
      "Length comma separated common names: 36\n"
     ]
    }
   ],
   "execution_count": 409
  },
  {
   "metadata": {},
   "cell_type": "markdown",
   "source": "#### Hawaiian names",
   "id": "79844c1630c5b7fb"
  },
  {
   "metadata": {
    "ExecuteTime": {
     "end_time": "2024-09-05T21:22:57.039473Z",
     "start_time": "2024-09-05T21:22:57.025694Z"
    }
   },
   "cell_type": "code",
   "source": [
    "# Check for Hawaiian birds based on the presence of an acute accent character in common names\n",
    "special_char_birds = two_word_sci_names[two_word_sci_names['common_names'].str.contains('´', na=False)]\n",
    "\n",
    "# Display the results\n",
    "print(f\"Shape: {special_char_birds.shape}\")\n",
    "special_char_birds.head()"
   ],
   "id": "562eec0cf4e00a7a",
   "outputs": [
    {
     "name": "stdout",
     "output_type": "stream",
     "text": [
      "Shape: (20, 14)\n"
     ]
    },
    {
     "data": {
      "text/plain": [
       "      species_id park_code         park_name            order        family  \\\n",
       "58544  HAVO-1016      HAVO  Hawaii Volcanoes  Accipitriformes  Accipitridae   \n",
       "58600  HAVO-1072      HAVO  Hawaii Volcanoes    Passeriformes   Monarchidae   \n",
       "58584  HAVO-1056      HAVO  Hawaii Volcanoes    Passeriformes  Fringillidae   \n",
       "58577  HAVO-1049      HAVO  Hawaii Volcanoes    Passeriformes      Corvidae   \n",
       "58587  HAVO-1059      HAVO  Hawaii Volcanoes    Passeriformes  Fringillidae   \n",
       "\n",
       "                scientific_name        common_names record_status  \\\n",
       "58544          Buteo solitarius  ´Io, Hawaiian Hawk      Approved   \n",
       "58600  Chasiempis sandwichensis    Hawai´I ´Elepaio      Approved   \n",
       "58584             Ciridops anna     ´Ula-´Ai-Hawane      Approved   \n",
       "58577        Corvus hawaiiensis              ´Alala      Approved   \n",
       "58587         Drepanis pacifica        Hawai´I Mamo      Approved   \n",
       "\n",
       "                            occurrence nativeness abundance seasonality  \\\n",
       "58544                          Present     Native  Uncommon     Breeder   \n",
       "58600                          Present     Native    Common     Breeder   \n",
       "58584  Not Present (Historical Report)     Native   Unknown     Unknown   \n",
       "58577  Not Present (Historical Report)     Native   Unknown     Unknown   \n",
       "58587  Not Present (Historical Report)     Native   Unknown     Unknown   \n",
       "\n",
       "      conservation_status  is_protected  \n",
       "58544          Endangered          True  \n",
       "58600       Least Concern         False  \n",
       "58584       Least Concern         False  \n",
       "58577          Endangered          True  \n",
       "58587       Least Concern         False  "
      ],
      "text/html": [
       "<div>\n",
       "<style scoped>\n",
       "    .dataframe tbody tr th:only-of-type {\n",
       "        vertical-align: middle;\n",
       "    }\n",
       "\n",
       "    .dataframe tbody tr th {\n",
       "        vertical-align: top;\n",
       "    }\n",
       "\n",
       "    .dataframe thead th {\n",
       "        text-align: right;\n",
       "    }\n",
       "</style>\n",
       "<table border=\"1\" class=\"dataframe\">\n",
       "  <thead>\n",
       "    <tr style=\"text-align: right;\">\n",
       "      <th></th>\n",
       "      <th>species_id</th>\n",
       "      <th>park_code</th>\n",
       "      <th>park_name</th>\n",
       "      <th>order</th>\n",
       "      <th>family</th>\n",
       "      <th>scientific_name</th>\n",
       "      <th>common_names</th>\n",
       "      <th>record_status</th>\n",
       "      <th>occurrence</th>\n",
       "      <th>nativeness</th>\n",
       "      <th>abundance</th>\n",
       "      <th>seasonality</th>\n",
       "      <th>conservation_status</th>\n",
       "      <th>is_protected</th>\n",
       "    </tr>\n",
       "  </thead>\n",
       "  <tbody>\n",
       "    <tr>\n",
       "      <th>58544</th>\n",
       "      <td>HAVO-1016</td>\n",
       "      <td>HAVO</td>\n",
       "      <td>Hawaii Volcanoes</td>\n",
       "      <td>Accipitriformes</td>\n",
       "      <td>Accipitridae</td>\n",
       "      <td>Buteo solitarius</td>\n",
       "      <td>´Io, Hawaiian Hawk</td>\n",
       "      <td>Approved</td>\n",
       "      <td>Present</td>\n",
       "      <td>Native</td>\n",
       "      <td>Uncommon</td>\n",
       "      <td>Breeder</td>\n",
       "      <td>Endangered</td>\n",
       "      <td>True</td>\n",
       "    </tr>\n",
       "    <tr>\n",
       "      <th>58600</th>\n",
       "      <td>HAVO-1072</td>\n",
       "      <td>HAVO</td>\n",
       "      <td>Hawaii Volcanoes</td>\n",
       "      <td>Passeriformes</td>\n",
       "      <td>Monarchidae</td>\n",
       "      <td>Chasiempis sandwichensis</td>\n",
       "      <td>Hawai´I ´Elepaio</td>\n",
       "      <td>Approved</td>\n",
       "      <td>Present</td>\n",
       "      <td>Native</td>\n",
       "      <td>Common</td>\n",
       "      <td>Breeder</td>\n",
       "      <td>Least Concern</td>\n",
       "      <td>False</td>\n",
       "    </tr>\n",
       "    <tr>\n",
       "      <th>58584</th>\n",
       "      <td>HAVO-1056</td>\n",
       "      <td>HAVO</td>\n",
       "      <td>Hawaii Volcanoes</td>\n",
       "      <td>Passeriformes</td>\n",
       "      <td>Fringillidae</td>\n",
       "      <td>Ciridops anna</td>\n",
       "      <td>´Ula-´Ai-Hawane</td>\n",
       "      <td>Approved</td>\n",
       "      <td>Not Present (Historical Report)</td>\n",
       "      <td>Native</td>\n",
       "      <td>Unknown</td>\n",
       "      <td>Unknown</td>\n",
       "      <td>Least Concern</td>\n",
       "      <td>False</td>\n",
       "    </tr>\n",
       "    <tr>\n",
       "      <th>58577</th>\n",
       "      <td>HAVO-1049</td>\n",
       "      <td>HAVO</td>\n",
       "      <td>Hawaii Volcanoes</td>\n",
       "      <td>Passeriformes</td>\n",
       "      <td>Corvidae</td>\n",
       "      <td>Corvus hawaiiensis</td>\n",
       "      <td>´Alala</td>\n",
       "      <td>Approved</td>\n",
       "      <td>Not Present (Historical Report)</td>\n",
       "      <td>Native</td>\n",
       "      <td>Unknown</td>\n",
       "      <td>Unknown</td>\n",
       "      <td>Endangered</td>\n",
       "      <td>True</td>\n",
       "    </tr>\n",
       "    <tr>\n",
       "      <th>58587</th>\n",
       "      <td>HAVO-1059</td>\n",
       "      <td>HAVO</td>\n",
       "      <td>Hawaii Volcanoes</td>\n",
       "      <td>Passeriformes</td>\n",
       "      <td>Fringillidae</td>\n",
       "      <td>Drepanis pacifica</td>\n",
       "      <td>Hawai´I Mamo</td>\n",
       "      <td>Approved</td>\n",
       "      <td>Not Present (Historical Report)</td>\n",
       "      <td>Native</td>\n",
       "      <td>Unknown</td>\n",
       "      <td>Unknown</td>\n",
       "      <td>Least Concern</td>\n",
       "      <td>False</td>\n",
       "    </tr>\n",
       "  </tbody>\n",
       "</table>\n",
       "</div>"
      ]
     },
     "execution_count": 410,
     "metadata": {},
     "output_type": "execute_result"
    }
   ],
   "execution_count": 410
  },
  {
   "metadata": {
    "ExecuteTime": {
     "end_time": "2024-09-05T21:22:57.454791Z",
     "start_time": "2024-09-05T21:22:57.208294Z"
    }
   },
   "cell_type": "code",
   "source": [
    "# Define correction mappings for common misformatted Hawaiian characters\n",
    "correction_mappings = {\n",
    "    '´': 'ʻ',  # Replace acute accent with okina\n",
    "    '_': ' ',  # Replace underscores with spaces\n",
    "    'L': 'l'   # Correct capital L if needed\n",
    "}\n",
    "\n",
    "def correct_hawaiian_names(name):\n",
    "    for incorrect, correct in correction_mappings.items():\n",
    "        name = name.replace(incorrect, correct)\n",
    "    return name\n",
    "\n",
    "# Apply corrections to the Hawaiian bird names\n",
    "birds['common_names'] = birds.apply(\n",
    "    lambda row: correct_hawaiian_names(row['common_names']) if row['scientific_name'] in special_char_birds['scientific_name'].values else row['common_names'], \n",
    "    axis=1\n",
    ")\n",
    "\n",
    "# Display the corrected DataFrame\n",
    "corrected_hawaiian_birds = birds[birds['scientific_name'].isin(special_char_birds['scientific_name'])]\n",
    "print(f\"Shape: {corrected_hawaiian_birds.shape}\")"
   ],
   "id": "b92b34fc14fdc12f",
   "outputs": [
    {
     "name": "stdout",
     "output_type": "stream",
     "text": [
      "Shape: (20, 14)\n"
     ]
    }
   ],
   "execution_count": 411
  },
  {
   "metadata": {},
   "cell_type": "markdown",
   "source": [
    "----\n",
    "&nbsp;\n",
    "### Reviewing subspecies of form *Genus species subspecies*"
   ],
   "id": "8013b4ecdc2985a4"
  },
  {
   "metadata": {
    "ExecuteTime": {
     "end_time": "2024-09-05T21:22:57.525864Z",
     "start_time": "2024-09-05T21:22:57.489115Z"
    }
   },
   "cell_type": "code",
   "source": [
    "# DataFrame ordered by scientific name in ascending order\n",
    "birds_sorted = birds.sort_values(by='scientific_name', ascending=True)\n",
    "\n",
    "two_word_sci_names = birds_sorted[birds_sorted['scientific_name'].str.split().str.len() == 2].copy()\n",
    "three_word_sci_names = birds_sorted[birds_sorted['scientific_name'].str.split().str.len() >= 3].copy()"
   ],
   "id": "bfadde24b3755ba0",
   "outputs": [],
   "execution_count": 412
  },
  {
   "metadata": {
    "ExecuteTime": {
     "end_time": "2024-09-05T21:22:57.681753Z",
     "start_time": "2024-09-05T21:22:57.678623Z"
    }
   },
   "cell_type": "code",
   "source": [
    "# Group by genus and species to identify subspecies variations\n",
    "three_word_sci_names.loc[:, 'genus_species'] = three_word_sci_names['scientific_name'].apply(lambda x: ' '.join(x.split()[:2]))"
   ],
   "id": "f0013086477d683c",
   "outputs": [],
   "execution_count": 413
  },
  {
   "metadata": {
    "ExecuteTime": {
     "end_time": "2024-09-05T21:22:57.703593Z",
     "start_time": "2024-09-05T21:22:57.690874Z"
    }
   },
   "cell_type": "code",
   "source": [
    "# Create a mapping of genus_species to common names from two_word_sci_names\n",
    "genus_species_to_common_name = two_word_sci_names.set_index('scientific_name')['common_names'].to_dict()\n",
    "three_word_sci_names.loc[:, 'matched_common_name'] = three_word_sci_names['genus_species'].map(genus_species_to_common_name)"
   ],
   "id": "8751e15efbd54a56",
   "outputs": [],
   "execution_count": 414
  },
  {
   "metadata": {
    "ExecuteTime": {
     "end_time": "2024-09-05T21:22:57.853326Z",
     "start_time": "2024-09-05T21:22:57.844178Z"
    }
   },
   "cell_type": "code",
   "source": [
    "# Exclude specific columns from three_word_sci_names \n",
    "columns_to_exclude = ['record_status', 'occurrence', 'nativeness', 'abundance', 'seasonality', 'conservation_status', 'is_protected'] \n",
    "three_word_sci_names_filtered = three_word_sci_names.drop(columns=columns_to_exclude, errors='ignore') \n",
    "\n",
    "print(f\"Shape: {three_word_sci_names_filtered.shape}\")\n",
    "three_word_sci_names_filtered.head()"
   ],
   "id": "fcd10bcdd025bb79",
   "outputs": [
    {
     "name": "stdout",
     "output_type": "stream",
     "text": [
      "Shape: (526, 9)\n"
     ]
    },
    {
     "data": {
      "text/plain": [
       "      species_id park_code      park_name            order        family  \\\n",
       "78390  MORA-1070      MORA  Mount Rainier  Accipitriformes  Accipitridae   \n",
       "78391  MORA-1071      MORA  Mount Rainier  Accipitriformes  Accipitridae   \n",
       "61880  HOSP-1054      HOSP    Hot Springs  Accipitriformes  Accipitridae   \n",
       "39433  GRBA-1111      GRBA    Great Basin  Accipitriformes  Accipitridae   \n",
       "42133  GRCA-1158      GRCA   Grand Canyon      Apodiformes      Apodidae   \n",
       "\n",
       "                       scientific_name                           common_names  \\\n",
       "78390  Accipiter gentilis atricapillus                        Western Goshawk   \n",
       "78391        Accipiter gentilis laingi                                Goshawk   \n",
       "61880         Accipiter striatus velox  Sharp-Shinned Hawk (velox subspecies)   \n",
       "39433         Accipiter striatus velox  Sharp-Shinned Hawk (velox subspecies)   \n",
       "42133   Aeronautes saxatalis saxatalis                   White-Throated Swift   \n",
       "\n",
       "              genus_species   matched_common_name  \n",
       "78390    Accipiter gentilis      Northern Goshawk  \n",
       "78391    Accipiter gentilis      Northern Goshawk  \n",
       "61880    Accipiter striatus    Sharp-Shinned Hawk  \n",
       "39433    Accipiter striatus    Sharp-Shinned Hawk  \n",
       "42133  Aeronautes saxatalis  White-Throated Swift  "
      ],
      "text/html": [
       "<div>\n",
       "<style scoped>\n",
       "    .dataframe tbody tr th:only-of-type {\n",
       "        vertical-align: middle;\n",
       "    }\n",
       "\n",
       "    .dataframe tbody tr th {\n",
       "        vertical-align: top;\n",
       "    }\n",
       "\n",
       "    .dataframe thead th {\n",
       "        text-align: right;\n",
       "    }\n",
       "</style>\n",
       "<table border=\"1\" class=\"dataframe\">\n",
       "  <thead>\n",
       "    <tr style=\"text-align: right;\">\n",
       "      <th></th>\n",
       "      <th>species_id</th>\n",
       "      <th>park_code</th>\n",
       "      <th>park_name</th>\n",
       "      <th>order</th>\n",
       "      <th>family</th>\n",
       "      <th>scientific_name</th>\n",
       "      <th>common_names</th>\n",
       "      <th>genus_species</th>\n",
       "      <th>matched_common_name</th>\n",
       "    </tr>\n",
       "  </thead>\n",
       "  <tbody>\n",
       "    <tr>\n",
       "      <th>78390</th>\n",
       "      <td>MORA-1070</td>\n",
       "      <td>MORA</td>\n",
       "      <td>Mount Rainier</td>\n",
       "      <td>Accipitriformes</td>\n",
       "      <td>Accipitridae</td>\n",
       "      <td>Accipiter gentilis atricapillus</td>\n",
       "      <td>Western Goshawk</td>\n",
       "      <td>Accipiter gentilis</td>\n",
       "      <td>Northern Goshawk</td>\n",
       "    </tr>\n",
       "    <tr>\n",
       "      <th>78391</th>\n",
       "      <td>MORA-1071</td>\n",
       "      <td>MORA</td>\n",
       "      <td>Mount Rainier</td>\n",
       "      <td>Accipitriformes</td>\n",
       "      <td>Accipitridae</td>\n",
       "      <td>Accipiter gentilis laingi</td>\n",
       "      <td>Goshawk</td>\n",
       "      <td>Accipiter gentilis</td>\n",
       "      <td>Northern Goshawk</td>\n",
       "    </tr>\n",
       "    <tr>\n",
       "      <th>61880</th>\n",
       "      <td>HOSP-1054</td>\n",
       "      <td>HOSP</td>\n",
       "      <td>Hot Springs</td>\n",
       "      <td>Accipitriformes</td>\n",
       "      <td>Accipitridae</td>\n",
       "      <td>Accipiter striatus velox</td>\n",
       "      <td>Sharp-Shinned Hawk (velox subspecies)</td>\n",
       "      <td>Accipiter striatus</td>\n",
       "      <td>Sharp-Shinned Hawk</td>\n",
       "    </tr>\n",
       "    <tr>\n",
       "      <th>39433</th>\n",
       "      <td>GRBA-1111</td>\n",
       "      <td>GRBA</td>\n",
       "      <td>Great Basin</td>\n",
       "      <td>Accipitriformes</td>\n",
       "      <td>Accipitridae</td>\n",
       "      <td>Accipiter striatus velox</td>\n",
       "      <td>Sharp-Shinned Hawk (velox subspecies)</td>\n",
       "      <td>Accipiter striatus</td>\n",
       "      <td>Sharp-Shinned Hawk</td>\n",
       "    </tr>\n",
       "    <tr>\n",
       "      <th>42133</th>\n",
       "      <td>GRCA-1158</td>\n",
       "      <td>GRCA</td>\n",
       "      <td>Grand Canyon</td>\n",
       "      <td>Apodiformes</td>\n",
       "      <td>Apodidae</td>\n",
       "      <td>Aeronautes saxatalis saxatalis</td>\n",
       "      <td>White-Throated Swift</td>\n",
       "      <td>Aeronautes saxatalis</td>\n",
       "      <td>White-Throated Swift</td>\n",
       "    </tr>\n",
       "  </tbody>\n",
       "</table>\n",
       "</div>"
      ]
     },
     "execution_count": 415,
     "metadata": {},
     "output_type": "execute_result"
    }
   ],
   "execution_count": 415
  },
  {
   "metadata": {
    "ExecuteTime": {
     "end_time": "2024-09-05T21:22:58.024727Z",
     "start_time": "2024-09-05T21:22:58.019414Z"
    }
   },
   "cell_type": "code",
   "source": [
    "# list of common names to exclude to inspection\n",
    "common_names_to_exclude = [\"Mountain Pygmy Owl, Northern Pygmy-Owl\", \n",
    "                           \"Baltimore Oriole, Northern Oriole\", \n",
    "                           \"Western Gull\",\n",
    "                           \"Whimbrel\",\n",
    "                           \"Lazuli Bunting\",\n",
    "                           \"American Three-Toed Woodpecker\",\n",
    "                           \"Snail Kite\",\n",
    "                           \"Great Gray Owl\",\n",
    "                           \"Spotted Owl\",\n",
    "                           \"Prairie Chicken\",\n",
    "                           \"Golden-Winged Warbler\",\n",
    "                           \"Blue-Winged Warbler\"\n",
    "                           ]  \n",
    "\n",
    "# Filter out rows where 'matched_common_name' is in the list of values to exclude\n",
    "three_word_sci_names = three_word_sci_names[~three_word_sci_names['matched_common_name'].isin(common_names_to_exclude)]\n",
    "\n",
    "columns_to_exclude = ['record_status', 'occurrence', 'nativeness', 'abundance', 'seasonality', 'conservation_status', 'is_protected'] \n",
    "three_word_sci_names = three_word_sci_names.drop(columns=columns_to_exclude, errors='ignore') "
   ],
   "id": "9e18a8cdcc277229",
   "outputs": [],
   "execution_count": 416
  },
  {
   "metadata": {
    "ExecuteTime": {
     "end_time": "2024-09-05T21:22:58.074983Z",
     "start_time": "2024-09-05T21:22:58.060850Z"
    }
   },
   "cell_type": "code",
   "source": [
    "# Filter out rows with NaN in 'matched_common_name'\n",
    "three_word_sci_names_filtered = three_word_sci_names.dropna(subset=['matched_common_name'])\n",
    "\n",
    "# Update the 'common_names' column to include subspecies information if not already present\n",
    "def standardize_common_names(row):\n",
    "    subspecies = row['scientific_name'].split()[-1]\n",
    "    \n",
    "    # Check if the 'common_names' already contains brackets\n",
    "    if '(' not in row['common_names']:\n",
    "        new_common_name = f\"{row['matched_common_name']} ({subspecies} subspecies)\"\n",
    "        return new_common_name\n",
    "    else:\n",
    "        # If brackets already present, keep the original common name\n",
    "        return row['common_names']\n",
    "\n",
    "three_word_sci_names_filtered.loc[:, 'common_names'] = three_word_sci_names_filtered.apply(standardize_common_names, axis=1)\n",
    "print(f\"Shape after updating common names: {three_word_sci_names_filtered.shape}\")\n",
    "three_word_sci_names_filtered.head()"
   ],
   "id": "ed8a866ada25d616",
   "outputs": [
    {
     "name": "stdout",
     "output_type": "stream",
     "text": [
      "Shape after updating common names: (468, 9)\n"
     ]
    },
    {
     "data": {
      "text/plain": [
       "      species_id park_code      park_name            order        family  \\\n",
       "78390  MORA-1070      MORA  Mount Rainier  Accipitriformes  Accipitridae   \n",
       "78391  MORA-1071      MORA  Mount Rainier  Accipitriformes  Accipitridae   \n",
       "61880  HOSP-1054      HOSP    Hot Springs  Accipitriformes  Accipitridae   \n",
       "39433  GRBA-1111      GRBA    Great Basin  Accipitriformes  Accipitridae   \n",
       "42133  GRCA-1158      GRCA   Grand Canyon      Apodiformes      Apodidae   \n",
       "\n",
       "                       scientific_name  \\\n",
       "78390  Accipiter gentilis atricapillus   \n",
       "78391        Accipiter gentilis laingi   \n",
       "61880         Accipiter striatus velox   \n",
       "39433         Accipiter striatus velox   \n",
       "42133   Aeronautes saxatalis saxatalis   \n",
       "\n",
       "                                      common_names         genus_species  \\\n",
       "78390   Northern Goshawk (atricapillus subspecies)    Accipiter gentilis   \n",
       "78391         Northern Goshawk (laingi subspecies)    Accipiter gentilis   \n",
       "61880        Sharp-Shinned Hawk (velox subspecies)    Accipiter striatus   \n",
       "39433        Sharp-Shinned Hawk (velox subspecies)    Accipiter striatus   \n",
       "42133  White-Throated Swift (saxatalis subspecies)  Aeronautes saxatalis   \n",
       "\n",
       "        matched_common_name  \n",
       "78390      Northern Goshawk  \n",
       "78391      Northern Goshawk  \n",
       "61880    Sharp-Shinned Hawk  \n",
       "39433    Sharp-Shinned Hawk  \n",
       "42133  White-Throated Swift  "
      ],
      "text/html": [
       "<div>\n",
       "<style scoped>\n",
       "    .dataframe tbody tr th:only-of-type {\n",
       "        vertical-align: middle;\n",
       "    }\n",
       "\n",
       "    .dataframe tbody tr th {\n",
       "        vertical-align: top;\n",
       "    }\n",
       "\n",
       "    .dataframe thead th {\n",
       "        text-align: right;\n",
       "    }\n",
       "</style>\n",
       "<table border=\"1\" class=\"dataframe\">\n",
       "  <thead>\n",
       "    <tr style=\"text-align: right;\">\n",
       "      <th></th>\n",
       "      <th>species_id</th>\n",
       "      <th>park_code</th>\n",
       "      <th>park_name</th>\n",
       "      <th>order</th>\n",
       "      <th>family</th>\n",
       "      <th>scientific_name</th>\n",
       "      <th>common_names</th>\n",
       "      <th>genus_species</th>\n",
       "      <th>matched_common_name</th>\n",
       "    </tr>\n",
       "  </thead>\n",
       "  <tbody>\n",
       "    <tr>\n",
       "      <th>78390</th>\n",
       "      <td>MORA-1070</td>\n",
       "      <td>MORA</td>\n",
       "      <td>Mount Rainier</td>\n",
       "      <td>Accipitriformes</td>\n",
       "      <td>Accipitridae</td>\n",
       "      <td>Accipiter gentilis atricapillus</td>\n",
       "      <td>Northern Goshawk (atricapillus subspecies)</td>\n",
       "      <td>Accipiter gentilis</td>\n",
       "      <td>Northern Goshawk</td>\n",
       "    </tr>\n",
       "    <tr>\n",
       "      <th>78391</th>\n",
       "      <td>MORA-1071</td>\n",
       "      <td>MORA</td>\n",
       "      <td>Mount Rainier</td>\n",
       "      <td>Accipitriformes</td>\n",
       "      <td>Accipitridae</td>\n",
       "      <td>Accipiter gentilis laingi</td>\n",
       "      <td>Northern Goshawk (laingi subspecies)</td>\n",
       "      <td>Accipiter gentilis</td>\n",
       "      <td>Northern Goshawk</td>\n",
       "    </tr>\n",
       "    <tr>\n",
       "      <th>61880</th>\n",
       "      <td>HOSP-1054</td>\n",
       "      <td>HOSP</td>\n",
       "      <td>Hot Springs</td>\n",
       "      <td>Accipitriformes</td>\n",
       "      <td>Accipitridae</td>\n",
       "      <td>Accipiter striatus velox</td>\n",
       "      <td>Sharp-Shinned Hawk (velox subspecies)</td>\n",
       "      <td>Accipiter striatus</td>\n",
       "      <td>Sharp-Shinned Hawk</td>\n",
       "    </tr>\n",
       "    <tr>\n",
       "      <th>39433</th>\n",
       "      <td>GRBA-1111</td>\n",
       "      <td>GRBA</td>\n",
       "      <td>Great Basin</td>\n",
       "      <td>Accipitriformes</td>\n",
       "      <td>Accipitridae</td>\n",
       "      <td>Accipiter striatus velox</td>\n",
       "      <td>Sharp-Shinned Hawk (velox subspecies)</td>\n",
       "      <td>Accipiter striatus</td>\n",
       "      <td>Sharp-Shinned Hawk</td>\n",
       "    </tr>\n",
       "    <tr>\n",
       "      <th>42133</th>\n",
       "      <td>GRCA-1158</td>\n",
       "      <td>GRCA</td>\n",
       "      <td>Grand Canyon</td>\n",
       "      <td>Apodiformes</td>\n",
       "      <td>Apodidae</td>\n",
       "      <td>Aeronautes saxatalis saxatalis</td>\n",
       "      <td>White-Throated Swift (saxatalis subspecies)</td>\n",
       "      <td>Aeronautes saxatalis</td>\n",
       "      <td>White-Throated Swift</td>\n",
       "    </tr>\n",
       "  </tbody>\n",
       "</table>\n",
       "</div>"
      ]
     },
     "execution_count": 417,
     "metadata": {},
     "output_type": "execute_result"
    }
   ],
   "execution_count": 417
  },
  {
   "metadata": {
    "ExecuteTime": {
     "end_time": "2024-09-05T21:22:58.182422Z",
     "start_time": "2024-09-05T21:22:58.172998Z"
    }
   },
   "cell_type": "code",
   "source": [
    "# We now update birds by indices filtered above\n",
    "filtered_indices = three_word_sci_names_filtered.index\n",
    "birds_filtered_subset = birds.loc[filtered_indices]\n",
    "print(f\"Shape of the subset from birds DataFrame: {birds_filtered_subset.shape}\")\n",
    "birds_filtered_subset.head()"
   ],
   "id": "ed268d56a0a7191d",
   "outputs": [
    {
     "name": "stdout",
     "output_type": "stream",
     "text": [
      "Shape of the subset from birds DataFrame: (468, 14)\n"
     ]
    },
    {
     "data": {
      "text/plain": [
       "      species_id park_code      park_name            order        family  \\\n",
       "78390  MORA-1070      MORA  Mount Rainier  Accipitriformes  Accipitridae   \n",
       "78391  MORA-1071      MORA  Mount Rainier  Accipitriformes  Accipitridae   \n",
       "61880  HOSP-1054      HOSP    Hot Springs  Accipitriformes  Accipitridae   \n",
       "39433  GRBA-1111      GRBA    Great Basin  Accipitriformes  Accipitridae   \n",
       "42133  GRCA-1158      GRCA   Grand Canyon      Apodiformes      Apodidae   \n",
       "\n",
       "                       scientific_name                           common_names  \\\n",
       "78390  Accipiter gentilis atricapillus                        Western Goshawk   \n",
       "78391        Accipiter gentilis laingi                                Goshawk   \n",
       "61880         Accipiter striatus velox  Sharp-Shinned Hawk (velox subspecies)   \n",
       "39433         Accipiter striatus velox  Sharp-Shinned Hawk (velox subspecies)   \n",
       "42133   Aeronautes saxatalis saxatalis                   White-Throated Swift   \n",
       "\n",
       "      record_status                  occurrence nativeness abundance  \\\n",
       "78390      Approved                     Present     Native  Uncommon   \n",
       "78391      Approved  Not Present (False Report)     Native   Unknown   \n",
       "61880      Approved               Not Confirmed    Unknown   Unknown   \n",
       "39433      Approved                     Present     Native   Unknown   \n",
       "42133      Approved                     Present     Native    Common   \n",
       "\n",
       "      seasonality conservation_status  is_protected  \n",
       "78390     Breeder       Least Concern         False  \n",
       "78391     Unknown       Least Concern         False  \n",
       "61880     Unknown       Least Concern         False  \n",
       "39433     Unknown       Least Concern         False  \n",
       "42133     Breeder       Least Concern         False  "
      ],
      "text/html": [
       "<div>\n",
       "<style scoped>\n",
       "    .dataframe tbody tr th:only-of-type {\n",
       "        vertical-align: middle;\n",
       "    }\n",
       "\n",
       "    .dataframe tbody tr th {\n",
       "        vertical-align: top;\n",
       "    }\n",
       "\n",
       "    .dataframe thead th {\n",
       "        text-align: right;\n",
       "    }\n",
       "</style>\n",
       "<table border=\"1\" class=\"dataframe\">\n",
       "  <thead>\n",
       "    <tr style=\"text-align: right;\">\n",
       "      <th></th>\n",
       "      <th>species_id</th>\n",
       "      <th>park_code</th>\n",
       "      <th>park_name</th>\n",
       "      <th>order</th>\n",
       "      <th>family</th>\n",
       "      <th>scientific_name</th>\n",
       "      <th>common_names</th>\n",
       "      <th>record_status</th>\n",
       "      <th>occurrence</th>\n",
       "      <th>nativeness</th>\n",
       "      <th>abundance</th>\n",
       "      <th>seasonality</th>\n",
       "      <th>conservation_status</th>\n",
       "      <th>is_protected</th>\n",
       "    </tr>\n",
       "  </thead>\n",
       "  <tbody>\n",
       "    <tr>\n",
       "      <th>78390</th>\n",
       "      <td>MORA-1070</td>\n",
       "      <td>MORA</td>\n",
       "      <td>Mount Rainier</td>\n",
       "      <td>Accipitriformes</td>\n",
       "      <td>Accipitridae</td>\n",
       "      <td>Accipiter gentilis atricapillus</td>\n",
       "      <td>Western Goshawk</td>\n",
       "      <td>Approved</td>\n",
       "      <td>Present</td>\n",
       "      <td>Native</td>\n",
       "      <td>Uncommon</td>\n",
       "      <td>Breeder</td>\n",
       "      <td>Least Concern</td>\n",
       "      <td>False</td>\n",
       "    </tr>\n",
       "    <tr>\n",
       "      <th>78391</th>\n",
       "      <td>MORA-1071</td>\n",
       "      <td>MORA</td>\n",
       "      <td>Mount Rainier</td>\n",
       "      <td>Accipitriformes</td>\n",
       "      <td>Accipitridae</td>\n",
       "      <td>Accipiter gentilis laingi</td>\n",
       "      <td>Goshawk</td>\n",
       "      <td>Approved</td>\n",
       "      <td>Not Present (False Report)</td>\n",
       "      <td>Native</td>\n",
       "      <td>Unknown</td>\n",
       "      <td>Unknown</td>\n",
       "      <td>Least Concern</td>\n",
       "      <td>False</td>\n",
       "    </tr>\n",
       "    <tr>\n",
       "      <th>61880</th>\n",
       "      <td>HOSP-1054</td>\n",
       "      <td>HOSP</td>\n",
       "      <td>Hot Springs</td>\n",
       "      <td>Accipitriformes</td>\n",
       "      <td>Accipitridae</td>\n",
       "      <td>Accipiter striatus velox</td>\n",
       "      <td>Sharp-Shinned Hawk (velox subspecies)</td>\n",
       "      <td>Approved</td>\n",
       "      <td>Not Confirmed</td>\n",
       "      <td>Unknown</td>\n",
       "      <td>Unknown</td>\n",
       "      <td>Unknown</td>\n",
       "      <td>Least Concern</td>\n",
       "      <td>False</td>\n",
       "    </tr>\n",
       "    <tr>\n",
       "      <th>39433</th>\n",
       "      <td>GRBA-1111</td>\n",
       "      <td>GRBA</td>\n",
       "      <td>Great Basin</td>\n",
       "      <td>Accipitriformes</td>\n",
       "      <td>Accipitridae</td>\n",
       "      <td>Accipiter striatus velox</td>\n",
       "      <td>Sharp-Shinned Hawk (velox subspecies)</td>\n",
       "      <td>Approved</td>\n",
       "      <td>Present</td>\n",
       "      <td>Native</td>\n",
       "      <td>Unknown</td>\n",
       "      <td>Unknown</td>\n",
       "      <td>Least Concern</td>\n",
       "      <td>False</td>\n",
       "    </tr>\n",
       "    <tr>\n",
       "      <th>42133</th>\n",
       "      <td>GRCA-1158</td>\n",
       "      <td>GRCA</td>\n",
       "      <td>Grand Canyon</td>\n",
       "      <td>Apodiformes</td>\n",
       "      <td>Apodidae</td>\n",
       "      <td>Aeronautes saxatalis saxatalis</td>\n",
       "      <td>White-Throated Swift</td>\n",
       "      <td>Approved</td>\n",
       "      <td>Present</td>\n",
       "      <td>Native</td>\n",
       "      <td>Common</td>\n",
       "      <td>Breeder</td>\n",
       "      <td>Least Concern</td>\n",
       "      <td>False</td>\n",
       "    </tr>\n",
       "  </tbody>\n",
       "</table>\n",
       "</div>"
      ]
     },
     "execution_count": 418,
     "metadata": {},
     "output_type": "execute_result"
    }
   ],
   "execution_count": 418
  },
  {
   "metadata": {
    "ExecuteTime": {
     "end_time": "2024-09-05T21:22:58.312374Z",
     "start_time": "2024-09-05T21:22:58.306713Z"
    }
   },
   "cell_type": "code",
   "source": [
    "# Save the subset to a CSV file for records\n",
    "birds_filtered_subset.to_csv('DATA/Backups/subspecies_sci_name_birds.csv', index=False)"
   ],
   "id": "c1f214130b20613",
   "outputs": [],
   "execution_count": 419
  },
  {
   "metadata": {
    "ExecuteTime": {
     "end_time": "2024-09-05T21:22:58.449398Z",
     "start_time": "2024-09-05T21:22:58.446220Z"
    }
   },
   "cell_type": "code",
   "source": [
    "# Update the 'common_names' in the original birds DataFrame using the indices from three_word_sci_names_filtered\n",
    "birds.loc[filtered_indices, 'common_names'] = three_word_sci_names_filtered['common_names']"
   ],
   "id": "bfd2263dbc2afe56",
   "outputs": [],
   "execution_count": 420
  },
  {
   "metadata": {
    "ExecuteTime": {
     "end_time": "2024-09-05T21:22:58.521857Z",
     "start_time": "2024-09-05T21:22:58.514080Z"
    }
   },
   "cell_type": "code",
   "source": [
    "# Checking change made\n",
    "birds.loc[[78390]]"
   ],
   "id": "38cc4a4f64082bc4",
   "outputs": [
    {
     "data": {
      "text/plain": [
       "      species_id park_code      park_name            order        family  \\\n",
       "78390  MORA-1070      MORA  Mount Rainier  Accipitriformes  Accipitridae   \n",
       "\n",
       "                       scientific_name  \\\n",
       "78390  Accipiter gentilis atricapillus   \n",
       "\n",
       "                                     common_names record_status occurrence  \\\n",
       "78390  Northern Goshawk (atricapillus subspecies)      Approved    Present   \n",
       "\n",
       "      nativeness abundance seasonality conservation_status  is_protected  \n",
       "78390     Native  Uncommon     Breeder       Least Concern         False  "
      ],
      "text/html": [
       "<div>\n",
       "<style scoped>\n",
       "    .dataframe tbody tr th:only-of-type {\n",
       "        vertical-align: middle;\n",
       "    }\n",
       "\n",
       "    .dataframe tbody tr th {\n",
       "        vertical-align: top;\n",
       "    }\n",
       "\n",
       "    .dataframe thead th {\n",
       "        text-align: right;\n",
       "    }\n",
       "</style>\n",
       "<table border=\"1\" class=\"dataframe\">\n",
       "  <thead>\n",
       "    <tr style=\"text-align: right;\">\n",
       "      <th></th>\n",
       "      <th>species_id</th>\n",
       "      <th>park_code</th>\n",
       "      <th>park_name</th>\n",
       "      <th>order</th>\n",
       "      <th>family</th>\n",
       "      <th>scientific_name</th>\n",
       "      <th>common_names</th>\n",
       "      <th>record_status</th>\n",
       "      <th>occurrence</th>\n",
       "      <th>nativeness</th>\n",
       "      <th>abundance</th>\n",
       "      <th>seasonality</th>\n",
       "      <th>conservation_status</th>\n",
       "      <th>is_protected</th>\n",
       "    </tr>\n",
       "  </thead>\n",
       "  <tbody>\n",
       "    <tr>\n",
       "      <th>78390</th>\n",
       "      <td>MORA-1070</td>\n",
       "      <td>MORA</td>\n",
       "      <td>Mount Rainier</td>\n",
       "      <td>Accipitriformes</td>\n",
       "      <td>Accipitridae</td>\n",
       "      <td>Accipiter gentilis atricapillus</td>\n",
       "      <td>Northern Goshawk (atricapillus subspecies)</td>\n",
       "      <td>Approved</td>\n",
       "      <td>Present</td>\n",
       "      <td>Native</td>\n",
       "      <td>Uncommon</td>\n",
       "      <td>Breeder</td>\n",
       "      <td>Least Concern</td>\n",
       "      <td>False</td>\n",
       "    </tr>\n",
       "  </tbody>\n",
       "</table>\n",
       "</div>"
      ]
     },
     "execution_count": 421,
     "metadata": {},
     "output_type": "execute_result"
    }
   ],
   "execution_count": 421
  },
  {
   "metadata": {
    "ExecuteTime": {
     "end_time": "2024-09-05T21:22:58.699578Z",
     "start_time": "2024-09-05T21:22:58.692174Z"
    }
   },
   "cell_type": "code",
   "source": [
    "print(f\"There are {birds.species_id.nunique()} records\")\n",
    "print(f\"There are {birds.common_names.nunique()} unique common names\")\n",
    "print(f\"There are {birds.scientific_name.nunique()} unique scientific names\")\n",
    "print(f\"There are {birds.family.nunique()} unique families\")"
   ],
   "id": "1033096f84f9ffc",
   "outputs": [
    {
     "name": "stdout",
     "output_type": "stream",
     "text": [
      "There are 14451 records\n",
      "There are 1159 unique common names\n",
      "There are 1177 unique scientific names\n",
      "There are 86 unique families\n"
     ]
    }
   ],
   "execution_count": 422
  },
  {
   "metadata": {},
   "cell_type": "markdown",
   "source": "#### Identify `common_names` with multiple `scientific_name`:",
   "id": "accbcbe39e5a59d2"
  },
  {
   "metadata": {
    "ExecuteTime": {
     "end_time": "2024-09-05T21:22:58.782575Z",
     "start_time": "2024-09-05T21:22:58.775483Z"
    }
   },
   "cell_type": "code",
   "source": [
    "# Group by common name and count unique scientific names\n",
    "common_name_sci_count = birds.groupby('common_names')['scientific_name'].nunique()\n",
    "\n",
    "# Filter to find common names with more than one associated scientific name\n",
    "multi_sci_common_names = common_name_sci_count[common_name_sci_count > 1]\n",
    "\n",
    "# Display the results\n",
    "print(\"Common names with multiple associated scientific names:\")\n",
    "print(multi_sci_common_names)"
   ],
   "id": "e5dea66c9f14c9eb",
   "outputs": [
    {
     "name": "stdout",
     "output_type": "stream",
     "text": [
      "Common names with multiple associated scientific names:\n",
      "common_names\n",
      "American Three-Toed Woodpecker                  2\n",
      "Black-Throated Gray Warbler                     2\n",
      "Brewster's Warbler                              3\n",
      "Dark-Eyed Junco (Oregon Race)                   2\n",
      "Evening Grosbeak                                3\n",
      "Great Gray Owl                                  2\n",
      "House Finch                                     2\n",
      "Lesser Goldfinch                                2\n",
      "Mountain Chickadee (inyoensis subspecies)       2\n",
      "Orange-Crowned Warbler (orestera subspecies)    2\n",
      "Peregrine Falcon                                2\n",
      "Pine Siskin                                     2\n",
      "Purple Finch                                    2\n",
      "Wilson's Warbler                                3\n",
      "Yellow-Rumped Warbler                           2\n",
      "Name: scientific_name, dtype: int64\n"
     ]
    }
   ],
   "execution_count": 423
  },
  {
   "metadata": {
    "ExecuteTime": {
     "end_time": "2024-09-05T21:22:58.920785Z",
     "start_time": "2024-09-05T21:22:58.903711Z"
    }
   },
   "cell_type": "code",
   "source": [
    "multi_sci_common_names_list = multi_sci_common_names.index.tolist()\n",
    "multi_sci_common_name_records = birds[birds['common_names'].isin(multi_sci_common_names_list)]\n",
    "\n",
    "print(f\"Shape: {multi_sci_common_name_records.shape}\")\n",
    "multi_sci_common_name_records.head()"
   ],
   "id": "fdf2ca7ca1387934",
   "outputs": [
    {
     "name": "stdout",
     "output_type": "stream",
     "text": [
      "Shape: (450, 14)\n"
     ]
    },
    {
     "data": {
      "text/plain": [
       "    species_id park_code park_name          order        family  \\\n",
       "186  ACAD-1186      ACAD    Acadia  Falconiformes    Falconidae   \n",
       "253  ACAD-1253      ACAD    Acadia  Passeriformes  Fringillidae   \n",
       "255  ACAD-1255      ACAD    Acadia  Passeriformes  Fringillidae   \n",
       "256  ACAD-1256      ACAD    Acadia  Passeriformes  Fringillidae   \n",
       "257  ACAD-1257      ACAD    Acadia  Passeriformes  Fringillidae   \n",
       "\n",
       "                scientific_name      common_names record_status  \\\n",
       "186            Falco peregrinus  Peregrine Falcon      Approved   \n",
       "253             Carduelis pinus       Pine Siskin      Approved   \n",
       "255        Carpodacus mexicanus       House Finch      Approved   \n",
       "256        Carpodacus purpureus      Purple Finch      Approved   \n",
       "257  Coccothraustes vespertinus  Evening Grosbeak      Approved   \n",
       "\n",
       "                          occurrence  nativeness abundance seasonality  \\\n",
       "186                          Present  Not Native  Uncommon     Breeder   \n",
       "253                          Present      Native  Abundant     Breeder   \n",
       "255                          Present  Not Native    Common     Unknown   \n",
       "256                          Present      Native  Abundant     Breeder   \n",
       "257  Not Present (Historical Report)      Native   Unknown     Unknown   \n",
       "\n",
       "    conservation_status  is_protected  \n",
       "186  Species of Concern          True  \n",
       "253       Least Concern         False  \n",
       "255       Least Concern         False  \n",
       "256       Least Concern         False  \n",
       "257       Least Concern         False  "
      ],
      "text/html": [
       "<div>\n",
       "<style scoped>\n",
       "    .dataframe tbody tr th:only-of-type {\n",
       "        vertical-align: middle;\n",
       "    }\n",
       "\n",
       "    .dataframe tbody tr th {\n",
       "        vertical-align: top;\n",
       "    }\n",
       "\n",
       "    .dataframe thead th {\n",
       "        text-align: right;\n",
       "    }\n",
       "</style>\n",
       "<table border=\"1\" class=\"dataframe\">\n",
       "  <thead>\n",
       "    <tr style=\"text-align: right;\">\n",
       "      <th></th>\n",
       "      <th>species_id</th>\n",
       "      <th>park_code</th>\n",
       "      <th>park_name</th>\n",
       "      <th>order</th>\n",
       "      <th>family</th>\n",
       "      <th>scientific_name</th>\n",
       "      <th>common_names</th>\n",
       "      <th>record_status</th>\n",
       "      <th>occurrence</th>\n",
       "      <th>nativeness</th>\n",
       "      <th>abundance</th>\n",
       "      <th>seasonality</th>\n",
       "      <th>conservation_status</th>\n",
       "      <th>is_protected</th>\n",
       "    </tr>\n",
       "  </thead>\n",
       "  <tbody>\n",
       "    <tr>\n",
       "      <th>186</th>\n",
       "      <td>ACAD-1186</td>\n",
       "      <td>ACAD</td>\n",
       "      <td>Acadia</td>\n",
       "      <td>Falconiformes</td>\n",
       "      <td>Falconidae</td>\n",
       "      <td>Falco peregrinus</td>\n",
       "      <td>Peregrine Falcon</td>\n",
       "      <td>Approved</td>\n",
       "      <td>Present</td>\n",
       "      <td>Not Native</td>\n",
       "      <td>Uncommon</td>\n",
       "      <td>Breeder</td>\n",
       "      <td>Species of Concern</td>\n",
       "      <td>True</td>\n",
       "    </tr>\n",
       "    <tr>\n",
       "      <th>253</th>\n",
       "      <td>ACAD-1253</td>\n",
       "      <td>ACAD</td>\n",
       "      <td>Acadia</td>\n",
       "      <td>Passeriformes</td>\n",
       "      <td>Fringillidae</td>\n",
       "      <td>Carduelis pinus</td>\n",
       "      <td>Pine Siskin</td>\n",
       "      <td>Approved</td>\n",
       "      <td>Present</td>\n",
       "      <td>Native</td>\n",
       "      <td>Abundant</td>\n",
       "      <td>Breeder</td>\n",
       "      <td>Least Concern</td>\n",
       "      <td>False</td>\n",
       "    </tr>\n",
       "    <tr>\n",
       "      <th>255</th>\n",
       "      <td>ACAD-1255</td>\n",
       "      <td>ACAD</td>\n",
       "      <td>Acadia</td>\n",
       "      <td>Passeriformes</td>\n",
       "      <td>Fringillidae</td>\n",
       "      <td>Carpodacus mexicanus</td>\n",
       "      <td>House Finch</td>\n",
       "      <td>Approved</td>\n",
       "      <td>Present</td>\n",
       "      <td>Not Native</td>\n",
       "      <td>Common</td>\n",
       "      <td>Unknown</td>\n",
       "      <td>Least Concern</td>\n",
       "      <td>False</td>\n",
       "    </tr>\n",
       "    <tr>\n",
       "      <th>256</th>\n",
       "      <td>ACAD-1256</td>\n",
       "      <td>ACAD</td>\n",
       "      <td>Acadia</td>\n",
       "      <td>Passeriformes</td>\n",
       "      <td>Fringillidae</td>\n",
       "      <td>Carpodacus purpureus</td>\n",
       "      <td>Purple Finch</td>\n",
       "      <td>Approved</td>\n",
       "      <td>Present</td>\n",
       "      <td>Native</td>\n",
       "      <td>Abundant</td>\n",
       "      <td>Breeder</td>\n",
       "      <td>Least Concern</td>\n",
       "      <td>False</td>\n",
       "    </tr>\n",
       "    <tr>\n",
       "      <th>257</th>\n",
       "      <td>ACAD-1257</td>\n",
       "      <td>ACAD</td>\n",
       "      <td>Acadia</td>\n",
       "      <td>Passeriformes</td>\n",
       "      <td>Fringillidae</td>\n",
       "      <td>Coccothraustes vespertinus</td>\n",
       "      <td>Evening Grosbeak</td>\n",
       "      <td>Approved</td>\n",
       "      <td>Not Present (Historical Report)</td>\n",
       "      <td>Native</td>\n",
       "      <td>Unknown</td>\n",
       "      <td>Unknown</td>\n",
       "      <td>Least Concern</td>\n",
       "      <td>False</td>\n",
       "    </tr>\n",
       "  </tbody>\n",
       "</table>\n",
       "</div>"
      ]
     },
     "execution_count": 424,
     "metadata": {},
     "output_type": "execute_result"
    }
   ],
   "execution_count": 424
  },
  {
   "metadata": {
    "ExecuteTime": {
     "end_time": "2024-09-05T21:22:59.162624Z",
     "start_time": "2024-09-05T21:22:59.149355Z"
    }
   },
   "cell_type": "code",
   "source": [
    "common_name_to_sci_names_counts = {}\n",
    "\n",
    "for common_name, group in multi_sci_common_name_records.groupby('common_names'):\n",
    "    sci_names_counts = Counter(group['scientific_name'])\n",
    "    common_name_to_sci_names_counts[common_name] = sci_names_counts\n",
    "\n",
    "for common_name, sci_names_counts in common_name_to_sci_names_counts.items():\n",
    "    print(f\"Common Name: {common_name}\")\n",
    "    print(\"Associated Scientific Names and Counts:\")\n",
    "    for sci_name, count in sci_names_counts.items():\n",
    "        print(f\"  - {sci_name}: {count} records\")\n",
    "    print()"
   ],
   "id": "de1cf9b156a6908b",
   "outputs": [
    {
     "name": "stdout",
     "output_type": "stream",
     "text": [
      "Common Name: American Three-Toed Woodpecker\n",
      "Associated Scientific Names and Counts:\n",
      "  - Picoides dorsalis: 12 records\n",
      "  - Picoides dorsalis fasciatus: 2 records\n",
      "\n",
      "Common Name: Black-Throated Gray Warbler\n",
      "Associated Scientific Names and Counts:\n",
      "  - Dendroica nigrescens: 32 records\n",
      "  - Setophaga nigrescens halseii: 1 records\n",
      "\n",
      "Common Name: Brewster's Warbler\n",
      "Associated Scientific Names and Counts:\n",
      "  - Vermivora pinus X chrysoptera: 2 records\n",
      "  - Vermivora chrysoptera X pinus: 2 records\n",
      "  - Vermivora leucobronchialis: 1 records\n",
      "\n",
      "Common Name: Dark-Eyed Junco (Oregon Race)\n",
      "Associated Scientific Names and Counts:\n",
      "  - Junco hyemalis shufeldti: 4 records\n",
      "  - Junco hyemalis thurberi: 1 records\n",
      "\n",
      "Common Name: Evening Grosbeak\n",
      "Associated Scientific Names and Counts:\n",
      "  - Coccothraustes vespertinus: 44 records\n",
      "  - Hesperiphona vespertina brooksi: 1 records\n",
      "  - Hesperiphona vespertina montana: 1 records\n",
      "\n",
      "Common Name: Great Gray Owl\n",
      "Associated Scientific Names and Counts:\n",
      "  - Strix nebulosa: 21 records\n",
      "  - Strix nebulosa nebulosa: 1 records\n",
      "\n",
      "Common Name: House Finch\n",
      "Associated Scientific Names and Counts:\n",
      "  - Carpodacus mexicanus: 41 records\n",
      "  - Haemorhous mexicanus frontalis: 1 records\n",
      "\n",
      "Common Name: Lesser Goldfinch\n",
      "Associated Scientific Names and Counts:\n",
      "  - Carduelis psaltria: 28 records\n",
      "  - Spinus psaltria hesperophilus: 1 records\n",
      "\n",
      "Common Name: Mountain Chickadee (inyoensis subspecies)\n",
      "Associated Scientific Names and Counts:\n",
      "  - Parus gambeli inyoensis: 1 records\n",
      "  - Poecile gambeli inyoensis: 1 records\n",
      "\n",
      "Common Name: Orange-Crowned Warbler (orestera subspecies)\n",
      "Associated Scientific Names and Counts:\n",
      "  - Vermivora celata orestera: 2 records\n",
      "  - Leiothlypis celata orestera: 1 records\n",
      "\n",
      "Common Name: Peregrine Falcon\n",
      "Associated Scientific Names and Counts:\n",
      "  - Falco peregrinus: 56 records\n",
      "  - Falco peregrinum anatum: 1 records\n",
      "\n",
      "Common Name: Pine Siskin\n",
      "Associated Scientific Names and Counts:\n",
      "  - Carduelis pinus: 51 records\n",
      "  - Spinus pinus pinus: 1 records\n",
      "\n",
      "Common Name: Purple Finch\n",
      "Associated Scientific Names and Counts:\n",
      "  - Carpodacus purpureus: 34 records\n",
      "  - Haemorhous purpureus californicus: 1 records\n",
      "\n",
      "Common Name: Wilson's Warbler\n",
      "Associated Scientific Names and Counts:\n",
      "  - Wilsonia pusilla: 53 records\n",
      "  - Cardellina pusilla chryseola: 1 records\n",
      "  - Cardellina pusilla pusilla: 1 records\n",
      "\n",
      "Common Name: Yellow-Rumped Warbler\n",
      "Associated Scientific Names and Counts:\n",
      "  - Dendroica coronata: 49 records\n",
      "  - Setophaga auduboni auduboni: 1 records\n",
      "\n"
     ]
    }
   ],
   "execution_count": 425
  },
  {
   "metadata": {
    "ExecuteTime": {
     "end_time": "2024-09-05T21:22:59.262087Z",
     "start_time": "2024-09-05T21:22:59.252432Z"
    }
   },
   "cell_type": "code",
   "source": [
    "# Define the updates for common names with the subspecies information in parentheses\n",
    "updates = {\n",
    "    'Picoides dorsalis fasciatus': \"American Three-Toed Woodpecker (fasciatus subspecies)\",\n",
    "    'Junco hyemalis shufeldti': \"Dark-Eyed Junco (shufeldti subspecies)\",\n",
    "    'Junco hyemalis thurberi': \"Dark-Eyed Junco (thurberi subspecies)\",\n",
    "    'Strix nebulosa nebulosa': \"Great Gray Owl (nebulosa subspecies)\",\n",
    "    'Falco peregrinum anatum': \"Peregrine Falcon (anatum subspecies)\"\n",
    "}\n",
    "\n",
    "# Apply the updates to the birds DataFrame\n",
    "for sci_name, new_common_name in updates.items():\n",
    "    birds.loc[birds['scientific_name'] == sci_name, 'common_names'] = new_common_name"
   ],
   "id": "b8b50bb8b7e67540",
   "outputs": [],
   "execution_count": 426
  },
  {
   "metadata": {
    "ExecuteTime": {
     "end_time": "2024-09-05T21:22:59.316920Z",
     "start_time": "2024-09-05T21:22:59.305868Z"
    }
   },
   "cell_type": "code",
   "source": [
    "print(f\"There are {birds.species_id.nunique()} records\")\n",
    "print(f\"There are {birds.common_names.nunique()} unique common names\")\n",
    "print(f\"There are {birds.scientific_name.nunique()} unique scientific names\")\n",
    "print(f\"There are {birds.family.nunique()} unique families\")"
   ],
   "id": "de2ce7637b6a470f",
   "outputs": [
    {
     "name": "stdout",
     "output_type": "stream",
     "text": [
      "There are 14451 records\n",
      "There are 1162 unique common names\n",
      "There are 1177 unique scientific names\n",
      "There are 86 unique families\n"
     ]
    }
   ],
   "execution_count": 427
  },
  {
   "metadata": {
    "ExecuteTime": {
     "end_time": "2024-09-05T21:22:59.494765Z",
     "start_time": "2024-09-05T21:22:59.483312Z"
    }
   },
   "cell_type": "code",
   "source": [
    "# Count the number of NaN values in each column\n",
    "nan_counts_per_column = birds.isna().sum()\n",
    "print(nan_counts_per_column)"
   ],
   "id": "52095f850071639c",
   "outputs": [
    {
     "name": "stdout",
     "output_type": "stream",
     "text": [
      "species_id              0\n",
      "park_code               0\n",
      "park_name               0\n",
      "order                   0\n",
      "family                 16\n",
      "scientific_name         0\n",
      "common_names            0\n",
      "record_status           0\n",
      "occurrence              0\n",
      "nativeness              0\n",
      "abundance               0\n",
      "seasonality             0\n",
      "conservation_status     0\n",
      "is_protected            0\n",
      "dtype: int64\n"
     ]
    }
   ],
   "execution_count": 428
  },
  {
   "metadata": {
    "ExecuteTime": {
     "end_time": "2024-09-05T21:22:59.663117Z",
     "start_time": "2024-09-05T21:22:59.652716Z"
    }
   },
   "cell_type": "code",
   "source": [
    "# Filter records with NaN in the 'family' column\n",
    "nan_family_records = birds[birds['family'].isna()]\n",
    "print(f\"Shape: {nan_family_records.shape}\")\n",
    "nan_family_records.head()"
   ],
   "id": "8604557a3d4ff1a6",
   "outputs": [
    {
     "name": "stdout",
     "output_type": "stream",
     "text": [
      "Shape: (16, 14)\n"
     ]
    },
    {
     "data": {
      "text/plain": [
       "      species_id park_code     park_name            order family  \\\n",
       "26362  DEVA-1277      DEVA  Death Valley      Apodiformes    NaN   \n",
       "26381  DEVA-1296      DEVA  Death Valley  Charadriiformes    NaN   \n",
       "26483  DEVA-1398      DEVA  Death Valley    Passeriformes    NaN   \n",
       "26484  DEVA-1399      DEVA  Death Valley    Passeriformes    NaN   \n",
       "26485  DEVA-1400      DEVA  Death Valley    Passeriformes    NaN   \n",
       "\n",
       "               scientific_name             common_names record_status  \\\n",
       "26362        Stellula calliope     Calliope Hummingbird      Approved   \n",
       "26381  Tryngites subruficollis  Buff-Breasted Sandpiper      Approved   \n",
       "26483     Carpodacus mexicanus              House Finch      Approved   \n",
       "26484     Carpodacus purpureus             Purple Finch      Approved   \n",
       "26485       Calcarius mccownii        Mccown's Longspur      Approved   \n",
       "\n",
       "                       occurrence nativeness   abundance seasonality  \\\n",
       "26362                     Present     Native        Rare   Migratory   \n",
       "26381  Not Present (False Report)     Native     Unknown     Unknown   \n",
       "26483                     Present     Native    Abundant     Breeder   \n",
       "26484                     Present     Native        Rare     Vagrant   \n",
       "26485                     Present     Native  Occasional     Vagrant   \n",
       "\n",
       "      conservation_status  is_protected  \n",
       "26362       Least Concern         False  \n",
       "26381       Least Concern         False  \n",
       "26483       Least Concern         False  \n",
       "26484       Least Concern         False  \n",
       "26485       Least Concern         False  "
      ],
      "text/html": [
       "<div>\n",
       "<style scoped>\n",
       "    .dataframe tbody tr th:only-of-type {\n",
       "        vertical-align: middle;\n",
       "    }\n",
       "\n",
       "    .dataframe tbody tr th {\n",
       "        vertical-align: top;\n",
       "    }\n",
       "\n",
       "    .dataframe thead th {\n",
       "        text-align: right;\n",
       "    }\n",
       "</style>\n",
       "<table border=\"1\" class=\"dataframe\">\n",
       "  <thead>\n",
       "    <tr style=\"text-align: right;\">\n",
       "      <th></th>\n",
       "      <th>species_id</th>\n",
       "      <th>park_code</th>\n",
       "      <th>park_name</th>\n",
       "      <th>order</th>\n",
       "      <th>family</th>\n",
       "      <th>scientific_name</th>\n",
       "      <th>common_names</th>\n",
       "      <th>record_status</th>\n",
       "      <th>occurrence</th>\n",
       "      <th>nativeness</th>\n",
       "      <th>abundance</th>\n",
       "      <th>seasonality</th>\n",
       "      <th>conservation_status</th>\n",
       "      <th>is_protected</th>\n",
       "    </tr>\n",
       "  </thead>\n",
       "  <tbody>\n",
       "    <tr>\n",
       "      <th>26362</th>\n",
       "      <td>DEVA-1277</td>\n",
       "      <td>DEVA</td>\n",
       "      <td>Death Valley</td>\n",
       "      <td>Apodiformes</td>\n",
       "      <td>NaN</td>\n",
       "      <td>Stellula calliope</td>\n",
       "      <td>Calliope Hummingbird</td>\n",
       "      <td>Approved</td>\n",
       "      <td>Present</td>\n",
       "      <td>Native</td>\n",
       "      <td>Rare</td>\n",
       "      <td>Migratory</td>\n",
       "      <td>Least Concern</td>\n",
       "      <td>False</td>\n",
       "    </tr>\n",
       "    <tr>\n",
       "      <th>26381</th>\n",
       "      <td>DEVA-1296</td>\n",
       "      <td>DEVA</td>\n",
       "      <td>Death Valley</td>\n",
       "      <td>Charadriiformes</td>\n",
       "      <td>NaN</td>\n",
       "      <td>Tryngites subruficollis</td>\n",
       "      <td>Buff-Breasted Sandpiper</td>\n",
       "      <td>Approved</td>\n",
       "      <td>Not Present (False Report)</td>\n",
       "      <td>Native</td>\n",
       "      <td>Unknown</td>\n",
       "      <td>Unknown</td>\n",
       "      <td>Least Concern</td>\n",
       "      <td>False</td>\n",
       "    </tr>\n",
       "    <tr>\n",
       "      <th>26483</th>\n",
       "      <td>DEVA-1398</td>\n",
       "      <td>DEVA</td>\n",
       "      <td>Death Valley</td>\n",
       "      <td>Passeriformes</td>\n",
       "      <td>NaN</td>\n",
       "      <td>Carpodacus mexicanus</td>\n",
       "      <td>House Finch</td>\n",
       "      <td>Approved</td>\n",
       "      <td>Present</td>\n",
       "      <td>Native</td>\n",
       "      <td>Abundant</td>\n",
       "      <td>Breeder</td>\n",
       "      <td>Least Concern</td>\n",
       "      <td>False</td>\n",
       "    </tr>\n",
       "    <tr>\n",
       "      <th>26484</th>\n",
       "      <td>DEVA-1399</td>\n",
       "      <td>DEVA</td>\n",
       "      <td>Death Valley</td>\n",
       "      <td>Passeriformes</td>\n",
       "      <td>NaN</td>\n",
       "      <td>Carpodacus purpureus</td>\n",
       "      <td>Purple Finch</td>\n",
       "      <td>Approved</td>\n",
       "      <td>Present</td>\n",
       "      <td>Native</td>\n",
       "      <td>Rare</td>\n",
       "      <td>Vagrant</td>\n",
       "      <td>Least Concern</td>\n",
       "      <td>False</td>\n",
       "    </tr>\n",
       "    <tr>\n",
       "      <th>26485</th>\n",
       "      <td>DEVA-1400</td>\n",
       "      <td>DEVA</td>\n",
       "      <td>Death Valley</td>\n",
       "      <td>Passeriformes</td>\n",
       "      <td>NaN</td>\n",
       "      <td>Calcarius mccownii</td>\n",
       "      <td>Mccown's Longspur</td>\n",
       "      <td>Approved</td>\n",
       "      <td>Present</td>\n",
       "      <td>Native</td>\n",
       "      <td>Occasional</td>\n",
       "      <td>Vagrant</td>\n",
       "      <td>Least Concern</td>\n",
       "      <td>False</td>\n",
       "    </tr>\n",
       "  </tbody>\n",
       "</table>\n",
       "</div>"
      ]
     },
     "execution_count": 429,
     "metadata": {},
     "output_type": "execute_result"
    }
   ],
   "execution_count": 429
  },
  {
   "metadata": {
    "ExecuteTime": {
     "end_time": "2024-09-05T21:22:59.858522Z",
     "start_time": "2024-09-05T21:22:59.833195Z"
    }
   },
   "cell_type": "code",
   "source": [
    "# Create a mapping of ('order', 'scientific_name') to 'family' for known values\n",
    "known_families = birds.dropna(subset=['family']).set_index(['order', 'scientific_name'])['family'].to_dict()\n",
    "\n",
    "# Attempt to fill missing 'family' values by matching 'order' and 'scientific_name'\n",
    "for index, row in nan_family_records.iterrows():\n",
    "    order = row['order']\n",
    "    scientific_name = row['scientific_name']\n",
    "    family = known_families.get((order, scientific_name))\n",
    "    if family:\n",
    "        birds.at[index, 'family'] = family"
   ],
   "id": "2bc83b31f4111f64",
   "outputs": [],
   "execution_count": 430
  },
  {
   "metadata": {
    "ExecuteTime": {
     "end_time": "2024-09-05T21:22:59.898184Z",
     "start_time": "2024-09-05T21:22:59.894213Z"
    }
   },
   "cell_type": "code",
   "source": "assert birds['family'].isna().sum() == 0, f\"NaN records present under 'family': {birds['family'].isna().sum()} records missing\"",
   "id": "74c5e329e61818d8",
   "outputs": [],
   "execution_count": 431
  },
  {
   "metadata": {},
   "cell_type": "markdown",
   "source": [
    "----\n",
    "&nbsp;\n",
    "## Isolating Birds of Prey\n",
    "Isolating birds of prey: We create a list of birds of prey 'groups' to search under `common_name`"
   ],
   "id": "29d761d5bb5d22f1"
  },
  {
   "metadata": {
    "ExecuteTime": {
     "end_time": "2024-09-05T21:24:00.608498Z",
     "start_time": "2024-09-05T21:24:00.572759Z"
    }
   },
   "cell_type": "code",
   "source": [
    "# Define the list of bird of prey keywords\n",
    "birds_of_prey = [\"Eagle\", \"Hawk\", \"Falcon\", \"Buzzard\", \"Harrier\", \"Kite\", \"Owl\", \"Osprey\", \n",
    "                 \"Vulture\", \"Condor\", \"Kestrel\", 'Buteo', 'Accipiter', 'Caracara']\n",
    "\n",
    "# Create a regex pattern from the list\n",
    "pattern = '|'.join(birds_of_prey)\n",
    "\n",
    "# Function to find and append only the matching keywords\n",
    "def find_raptors(common_names):\n",
    "    # Convert to string and handle NaN values\n",
    "    if pd.isna(common_names):\n",
    "        return ''\n",
    "    # Find keywords that are present in the common_names\n",
    "    matches = set()  # Use a set to avoid duplicates\n",
    "    for keyword in birds_of_prey:\n",
    "        if keyword in common_names:\n",
    "            matches.add(keyword)\n",
    "    return ', '.join(matches)\n",
    "\n",
    "birds['raptor_group'] = birds['common_names'].apply(find_raptors)\n",
    "birds.head()"
   ],
   "id": "fde0695d77cc080d",
   "outputs": [
    {
     "data": {
      "text/plain": [
       "   species_id park_code park_name            order        family  \\\n",
       "55  ACAD-1055      ACAD    Acadia  Accipitriformes  Accipitridae   \n",
       "56  ACAD-1056      ACAD    Acadia  Accipitriformes  Accipitridae   \n",
       "57  ACAD-1057      ACAD    Acadia  Accipitriformes  Accipitridae   \n",
       "58  ACAD-1058      ACAD    Acadia  Accipitriformes  Accipitridae   \n",
       "59  ACAD-1059      ACAD    Acadia  Accipitriformes  Accipitridae   \n",
       "\n",
       "       scientific_name        common_names record_status occurrence  \\\n",
       "55  Accipiter cooperii       Cooper's Hawk      Approved    Present   \n",
       "56  Accipiter gentilis    Northern Goshawk      Approved    Present   \n",
       "57  Accipiter striatus  Sharp-Shinned Hawk      Approved    Present   \n",
       "58   Aquila chrysaetos        Golden Eagle      Approved    Present   \n",
       "59   Buteo jamaicensis     Red-Tailed Hawk      Approved    Present   \n",
       "\n",
       "   nativeness   abundance seasonality conservation_status  is_protected  \\\n",
       "55     Native    Uncommon     Unknown  Species of Concern          True   \n",
       "56     Native    Uncommon     Breeder       Least Concern         False   \n",
       "57     Native      Common     Breeder  Species of Concern          True   \n",
       "58     Native  Occasional     Vagrant  Species of Concern          True   \n",
       "59     Native      Common     Breeder       Least Concern         False   \n",
       "\n",
       "   raptor_group  \n",
       "55         Hawk  \n",
       "56               \n",
       "57         Hawk  \n",
       "58        Eagle  \n",
       "59         Hawk  "
      ],
      "text/html": [
       "<div>\n",
       "<style scoped>\n",
       "    .dataframe tbody tr th:only-of-type {\n",
       "        vertical-align: middle;\n",
       "    }\n",
       "\n",
       "    .dataframe tbody tr th {\n",
       "        vertical-align: top;\n",
       "    }\n",
       "\n",
       "    .dataframe thead th {\n",
       "        text-align: right;\n",
       "    }\n",
       "</style>\n",
       "<table border=\"1\" class=\"dataframe\">\n",
       "  <thead>\n",
       "    <tr style=\"text-align: right;\">\n",
       "      <th></th>\n",
       "      <th>species_id</th>\n",
       "      <th>park_code</th>\n",
       "      <th>park_name</th>\n",
       "      <th>order</th>\n",
       "      <th>family</th>\n",
       "      <th>scientific_name</th>\n",
       "      <th>common_names</th>\n",
       "      <th>record_status</th>\n",
       "      <th>occurrence</th>\n",
       "      <th>nativeness</th>\n",
       "      <th>abundance</th>\n",
       "      <th>seasonality</th>\n",
       "      <th>conservation_status</th>\n",
       "      <th>is_protected</th>\n",
       "      <th>raptor_group</th>\n",
       "    </tr>\n",
       "  </thead>\n",
       "  <tbody>\n",
       "    <tr>\n",
       "      <th>55</th>\n",
       "      <td>ACAD-1055</td>\n",
       "      <td>ACAD</td>\n",
       "      <td>Acadia</td>\n",
       "      <td>Accipitriformes</td>\n",
       "      <td>Accipitridae</td>\n",
       "      <td>Accipiter cooperii</td>\n",
       "      <td>Cooper's Hawk</td>\n",
       "      <td>Approved</td>\n",
       "      <td>Present</td>\n",
       "      <td>Native</td>\n",
       "      <td>Uncommon</td>\n",
       "      <td>Unknown</td>\n",
       "      <td>Species of Concern</td>\n",
       "      <td>True</td>\n",
       "      <td>Hawk</td>\n",
       "    </tr>\n",
       "    <tr>\n",
       "      <th>56</th>\n",
       "      <td>ACAD-1056</td>\n",
       "      <td>ACAD</td>\n",
       "      <td>Acadia</td>\n",
       "      <td>Accipitriformes</td>\n",
       "      <td>Accipitridae</td>\n",
       "      <td>Accipiter gentilis</td>\n",
       "      <td>Northern Goshawk</td>\n",
       "      <td>Approved</td>\n",
       "      <td>Present</td>\n",
       "      <td>Native</td>\n",
       "      <td>Uncommon</td>\n",
       "      <td>Breeder</td>\n",
       "      <td>Least Concern</td>\n",
       "      <td>False</td>\n",
       "      <td></td>\n",
       "    </tr>\n",
       "    <tr>\n",
       "      <th>57</th>\n",
       "      <td>ACAD-1057</td>\n",
       "      <td>ACAD</td>\n",
       "      <td>Acadia</td>\n",
       "      <td>Accipitriformes</td>\n",
       "      <td>Accipitridae</td>\n",
       "      <td>Accipiter striatus</td>\n",
       "      <td>Sharp-Shinned Hawk</td>\n",
       "      <td>Approved</td>\n",
       "      <td>Present</td>\n",
       "      <td>Native</td>\n",
       "      <td>Common</td>\n",
       "      <td>Breeder</td>\n",
       "      <td>Species of Concern</td>\n",
       "      <td>True</td>\n",
       "      <td>Hawk</td>\n",
       "    </tr>\n",
       "    <tr>\n",
       "      <th>58</th>\n",
       "      <td>ACAD-1058</td>\n",
       "      <td>ACAD</td>\n",
       "      <td>Acadia</td>\n",
       "      <td>Accipitriformes</td>\n",
       "      <td>Accipitridae</td>\n",
       "      <td>Aquila chrysaetos</td>\n",
       "      <td>Golden Eagle</td>\n",
       "      <td>Approved</td>\n",
       "      <td>Present</td>\n",
       "      <td>Native</td>\n",
       "      <td>Occasional</td>\n",
       "      <td>Vagrant</td>\n",
       "      <td>Species of Concern</td>\n",
       "      <td>True</td>\n",
       "      <td>Eagle</td>\n",
       "    </tr>\n",
       "    <tr>\n",
       "      <th>59</th>\n",
       "      <td>ACAD-1059</td>\n",
       "      <td>ACAD</td>\n",
       "      <td>Acadia</td>\n",
       "      <td>Accipitriformes</td>\n",
       "      <td>Accipitridae</td>\n",
       "      <td>Buteo jamaicensis</td>\n",
       "      <td>Red-Tailed Hawk</td>\n",
       "      <td>Approved</td>\n",
       "      <td>Present</td>\n",
       "      <td>Native</td>\n",
       "      <td>Common</td>\n",
       "      <td>Breeder</td>\n",
       "      <td>Least Concern</td>\n",
       "      <td>False</td>\n",
       "      <td>Hawk</td>\n",
       "    </tr>\n",
       "  </tbody>\n",
       "</table>\n",
       "</div>"
      ]
     },
     "execution_count": 434,
     "metadata": {},
     "output_type": "execute_result"
    }
   ],
   "execution_count": 434
  },
  {
   "metadata": {
    "ExecuteTime": {
     "end_time": "2024-09-05T21:24:04.128878Z",
     "start_time": "2024-09-05T21:24:04.120945Z"
    }
   },
   "cell_type": "code",
   "source": [
    "total_raptors_comm = birds['raptor_group'].loc[birds['raptor_group'] != ''].count()\n",
    "print(f\"Under common name: {total_raptors_comm} raptor records\")\n",
    "diff_com_types = birds.raptor_group.unique().tolist()\n",
    "print(diff_com_types)"
   ],
   "id": "6c41b4206d267474",
   "outputs": [
    {
     "name": "stdout",
     "output_type": "stream",
     "text": [
      "Under common name: 1341 raptor records\n",
      "['Hawk', '', 'Eagle', 'Harrier', 'Vulture', 'Osprey', 'Falcon', 'Kestrel', 'Owl', 'Hawk, Owl', 'Condor', 'Kite', 'Caracara']\n"
     ]
    }
   ],
   "execution_count": 435
  },
  {
   "metadata": {},
   "cell_type": "markdown",
   "source": [
    "There's some ambiguity in the above list so we cross-reference `family`\n",
    "\n",
    "#### Birds of Prey Scientific Families and Genera\n",
    "\n",
    "According to OpenAI's language model ChatGPT 4o (2024):\n",
    "\n",
    "- Accipitridae (Hawks, Eagles, and relatives)\n",
    "- Falconidae (Falcons)\n",
    "- Harpagiidae (Harriers)\n",
    "- Pandionidae (Ospreys)\n",
    "- Accipitridae (Kites)\n",
    "- Cathartidae (New World Vultures)\n",
    "- Buteo (Buzzards and Buteos)\n",
    "- Accipiter (Goshawks and Accipiters)\n",
    "- Tytonidae (Barn Owls)\n",
    "- Strigidae (Typical Owls)\n",
    "\n",
    "*Caveat emptor*: This list may not be comprehensive."
   ],
   "id": "1f7dffce6d86f032"
  },
  {
   "metadata": {
    "ExecuteTime": {
     "end_time": "2024-09-05T20:58:18.564Z",
     "start_time": "2024-09-05T20:58:18.541782Z"
    }
   },
   "cell_type": "code",
   "source": [
    "# Define the list of bird of prey scientific families and genera\n",
    "birds_of_prey_sci = [\n",
    "    \"Accipitridae\", \"Falconidae\", \"Harpagiidae\", \n",
    "    \"Pandionidae\", \"Cathartidae\", \"Buteo\", \"Accipiter\", \n",
    "    \"Tytonidae\", \"Strigidae\"\n",
    "]\n",
    "\n",
    "# Create a regex pattern from the list\n",
    "pattern = '|'.join(birds_of_prey_sci)\n",
    "birds['raptor_sci_fam'] = birds['family'].str.findall(f'({pattern})')\n",
    "birds['raptor_sci_fam'] = birds['raptor_sci_fam'].apply(lambda x: ', '.join(x) if isinstance(x, list) and x else '')\n",
    "birds.head()"
   ],
   "id": "7e117e5ea2e1bbf2",
   "outputs": [
    {
     "data": {
      "text/plain": [
       "   species_id park_code park_name            order        family  \\\n",
       "55  ACAD-1055      ACAD    Acadia  Accipitriformes  Accipitridae   \n",
       "56  ACAD-1056      ACAD    Acadia  Accipitriformes  Accipitridae   \n",
       "57  ACAD-1057      ACAD    Acadia  Accipitriformes  Accipitridae   \n",
       "58  ACAD-1058      ACAD    Acadia  Accipitriformes  Accipitridae   \n",
       "59  ACAD-1059      ACAD    Acadia  Accipitriformes  Accipitridae   \n",
       "\n",
       "       scientific_name        common_names record_status occurrence  \\\n",
       "55  Accipiter cooperii       Cooper's Hawk      Approved    Present   \n",
       "56  Accipiter gentilis    Northern Goshawk      Approved    Present   \n",
       "57  Accipiter striatus  Sharp-Shinned Hawk      Approved    Present   \n",
       "58   Aquila chrysaetos        Golden Eagle      Approved    Present   \n",
       "59   Buteo jamaicensis     Red-Tailed Hawk      Approved    Present   \n",
       "\n",
       "   nativeness   abundance seasonality conservation_status  is_protected  \\\n",
       "55     Native    Uncommon     Unknown  Species of Concern          True   \n",
       "56     Native    Uncommon     Breeder       Least Concern         False   \n",
       "57     Native      Common     Breeder  Species of Concern          True   \n",
       "58     Native  Occasional     Vagrant  Species of Concern          True   \n",
       "59     Native      Common     Breeder       Least Concern         False   \n",
       "\n",
       "   raptor_group raptor_sci_fam  \n",
       "55         Hawk   Accipitridae  \n",
       "56                Accipitridae  \n",
       "57         Hawk   Accipitridae  \n",
       "58        Eagle   Accipitridae  \n",
       "59         Hawk   Accipitridae  "
      ],
      "text/html": [
       "<div>\n",
       "<style scoped>\n",
       "    .dataframe tbody tr th:only-of-type {\n",
       "        vertical-align: middle;\n",
       "    }\n",
       "\n",
       "    .dataframe tbody tr th {\n",
       "        vertical-align: top;\n",
       "    }\n",
       "\n",
       "    .dataframe thead th {\n",
       "        text-align: right;\n",
       "    }\n",
       "</style>\n",
       "<table border=\"1\" class=\"dataframe\">\n",
       "  <thead>\n",
       "    <tr style=\"text-align: right;\">\n",
       "      <th></th>\n",
       "      <th>species_id</th>\n",
       "      <th>park_code</th>\n",
       "      <th>park_name</th>\n",
       "      <th>order</th>\n",
       "      <th>family</th>\n",
       "      <th>scientific_name</th>\n",
       "      <th>common_names</th>\n",
       "      <th>record_status</th>\n",
       "      <th>occurrence</th>\n",
       "      <th>nativeness</th>\n",
       "      <th>abundance</th>\n",
       "      <th>seasonality</th>\n",
       "      <th>conservation_status</th>\n",
       "      <th>is_protected</th>\n",
       "      <th>raptor_group</th>\n",
       "      <th>raptor_sci_fam</th>\n",
       "    </tr>\n",
       "  </thead>\n",
       "  <tbody>\n",
       "    <tr>\n",
       "      <th>55</th>\n",
       "      <td>ACAD-1055</td>\n",
       "      <td>ACAD</td>\n",
       "      <td>Acadia</td>\n",
       "      <td>Accipitriformes</td>\n",
       "      <td>Accipitridae</td>\n",
       "      <td>Accipiter cooperii</td>\n",
       "      <td>Cooper's Hawk</td>\n",
       "      <td>Approved</td>\n",
       "      <td>Present</td>\n",
       "      <td>Native</td>\n",
       "      <td>Uncommon</td>\n",
       "      <td>Unknown</td>\n",
       "      <td>Species of Concern</td>\n",
       "      <td>True</td>\n",
       "      <td>Hawk</td>\n",
       "      <td>Accipitridae</td>\n",
       "    </tr>\n",
       "    <tr>\n",
       "      <th>56</th>\n",
       "      <td>ACAD-1056</td>\n",
       "      <td>ACAD</td>\n",
       "      <td>Acadia</td>\n",
       "      <td>Accipitriformes</td>\n",
       "      <td>Accipitridae</td>\n",
       "      <td>Accipiter gentilis</td>\n",
       "      <td>Northern Goshawk</td>\n",
       "      <td>Approved</td>\n",
       "      <td>Present</td>\n",
       "      <td>Native</td>\n",
       "      <td>Uncommon</td>\n",
       "      <td>Breeder</td>\n",
       "      <td>Least Concern</td>\n",
       "      <td>False</td>\n",
       "      <td></td>\n",
       "      <td>Accipitridae</td>\n",
       "    </tr>\n",
       "    <tr>\n",
       "      <th>57</th>\n",
       "      <td>ACAD-1057</td>\n",
       "      <td>ACAD</td>\n",
       "      <td>Acadia</td>\n",
       "      <td>Accipitriformes</td>\n",
       "      <td>Accipitridae</td>\n",
       "      <td>Accipiter striatus</td>\n",
       "      <td>Sharp-Shinned Hawk</td>\n",
       "      <td>Approved</td>\n",
       "      <td>Present</td>\n",
       "      <td>Native</td>\n",
       "      <td>Common</td>\n",
       "      <td>Breeder</td>\n",
       "      <td>Species of Concern</td>\n",
       "      <td>True</td>\n",
       "      <td>Hawk</td>\n",
       "      <td>Accipitridae</td>\n",
       "    </tr>\n",
       "    <tr>\n",
       "      <th>58</th>\n",
       "      <td>ACAD-1058</td>\n",
       "      <td>ACAD</td>\n",
       "      <td>Acadia</td>\n",
       "      <td>Accipitriformes</td>\n",
       "      <td>Accipitridae</td>\n",
       "      <td>Aquila chrysaetos</td>\n",
       "      <td>Golden Eagle</td>\n",
       "      <td>Approved</td>\n",
       "      <td>Present</td>\n",
       "      <td>Native</td>\n",
       "      <td>Occasional</td>\n",
       "      <td>Vagrant</td>\n",
       "      <td>Species of Concern</td>\n",
       "      <td>True</td>\n",
       "      <td>Eagle</td>\n",
       "      <td>Accipitridae</td>\n",
       "    </tr>\n",
       "    <tr>\n",
       "      <th>59</th>\n",
       "      <td>ACAD-1059</td>\n",
       "      <td>ACAD</td>\n",
       "      <td>Acadia</td>\n",
       "      <td>Accipitriformes</td>\n",
       "      <td>Accipitridae</td>\n",
       "      <td>Buteo jamaicensis</td>\n",
       "      <td>Red-Tailed Hawk</td>\n",
       "      <td>Approved</td>\n",
       "      <td>Present</td>\n",
       "      <td>Native</td>\n",
       "      <td>Common</td>\n",
       "      <td>Breeder</td>\n",
       "      <td>Least Concern</td>\n",
       "      <td>False</td>\n",
       "      <td>Hawk</td>\n",
       "      <td>Accipitridae</td>\n",
       "    </tr>\n",
       "  </tbody>\n",
       "</table>\n",
       "</div>"
      ]
     },
     "execution_count": 284,
     "metadata": {},
     "output_type": "execute_result"
    }
   ],
   "execution_count": 284
  },
  {
   "metadata": {
    "ExecuteTime": {
     "end_time": "2024-09-05T20:58:57.431066Z",
     "start_time": "2024-09-05T20:58:57.426194Z"
    }
   },
   "cell_type": "code",
   "source": [
    "total_raptors_sci = birds['raptor_sci_fam'].loc[birds['raptor_sci_fam'] != ''].count()\n",
    "print(f\"Under scientific family: {total_raptors_sci} raptor records\")\n",
    "diff_sci_types = birds.raptor_sci_fam.unique().tolist()\n",
    "print(diff_sci_types)"
   ],
   "id": "c9cf1b9713bdb644",
   "outputs": [
    {
     "name": "stdout",
     "output_type": "stream",
     "text": [
      "Under scientific family: 1470 raptor records\n",
      "['Accipitridae', 'Cathartidae', 'Pandionidae', '', 'Falconidae', 'Strigidae', 'Tytonidae']\n"
     ]
    }
   ],
   "execution_count": 285
  },
  {
   "metadata": {
    "ExecuteTime": {
     "end_time": "2024-09-05T20:59:43.212732Z",
     "start_time": "2024-09-05T20:59:43.205126Z"
    }
   },
   "cell_type": "code",
   "source": [
    "raptors_df = (birds[(birds.raptor_group != '') | (birds.raptor_sci_fam != '')])\n",
    "print(raptors_df.shape)"
   ],
   "id": "dad7a2538d7732da",
   "outputs": [
    {
     "name": "stdout",
     "output_type": "stream",
     "text": [
      "(1470, 16)\n"
     ]
    }
   ],
   "execution_count": 286
  },
  {
   "metadata": {
    "ExecuteTime": {
     "end_time": "2024-09-05T21:05:31.240477Z",
     "start_time": "2024-09-05T21:05:31.235457Z"
    }
   },
   "cell_type": "code",
   "source": [
    "raptors_df = raptors_df.copy()\n",
    "mask = raptors_df['raptor_group'] == ''\n",
    "raptors_df.loc[mask, 'ambiguous'] = True\n",
    "result = raptors_df[raptors_df['ambiguous'] == True]\n",
    "print(f\"Shape: {result.shape}\")\n",
    "print(f\"Unique common names:\\n{result.common_names.unique().tolist()}\")"
   ],
   "id": "8ec41840bf21a735",
   "outputs": [
    {
     "name": "stdout",
     "output_type": "stream",
     "text": [
      "Shape: (129, 17)\n",
      "Unique common names:\n",
      "['Northern Goshawk', 'Merlin', 'Gyrfalcon', 'Merlin (Coastal Forest Subspecies)', 'Merlin (richardsonii subspecies)', 'Merlin (Tundra Subspecies)', 'Northern Goshawk (atricapillus subspecies)', 'Northern Goshawk (laingi subspecies)', 'Merlin (bendirei subspecies)', 'Merlin (richardsoni subspecies)']\n"
     ]
    }
   ],
   "execution_count": 290
  },
  {
   "metadata": {},
   "cell_type": "markdown",
   "source": [
    "*Accipiter gentilis* is `Northern Goshawk`, a type of `Hawk`\n",
    "\n",
    "*Falco columbarius* is `Merlin`, a type of `Falcon`"
   ],
   "id": "4c02516e12fd8c22"
  },
  {
   "metadata": {
    "ExecuteTime": {
     "end_time": "2024-09-05T21:12:49.266690Z",
     "start_time": "2024-09-05T21:12:49.253348Z"
    }
   },
   "cell_type": "code",
   "source": [
    "raptors_df = raptors_df.copy()\n",
    "merlin_gyrfalcon_mask = raptors_df['common_names'].str.contains(r'Merlin|Gyrfalcon', case=False, regex=True)\n",
    "northern_goshawk_mask = raptors_df['common_names'].str.contains(r'Northern Goshawk', case=False, regex=True)\n",
    "\n",
    "raptors_df.loc[merlin_gyrfalcon_mask, 'raptor_common'] = 'Falcon'\n",
    "raptors_df.loc[northern_goshawk_mask, 'raptor_common'] = 'Hawk'\n",
    "\n",
    "# Verify the changes\n",
    "result = raptors_df[raptors_df['ambiguous'] == True]\n",
    "print(f\"Updated shape: {result.shape}\")\n",
    "print(f\"Updated 'raptor_common' values:\\n{result[['common_names', 'raptor_common']].drop_duplicates()}\")"
   ],
   "id": "ef13e32f8a4c2563",
   "outputs": [
    {
     "name": "stdout",
     "output_type": "stream",
     "text": [
      "Updated shape: (129, 18)\n",
      "Updated 'raptor_common' values:\n",
      "                                     common_names raptor_common\n",
      "56                               Northern Goshawk          Hawk\n",
      "185                                        Merlin        Falcon\n",
      "187                                     Gyrfalcon        Falcon\n",
      "19228          Merlin (Coastal Forest Subspecies)        Falcon\n",
      "26456            Merlin (richardsonii subspecies)        Falcon\n",
      "42199                  Merlin (Tundra Subspecies)        Falcon\n",
      "78390  Northern Goshawk (atricapillus subspecies)          Hawk\n",
      "78391        Northern Goshawk (laingi subspecies)          Hawk\n",
      "87990                Merlin (bendirei subspecies)        Falcon\n",
      "87992             Merlin (richardsoni subspecies)        Falcon\n"
     ]
    }
   ],
   "execution_count": 292
  },
  {
   "metadata": {
    "ExecuteTime": {
     "end_time": "2024-09-05T21:28:42.934060Z",
     "start_time": "2024-09-05T21:28:42.929266Z"
    }
   },
   "cell_type": "code",
   "source": [
    "# Extract indices from the result DataFrame\n",
    "updated_indices = result.index\n",
    "birds.loc[updated_indices, 'raptor_group'] = result['raptor_common']\n",
    "assert not birds.loc[updated_indices, 'raptor_group'].isna().any(), \"NaN values present in 'raptor_common' for the specified indices\""
   ],
   "id": "937757b6facfee54",
   "outputs": [],
   "execution_count": 438
  },
  {
   "metadata": {
    "ExecuteTime": {
     "end_time": "2024-09-05T21:28:46.025270Z",
     "start_time": "2024-09-05T21:28:46.013211Z"
    }
   },
   "cell_type": "code",
   "source": "birds.head()",
   "id": "27323cbb95a40c",
   "outputs": [
    {
     "data": {
      "text/plain": [
       "   species_id park_code park_name            order        family  \\\n",
       "55  ACAD-1055      ACAD    Acadia  Accipitriformes  Accipitridae   \n",
       "56  ACAD-1056      ACAD    Acadia  Accipitriformes  Accipitridae   \n",
       "57  ACAD-1057      ACAD    Acadia  Accipitriformes  Accipitridae   \n",
       "58  ACAD-1058      ACAD    Acadia  Accipitriformes  Accipitridae   \n",
       "59  ACAD-1059      ACAD    Acadia  Accipitriformes  Accipitridae   \n",
       "\n",
       "       scientific_name        common_names record_status occurrence  \\\n",
       "55  Accipiter cooperii       Cooper's Hawk      Approved    Present   \n",
       "56  Accipiter gentilis    Northern Goshawk      Approved    Present   \n",
       "57  Accipiter striatus  Sharp-Shinned Hawk      Approved    Present   \n",
       "58   Aquila chrysaetos        Golden Eagle      Approved    Present   \n",
       "59   Buteo jamaicensis     Red-Tailed Hawk      Approved    Present   \n",
       "\n",
       "   nativeness   abundance seasonality conservation_status  is_protected  \\\n",
       "55     Native    Uncommon     Unknown  Species of Concern          True   \n",
       "56     Native    Uncommon     Breeder       Least Concern         False   \n",
       "57     Native      Common     Breeder  Species of Concern          True   \n",
       "58     Native  Occasional     Vagrant  Species of Concern          True   \n",
       "59     Native      Common     Breeder       Least Concern         False   \n",
       "\n",
       "   raptor_group  \n",
       "55         Hawk  \n",
       "56         Hawk  \n",
       "57         Hawk  \n",
       "58        Eagle  \n",
       "59         Hawk  "
      ],
      "text/html": [
       "<div>\n",
       "<style scoped>\n",
       "    .dataframe tbody tr th:only-of-type {\n",
       "        vertical-align: middle;\n",
       "    }\n",
       "\n",
       "    .dataframe tbody tr th {\n",
       "        vertical-align: top;\n",
       "    }\n",
       "\n",
       "    .dataframe thead th {\n",
       "        text-align: right;\n",
       "    }\n",
       "</style>\n",
       "<table border=\"1\" class=\"dataframe\">\n",
       "  <thead>\n",
       "    <tr style=\"text-align: right;\">\n",
       "      <th></th>\n",
       "      <th>species_id</th>\n",
       "      <th>park_code</th>\n",
       "      <th>park_name</th>\n",
       "      <th>order</th>\n",
       "      <th>family</th>\n",
       "      <th>scientific_name</th>\n",
       "      <th>common_names</th>\n",
       "      <th>record_status</th>\n",
       "      <th>occurrence</th>\n",
       "      <th>nativeness</th>\n",
       "      <th>abundance</th>\n",
       "      <th>seasonality</th>\n",
       "      <th>conservation_status</th>\n",
       "      <th>is_protected</th>\n",
       "      <th>raptor_group</th>\n",
       "    </tr>\n",
       "  </thead>\n",
       "  <tbody>\n",
       "    <tr>\n",
       "      <th>55</th>\n",
       "      <td>ACAD-1055</td>\n",
       "      <td>ACAD</td>\n",
       "      <td>Acadia</td>\n",
       "      <td>Accipitriformes</td>\n",
       "      <td>Accipitridae</td>\n",
       "      <td>Accipiter cooperii</td>\n",
       "      <td>Cooper's Hawk</td>\n",
       "      <td>Approved</td>\n",
       "      <td>Present</td>\n",
       "      <td>Native</td>\n",
       "      <td>Uncommon</td>\n",
       "      <td>Unknown</td>\n",
       "      <td>Species of Concern</td>\n",
       "      <td>True</td>\n",
       "      <td>Hawk</td>\n",
       "    </tr>\n",
       "    <tr>\n",
       "      <th>56</th>\n",
       "      <td>ACAD-1056</td>\n",
       "      <td>ACAD</td>\n",
       "      <td>Acadia</td>\n",
       "      <td>Accipitriformes</td>\n",
       "      <td>Accipitridae</td>\n",
       "      <td>Accipiter gentilis</td>\n",
       "      <td>Northern Goshawk</td>\n",
       "      <td>Approved</td>\n",
       "      <td>Present</td>\n",
       "      <td>Native</td>\n",
       "      <td>Uncommon</td>\n",
       "      <td>Breeder</td>\n",
       "      <td>Least Concern</td>\n",
       "      <td>False</td>\n",
       "      <td>Hawk</td>\n",
       "    </tr>\n",
       "    <tr>\n",
       "      <th>57</th>\n",
       "      <td>ACAD-1057</td>\n",
       "      <td>ACAD</td>\n",
       "      <td>Acadia</td>\n",
       "      <td>Accipitriformes</td>\n",
       "      <td>Accipitridae</td>\n",
       "      <td>Accipiter striatus</td>\n",
       "      <td>Sharp-Shinned Hawk</td>\n",
       "      <td>Approved</td>\n",
       "      <td>Present</td>\n",
       "      <td>Native</td>\n",
       "      <td>Common</td>\n",
       "      <td>Breeder</td>\n",
       "      <td>Species of Concern</td>\n",
       "      <td>True</td>\n",
       "      <td>Hawk</td>\n",
       "    </tr>\n",
       "    <tr>\n",
       "      <th>58</th>\n",
       "      <td>ACAD-1058</td>\n",
       "      <td>ACAD</td>\n",
       "      <td>Acadia</td>\n",
       "      <td>Accipitriformes</td>\n",
       "      <td>Accipitridae</td>\n",
       "      <td>Aquila chrysaetos</td>\n",
       "      <td>Golden Eagle</td>\n",
       "      <td>Approved</td>\n",
       "      <td>Present</td>\n",
       "      <td>Native</td>\n",
       "      <td>Occasional</td>\n",
       "      <td>Vagrant</td>\n",
       "      <td>Species of Concern</td>\n",
       "      <td>True</td>\n",
       "      <td>Eagle</td>\n",
       "    </tr>\n",
       "    <tr>\n",
       "      <th>59</th>\n",
       "      <td>ACAD-1059</td>\n",
       "      <td>ACAD</td>\n",
       "      <td>Acadia</td>\n",
       "      <td>Accipitriformes</td>\n",
       "      <td>Accipitridae</td>\n",
       "      <td>Buteo jamaicensis</td>\n",
       "      <td>Red-Tailed Hawk</td>\n",
       "      <td>Approved</td>\n",
       "      <td>Present</td>\n",
       "      <td>Native</td>\n",
       "      <td>Common</td>\n",
       "      <td>Breeder</td>\n",
       "      <td>Least Concern</td>\n",
       "      <td>False</td>\n",
       "      <td>Hawk</td>\n",
       "    </tr>\n",
       "  </tbody>\n",
       "</table>\n",
       "</div>"
      ]
     },
     "execution_count": 439,
     "metadata": {},
     "output_type": "execute_result"
    }
   ],
   "execution_count": 439
  },
  {
   "metadata": {
    "ExecuteTime": {
     "end_time": "2024-09-05T21:30:16.856072Z",
     "start_time": "2024-09-05T21:30:16.851016Z"
    }
   },
   "cell_type": "code",
   "source": [
    "# Filter the DataFrame to find records where 'raptor_common' matches 'Hawk, Owl'\n",
    "hawk_owl_records = birds[birds['raptor_group'] == 'Hawk, Owl']\n",
    "print(f\"Number of records matching 'Hawk, Owl': {hawk_owl_records.shape[0]}\")\n",
    "print(hawk_owl_records.common_names.unique().tolist())"
   ],
   "id": "a739eb17597594b0",
   "outputs": [
    {
     "name": "stdout",
     "output_type": "stream",
     "text": [
      "Number of records matching 'Hawk, Owl': 12\n",
      "['Northern Hawk Owl']\n"
     ]
    }
   ],
   "execution_count": 441
  },
  {
   "metadata": {
    "ExecuteTime": {
     "end_time": "2024-09-05T21:36:28.408022Z",
     "start_time": "2024-09-05T21:36:28.400348Z"
    }
   },
   "cell_type": "code",
   "source": [
    "hawk_owl_indices = birds[birds['raptor_group'] == 'Hawk, Owl'].index\n",
    "birds.loc[hawk_owl_indices, 'raptor_group'] = \"Owl\"\n",
    "assert birds[birds['raptor_group'] == 'Hawk, Owl'].empty, \"There are records with 'raptor_group' set to 'Hawk, Owl'.\""
   ],
   "id": "1f0e1db2d359b9f0",
   "outputs": [],
   "execution_count": 447
  },
  {
   "metadata": {
    "ExecuteTime": {
     "end_time": "2024-09-05T21:43:10.961628Z",
     "start_time": "2024-09-05T21:43:10.954932Z"
    }
   },
   "cell_type": "code",
   "source": [
    "# Change the empty string in 'raptor_group' to \"None\"\n",
    "birds['raptor_group'] = birds['raptor_group'].replace('', 'None')\n",
    "print(birds.raptor_group.unique().tolist())"
   ],
   "id": "bd11d63f32f98750",
   "outputs": [
    {
     "name": "stdout",
     "output_type": "stream",
     "text": [
      "['Hawk', 'Eagle', 'Harrier', 'Vulture', 'Osprey', 'None', 'Falcon', 'Kestrel', 'Owl', 'Condor', 'Kite', 'Caracara']\n"
     ]
    }
   ],
   "execution_count": 448
  },
  {
   "metadata": {
    "ExecuteTime": {
     "end_time": "2024-09-05T21:44:18.443425Z",
     "start_time": "2024-09-05T21:44:18.436805Z"
    }
   },
   "cell_type": "code",
   "source": [
    "# Create a new boolean column 'is_raptor' based on 'raptor_group'\n",
    "birds['is_raptor'] = birds['raptor_group'].apply(lambda x: x != 'None')\n",
    "assert birds['is_raptor'].dtype == bool, \"is_raptor is not a boolean column\""
   ],
   "id": "c4e465cd73f7266d",
   "outputs": [],
   "execution_count": 450
  },
  {
   "metadata": {
    "ExecuteTime": {
     "end_time": "2024-09-05T21:45:34.348523Z",
     "start_time": "2024-09-05T21:45:34.331912Z"
    }
   },
   "cell_type": "code",
   "source": [
    "# Reorder the columns to place 'raptor_group' next to 'common_names'\n",
    "columns_order = birds.columns.tolist()  # Get the current order of columns\n",
    "common_names_index = columns_order.index('common_names')\n",
    "columns_order.insert(common_names_index + 1, columns_order.pop(columns_order.index('raptor_group')))\n",
    "birds = birds[columns_order] \n",
    "birds.head()"
   ],
   "id": "cff281ba4fc50dee",
   "outputs": [
    {
     "data": {
      "text/plain": [
       "   species_id park_code park_name            order        family  \\\n",
       "55  ACAD-1055      ACAD    Acadia  Accipitriformes  Accipitridae   \n",
       "56  ACAD-1056      ACAD    Acadia  Accipitriformes  Accipitridae   \n",
       "57  ACAD-1057      ACAD    Acadia  Accipitriformes  Accipitridae   \n",
       "58  ACAD-1058      ACAD    Acadia  Accipitriformes  Accipitridae   \n",
       "59  ACAD-1059      ACAD    Acadia  Accipitriformes  Accipitridae   \n",
       "\n",
       "       scientific_name        common_names raptor_group record_status  \\\n",
       "55  Accipiter cooperii       Cooper's Hawk         Hawk      Approved   \n",
       "56  Accipiter gentilis    Northern Goshawk         Hawk      Approved   \n",
       "57  Accipiter striatus  Sharp-Shinned Hawk         Hawk      Approved   \n",
       "58   Aquila chrysaetos        Golden Eagle        Eagle      Approved   \n",
       "59   Buteo jamaicensis     Red-Tailed Hawk         Hawk      Approved   \n",
       "\n",
       "   occurrence nativeness   abundance seasonality conservation_status  \\\n",
       "55    Present     Native    Uncommon     Unknown  Species of Concern   \n",
       "56    Present     Native    Uncommon     Breeder       Least Concern   \n",
       "57    Present     Native      Common     Breeder  Species of Concern   \n",
       "58    Present     Native  Occasional     Vagrant  Species of Concern   \n",
       "59    Present     Native      Common     Breeder       Least Concern   \n",
       "\n",
       "    is_protected  is_raptor  \n",
       "55          True       True  \n",
       "56         False       True  \n",
       "57          True       True  \n",
       "58          True       True  \n",
       "59         False       True  "
      ],
      "text/html": [
       "<div>\n",
       "<style scoped>\n",
       "    .dataframe tbody tr th:only-of-type {\n",
       "        vertical-align: middle;\n",
       "    }\n",
       "\n",
       "    .dataframe tbody tr th {\n",
       "        vertical-align: top;\n",
       "    }\n",
       "\n",
       "    .dataframe thead th {\n",
       "        text-align: right;\n",
       "    }\n",
       "</style>\n",
       "<table border=\"1\" class=\"dataframe\">\n",
       "  <thead>\n",
       "    <tr style=\"text-align: right;\">\n",
       "      <th></th>\n",
       "      <th>species_id</th>\n",
       "      <th>park_code</th>\n",
       "      <th>park_name</th>\n",
       "      <th>order</th>\n",
       "      <th>family</th>\n",
       "      <th>scientific_name</th>\n",
       "      <th>common_names</th>\n",
       "      <th>raptor_group</th>\n",
       "      <th>record_status</th>\n",
       "      <th>occurrence</th>\n",
       "      <th>nativeness</th>\n",
       "      <th>abundance</th>\n",
       "      <th>seasonality</th>\n",
       "      <th>conservation_status</th>\n",
       "      <th>is_protected</th>\n",
       "      <th>is_raptor</th>\n",
       "    </tr>\n",
       "  </thead>\n",
       "  <tbody>\n",
       "    <tr>\n",
       "      <th>55</th>\n",
       "      <td>ACAD-1055</td>\n",
       "      <td>ACAD</td>\n",
       "      <td>Acadia</td>\n",
       "      <td>Accipitriformes</td>\n",
       "      <td>Accipitridae</td>\n",
       "      <td>Accipiter cooperii</td>\n",
       "      <td>Cooper's Hawk</td>\n",
       "      <td>Hawk</td>\n",
       "      <td>Approved</td>\n",
       "      <td>Present</td>\n",
       "      <td>Native</td>\n",
       "      <td>Uncommon</td>\n",
       "      <td>Unknown</td>\n",
       "      <td>Species of Concern</td>\n",
       "      <td>True</td>\n",
       "      <td>True</td>\n",
       "    </tr>\n",
       "    <tr>\n",
       "      <th>56</th>\n",
       "      <td>ACAD-1056</td>\n",
       "      <td>ACAD</td>\n",
       "      <td>Acadia</td>\n",
       "      <td>Accipitriformes</td>\n",
       "      <td>Accipitridae</td>\n",
       "      <td>Accipiter gentilis</td>\n",
       "      <td>Northern Goshawk</td>\n",
       "      <td>Hawk</td>\n",
       "      <td>Approved</td>\n",
       "      <td>Present</td>\n",
       "      <td>Native</td>\n",
       "      <td>Uncommon</td>\n",
       "      <td>Breeder</td>\n",
       "      <td>Least Concern</td>\n",
       "      <td>False</td>\n",
       "      <td>True</td>\n",
       "    </tr>\n",
       "    <tr>\n",
       "      <th>57</th>\n",
       "      <td>ACAD-1057</td>\n",
       "      <td>ACAD</td>\n",
       "      <td>Acadia</td>\n",
       "      <td>Accipitriformes</td>\n",
       "      <td>Accipitridae</td>\n",
       "      <td>Accipiter striatus</td>\n",
       "      <td>Sharp-Shinned Hawk</td>\n",
       "      <td>Hawk</td>\n",
       "      <td>Approved</td>\n",
       "      <td>Present</td>\n",
       "      <td>Native</td>\n",
       "      <td>Common</td>\n",
       "      <td>Breeder</td>\n",
       "      <td>Species of Concern</td>\n",
       "      <td>True</td>\n",
       "      <td>True</td>\n",
       "    </tr>\n",
       "    <tr>\n",
       "      <th>58</th>\n",
       "      <td>ACAD-1058</td>\n",
       "      <td>ACAD</td>\n",
       "      <td>Acadia</td>\n",
       "      <td>Accipitriformes</td>\n",
       "      <td>Accipitridae</td>\n",
       "      <td>Aquila chrysaetos</td>\n",
       "      <td>Golden Eagle</td>\n",
       "      <td>Eagle</td>\n",
       "      <td>Approved</td>\n",
       "      <td>Present</td>\n",
       "      <td>Native</td>\n",
       "      <td>Occasional</td>\n",
       "      <td>Vagrant</td>\n",
       "      <td>Species of Concern</td>\n",
       "      <td>True</td>\n",
       "      <td>True</td>\n",
       "    </tr>\n",
       "    <tr>\n",
       "      <th>59</th>\n",
       "      <td>ACAD-1059</td>\n",
       "      <td>ACAD</td>\n",
       "      <td>Acadia</td>\n",
       "      <td>Accipitriformes</td>\n",
       "      <td>Accipitridae</td>\n",
       "      <td>Buteo jamaicensis</td>\n",
       "      <td>Red-Tailed Hawk</td>\n",
       "      <td>Hawk</td>\n",
       "      <td>Approved</td>\n",
       "      <td>Present</td>\n",
       "      <td>Native</td>\n",
       "      <td>Common</td>\n",
       "      <td>Breeder</td>\n",
       "      <td>Least Concern</td>\n",
       "      <td>False</td>\n",
       "      <td>True</td>\n",
       "    </tr>\n",
       "  </tbody>\n",
       "</table>\n",
       "</div>"
      ]
     },
     "execution_count": 452,
     "metadata": {},
     "output_type": "execute_result"
    }
   ],
   "execution_count": 452
  },
  {
   "metadata": {
    "ExecuteTime": {
     "end_time": "2024-09-05T21:47:12.154584Z",
     "start_time": "2024-09-05T21:47:12.149004Z"
    }
   },
   "cell_type": "code",
   "source": "print(f\"total raptors: {birds[birds['is_raptor'] == True].shape[0]}\")",
   "id": "1193ce494d729b2e",
   "outputs": [
    {
     "name": "stdout",
     "output_type": "stream",
     "text": [
      "total raptors: 1470\n"
     ]
    }
   ],
   "execution_count": 454
  },
  {
   "metadata": {
    "ExecuteTime": {
     "end_time": "2024-09-05T22:14:13.841298Z",
     "start_time": "2024-09-05T22:14:13.757269Z"
    }
   },
   "cell_type": "code",
   "source": [
    "# Export the 'birds' DataFrame to a CSV file\n",
    "birds.to_csv('DATA/birds.csv', index=False)\n",
    "birds.to_pickle('DATA/birds.pkl')"
   ],
   "id": "69455f3e628b4ba2",
   "outputs": [],
   "execution_count": 458
  },
  {
   "metadata": {},
   "cell_type": "markdown",
   "source": "----",
   "id": "26281a802ce57a35"
  }
 ],
 "metadata": {
  "kernelspec": {
   "display_name": "Python 3",
   "language": "python",
   "name": "python3"
  },
  "language_info": {
   "codemirror_mode": {
    "name": "ipython",
    "version": 2
   },
   "file_extension": ".py",
   "mimetype": "text/x-python",
   "name": "python",
   "nbconvert_exporter": "python",
   "pygments_lexer": "ipython2",
   "version": "2.7.6"
  }
 },
 "nbformat": 4,
 "nbformat_minor": 5
}
