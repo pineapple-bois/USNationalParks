{
 "cells": [
  {
   "cell_type": "markdown",
   "source": [
    "# Biodiversity in U.S. National Parks"
   ],
   "metadata": {
    "collapsed": false
   }
  },
  {
   "cell_type": "markdown",
   "source": [
    "## North American Birds of Prey"
   ],
   "metadata": {
    "collapsed": false
   }
  },
  {
   "cell_type": "code",
   "execution_count": 550,
   "metadata": {
    "collapsed": true
   },
   "outputs": [],
   "source": [
    "# Importing the necessary modules\n",
    "import pandas as pd\n",
    "import matplotlib.pyplot as plt\n",
    "import matplotlib.patches as mpatches\n",
    "import plotly.express as px\n",
    "import seaborn as sns\n",
    "import numpy as np"
   ]
  },
  {
   "cell_type": "markdown",
   "source": [
    "## Loading in the data"
   ],
   "metadata": {
    "collapsed": false
   }
  },
  {
   "cell_type": "markdown",
   "source": [
    "# `parks.csv`"
   ],
   "metadata": {
    "collapsed": false
   }
  },
  {
   "cell_type": "code",
   "execution_count": 551,
   "outputs": [
    {
     "name": "stdout",
     "output_type": "stream",
     "text": [
      "Columns: ['Park Code', 'Park Name', 'State', 'Acres', 'Latitude', 'Longitude']\n",
      "\n",
      "(Rows, Columns): (56, 6)\n"
     ]
    },
    {
     "data": {
      "text/plain": "  Park Code               Park Name State   Acres  Latitude  Longitude\n0      ACAD    Acadia National Park    ME   47390     44.35     -68.21\n1      ARCH    Arches National Park    UT   76519     38.68    -109.57\n2      BADL  Badlands National Park    SD  242756     43.75    -102.50\n3      BIBE  Big Bend National Park    TX  801163     29.25    -103.25\n4      BISC  Biscayne National Park    FL  172924     25.65     -80.08",
      "text/html": "<div>\n<style scoped>\n    .dataframe tbody tr th:only-of-type {\n        vertical-align: middle;\n    }\n\n    .dataframe tbody tr th {\n        vertical-align: top;\n    }\n\n    .dataframe thead th {\n        text-align: right;\n    }\n</style>\n<table border=\"1\" class=\"dataframe\">\n  <thead>\n    <tr style=\"text-align: right;\">\n      <th></th>\n      <th>Park Code</th>\n      <th>Park Name</th>\n      <th>State</th>\n      <th>Acres</th>\n      <th>Latitude</th>\n      <th>Longitude</th>\n    </tr>\n  </thead>\n  <tbody>\n    <tr>\n      <th>0</th>\n      <td>ACAD</td>\n      <td>Acadia National Park</td>\n      <td>ME</td>\n      <td>47390</td>\n      <td>44.35</td>\n      <td>-68.21</td>\n    </tr>\n    <tr>\n      <th>1</th>\n      <td>ARCH</td>\n      <td>Arches National Park</td>\n      <td>UT</td>\n      <td>76519</td>\n      <td>38.68</td>\n      <td>-109.57</td>\n    </tr>\n    <tr>\n      <th>2</th>\n      <td>BADL</td>\n      <td>Badlands National Park</td>\n      <td>SD</td>\n      <td>242756</td>\n      <td>43.75</td>\n      <td>-102.50</td>\n    </tr>\n    <tr>\n      <th>3</th>\n      <td>BIBE</td>\n      <td>Big Bend National Park</td>\n      <td>TX</td>\n      <td>801163</td>\n      <td>29.25</td>\n      <td>-103.25</td>\n    </tr>\n    <tr>\n      <th>4</th>\n      <td>BISC</td>\n      <td>Biscayne National Park</td>\n      <td>FL</td>\n      <td>172924</td>\n      <td>25.65</td>\n      <td>-80.08</td>\n    </tr>\n  </tbody>\n</table>\n</div>"
     },
     "execution_count": 551,
     "metadata": {},
     "output_type": "execute_result"
    }
   ],
   "source": [
    "parks_data = pd.read_csv(\"csv_files/parks.csv\")\n",
    "print(f\"Columns: {parks_data.columns.tolist()}\\n\")\n",
    "print(f\"(Rows, Columns): {parks_data.shape}\")\n",
    "parks_data.head()"
   ],
   "metadata": {
    "collapsed": false
   }
  },
  {
   "cell_type": "code",
   "execution_count": 552,
   "outputs": [],
   "source": [
    "# convert column to lowercase, replace spaces\n",
    "parks_data.columns = [col.lower().replace(\" \", \"_\") for col in parks_data.columns]"
   ],
   "metadata": {
    "collapsed": false
   }
  },
  {
   "cell_type": "markdown",
   "source": [
    "#### Converting `acres` to 'hectares'"
   ],
   "metadata": {
    "collapsed": false
   }
  },
  {
   "cell_type": "code",
   "execution_count": 553,
   "outputs": [],
   "source": [
    "# 1 acre = 0.404686 hectares\n",
    "# define function\n",
    "def acres_to_hectares(acres):\n",
    "    return round(acres * 0.404686, 2)"
   ],
   "metadata": {
    "collapsed": false
   }
  },
  {
   "cell_type": "code",
   "execution_count": 554,
   "outputs": [
    {
     "data": {
      "text/plain": "  park_code               park_name state  latitude  longitude   hectares\n0      ACAD    Acadia National Park    ME     44.35     -68.21   19178.07\n1      ARCH    Arches National Park    UT     38.68    -109.57   30966.17\n2      BADL  Badlands National Park    SD     43.75    -102.50   98239.95\n3      BIBE  Big Bend National Park    TX     29.25    -103.25  324219.45\n4      BISC  Biscayne National Park    FL     25.65     -80.08   69979.92",
      "text/html": "<div>\n<style scoped>\n    .dataframe tbody tr th:only-of-type {\n        vertical-align: middle;\n    }\n\n    .dataframe tbody tr th {\n        vertical-align: top;\n    }\n\n    .dataframe thead th {\n        text-align: right;\n    }\n</style>\n<table border=\"1\" class=\"dataframe\">\n  <thead>\n    <tr style=\"text-align: right;\">\n      <th></th>\n      <th>park_code</th>\n      <th>park_name</th>\n      <th>state</th>\n      <th>latitude</th>\n      <th>longitude</th>\n      <th>hectares</th>\n    </tr>\n  </thead>\n  <tbody>\n    <tr>\n      <th>0</th>\n      <td>ACAD</td>\n      <td>Acadia National Park</td>\n      <td>ME</td>\n      <td>44.35</td>\n      <td>-68.21</td>\n      <td>19178.07</td>\n    </tr>\n    <tr>\n      <th>1</th>\n      <td>ARCH</td>\n      <td>Arches National Park</td>\n      <td>UT</td>\n      <td>38.68</td>\n      <td>-109.57</td>\n      <td>30966.17</td>\n    </tr>\n    <tr>\n      <th>2</th>\n      <td>BADL</td>\n      <td>Badlands National Park</td>\n      <td>SD</td>\n      <td>43.75</td>\n      <td>-102.50</td>\n      <td>98239.95</td>\n    </tr>\n    <tr>\n      <th>3</th>\n      <td>BIBE</td>\n      <td>Big Bend National Park</td>\n      <td>TX</td>\n      <td>29.25</td>\n      <td>-103.25</td>\n      <td>324219.45</td>\n    </tr>\n    <tr>\n      <th>4</th>\n      <td>BISC</td>\n      <td>Biscayne National Park</td>\n      <td>FL</td>\n      <td>25.65</td>\n      <td>-80.08</td>\n      <td>69979.92</td>\n    </tr>\n  </tbody>\n</table>\n</div>"
     },
     "execution_count": 554,
     "metadata": {},
     "output_type": "execute_result"
    }
   ],
   "source": [
    "# apply the conversion function to the 'acres' column\n",
    "parks_data['hectares'] = parks_data['acres'].apply(acres_to_hectares)\n",
    "parks_data = parks_data.drop('acres', axis=1)\n",
    "\n",
    "parks_data.head()"
   ],
   "metadata": {
    "collapsed": false
   }
  },
  {
   "cell_type": "markdown",
   "source": [
    "#### Creating a list of the Southwestern states.\n",
    "\n",
    "Arizona, California, Colorado, Nevada, New Mexico, Oklahoma, Texas, Utah"
   ],
   "metadata": {
    "collapsed": false
   }
  },
  {
   "cell_type": "code",
   "execution_count": 555,
   "outputs": [
    {
     "data": {
      "text/plain": "   park_code                            park_name       state  latitude  \\\n15      DEVA           Death Valley National Park      CA, NV     36.24   \n24      GRSM  Great Smoky Mountains National Park      TN, NC     35.68   \n53      YELL            Yellowstone National Park  WY, MT, ID     44.60   \n\n    longitude    hectares  \n15    -116.82  1918580.71  \n24     -83.53   211039.70  \n53    -110.50   898318.34  ",
      "text/html": "<div>\n<style scoped>\n    .dataframe tbody tr th:only-of-type {\n        vertical-align: middle;\n    }\n\n    .dataframe tbody tr th {\n        vertical-align: top;\n    }\n\n    .dataframe thead th {\n        text-align: right;\n    }\n</style>\n<table border=\"1\" class=\"dataframe\">\n  <thead>\n    <tr style=\"text-align: right;\">\n      <th></th>\n      <th>park_code</th>\n      <th>park_name</th>\n      <th>state</th>\n      <th>latitude</th>\n      <th>longitude</th>\n      <th>hectares</th>\n    </tr>\n  </thead>\n  <tbody>\n    <tr>\n      <th>15</th>\n      <td>DEVA</td>\n      <td>Death Valley National Park</td>\n      <td>CA, NV</td>\n      <td>36.24</td>\n      <td>-116.82</td>\n      <td>1918580.71</td>\n    </tr>\n    <tr>\n      <th>24</th>\n      <td>GRSM</td>\n      <td>Great Smoky Mountains National Park</td>\n      <td>TN, NC</td>\n      <td>35.68</td>\n      <td>-83.53</td>\n      <td>211039.70</td>\n    </tr>\n    <tr>\n      <th>53</th>\n      <td>YELL</td>\n      <td>Yellowstone National Park</td>\n      <td>WY, MT, ID</td>\n      <td>44.60</td>\n      <td>-110.50</td>\n      <td>898318.34</td>\n    </tr>\n  </tbody>\n</table>\n</div>"
     },
     "execution_count": 555,
     "metadata": {},
     "output_type": "execute_result"
    }
   ],
   "source": [
    "# Return DF where 'state' has more than one value. Define function,\n",
    "def has_two_values(string):\n",
    "    return len(string.split(',')) > 1\n",
    "more_states = parks_data[parks_data['state'].apply(has_two_values)]\n",
    "more_states"
   ],
   "metadata": {
    "collapsed": false
   }
  },
  {
   "cell_type": "code",
   "execution_count": 556,
   "outputs": [],
   "source": [
    "# Change 'Death Valley' to CA as primarily in California\n",
    "parks_data.loc[15, 'state'] = 'CA'"
   ],
   "metadata": {
    "collapsed": false
   }
  },
  {
   "cell_type": "code",
   "execution_count": 557,
   "outputs": [],
   "source": [
    "sw_states_list = [\"AZ\", \"CA\", \"CO\", \"NV\", \"NM\", \"OK\", \"TX\", \"UT\"]"
   ],
   "metadata": {
    "collapsed": false
   }
  },
  {
   "cell_type": "code",
   "execution_count": 558,
   "outputs": [
    {
     "data": {
      "text/plain": "   park_code                                    park_name state  latitude  \\\n22      GRCA                   Grand Canyon National Park    AZ     36.06   \n42      PEFO               Petrified Forest National Park    AZ     35.07   \n46      SAGU                        Saguaro National Park    AZ     32.25   \n10      CHIS                Channel Islands National Park    CA     34.01   \n15      DEVA                   Death Valley National Park    CA     36.24   \n31      JOTR                    Joshua Tree National Park    CA     33.79   \n36      LAVO                Lassen Volcanic National Park    CA     40.49   \n43      PINN                      Pinnacles National Park    CA     36.48   \n44      REDW                        Redwood National Park    CA     41.30   \n47      SEKI      Sequoia and Kings Canyon National Parks    CA     36.43   \n54      YOSE                       Yosemite National Park    CA     37.83   \n5       BLCA   Black Canyon of the Gunnison National Park    CO     38.57   \n23      GRSA  Great Sand Dunes National Park and Preserve    CO     37.73   \n38      MEVE                     Mesa Verde National Park    CO     37.18   \n45      ROMO                 Rocky Mountain National Park    CO     40.40   \n21      GRBA                    Great Basin National Park    NV     38.98   \n9       CAVE               Carlsbad Caverns National Park    NM     32.17   \n3       BIBE                       Big Bend National Park    TX     29.25   \n26      GUMO            Guadalupe Mountains National Park    TX     31.92   \n1       ARCH                         Arches National Park    UT     38.68   \n6       BRCA                   Bryce Canyon National Park    UT     37.57   \n7       CANY                    Canyonlands National Park    UT     38.20   \n8       CARE                   Capitol Reef National Park    UT     38.20   \n55      ZION                           Zion National Park    UT     37.30   \n\n    longitude    hectares  \n22    -112.14   492665.95  \n42    -109.78    37851.50  \n46    -110.50    37004.49  \n10    -119.42   100993.84  \n15    -116.82  1918580.71  \n31    -115.90   319598.75  \n36    -121.51    43047.26  \n43    -121.16    10767.08  \n44    -124.00    45532.03  \n47    -118.68   350438.65  \n54    -119.50   308073.69  \n5     -107.72    13334.40  \n23    -105.51    17395.02  \n38    -108.49    21093.04  \n45    -105.58   107576.87  \n21    -114.30    31233.67  \n9     -104.44    18925.55  \n3     -103.25   324219.45  \n26    -104.87    34971.35  \n1     -109.57    30966.17  \n6     -112.18    14501.92  \n7     -109.93   136621.18  \n8     -111.17    97895.16  \n55    -113.05    59326.16  ",
      "text/html": "<div>\n<style scoped>\n    .dataframe tbody tr th:only-of-type {\n        vertical-align: middle;\n    }\n\n    .dataframe tbody tr th {\n        vertical-align: top;\n    }\n\n    .dataframe thead th {\n        text-align: right;\n    }\n</style>\n<table border=\"1\" class=\"dataframe\">\n  <thead>\n    <tr style=\"text-align: right;\">\n      <th></th>\n      <th>park_code</th>\n      <th>park_name</th>\n      <th>state</th>\n      <th>latitude</th>\n      <th>longitude</th>\n      <th>hectares</th>\n    </tr>\n  </thead>\n  <tbody>\n    <tr>\n      <th>22</th>\n      <td>GRCA</td>\n      <td>Grand Canyon National Park</td>\n      <td>AZ</td>\n      <td>36.06</td>\n      <td>-112.14</td>\n      <td>492665.95</td>\n    </tr>\n    <tr>\n      <th>42</th>\n      <td>PEFO</td>\n      <td>Petrified Forest National Park</td>\n      <td>AZ</td>\n      <td>35.07</td>\n      <td>-109.78</td>\n      <td>37851.50</td>\n    </tr>\n    <tr>\n      <th>46</th>\n      <td>SAGU</td>\n      <td>Saguaro National Park</td>\n      <td>AZ</td>\n      <td>32.25</td>\n      <td>-110.50</td>\n      <td>37004.49</td>\n    </tr>\n    <tr>\n      <th>10</th>\n      <td>CHIS</td>\n      <td>Channel Islands National Park</td>\n      <td>CA</td>\n      <td>34.01</td>\n      <td>-119.42</td>\n      <td>100993.84</td>\n    </tr>\n    <tr>\n      <th>15</th>\n      <td>DEVA</td>\n      <td>Death Valley National Park</td>\n      <td>CA</td>\n      <td>36.24</td>\n      <td>-116.82</td>\n      <td>1918580.71</td>\n    </tr>\n    <tr>\n      <th>31</th>\n      <td>JOTR</td>\n      <td>Joshua Tree National Park</td>\n      <td>CA</td>\n      <td>33.79</td>\n      <td>-115.90</td>\n      <td>319598.75</td>\n    </tr>\n    <tr>\n      <th>36</th>\n      <td>LAVO</td>\n      <td>Lassen Volcanic National Park</td>\n      <td>CA</td>\n      <td>40.49</td>\n      <td>-121.51</td>\n      <td>43047.26</td>\n    </tr>\n    <tr>\n      <th>43</th>\n      <td>PINN</td>\n      <td>Pinnacles National Park</td>\n      <td>CA</td>\n      <td>36.48</td>\n      <td>-121.16</td>\n      <td>10767.08</td>\n    </tr>\n    <tr>\n      <th>44</th>\n      <td>REDW</td>\n      <td>Redwood National Park</td>\n      <td>CA</td>\n      <td>41.30</td>\n      <td>-124.00</td>\n      <td>45532.03</td>\n    </tr>\n    <tr>\n      <th>47</th>\n      <td>SEKI</td>\n      <td>Sequoia and Kings Canyon National Parks</td>\n      <td>CA</td>\n      <td>36.43</td>\n      <td>-118.68</td>\n      <td>350438.65</td>\n    </tr>\n    <tr>\n      <th>54</th>\n      <td>YOSE</td>\n      <td>Yosemite National Park</td>\n      <td>CA</td>\n      <td>37.83</td>\n      <td>-119.50</td>\n      <td>308073.69</td>\n    </tr>\n    <tr>\n      <th>5</th>\n      <td>BLCA</td>\n      <td>Black Canyon of the Gunnison National Park</td>\n      <td>CO</td>\n      <td>38.57</td>\n      <td>-107.72</td>\n      <td>13334.40</td>\n    </tr>\n    <tr>\n      <th>23</th>\n      <td>GRSA</td>\n      <td>Great Sand Dunes National Park and Preserve</td>\n      <td>CO</td>\n      <td>37.73</td>\n      <td>-105.51</td>\n      <td>17395.02</td>\n    </tr>\n    <tr>\n      <th>38</th>\n      <td>MEVE</td>\n      <td>Mesa Verde National Park</td>\n      <td>CO</td>\n      <td>37.18</td>\n      <td>-108.49</td>\n      <td>21093.04</td>\n    </tr>\n    <tr>\n      <th>45</th>\n      <td>ROMO</td>\n      <td>Rocky Mountain National Park</td>\n      <td>CO</td>\n      <td>40.40</td>\n      <td>-105.58</td>\n      <td>107576.87</td>\n    </tr>\n    <tr>\n      <th>21</th>\n      <td>GRBA</td>\n      <td>Great Basin National Park</td>\n      <td>NV</td>\n      <td>38.98</td>\n      <td>-114.30</td>\n      <td>31233.67</td>\n    </tr>\n    <tr>\n      <th>9</th>\n      <td>CAVE</td>\n      <td>Carlsbad Caverns National Park</td>\n      <td>NM</td>\n      <td>32.17</td>\n      <td>-104.44</td>\n      <td>18925.55</td>\n    </tr>\n    <tr>\n      <th>3</th>\n      <td>BIBE</td>\n      <td>Big Bend National Park</td>\n      <td>TX</td>\n      <td>29.25</td>\n      <td>-103.25</td>\n      <td>324219.45</td>\n    </tr>\n    <tr>\n      <th>26</th>\n      <td>GUMO</td>\n      <td>Guadalupe Mountains National Park</td>\n      <td>TX</td>\n      <td>31.92</td>\n      <td>-104.87</td>\n      <td>34971.35</td>\n    </tr>\n    <tr>\n      <th>1</th>\n      <td>ARCH</td>\n      <td>Arches National Park</td>\n      <td>UT</td>\n      <td>38.68</td>\n      <td>-109.57</td>\n      <td>30966.17</td>\n    </tr>\n    <tr>\n      <th>6</th>\n      <td>BRCA</td>\n      <td>Bryce Canyon National Park</td>\n      <td>UT</td>\n      <td>37.57</td>\n      <td>-112.18</td>\n      <td>14501.92</td>\n    </tr>\n    <tr>\n      <th>7</th>\n      <td>CANY</td>\n      <td>Canyonlands National Park</td>\n      <td>UT</td>\n      <td>38.20</td>\n      <td>-109.93</td>\n      <td>136621.18</td>\n    </tr>\n    <tr>\n      <th>8</th>\n      <td>CARE</td>\n      <td>Capitol Reef National Park</td>\n      <td>UT</td>\n      <td>38.20</td>\n      <td>-111.17</td>\n      <td>97895.16</td>\n    </tr>\n    <tr>\n      <th>55</th>\n      <td>ZION</td>\n      <td>Zion National Park</td>\n      <td>UT</td>\n      <td>37.30</td>\n      <td>-113.05</td>\n      <td>59326.16</td>\n    </tr>\n  </tbody>\n</table>\n</div>"
     },
     "execution_count": 558,
     "metadata": {},
     "output_type": "execute_result"
    }
   ],
   "source": [
    "sw_data = pd.DataFrame(columns=parks_data.columns)\n",
    "# iterate through the list of states\n",
    "for state in sw_states_list:\n",
    "    # is state in column, 'State'?\n",
    "    match = parks_data[parks_data['state'] == state]\n",
    "    # Append matching states\n",
    "    sw_data = pd.concat([sw_data, match])\n",
    "\n",
    "sw_data"
   ],
   "metadata": {
    "collapsed": false
   }
  },
  {
   "cell_type": "code",
   "execution_count": 559,
   "outputs": [
    {
     "name": "stdout",
     "output_type": "stream",
     "text": [
      "We have 24 parks: \n",
      "\n",
      "['Grand Canyon National Park', 'Petrified Forest National Park', 'Saguaro National Park', 'Channel Islands National Park', 'Death Valley National Park', 'Joshua Tree National Park', 'Lassen Volcanic National Park', 'Pinnacles National Park', 'Redwood National Park', 'Sequoia and Kings Canyon National Parks', 'Yosemite National Park', 'Black Canyon of the Gunnison National Park', 'Great Sand Dunes National Park and Preserve', 'Mesa Verde National Park', 'Rocky Mountain National Park', 'Great Basin National Park', 'Carlsbad Caverns National Park', 'Big Bend National Park', 'Guadalupe Mountains National Park', 'Arches National Park', 'Bryce Canyon National Park', 'Canyonlands National Park', 'Capitol Reef National Park', 'Zion National Park']\n"
     ]
    }
   ],
   "source": [
    "sw_parks_list = sw_data['park_name'].unique().tolist()\n",
    "print(f\"We have {len(sw_parks_list)} parks: \\n\\n{sw_parks_list}\")"
   ],
   "metadata": {
    "collapsed": false
   }
  },
  {
   "cell_type": "markdown",
   "source": [],
   "metadata": {
    "collapsed": false
   }
  },
  {
   "cell_type": "markdown",
   "source": [
    "### On a map to get an idea of where these parks are"
   ],
   "metadata": {
    "collapsed": false
   }
  },
  {
   "cell_type": "markdown",
   "source": [
    "<img src=\"Images/Parks.png\"/>"
   ],
   "metadata": {
    "collapsed": false
   }
  },
  {
   "cell_type": "markdown",
   "source": [
    "[GoogleEarth](https://earth.google.com/web/@35.23163888,-113.62762396,1125.39304439a,3255718.49710107d,30.00077622y,0.00000085h,0t,0r)"
   ],
   "metadata": {
    "collapsed": false
   }
  },
  {
   "cell_type": "markdown",
   "source": [
    "---\n",
    "\n",
    "# `species.csv`"
   ],
   "metadata": {
    "collapsed": false
   }
  },
  {
   "cell_type": "code",
   "execution_count": 560,
   "outputs": [
    {
     "name": "stdout",
     "output_type": "stream",
     "text": [
      "(Rows, Columns): (119248, 14)\n",
      "\n",
      "Type of data:\n",
      "\n",
      "Species ID             object\n",
      "Park Name              object\n",
      "Category               object\n",
      "Order                  object\n",
      "Family                 object\n",
      "Scientific Name        object\n",
      "Common Names           object\n",
      "Record Status          object\n",
      "Occurrence             object\n",
      "Nativeness             object\n",
      "Abundance              object\n",
      "Seasonality            object\n",
      "Conservation Status    object\n",
      "Unnamed: 13            object\n",
      "dtype: object\n",
      "\n",
      "The number of unique values:\n",
      "\n",
      "Species ID             119248\n",
      "Park Name                  56\n",
      "Category                   14\n",
      "Order                     554\n",
      "Family                   2332\n",
      "Scientific Name         46022\n",
      "Common Names            35826\n",
      "Record Status              54\n",
      "Occurrence                  7\n",
      "Nativeness                  5\n",
      "Abundance                   8\n",
      "Seasonality                24\n",
      "Conservation Status        11\n",
      "Unnamed: 13                 3\n",
      "dtype: int64\n"
     ]
    },
    {
     "data": {
      "text/plain": "  Species ID             Park Name Category         Order    Family  \\\n0  ACAD-1000  Acadia National Park   Mammal  Artiodactyla  Cervidae   \n1  ACAD-1001  Acadia National Park   Mammal  Artiodactyla  Cervidae   \n2  ACAD-1002  Acadia National Park   Mammal     Carnivora   Canidae   \n3  ACAD-1003  Acadia National Park   Mammal     Carnivora   Canidae   \n4  ACAD-1004  Acadia National Park   Mammal     Carnivora   Canidae   \n\n          Scientific Name                                       Common Names  \\\n0             Alces alces                                              Moose   \n1  Odocoileus virginianus  Northern White-Tailed Deer, Virginia Deer, Whi...   \n2           Canis latrans                             Coyote, Eastern Coyote   \n3             Canis lupus        Eastern Timber Wolf, Gray Wolf, Timber Wolf   \n4           Vulpes vulpes  Black Fox, Cross Fox, Eastern Red Fox, Fox, Re...   \n\n  Record Status     Occurrence  Nativeness Abundance Seasonality  \\\n0      Approved        Present      Native      Rare    Resident   \n1      Approved        Present      Native  Abundant         NaN   \n2      Approved        Present  Not Native    Common         NaN   \n3      Approved  Not Confirmed      Native       NaN         NaN   \n4      Approved        Present     Unknown    Common     Breeder   \n\n  Conservation Status Unnamed: 13  \n0                 NaN         NaN  \n1                 NaN         NaN  \n2  Species of Concern         NaN  \n3          Endangered         NaN  \n4                 NaN         NaN  ",
      "text/html": "<div>\n<style scoped>\n    .dataframe tbody tr th:only-of-type {\n        vertical-align: middle;\n    }\n\n    .dataframe tbody tr th {\n        vertical-align: top;\n    }\n\n    .dataframe thead th {\n        text-align: right;\n    }\n</style>\n<table border=\"1\" class=\"dataframe\">\n  <thead>\n    <tr style=\"text-align: right;\">\n      <th></th>\n      <th>Species ID</th>\n      <th>Park Name</th>\n      <th>Category</th>\n      <th>Order</th>\n      <th>Family</th>\n      <th>Scientific Name</th>\n      <th>Common Names</th>\n      <th>Record Status</th>\n      <th>Occurrence</th>\n      <th>Nativeness</th>\n      <th>Abundance</th>\n      <th>Seasonality</th>\n      <th>Conservation Status</th>\n      <th>Unnamed: 13</th>\n    </tr>\n  </thead>\n  <tbody>\n    <tr>\n      <th>0</th>\n      <td>ACAD-1000</td>\n      <td>Acadia National Park</td>\n      <td>Mammal</td>\n      <td>Artiodactyla</td>\n      <td>Cervidae</td>\n      <td>Alces alces</td>\n      <td>Moose</td>\n      <td>Approved</td>\n      <td>Present</td>\n      <td>Native</td>\n      <td>Rare</td>\n      <td>Resident</td>\n      <td>NaN</td>\n      <td>NaN</td>\n    </tr>\n    <tr>\n      <th>1</th>\n      <td>ACAD-1001</td>\n      <td>Acadia National Park</td>\n      <td>Mammal</td>\n      <td>Artiodactyla</td>\n      <td>Cervidae</td>\n      <td>Odocoileus virginianus</td>\n      <td>Northern White-Tailed Deer, Virginia Deer, Whi...</td>\n      <td>Approved</td>\n      <td>Present</td>\n      <td>Native</td>\n      <td>Abundant</td>\n      <td>NaN</td>\n      <td>NaN</td>\n      <td>NaN</td>\n    </tr>\n    <tr>\n      <th>2</th>\n      <td>ACAD-1002</td>\n      <td>Acadia National Park</td>\n      <td>Mammal</td>\n      <td>Carnivora</td>\n      <td>Canidae</td>\n      <td>Canis latrans</td>\n      <td>Coyote, Eastern Coyote</td>\n      <td>Approved</td>\n      <td>Present</td>\n      <td>Not Native</td>\n      <td>Common</td>\n      <td>NaN</td>\n      <td>Species of Concern</td>\n      <td>NaN</td>\n    </tr>\n    <tr>\n      <th>3</th>\n      <td>ACAD-1003</td>\n      <td>Acadia National Park</td>\n      <td>Mammal</td>\n      <td>Carnivora</td>\n      <td>Canidae</td>\n      <td>Canis lupus</td>\n      <td>Eastern Timber Wolf, Gray Wolf, Timber Wolf</td>\n      <td>Approved</td>\n      <td>Not Confirmed</td>\n      <td>Native</td>\n      <td>NaN</td>\n      <td>NaN</td>\n      <td>Endangered</td>\n      <td>NaN</td>\n    </tr>\n    <tr>\n      <th>4</th>\n      <td>ACAD-1004</td>\n      <td>Acadia National Park</td>\n      <td>Mammal</td>\n      <td>Carnivora</td>\n      <td>Canidae</td>\n      <td>Vulpes vulpes</td>\n      <td>Black Fox, Cross Fox, Eastern Red Fox, Fox, Re...</td>\n      <td>Approved</td>\n      <td>Present</td>\n      <td>Unknown</td>\n      <td>Common</td>\n      <td>Breeder</td>\n      <td>NaN</td>\n      <td>NaN</td>\n    </tr>\n  </tbody>\n</table>\n</div>"
     },
     "execution_count": 560,
     "metadata": {},
     "output_type": "execute_result"
    }
   ],
   "source": [
    "species_data = pd.read_csv('csv_files/species.csv', low_memory=False)\n",
    "print(f\"(Rows, Columns): {species_data.shape}\\n\")\n",
    "print(f\"Type of data:\\n\\n{species_data.dtypes}\\n\")\n",
    "print(f\"The number of unique values:\\n\\n{species_data.nunique()}\")\n",
    "species_data.head()"
   ],
   "metadata": {
    "collapsed": false
   }
  },
  {
   "cell_type": "code",
   "execution_count": 561,
   "outputs": [
    {
     "name": "stdout",
     "output_type": "stream",
     "text": [
      "Columns: ['species_id', 'park_name', 'category', 'order', 'family', 'scientific_name', 'common_names', 'record_status', 'occurrence', 'nativeness', 'abundance', 'seasonality', 'conservation_status', 'unnamed']\n"
     ]
    }
   ],
   "source": [
    "species_data.columns = [col.lower().replace(\" \", \"_\") for col in species_data.columns]\n",
    "species_data.rename(columns={'unnamed:_13': 'unnamed'}, inplace=True)\n",
    "print(f\"Columns: {species_data.columns.tolist()}\\n\")"
   ],
   "metadata": {
    "collapsed": false
   }
  },
  {
   "cell_type": "markdown",
   "source": [
    "### Isolate Birds"
   ],
   "metadata": {
    "collapsed": false
   }
  },
  {
   "cell_type": "code",
   "execution_count": 562,
   "outputs": [
    {
     "data": {
      "text/plain": "   species_id             park_name category            order        family  \\\n55  ACAD-1055  Acadia National Park     Bird  Accipitriformes  Accipitridae   \n56  ACAD-1056  Acadia National Park     Bird  Accipitriformes  Accipitridae   \n57  ACAD-1057  Acadia National Park     Bird  Accipitriformes  Accipitridae   \n58  ACAD-1058  Acadia National Park     Bird  Accipitriformes  Accipitridae   \n59  ACAD-1059  Acadia National Park     Bird  Accipitriformes  Accipitridae   \n\n       scientific_name                                     common_names  \\\n55  Accipiter cooperii                                    Cooper's Hawk   \n56  Accipiter gentilis       Eastern Goshawk, Goshawk, Northern Goshawk   \n57  Accipiter striatus  Northern Sharp-Shinned Hawk, Sharp-Shinned Hawk   \n58   Aquila chrysaetos              American Golden Eagle, Golden Eagle   \n59   Buteo jamaicensis         Eastern Red-Tailed Hawk, Red-Tailed Hawk   \n\n   record_status occurrence nativeness   abundance seasonality  \\\n55      Approved    Present     Native    Uncommon         NaN   \n56      Approved    Present     Native    Uncommon     Breeder   \n57      Approved    Present     Native      Common     Breeder   \n58      Approved    Present     Native  Occasional     Vagrant   \n59      Approved    Present     Native      Common     Breeder   \n\n   conservation_status unnamed  \n55  Species of Concern     NaN  \n56                 NaN     NaN  \n57  Species of Concern     NaN  \n58  Species of Concern     NaN  \n59                 NaN     NaN  ",
      "text/html": "<div>\n<style scoped>\n    .dataframe tbody tr th:only-of-type {\n        vertical-align: middle;\n    }\n\n    .dataframe tbody tr th {\n        vertical-align: top;\n    }\n\n    .dataframe thead th {\n        text-align: right;\n    }\n</style>\n<table border=\"1\" class=\"dataframe\">\n  <thead>\n    <tr style=\"text-align: right;\">\n      <th></th>\n      <th>species_id</th>\n      <th>park_name</th>\n      <th>category</th>\n      <th>order</th>\n      <th>family</th>\n      <th>scientific_name</th>\n      <th>common_names</th>\n      <th>record_status</th>\n      <th>occurrence</th>\n      <th>nativeness</th>\n      <th>abundance</th>\n      <th>seasonality</th>\n      <th>conservation_status</th>\n      <th>unnamed</th>\n    </tr>\n  </thead>\n  <tbody>\n    <tr>\n      <th>55</th>\n      <td>ACAD-1055</td>\n      <td>Acadia National Park</td>\n      <td>Bird</td>\n      <td>Accipitriformes</td>\n      <td>Accipitridae</td>\n      <td>Accipiter cooperii</td>\n      <td>Cooper's Hawk</td>\n      <td>Approved</td>\n      <td>Present</td>\n      <td>Native</td>\n      <td>Uncommon</td>\n      <td>NaN</td>\n      <td>Species of Concern</td>\n      <td>NaN</td>\n    </tr>\n    <tr>\n      <th>56</th>\n      <td>ACAD-1056</td>\n      <td>Acadia National Park</td>\n      <td>Bird</td>\n      <td>Accipitriformes</td>\n      <td>Accipitridae</td>\n      <td>Accipiter gentilis</td>\n      <td>Eastern Goshawk, Goshawk, Northern Goshawk</td>\n      <td>Approved</td>\n      <td>Present</td>\n      <td>Native</td>\n      <td>Uncommon</td>\n      <td>Breeder</td>\n      <td>NaN</td>\n      <td>NaN</td>\n    </tr>\n    <tr>\n      <th>57</th>\n      <td>ACAD-1057</td>\n      <td>Acadia National Park</td>\n      <td>Bird</td>\n      <td>Accipitriformes</td>\n      <td>Accipitridae</td>\n      <td>Accipiter striatus</td>\n      <td>Northern Sharp-Shinned Hawk, Sharp-Shinned Hawk</td>\n      <td>Approved</td>\n      <td>Present</td>\n      <td>Native</td>\n      <td>Common</td>\n      <td>Breeder</td>\n      <td>Species of Concern</td>\n      <td>NaN</td>\n    </tr>\n    <tr>\n      <th>58</th>\n      <td>ACAD-1058</td>\n      <td>Acadia National Park</td>\n      <td>Bird</td>\n      <td>Accipitriformes</td>\n      <td>Accipitridae</td>\n      <td>Aquila chrysaetos</td>\n      <td>American Golden Eagle, Golden Eagle</td>\n      <td>Approved</td>\n      <td>Present</td>\n      <td>Native</td>\n      <td>Occasional</td>\n      <td>Vagrant</td>\n      <td>Species of Concern</td>\n      <td>NaN</td>\n    </tr>\n    <tr>\n      <th>59</th>\n      <td>ACAD-1059</td>\n      <td>Acadia National Park</td>\n      <td>Bird</td>\n      <td>Accipitriformes</td>\n      <td>Accipitridae</td>\n      <td>Buteo jamaicensis</td>\n      <td>Eastern Red-Tailed Hawk, Red-Tailed Hawk</td>\n      <td>Approved</td>\n      <td>Present</td>\n      <td>Native</td>\n      <td>Common</td>\n      <td>Breeder</td>\n      <td>NaN</td>\n      <td>NaN</td>\n    </tr>\n  </tbody>\n</table>\n</div>"
     },
     "execution_count": 562,
     "metadata": {},
     "output_type": "execute_result"
    }
   ],
   "source": [
    "bird_species = species_data[species_data.category == 'Bird']\n",
    "bird_species.head()"
   ],
   "metadata": {
    "collapsed": false
   }
  },
  {
   "cell_type": "code",
   "execution_count": 563,
   "outputs": [
    {
     "name": "stdout",
     "output_type": "stream",
     "text": [
      "(Rows, Columns): (14601, 14)\n",
      "\n",
      "The number of unique values:\n",
      "\n",
      "species_id             14601\n",
      "park_name                 56\n",
      "category                   1\n",
      "order                     24\n",
      "family                    86\n",
      "scientific_name         1436\n",
      "common_names            1551\n",
      "record_status             10\n",
      "occurrence                 6\n",
      "nativeness                 4\n",
      "abundance                  7\n",
      "seasonality               23\n",
      "conservation_status        8\n",
      "unnamed                    1\n",
      "dtype: int64\n"
     ]
    }
   ],
   "source": [
    "print(f\"(Rows, Columns): {bird_species.shape}\\n\")\n",
    "print(f\"The number of unique values:\\n\\n{bird_species.nunique()}\")"
   ],
   "metadata": {
    "collapsed": false
   }
  },
  {
   "cell_type": "markdown",
   "source": [
    "### Isolate Southwest States By Park Name"
   ],
   "metadata": {
    "collapsed": false
   }
  },
  {
   "cell_type": "code",
   "execution_count": 564,
   "outputs": [
    {
     "name": "stdout",
     "output_type": "stream",
     "text": [
      "['Grand Canyon National Park', 'Petrified Forest National Park', 'Saguaro National Park', 'Channel Islands National Park', 'Death Valley National Park', 'Joshua Tree National Park', 'Lassen Volcanic National Park', 'Pinnacles National Park', 'Redwood National Park', 'Sequoia and Kings Canyon National Parks', 'Yosemite National Park', 'Black Canyon of the Gunnison National Park', 'Great Sand Dunes National Park and Preserve', 'Mesa Verde National Park', 'Rocky Mountain National Park', 'Great Basin National Park', 'Carlsbad Caverns National Park', 'Big Bend National Park', 'Guadalupe Mountains National Park', 'Arches National Park', 'Bryce Canyon National Park', 'Canyonlands National Park', 'Capitol Reef National Park', 'Zion National Park']\n"
     ]
    }
   ],
   "source": [
    "print(sw_parks_list)"
   ],
   "metadata": {
    "collapsed": false
   }
  },
  {
   "cell_type": "code",
   "execution_count": 565,
   "outputs": [
    {
     "name": "stdout",
     "output_type": "stream",
     "text": [
      "Shape Of Data: (7045, 14)\n"
     ]
    },
    {
     "data": {
      "text/plain": "      species_id                   park_name category            order  \\\n42081  GRCA-1106  Grand Canyon National Park     Bird  Accipitriformes   \n42082  GRCA-1107  Grand Canyon National Park     Bird  Accipitriformes   \n42083  GRCA-1108  Grand Canyon National Park     Bird  Accipitriformes   \n42084  GRCA-1109  Grand Canyon National Park     Bird  Accipitriformes   \n42085  GRCA-1110  Grand Canyon National Park     Bird  Accipitriformes   \n\n             family     scientific_name        common_names record_status  \\\n42081  Accipitridae  Accipiter cooperii       Cooper's Hawk      Approved   \n42082  Accipitridae  Accipiter gentilis    Northern Goshawk      Approved   \n42083  Accipitridae  Accipiter striatus  Sharp-Shinned Hawk      Approved   \n42084  Accipitridae   Aquila chrysaetos        Golden Eagle      Approved   \n42085  Accipitridae   Buteo albonotatus    Zone-Tailed Hawk      Approved   \n\n      occurrence nativeness abundance seasonality conservation_status unnamed  \n42081    Present     Native    Common     Breeder  Species of Concern     NaN  \n42082    Present     Native    Common     Breeder                 NaN     NaN  \n42083    Present     Native    Common     Breeder  Species of Concern     NaN  \n42084    Present     Native  Uncommon     Breeder  Species of Concern     NaN  \n42085    Present     Native    Common     Breeder                 NaN     NaN  ",
      "text/html": "<div>\n<style scoped>\n    .dataframe tbody tr th:only-of-type {\n        vertical-align: middle;\n    }\n\n    .dataframe tbody tr th {\n        vertical-align: top;\n    }\n\n    .dataframe thead th {\n        text-align: right;\n    }\n</style>\n<table border=\"1\" class=\"dataframe\">\n  <thead>\n    <tr style=\"text-align: right;\">\n      <th></th>\n      <th>species_id</th>\n      <th>park_name</th>\n      <th>category</th>\n      <th>order</th>\n      <th>family</th>\n      <th>scientific_name</th>\n      <th>common_names</th>\n      <th>record_status</th>\n      <th>occurrence</th>\n      <th>nativeness</th>\n      <th>abundance</th>\n      <th>seasonality</th>\n      <th>conservation_status</th>\n      <th>unnamed</th>\n    </tr>\n  </thead>\n  <tbody>\n    <tr>\n      <th>42081</th>\n      <td>GRCA-1106</td>\n      <td>Grand Canyon National Park</td>\n      <td>Bird</td>\n      <td>Accipitriformes</td>\n      <td>Accipitridae</td>\n      <td>Accipiter cooperii</td>\n      <td>Cooper's Hawk</td>\n      <td>Approved</td>\n      <td>Present</td>\n      <td>Native</td>\n      <td>Common</td>\n      <td>Breeder</td>\n      <td>Species of Concern</td>\n      <td>NaN</td>\n    </tr>\n    <tr>\n      <th>42082</th>\n      <td>GRCA-1107</td>\n      <td>Grand Canyon National Park</td>\n      <td>Bird</td>\n      <td>Accipitriformes</td>\n      <td>Accipitridae</td>\n      <td>Accipiter gentilis</td>\n      <td>Northern Goshawk</td>\n      <td>Approved</td>\n      <td>Present</td>\n      <td>Native</td>\n      <td>Common</td>\n      <td>Breeder</td>\n      <td>NaN</td>\n      <td>NaN</td>\n    </tr>\n    <tr>\n      <th>42083</th>\n      <td>GRCA-1108</td>\n      <td>Grand Canyon National Park</td>\n      <td>Bird</td>\n      <td>Accipitriformes</td>\n      <td>Accipitridae</td>\n      <td>Accipiter striatus</td>\n      <td>Sharp-Shinned Hawk</td>\n      <td>Approved</td>\n      <td>Present</td>\n      <td>Native</td>\n      <td>Common</td>\n      <td>Breeder</td>\n      <td>Species of Concern</td>\n      <td>NaN</td>\n    </tr>\n    <tr>\n      <th>42084</th>\n      <td>GRCA-1109</td>\n      <td>Grand Canyon National Park</td>\n      <td>Bird</td>\n      <td>Accipitriformes</td>\n      <td>Accipitridae</td>\n      <td>Aquila chrysaetos</td>\n      <td>Golden Eagle</td>\n      <td>Approved</td>\n      <td>Present</td>\n      <td>Native</td>\n      <td>Uncommon</td>\n      <td>Breeder</td>\n      <td>Species of Concern</td>\n      <td>NaN</td>\n    </tr>\n    <tr>\n      <th>42085</th>\n      <td>GRCA-1110</td>\n      <td>Grand Canyon National Park</td>\n      <td>Bird</td>\n      <td>Accipitriformes</td>\n      <td>Accipitridae</td>\n      <td>Buteo albonotatus</td>\n      <td>Zone-Tailed Hawk</td>\n      <td>Approved</td>\n      <td>Present</td>\n      <td>Native</td>\n      <td>Common</td>\n      <td>Breeder</td>\n      <td>NaN</td>\n      <td>NaN</td>\n    </tr>\n  </tbody>\n</table>\n</div>"
     },
     "execution_count": 565,
     "metadata": {},
     "output_type": "execute_result"
    }
   ],
   "source": [
    "sw_birds = pd.DataFrame(columns=bird_species.columns)\n",
    "# iterate through the list of parks\n",
    "for park in sw_parks_list:\n",
    "    # is park in column, 'park_name'?\n",
    "    match = bird_species[bird_species['park_name'] == park]\n",
    "    # Append matching states\n",
    "    sw_birds = pd.concat([sw_birds, match])\n",
    "\n",
    "print(f\"Shape Of Data: {sw_birds.shape}\")\n",
    "sw_birds.head()"
   ],
   "metadata": {
    "collapsed": false
   }
  },
  {
   "cell_type": "markdown",
   "source": [
    "#### Exploring `conservation_status` column"
   ],
   "metadata": {
    "collapsed": false
   }
  },
  {
   "cell_type": "code",
   "execution_count": 566,
   "outputs": [
    {
     "name": "stdout",
     "output_type": "stream",
     "text": [
      "There are 7 categories:\n",
      "\n",
      "['Species of Concern' nan 'In Recovery' 'Endangered' 'Threatened'\n",
      " 'Under Review' 'Breeder' 'Resident']\n"
     ]
    }
   ],
   "source": [
    "print(f\"There are {sw_birds.conservation_status.nunique()} categories:\\n\\n{sw_birds.conservation_status.unique()}\")"
   ],
   "metadata": {
    "collapsed": false
   }
  },
  {
   "cell_type": "code",
   "execution_count": 567,
   "outputs": [
    {
     "name": "stdout",
     "output_type": "stream",
     "text": [
      "NaN value count: 5687\n"
     ]
    },
    {
     "data": {
      "text/plain": "conservation_status\nBreeder                  4\nEndangered              28\nIn Recovery             36\nResident                 4\nSpecies of Concern    1231\nThreatened              31\nUnder Review            24\ndtype: int64"
     },
     "execution_count": 567,
     "metadata": {},
     "output_type": "execute_result"
    }
   ],
   "source": [
    "print(f\"NaN value count: {sw_birds.conservation_status.isna().sum()}\\n\")\n",
    "sw_birds.groupby(\"conservation_status\").size()"
   ],
   "metadata": {
    "collapsed": false
   }
  },
  {
   "cell_type": "markdown",
   "source": [
    "### `conservation_status`\n",
    "\n",
    "- `Endangered`: seriously at risk of extinction\n",
    "- `In Recovery`: formerly `Endangered`, but currently neither in danger of extinction throughout all or a significant portion of its range\n",
    "- `Threatened`: vulnerable to endangerment in the near future\n",
    "- `Species of Concern`: declining or appear to be in need of conservation\n",
    "- `Under Review`: ?\n",
    "- `Resident`: ?\n",
    "- `Breeder`: ?\n"
   ],
   "metadata": {
    "collapsed": false
   }
  },
  {
   "cell_type": "markdown",
   "source": [
    "#### Need to research [IUCN](https://en.wikipedia.org/wiki/IUCN_Red_List) Red List.\n",
    "- What do we populate NaN with?\n",
    "\n",
    "`Least Concern`? For now populate with `No Data`"
   ],
   "metadata": {
    "collapsed": false
   }
  },
  {
   "cell_type": "code",
   "execution_count": 568,
   "outputs": [
    {
     "data": {
      "text/plain": "conservation_status\nBreeder                  4\nEndangered              28\nIn Recovery             36\nNo Data               5687\nResident                 4\nSpecies of Concern    1231\nThreatened              31\nUnder Review            24\ndtype: int64"
     },
     "execution_count": 568,
     "metadata": {},
     "output_type": "execute_result"
    }
   ],
   "source": [
    "sw_birds.fillna('No Data', inplace=True)\n",
    "sw_birds.groupby('conservation_status').size()"
   ],
   "metadata": {
    "collapsed": false
   }
  },
  {
   "cell_type": "markdown",
   "source": [
    "#### What does 'Breeder' and 'Resident' mean in `conservation_status`?"
   ],
   "metadata": {
    "collapsed": false
   }
  },
  {
   "cell_type": "code",
   "execution_count": 569,
   "outputs": [
    {
     "data": {
      "text/plain": "      species_id                                    park_name category  \\\n44666  GRSA-1069  Great Sand Dunes National Park and Preserve     Bird   \n44705  GRSA-1108  Great Sand Dunes National Park and Preserve     Bird   \n44744  GRSA-1147  Great Sand Dunes National Park and Preserve     Bird   \n44859  GRSA-1262  Great Sand Dunes National Park and Preserve     Bird   \n\n                  order         family           scientific_name  \\\n44666   Accipitriformes   Accipitridae        Accipiter gentilis   \n44705  Caprimulgiformes  Caprimulgidae  Phalaenoptilus nuttallii   \n44744     Passeriformes   Aegithalidae      Psaltriparus minimus   \n44859     Passeriformes       Turdidae        Turdus migratorius   \n\n         common_names      record_status occurrence nativeness abundance  \\\n44666         Goshawk   Northern Goshawk   Approved    Present    Native   \n44705       Poor-Will    Common Poorwill   Approved    Present    Native   \n44744  Common Bushtit            Bushtit   Approved    Present    Native   \n44859  American Robin              Robin   Approved    Present    Native   \n\n      seasonality conservation_status  unnamed  is_breeder  \n44666        Rare             Breeder  No Data        True  \n44705    Uncommon             Breeder  No Data        True  \n44744    Uncommon             Breeder  No Data        True  \n44859      Common             Breeder  No Data        True  ",
      "text/html": "<div>\n<style scoped>\n    .dataframe tbody tr th:only-of-type {\n        vertical-align: middle;\n    }\n\n    .dataframe tbody tr th {\n        vertical-align: top;\n    }\n\n    .dataframe thead th {\n        text-align: right;\n    }\n</style>\n<table border=\"1\" class=\"dataframe\">\n  <thead>\n    <tr style=\"text-align: right;\">\n      <th></th>\n      <th>species_id</th>\n      <th>park_name</th>\n      <th>category</th>\n      <th>order</th>\n      <th>family</th>\n      <th>scientific_name</th>\n      <th>common_names</th>\n      <th>record_status</th>\n      <th>occurrence</th>\n      <th>nativeness</th>\n      <th>abundance</th>\n      <th>seasonality</th>\n      <th>conservation_status</th>\n      <th>unnamed</th>\n      <th>is_breeder</th>\n    </tr>\n  </thead>\n  <tbody>\n    <tr>\n      <th>44666</th>\n      <td>GRSA-1069</td>\n      <td>Great Sand Dunes National Park and Preserve</td>\n      <td>Bird</td>\n      <td>Accipitriformes</td>\n      <td>Accipitridae</td>\n      <td>Accipiter gentilis</td>\n      <td>Goshawk</td>\n      <td>Northern Goshawk</td>\n      <td>Approved</td>\n      <td>Present</td>\n      <td>Native</td>\n      <td>Rare</td>\n      <td>Breeder</td>\n      <td>No Data</td>\n      <td>True</td>\n    </tr>\n    <tr>\n      <th>44705</th>\n      <td>GRSA-1108</td>\n      <td>Great Sand Dunes National Park and Preserve</td>\n      <td>Bird</td>\n      <td>Caprimulgiformes</td>\n      <td>Caprimulgidae</td>\n      <td>Phalaenoptilus nuttallii</td>\n      <td>Poor-Will</td>\n      <td>Common Poorwill</td>\n      <td>Approved</td>\n      <td>Present</td>\n      <td>Native</td>\n      <td>Uncommon</td>\n      <td>Breeder</td>\n      <td>No Data</td>\n      <td>True</td>\n    </tr>\n    <tr>\n      <th>44744</th>\n      <td>GRSA-1147</td>\n      <td>Great Sand Dunes National Park and Preserve</td>\n      <td>Bird</td>\n      <td>Passeriformes</td>\n      <td>Aegithalidae</td>\n      <td>Psaltriparus minimus</td>\n      <td>Common Bushtit</td>\n      <td>Bushtit</td>\n      <td>Approved</td>\n      <td>Present</td>\n      <td>Native</td>\n      <td>Uncommon</td>\n      <td>Breeder</td>\n      <td>No Data</td>\n      <td>True</td>\n    </tr>\n    <tr>\n      <th>44859</th>\n      <td>GRSA-1262</td>\n      <td>Great Sand Dunes National Park and Preserve</td>\n      <td>Bird</td>\n      <td>Passeriformes</td>\n      <td>Turdidae</td>\n      <td>Turdus migratorius</td>\n      <td>American Robin</td>\n      <td>Robin</td>\n      <td>Approved</td>\n      <td>Present</td>\n      <td>Native</td>\n      <td>Common</td>\n      <td>Breeder</td>\n      <td>No Data</td>\n      <td>True</td>\n    </tr>\n  </tbody>\n</table>\n</div>"
     },
     "execution_count": 569,
     "metadata": {},
     "output_type": "execute_result"
    }
   ],
   "source": [
    "sw_birds['is_breeder'] = sw_birds.conservation_status.str.contains(r\"\\bBreeder\\b\", regex=True)\n",
    "sw_birds[sw_birds.is_breeder]"
   ],
   "metadata": {
    "collapsed": false
   }
  },
  {
   "cell_type": "code",
   "execution_count": 570,
   "outputs": [
    {
     "data": {
      "text/plain": "      species_id                                    park_name category  \\\n44678  GRSA-1081  Great Sand Dunes National Park and Preserve     Bird   \n44733  GRSA-1136  Great Sand Dunes National Park and Preserve     Bird   \n44759  GRSA-1162  Great Sand Dunes National Park and Preserve     Bird   \n44818  GRSA-1221  Great Sand Dunes National Park and Preserve     Bird   \n\n               order      family         scientific_name  common_names  \\\n44678   Anseriformes    Anatidae              Anas acuta       Pintail   \n44733  Falconiformes  Falconidae       Falco columbarius        Merlin   \n44759  Passeriformes    Corvidae   Corvus brachyrhynchos   Common Crow   \n44818  Passeriformes     Mimidae  Dumetella carolinensis  Gray Catbird   \n\n           record_status occurrence nativeness abundance seasonality  \\\n44678   Northern Pintail   Approved    Present    Native        Rare   \n44733        Pigeon Hawk   Approved    Present    Native        Rare   \n44759      American Crow   Approved    Present    Native        Rare   \n44818            Catbird   Approved    Present    Native        Rare   \n\n      conservation_status             unnamed  is_breeder  is_resident  \n44678            Resident             No Data       False         True  \n44733            Resident  Species of Concern       False         True  \n44759            Resident             No Data       False         True  \n44818            Resident             No Data       False         True  ",
      "text/html": "<div>\n<style scoped>\n    .dataframe tbody tr th:only-of-type {\n        vertical-align: middle;\n    }\n\n    .dataframe tbody tr th {\n        vertical-align: top;\n    }\n\n    .dataframe thead th {\n        text-align: right;\n    }\n</style>\n<table border=\"1\" class=\"dataframe\">\n  <thead>\n    <tr style=\"text-align: right;\">\n      <th></th>\n      <th>species_id</th>\n      <th>park_name</th>\n      <th>category</th>\n      <th>order</th>\n      <th>family</th>\n      <th>scientific_name</th>\n      <th>common_names</th>\n      <th>record_status</th>\n      <th>occurrence</th>\n      <th>nativeness</th>\n      <th>abundance</th>\n      <th>seasonality</th>\n      <th>conservation_status</th>\n      <th>unnamed</th>\n      <th>is_breeder</th>\n      <th>is_resident</th>\n    </tr>\n  </thead>\n  <tbody>\n    <tr>\n      <th>44678</th>\n      <td>GRSA-1081</td>\n      <td>Great Sand Dunes National Park and Preserve</td>\n      <td>Bird</td>\n      <td>Anseriformes</td>\n      <td>Anatidae</td>\n      <td>Anas acuta</td>\n      <td>Pintail</td>\n      <td>Northern Pintail</td>\n      <td>Approved</td>\n      <td>Present</td>\n      <td>Native</td>\n      <td>Rare</td>\n      <td>Resident</td>\n      <td>No Data</td>\n      <td>False</td>\n      <td>True</td>\n    </tr>\n    <tr>\n      <th>44733</th>\n      <td>GRSA-1136</td>\n      <td>Great Sand Dunes National Park and Preserve</td>\n      <td>Bird</td>\n      <td>Falconiformes</td>\n      <td>Falconidae</td>\n      <td>Falco columbarius</td>\n      <td>Merlin</td>\n      <td>Pigeon Hawk</td>\n      <td>Approved</td>\n      <td>Present</td>\n      <td>Native</td>\n      <td>Rare</td>\n      <td>Resident</td>\n      <td>Species of Concern</td>\n      <td>False</td>\n      <td>True</td>\n    </tr>\n    <tr>\n      <th>44759</th>\n      <td>GRSA-1162</td>\n      <td>Great Sand Dunes National Park and Preserve</td>\n      <td>Bird</td>\n      <td>Passeriformes</td>\n      <td>Corvidae</td>\n      <td>Corvus brachyrhynchos</td>\n      <td>Common Crow</td>\n      <td>American Crow</td>\n      <td>Approved</td>\n      <td>Present</td>\n      <td>Native</td>\n      <td>Rare</td>\n      <td>Resident</td>\n      <td>No Data</td>\n      <td>False</td>\n      <td>True</td>\n    </tr>\n    <tr>\n      <th>44818</th>\n      <td>GRSA-1221</td>\n      <td>Great Sand Dunes National Park and Preserve</td>\n      <td>Bird</td>\n      <td>Passeriformes</td>\n      <td>Mimidae</td>\n      <td>Dumetella carolinensis</td>\n      <td>Gray Catbird</td>\n      <td>Catbird</td>\n      <td>Approved</td>\n      <td>Present</td>\n      <td>Native</td>\n      <td>Rare</td>\n      <td>Resident</td>\n      <td>No Data</td>\n      <td>False</td>\n      <td>True</td>\n    </tr>\n  </tbody>\n</table>\n</div>"
     },
     "execution_count": 570,
     "metadata": {},
     "output_type": "execute_result"
    }
   ],
   "source": [
    "sw_birds['is_resident'] = sw_birds.conservation_status.str.contains(r\"\\bResident\\b\", regex=True)\n",
    "sw_birds[sw_birds.is_resident]"
   ],
   "metadata": {
    "collapsed": false
   }
  },
  {
   "cell_type": "markdown",
   "source": [
    "- index[44733] Pigeon Hawk - Need to change conservation status to `Species of Concern`\n",
    "- Need to return all unique values in `record_status`\n",
    "- Need to return all `unnamed:_13` values"
   ],
   "metadata": {
    "collapsed": false
   }
  },
  {
   "cell_type": "code",
   "execution_count": 571,
   "outputs": [
    {
     "name": "stdout",
     "output_type": "stream",
     "text": [
      "There are 10 categories:\n",
      "\n",
      "['Approved' 'In Review' ' Northern Goshawk' ' Northern Pintail'\n",
      " ' Common Poorwill' ' Pigeon Hawk' ' Bushtit' ' American Crow' ' Catbird'\n",
      " ' Robin']\n"
     ]
    }
   ],
   "source": [
    "print(f\"There are {sw_birds.record_status.nunique()} categories:\\n\\n{sw_birds.record_status.unique()}\")"
   ],
   "metadata": {
    "collapsed": false
   }
  },
  {
   "cell_type": "markdown",
   "source": [
    "#### Perhaps a person unaware of the data entry nomenclature recording `common_names` in `record_status`\n",
    "#### Or... They wanted to make it easy to find these entries again in which case; Clever!\n",
    "\n",
    "index[44733]\n",
    "- `Merlin` is a Falcon - [Naming Convention](https://en.wikipedia.org/wiki/Merlin_(bird))\n",
    "- Change `conservation_status` to 'Species of Concern'"
   ],
   "metadata": {
    "collapsed": false
   }
  },
  {
   "cell_type": "code",
   "execution_count": 572,
   "outputs": [
    {
     "data": {
      "text/plain": "species_id                                               GRSA-1136\npark_name              Great Sand Dunes National Park and Preserve\ncategory                                                      Bird\norder                                                Falconiformes\nfamily                                                  Falconidae\nscientific_name                                  Falco columbarius\ncommon_names                                                Merlin\nrecord_status                                          Pigeon Hawk\noccurrence                                                Approved\nnativeness                                                 Present\nabundance                                                   Native\nseasonality                                                   Rare\nconservation_status                             Species of Concern\nunnamed                                         Species of Concern\nis_breeder                                                   False\nis_resident                                                   True\nName: 44733, dtype: object"
     },
     "execution_count": 572,
     "metadata": {},
     "output_type": "execute_result"
    }
   ],
   "source": [
    "sw_birds.at[44733, 'common_names'] = 'Merlin'\n",
    "sw_birds.at[44733, 'conservation_status'] = 'Species of Concern'\n",
    "sw_birds.loc[44733]"
   ],
   "metadata": {
    "collapsed": false
   }
  },
  {
   "cell_type": "markdown",
   "source": [
    "Drop `record_status` - appears to be NPS internal message column. Drop new boolean columns"
   ],
   "metadata": {
    "collapsed": false
   }
  },
  {
   "cell_type": "code",
   "execution_count": 573,
   "outputs": [
    {
     "data": {
      "text/plain": "      species_id                   park_name category            order  \\\n42081  GRCA-1106  Grand Canyon National Park     Bird  Accipitriformes   \n42082  GRCA-1107  Grand Canyon National Park     Bird  Accipitriformes   \n42083  GRCA-1108  Grand Canyon National Park     Bird  Accipitriformes   \n42084  GRCA-1109  Grand Canyon National Park     Bird  Accipitriformes   \n42085  GRCA-1110  Grand Canyon National Park     Bird  Accipitriformes   \n\n             family     scientific_name        common_names occurrence  \\\n42081  Accipitridae  Accipiter cooperii       Cooper's Hawk    Present   \n42082  Accipitridae  Accipiter gentilis    Northern Goshawk    Present   \n42083  Accipitridae  Accipiter striatus  Sharp-Shinned Hawk    Present   \n42084  Accipitridae   Aquila chrysaetos        Golden Eagle    Present   \n42085  Accipitridae   Buteo albonotatus    Zone-Tailed Hawk    Present   \n\n      nativeness abundance seasonality conservation_status  unnamed  \n42081     Native    Common     Breeder  Species of Concern  No Data  \n42082     Native    Common     Breeder             No Data  No Data  \n42083     Native    Common     Breeder  Species of Concern  No Data  \n42084     Native  Uncommon     Breeder  Species of Concern  No Data  \n42085     Native    Common     Breeder             No Data  No Data  ",
      "text/html": "<div>\n<style scoped>\n    .dataframe tbody tr th:only-of-type {\n        vertical-align: middle;\n    }\n\n    .dataframe tbody tr th {\n        vertical-align: top;\n    }\n\n    .dataframe thead th {\n        text-align: right;\n    }\n</style>\n<table border=\"1\" class=\"dataframe\">\n  <thead>\n    <tr style=\"text-align: right;\">\n      <th></th>\n      <th>species_id</th>\n      <th>park_name</th>\n      <th>category</th>\n      <th>order</th>\n      <th>family</th>\n      <th>scientific_name</th>\n      <th>common_names</th>\n      <th>occurrence</th>\n      <th>nativeness</th>\n      <th>abundance</th>\n      <th>seasonality</th>\n      <th>conservation_status</th>\n      <th>unnamed</th>\n    </tr>\n  </thead>\n  <tbody>\n    <tr>\n      <th>42081</th>\n      <td>GRCA-1106</td>\n      <td>Grand Canyon National Park</td>\n      <td>Bird</td>\n      <td>Accipitriformes</td>\n      <td>Accipitridae</td>\n      <td>Accipiter cooperii</td>\n      <td>Cooper's Hawk</td>\n      <td>Present</td>\n      <td>Native</td>\n      <td>Common</td>\n      <td>Breeder</td>\n      <td>Species of Concern</td>\n      <td>No Data</td>\n    </tr>\n    <tr>\n      <th>42082</th>\n      <td>GRCA-1107</td>\n      <td>Grand Canyon National Park</td>\n      <td>Bird</td>\n      <td>Accipitriformes</td>\n      <td>Accipitridae</td>\n      <td>Accipiter gentilis</td>\n      <td>Northern Goshawk</td>\n      <td>Present</td>\n      <td>Native</td>\n      <td>Common</td>\n      <td>Breeder</td>\n      <td>No Data</td>\n      <td>No Data</td>\n    </tr>\n    <tr>\n      <th>42083</th>\n      <td>GRCA-1108</td>\n      <td>Grand Canyon National Park</td>\n      <td>Bird</td>\n      <td>Accipitriformes</td>\n      <td>Accipitridae</td>\n      <td>Accipiter striatus</td>\n      <td>Sharp-Shinned Hawk</td>\n      <td>Present</td>\n      <td>Native</td>\n      <td>Common</td>\n      <td>Breeder</td>\n      <td>Species of Concern</td>\n      <td>No Data</td>\n    </tr>\n    <tr>\n      <th>42084</th>\n      <td>GRCA-1109</td>\n      <td>Grand Canyon National Park</td>\n      <td>Bird</td>\n      <td>Accipitriformes</td>\n      <td>Accipitridae</td>\n      <td>Aquila chrysaetos</td>\n      <td>Golden Eagle</td>\n      <td>Present</td>\n      <td>Native</td>\n      <td>Uncommon</td>\n      <td>Breeder</td>\n      <td>Species of Concern</td>\n      <td>No Data</td>\n    </tr>\n    <tr>\n      <th>42085</th>\n      <td>GRCA-1110</td>\n      <td>Grand Canyon National Park</td>\n      <td>Bird</td>\n      <td>Accipitriformes</td>\n      <td>Accipitridae</td>\n      <td>Buteo albonotatus</td>\n      <td>Zone-Tailed Hawk</td>\n      <td>Present</td>\n      <td>Native</td>\n      <td>Common</td>\n      <td>Breeder</td>\n      <td>No Data</td>\n      <td>No Data</td>\n    </tr>\n  </tbody>\n</table>\n</div>"
     },
     "execution_count": 573,
     "metadata": {},
     "output_type": "execute_result"
    }
   ],
   "source": [
    "sw_birds.drop(columns=['is_breeder', 'is_resident', 'record_status'], axis=1, inplace=True)\n",
    "sw_birds.head()"
   ],
   "metadata": {
    "collapsed": false
   }
  },
  {
   "cell_type": "markdown",
   "source": [
    "`unnamed:_13`"
   ],
   "metadata": {
    "collapsed": false
   }
  },
  {
   "cell_type": "code",
   "execution_count": 574,
   "outputs": [
    {
     "name": "stdout",
     "output_type": "stream",
     "text": [
      "There are 2 categories:\n",
      "\n",
      "['No Data' 'Species of Concern']\n"
     ]
    }
   ],
   "source": [
    "print(f\"There are {sw_birds.unnamed.nunique()} categories:\\n\\n{sw_birds.unnamed.unique()}\")"
   ],
   "metadata": {
    "collapsed": false
   }
  },
  {
   "cell_type": "markdown",
   "source": [
    "How many entries do we have `Species of Concern`?"
   ],
   "metadata": {
    "collapsed": false
   }
  },
  {
   "cell_type": "code",
   "execution_count": 575,
   "outputs": [
    {
     "data": {
      "text/plain": "      species_id                                    park_name category  \\\n44733  GRSA-1136  Great Sand Dunes National Park and Preserve     Bird   \n\n               order      family    scientific_name common_names occurrence  \\\n44733  Falconiformes  Falconidae  Falco columbarius       Merlin   Approved   \n\n      nativeness abundance seasonality conservation_status  \\\n44733    Present    Native        Rare  Species of Concern   \n\n                  unnamed  is_species_of_concern  \n44733  Species of Concern                   True  ",
      "text/html": "<div>\n<style scoped>\n    .dataframe tbody tr th:only-of-type {\n        vertical-align: middle;\n    }\n\n    .dataframe tbody tr th {\n        vertical-align: top;\n    }\n\n    .dataframe thead th {\n        text-align: right;\n    }\n</style>\n<table border=\"1\" class=\"dataframe\">\n  <thead>\n    <tr style=\"text-align: right;\">\n      <th></th>\n      <th>species_id</th>\n      <th>park_name</th>\n      <th>category</th>\n      <th>order</th>\n      <th>family</th>\n      <th>scientific_name</th>\n      <th>common_names</th>\n      <th>occurrence</th>\n      <th>nativeness</th>\n      <th>abundance</th>\n      <th>seasonality</th>\n      <th>conservation_status</th>\n      <th>unnamed</th>\n      <th>is_species_of_concern</th>\n    </tr>\n  </thead>\n  <tbody>\n    <tr>\n      <th>44733</th>\n      <td>GRSA-1136</td>\n      <td>Great Sand Dunes National Park and Preserve</td>\n      <td>Bird</td>\n      <td>Falconiformes</td>\n      <td>Falconidae</td>\n      <td>Falco columbarius</td>\n      <td>Merlin</td>\n      <td>Approved</td>\n      <td>Present</td>\n      <td>Native</td>\n      <td>Rare</td>\n      <td>Species of Concern</td>\n      <td>Species of Concern</td>\n      <td>True</td>\n    </tr>\n  </tbody>\n</table>\n</div>"
     },
     "execution_count": 575,
     "metadata": {},
     "output_type": "execute_result"
    }
   ],
   "source": [
    "sw_birds['is_species_of_concern'] = sw_birds.unnamed.str.contains(r\"\\bSpecies\\b\", regex=True)\n",
    "sw_birds[sw_birds.is_species_of_concern]"
   ],
   "metadata": {
    "collapsed": false
   }
  },
  {
   "cell_type": "markdown",
   "source": [
    "Great! just one which has been dealt with. Drop `unnamed`, `is_species_of_concern`"
   ],
   "metadata": {
    "collapsed": false
   }
  },
  {
   "cell_type": "code",
   "execution_count": 576,
   "outputs": [],
   "source": [
    "sw_birds.drop(columns=['unnamed', 'is_species_of_concern'], axis=1, inplace=True)"
   ],
   "metadata": {
    "collapsed": false
   }
  },
  {
   "cell_type": "code",
   "execution_count": 577,
   "outputs": [
    {
     "data": {
      "text/plain": "      species_id                   park_name category            order  \\\n42081  GRCA-1106  Grand Canyon National Park     Bird  Accipitriformes   \n42082  GRCA-1107  Grand Canyon National Park     Bird  Accipitriformes   \n42083  GRCA-1108  Grand Canyon National Park     Bird  Accipitriformes   \n42084  GRCA-1109  Grand Canyon National Park     Bird  Accipitriformes   \n42085  GRCA-1110  Grand Canyon National Park     Bird  Accipitriformes   \n42086  GRCA-1111  Grand Canyon National Park     Bird  Accipitriformes   \n42087  GRCA-1112  Grand Canyon National Park     Bird  Accipitriformes   \n42088  GRCA-1113  Grand Canyon National Park     Bird  Accipitriformes   \n42089  GRCA-1114  Grand Canyon National Park     Bird  Accipitriformes   \n42090  GRCA-1115  Grand Canyon National Park     Bird  Accipitriformes   \n\n             family     scientific_name         common_names occurrence  \\\n42081  Accipitridae  Accipiter cooperii        Cooper's Hawk    Present   \n42082  Accipitridae  Accipiter gentilis     Northern Goshawk    Present   \n42083  Accipitridae  Accipiter striatus   Sharp-Shinned Hawk    Present   \n42084  Accipitridae   Aquila chrysaetos         Golden Eagle    Present   \n42085  Accipitridae   Buteo albonotatus     Zone-Tailed Hawk    Present   \n42086  Accipitridae   Buteo jamaicensis      Red-Tailed Hawk    Present   \n42087  Accipitridae       Buteo lagopus    Rough-Legged Hawk    Present   \n42088  Accipitridae      Buteo lineatus  Red-Shouldered Hawk    Present   \n42089  Accipitridae   Buteo platypterus    Broad-Winged Hawk    Present   \n42090  Accipitridae       Buteo regalis     Ferruginous Hawk    Present   \n\n      nativeness   abundance        seasonality conservation_status  is_review  \n42081     Native      Common            Breeder  Species of Concern      False  \n42082     Native      Common            Breeder             No Data      False  \n42083     Native      Common            Breeder  Species of Concern      False  \n42084     Native    Uncommon            Breeder  Species of Concern      False  \n42085     Native      Common            Breeder             No Data      False  \n42086     Native      Common            Breeder             No Data      False  \n42087     Native        Rare  Migratory, Winter  Species of Concern      False  \n42088     Native  Occasional            Vagrant  Species of Concern      False  \n42089     Native        Rare          Migratory             No Data      False  \n42090     Native    Uncommon    Breeder, Winter             No Data      False  ",
      "text/html": "<div>\n<style scoped>\n    .dataframe tbody tr th:only-of-type {\n        vertical-align: middle;\n    }\n\n    .dataframe tbody tr th {\n        vertical-align: top;\n    }\n\n    .dataframe thead th {\n        text-align: right;\n    }\n</style>\n<table border=\"1\" class=\"dataframe\">\n  <thead>\n    <tr style=\"text-align: right;\">\n      <th></th>\n      <th>species_id</th>\n      <th>park_name</th>\n      <th>category</th>\n      <th>order</th>\n      <th>family</th>\n      <th>scientific_name</th>\n      <th>common_names</th>\n      <th>occurrence</th>\n      <th>nativeness</th>\n      <th>abundance</th>\n      <th>seasonality</th>\n      <th>conservation_status</th>\n      <th>is_review</th>\n    </tr>\n  </thead>\n  <tbody>\n    <tr>\n      <th>42081</th>\n      <td>GRCA-1106</td>\n      <td>Grand Canyon National Park</td>\n      <td>Bird</td>\n      <td>Accipitriformes</td>\n      <td>Accipitridae</td>\n      <td>Accipiter cooperii</td>\n      <td>Cooper's Hawk</td>\n      <td>Present</td>\n      <td>Native</td>\n      <td>Common</td>\n      <td>Breeder</td>\n      <td>Species of Concern</td>\n      <td>False</td>\n    </tr>\n    <tr>\n      <th>42082</th>\n      <td>GRCA-1107</td>\n      <td>Grand Canyon National Park</td>\n      <td>Bird</td>\n      <td>Accipitriformes</td>\n      <td>Accipitridae</td>\n      <td>Accipiter gentilis</td>\n      <td>Northern Goshawk</td>\n      <td>Present</td>\n      <td>Native</td>\n      <td>Common</td>\n      <td>Breeder</td>\n      <td>No Data</td>\n      <td>False</td>\n    </tr>\n    <tr>\n      <th>42083</th>\n      <td>GRCA-1108</td>\n      <td>Grand Canyon National Park</td>\n      <td>Bird</td>\n      <td>Accipitriformes</td>\n      <td>Accipitridae</td>\n      <td>Accipiter striatus</td>\n      <td>Sharp-Shinned Hawk</td>\n      <td>Present</td>\n      <td>Native</td>\n      <td>Common</td>\n      <td>Breeder</td>\n      <td>Species of Concern</td>\n      <td>False</td>\n    </tr>\n    <tr>\n      <th>42084</th>\n      <td>GRCA-1109</td>\n      <td>Grand Canyon National Park</td>\n      <td>Bird</td>\n      <td>Accipitriformes</td>\n      <td>Accipitridae</td>\n      <td>Aquila chrysaetos</td>\n      <td>Golden Eagle</td>\n      <td>Present</td>\n      <td>Native</td>\n      <td>Uncommon</td>\n      <td>Breeder</td>\n      <td>Species of Concern</td>\n      <td>False</td>\n    </tr>\n    <tr>\n      <th>42085</th>\n      <td>GRCA-1110</td>\n      <td>Grand Canyon National Park</td>\n      <td>Bird</td>\n      <td>Accipitriformes</td>\n      <td>Accipitridae</td>\n      <td>Buteo albonotatus</td>\n      <td>Zone-Tailed Hawk</td>\n      <td>Present</td>\n      <td>Native</td>\n      <td>Common</td>\n      <td>Breeder</td>\n      <td>No Data</td>\n      <td>False</td>\n    </tr>\n    <tr>\n      <th>42086</th>\n      <td>GRCA-1111</td>\n      <td>Grand Canyon National Park</td>\n      <td>Bird</td>\n      <td>Accipitriformes</td>\n      <td>Accipitridae</td>\n      <td>Buteo jamaicensis</td>\n      <td>Red-Tailed Hawk</td>\n      <td>Present</td>\n      <td>Native</td>\n      <td>Common</td>\n      <td>Breeder</td>\n      <td>No Data</td>\n      <td>False</td>\n    </tr>\n    <tr>\n      <th>42087</th>\n      <td>GRCA-1112</td>\n      <td>Grand Canyon National Park</td>\n      <td>Bird</td>\n      <td>Accipitriformes</td>\n      <td>Accipitridae</td>\n      <td>Buteo lagopus</td>\n      <td>Rough-Legged Hawk</td>\n      <td>Present</td>\n      <td>Native</td>\n      <td>Rare</td>\n      <td>Migratory, Winter</td>\n      <td>Species of Concern</td>\n      <td>False</td>\n    </tr>\n    <tr>\n      <th>42088</th>\n      <td>GRCA-1113</td>\n      <td>Grand Canyon National Park</td>\n      <td>Bird</td>\n      <td>Accipitriformes</td>\n      <td>Accipitridae</td>\n      <td>Buteo lineatus</td>\n      <td>Red-Shouldered Hawk</td>\n      <td>Present</td>\n      <td>Native</td>\n      <td>Occasional</td>\n      <td>Vagrant</td>\n      <td>Species of Concern</td>\n      <td>False</td>\n    </tr>\n    <tr>\n      <th>42089</th>\n      <td>GRCA-1114</td>\n      <td>Grand Canyon National Park</td>\n      <td>Bird</td>\n      <td>Accipitriformes</td>\n      <td>Accipitridae</td>\n      <td>Buteo platypterus</td>\n      <td>Broad-Winged Hawk</td>\n      <td>Present</td>\n      <td>Native</td>\n      <td>Rare</td>\n      <td>Migratory</td>\n      <td>No Data</td>\n      <td>False</td>\n    </tr>\n    <tr>\n      <th>42090</th>\n      <td>GRCA-1115</td>\n      <td>Grand Canyon National Park</td>\n      <td>Bird</td>\n      <td>Accipitriformes</td>\n      <td>Accipitridae</td>\n      <td>Buteo regalis</td>\n      <td>Ferruginous Hawk</td>\n      <td>Present</td>\n      <td>Native</td>\n      <td>Uncommon</td>\n      <td>Breeder, Winter</td>\n      <td>No Data</td>\n      <td>False</td>\n    </tr>\n  </tbody>\n</table>\n</div>"
     },
     "execution_count": 577,
     "metadata": {},
     "output_type": "execute_result"
    }
   ],
   "source": [
    "sw_birds['is_review'] = sw_birds.conservation_status.str.contains(r\"\\bReview\\b\", regex=True)\n",
    "sw_birds.head(10)"
   ],
   "metadata": {
    "collapsed": false
   }
  },
  {
   "cell_type": "code",
   "execution_count": 578,
   "outputs": [],
   "source": [
    "sw_birds.drop(columns=['is_review'], axis=1, inplace=True)"
   ],
   "metadata": {
    "collapsed": false
   }
  },
  {
   "cell_type": "markdown",
   "source": [
    "## `conservation_status` decision\n",
    "\n",
    "Will change 'No Data' to 'Least Concern' in  `conservation_status`\n",
    "- Rationale; If NPS was concerned about the species' `conservation_status` then they would have assigned one\n",
    "- 'Breeder': 'Least Concern'\n",
    "- 'Resident': 'Least Concern'\n",
    "- 'Under Review': Species could be reclassified 'Threatened' in the near future.\n",
    "\n",
    "For our purposes, 'Least Concern' means 'non-protected'. All other values, 'protected'"
   ],
   "metadata": {
    "collapsed": false
   }
  },
  {
   "cell_type": "code",
   "execution_count": 579,
   "outputs": [
    {
     "data": {
      "text/plain": "conservation_status\nEndangered              28\nIn Recovery             36\nLeast Concern         5694\nSpecies of Concern    1232\nThreatened              31\nUnder Review            24\ndtype: int64"
     },
     "execution_count": 579,
     "metadata": {},
     "output_type": "execute_result"
    }
   ],
   "source": [
    "mask = sw_birds['conservation_status'].isin(['Breeder', 'Resident', 'No Data'])\n",
    "sw_birds.loc[mask, 'conservation_status'] = 'Least Concern'\n",
    "sw_birds.groupby(\"conservation_status\").size()"
   ],
   "metadata": {
    "collapsed": false
   }
  },
  {
   "cell_type": "markdown",
   "source": [
    "#### Other Columns to analyse"
   ],
   "metadata": {
    "collapsed": false
   }
  },
  {
   "cell_type": "markdown",
   "source": [
    "---\n",
    "### `occurence`"
   ],
   "metadata": {
    "collapsed": false
   }
  },
  {
   "cell_type": "code",
   "execution_count": 580,
   "outputs": [
    {
     "name": "stdout",
     "output_type": "stream",
     "text": [
      "There are 7 categories:\n",
      "\n",
      "['Present' 'Not Present' 'Not Present (False Report)' 'Not Confirmed'\n",
      " 'Not Present (Historical Report)' 'No Data' 'Approved']\n"
     ]
    }
   ],
   "source": [
    "print(f\"There are {sw_birds.occurrence.nunique()} categories:\\n\\n{sw_birds.occurrence.unique()}\")"
   ],
   "metadata": {
    "collapsed": false
   }
  },
  {
   "cell_type": "markdown",
   "source": [
    "---\n",
    "### `nativeness`"
   ],
   "metadata": {
    "collapsed": false
   }
  },
  {
   "cell_type": "code",
   "execution_count": 581,
   "outputs": [
    {
     "name": "stdout",
     "output_type": "stream",
     "text": [
      "There are 5 categories:\n",
      "\n",
      "['Native' 'Not Native' 'Unknown' 'No Data' 'Present']\n"
     ]
    }
   ],
   "source": [
    "print(f\"There are {sw_birds.nativeness.nunique()} categories:\\n\\n{sw_birds.nativeness.unique()}\")"
   ],
   "metadata": {
    "collapsed": false
   }
  },
  {
   "cell_type": "markdown",
   "source": [
    "---\n",
    "### `abundance`"
   ],
   "metadata": {
    "collapsed": false
   }
  },
  {
   "cell_type": "code",
   "execution_count": 582,
   "outputs": [
    {
     "name": "stdout",
     "output_type": "stream",
     "text": [
      "There are 8 categories:\n",
      "\n",
      "['Common' 'Uncommon' 'Rare' 'Occasional' 'No Data' 'Abundant' 'Unknown'\n",
      " 'Native']\n"
     ]
    }
   ],
   "source": [
    "print(f\"There are {sw_birds.abundance.nunique()} categories:\\n\\n{sw_birds.abundance.unique()}\")"
   ],
   "metadata": {
    "collapsed": false
   }
  },
  {
   "cell_type": "code",
   "execution_count": 583,
   "outputs": [
    {
     "name": "stdout",
     "output_type": "stream",
     "text": [
      "NaN value count: 0\n"
     ]
    },
    {
     "data": {
      "text/plain": "abundance\nAbundant       201\nCommon        1302\nNative           8\nNo Data       1090\nOccasional    1299\nRare          1147\nUncommon      1313\nUnknown        685\ndtype: int64"
     },
     "execution_count": 583,
     "metadata": {},
     "output_type": "execute_result"
    }
   ],
   "source": [
    "print(f\"NaN value count: {sw_birds.abundance.isna().sum()}\\n\")\n",
    "sw_birds.groupby(\"abundance\").size()"
   ],
   "metadata": {
    "collapsed": false
   }
  },
  {
   "cell_type": "markdown",
   "source": [
    "---\n",
    "`seasonality`"
   ],
   "metadata": {
    "collapsed": false
   }
  },
  {
   "cell_type": "code",
   "execution_count": 584,
   "outputs": [
    {
     "name": "stdout",
     "output_type": "stream",
     "text": [
      "There are 23 categories:\n",
      "\n",
      "['Breeder' 'Migratory, Winter' 'Vagrant' 'Migratory' 'Breeder, Winter'\n",
      " 'Resident' 'No Data' 'Winter' 'Resident, Winter' 'Summer, Vagrant'\n",
      " 'Breeder, Resident, Summer' 'Resident, Summer' 'Migratory, Vagrant'\n",
      " 'Summer' 'Breeder, Resident, Migratory, Summer'\n",
      " 'Breeder, Resident, Summer, Winter' 'Breeder, Migratory'\n",
      " 'Migratory, Summer' 'Winter, Vagrant' 'Breeder, Summer' 'Rare' 'Uncommon'\n",
      " 'Common']\n"
     ]
    }
   ],
   "source": [
    "print(f\"There are {sw_birds.seasonality.nunique()} categories:\\n\\n{sw_birds.seasonality.unique()}\")"
   ],
   "metadata": {
    "collapsed": false
   }
  },
  {
   "cell_type": "code",
   "execution_count": 585,
   "outputs": [
    {
     "name": "stdout",
     "output_type": "stream",
     "text": [
      "There are 919 unique common names\n",
      "\n",
      "There are 1040 unique scientific names\n"
     ]
    }
   ],
   "source": [
    "print(f\"There are {sw_birds.common_names.nunique()} unique common names\\n\")\n",
    "print(f\"There are {sw_birds.scientific_name.nunique()} unique scientific names\")"
   ],
   "metadata": {
    "collapsed": false
   }
  },
  {
   "cell_type": "markdown",
   "source": [
    "----\n",
    "## `sw_birds_extras_df`\n",
    "- New data frame of above columns retaining all indexing.\n",
    "- Adding `scientific_name` and `common_names` columns for reference"
   ],
   "metadata": {
    "collapsed": false
   }
  },
  {
   "cell_type": "code",
   "execution_count": 586,
   "outputs": [
    {
     "data": {
      "text/plain": "      species_id                   park_name category            order  \\\n42081  GRCA-1106  Grand Canyon National Park     Bird  Accipitriformes   \n42082  GRCA-1107  Grand Canyon National Park     Bird  Accipitriformes   \n42083  GRCA-1108  Grand Canyon National Park     Bird  Accipitriformes   \n42084  GRCA-1109  Grand Canyon National Park     Bird  Accipitriformes   \n42085  GRCA-1110  Grand Canyon National Park     Bird  Accipitriformes   \n\n             family     scientific_name        common_names occurrence  \\\n42081  Accipitridae  Accipiter cooperii       Cooper's Hawk    Present   \n42082  Accipitridae  Accipiter gentilis    Northern Goshawk    Present   \n42083  Accipitridae  Accipiter striatus  Sharp-Shinned Hawk    Present   \n42084  Accipitridae   Aquila chrysaetos        Golden Eagle    Present   \n42085  Accipitridae   Buteo albonotatus    Zone-Tailed Hawk    Present   \n\n      nativeness abundance seasonality conservation_status  \n42081     Native    Common     Breeder  Species of Concern  \n42082     Native    Common     Breeder       Least Concern  \n42083     Native    Common     Breeder  Species of Concern  \n42084     Native  Uncommon     Breeder  Species of Concern  \n42085     Native    Common     Breeder       Least Concern  ",
      "text/html": "<div>\n<style scoped>\n    .dataframe tbody tr th:only-of-type {\n        vertical-align: middle;\n    }\n\n    .dataframe tbody tr th {\n        vertical-align: top;\n    }\n\n    .dataframe thead th {\n        text-align: right;\n    }\n</style>\n<table border=\"1\" class=\"dataframe\">\n  <thead>\n    <tr style=\"text-align: right;\">\n      <th></th>\n      <th>species_id</th>\n      <th>park_name</th>\n      <th>category</th>\n      <th>order</th>\n      <th>family</th>\n      <th>scientific_name</th>\n      <th>common_names</th>\n      <th>occurrence</th>\n      <th>nativeness</th>\n      <th>abundance</th>\n      <th>seasonality</th>\n      <th>conservation_status</th>\n    </tr>\n  </thead>\n  <tbody>\n    <tr>\n      <th>42081</th>\n      <td>GRCA-1106</td>\n      <td>Grand Canyon National Park</td>\n      <td>Bird</td>\n      <td>Accipitriformes</td>\n      <td>Accipitridae</td>\n      <td>Accipiter cooperii</td>\n      <td>Cooper's Hawk</td>\n      <td>Present</td>\n      <td>Native</td>\n      <td>Common</td>\n      <td>Breeder</td>\n      <td>Species of Concern</td>\n    </tr>\n    <tr>\n      <th>42082</th>\n      <td>GRCA-1107</td>\n      <td>Grand Canyon National Park</td>\n      <td>Bird</td>\n      <td>Accipitriformes</td>\n      <td>Accipitridae</td>\n      <td>Accipiter gentilis</td>\n      <td>Northern Goshawk</td>\n      <td>Present</td>\n      <td>Native</td>\n      <td>Common</td>\n      <td>Breeder</td>\n      <td>Least Concern</td>\n    </tr>\n    <tr>\n      <th>42083</th>\n      <td>GRCA-1108</td>\n      <td>Grand Canyon National Park</td>\n      <td>Bird</td>\n      <td>Accipitriformes</td>\n      <td>Accipitridae</td>\n      <td>Accipiter striatus</td>\n      <td>Sharp-Shinned Hawk</td>\n      <td>Present</td>\n      <td>Native</td>\n      <td>Common</td>\n      <td>Breeder</td>\n      <td>Species of Concern</td>\n    </tr>\n    <tr>\n      <th>42084</th>\n      <td>GRCA-1109</td>\n      <td>Grand Canyon National Park</td>\n      <td>Bird</td>\n      <td>Accipitriformes</td>\n      <td>Accipitridae</td>\n      <td>Aquila chrysaetos</td>\n      <td>Golden Eagle</td>\n      <td>Present</td>\n      <td>Native</td>\n      <td>Uncommon</td>\n      <td>Breeder</td>\n      <td>Species of Concern</td>\n    </tr>\n    <tr>\n      <th>42085</th>\n      <td>GRCA-1110</td>\n      <td>Grand Canyon National Park</td>\n      <td>Bird</td>\n      <td>Accipitriformes</td>\n      <td>Accipitridae</td>\n      <td>Buteo albonotatus</td>\n      <td>Zone-Tailed Hawk</td>\n      <td>Present</td>\n      <td>Native</td>\n      <td>Common</td>\n      <td>Breeder</td>\n      <td>Least Concern</td>\n    </tr>\n  </tbody>\n</table>\n</div>"
     },
     "execution_count": 586,
     "metadata": {},
     "output_type": "execute_result"
    }
   ],
   "source": [
    "sw_birds.head()"
   ],
   "metadata": {
    "collapsed": false
   }
  },
  {
   "cell_type": "code",
   "execution_count": 587,
   "outputs": [
    {
     "data": {
      "text/plain": "          scientific_name        common_names occurrence nativeness abundance  \\\n42081  Accipiter cooperii       Cooper's Hawk    Present     Native    Common   \n42082  Accipiter gentilis    Northern Goshawk    Present     Native    Common   \n42083  Accipiter striatus  Sharp-Shinned Hawk    Present     Native    Common   \n42084   Aquila chrysaetos        Golden Eagle    Present     Native  Uncommon   \n42085   Buteo albonotatus    Zone-Tailed Hawk    Present     Native    Common   \n\n      seasonality  \n42081     Breeder  \n42082     Breeder  \n42083     Breeder  \n42084     Breeder  \n42085     Breeder  ",
      "text/html": "<div>\n<style scoped>\n    .dataframe tbody tr th:only-of-type {\n        vertical-align: middle;\n    }\n\n    .dataframe tbody tr th {\n        vertical-align: top;\n    }\n\n    .dataframe thead th {\n        text-align: right;\n    }\n</style>\n<table border=\"1\" class=\"dataframe\">\n  <thead>\n    <tr style=\"text-align: right;\">\n      <th></th>\n      <th>scientific_name</th>\n      <th>common_names</th>\n      <th>occurrence</th>\n      <th>nativeness</th>\n      <th>abundance</th>\n      <th>seasonality</th>\n    </tr>\n  </thead>\n  <tbody>\n    <tr>\n      <th>42081</th>\n      <td>Accipiter cooperii</td>\n      <td>Cooper's Hawk</td>\n      <td>Present</td>\n      <td>Native</td>\n      <td>Common</td>\n      <td>Breeder</td>\n    </tr>\n    <tr>\n      <th>42082</th>\n      <td>Accipiter gentilis</td>\n      <td>Northern Goshawk</td>\n      <td>Present</td>\n      <td>Native</td>\n      <td>Common</td>\n      <td>Breeder</td>\n    </tr>\n    <tr>\n      <th>42083</th>\n      <td>Accipiter striatus</td>\n      <td>Sharp-Shinned Hawk</td>\n      <td>Present</td>\n      <td>Native</td>\n      <td>Common</td>\n      <td>Breeder</td>\n    </tr>\n    <tr>\n      <th>42084</th>\n      <td>Aquila chrysaetos</td>\n      <td>Golden Eagle</td>\n      <td>Present</td>\n      <td>Native</td>\n      <td>Uncommon</td>\n      <td>Breeder</td>\n    </tr>\n    <tr>\n      <th>42085</th>\n      <td>Buteo albonotatus</td>\n      <td>Zone-Tailed Hawk</td>\n      <td>Present</td>\n      <td>Native</td>\n      <td>Common</td>\n      <td>Breeder</td>\n    </tr>\n  </tbody>\n</table>\n</div>"
     },
     "execution_count": 587,
     "metadata": {},
     "output_type": "execute_result"
    }
   ],
   "source": [
    "columns = ['scientific_name', 'common_names', 'occurrence', 'nativeness', 'abundance', 'seasonality']\n",
    "sw_birds_extras_df = sw_birds.loc[:, columns]\n",
    "sw_birds_extras_df.head()"
   ],
   "metadata": {
    "collapsed": false
   }
  },
  {
   "cell_type": "markdown",
   "source": [
    "Drop columns from `sw_birds` (Including `category`, they're all 'Birds')"
   ],
   "metadata": {
    "collapsed": false
   }
  },
  {
   "cell_type": "code",
   "execution_count": 588,
   "outputs": [],
   "source": [
    "sw_birds.drop(columns=['category', 'occurrence', 'nativeness', 'abundance', 'seasonality'], axis=1, inplace=True)"
   ],
   "metadata": {
    "collapsed": false
   }
  },
  {
   "cell_type": "markdown",
   "source": [
    "New column `protected` which will be bool $\\neq$ 'Least Concern'"
   ],
   "metadata": {
    "collapsed": false
   }
  },
  {
   "cell_type": "code",
   "execution_count": 589,
   "outputs": [
    {
     "data": {
      "text/plain": "      species_id                   park_name            order        family  \\\n42081  GRCA-1106  Grand Canyon National Park  Accipitriformes  Accipitridae   \n42082  GRCA-1107  Grand Canyon National Park  Accipitriformes  Accipitridae   \n42083  GRCA-1108  Grand Canyon National Park  Accipitriformes  Accipitridae   \n42084  GRCA-1109  Grand Canyon National Park  Accipitriformes  Accipitridae   \n42085  GRCA-1110  Grand Canyon National Park  Accipitriformes  Accipitridae   \n\n          scientific_name        common_names conservation_status  protected  \n42081  Accipiter cooperii       Cooper's Hawk  Species of Concern       True  \n42082  Accipiter gentilis    Northern Goshawk       Least Concern      False  \n42083  Accipiter striatus  Sharp-Shinned Hawk  Species of Concern       True  \n42084   Aquila chrysaetos        Golden Eagle  Species of Concern       True  \n42085   Buteo albonotatus    Zone-Tailed Hawk       Least Concern      False  ",
      "text/html": "<div>\n<style scoped>\n    .dataframe tbody tr th:only-of-type {\n        vertical-align: middle;\n    }\n\n    .dataframe tbody tr th {\n        vertical-align: top;\n    }\n\n    .dataframe thead th {\n        text-align: right;\n    }\n</style>\n<table border=\"1\" class=\"dataframe\">\n  <thead>\n    <tr style=\"text-align: right;\">\n      <th></th>\n      <th>species_id</th>\n      <th>park_name</th>\n      <th>order</th>\n      <th>family</th>\n      <th>scientific_name</th>\n      <th>common_names</th>\n      <th>conservation_status</th>\n      <th>protected</th>\n    </tr>\n  </thead>\n  <tbody>\n    <tr>\n      <th>42081</th>\n      <td>GRCA-1106</td>\n      <td>Grand Canyon National Park</td>\n      <td>Accipitriformes</td>\n      <td>Accipitridae</td>\n      <td>Accipiter cooperii</td>\n      <td>Cooper's Hawk</td>\n      <td>Species of Concern</td>\n      <td>True</td>\n    </tr>\n    <tr>\n      <th>42082</th>\n      <td>GRCA-1107</td>\n      <td>Grand Canyon National Park</td>\n      <td>Accipitriformes</td>\n      <td>Accipitridae</td>\n      <td>Accipiter gentilis</td>\n      <td>Northern Goshawk</td>\n      <td>Least Concern</td>\n      <td>False</td>\n    </tr>\n    <tr>\n      <th>42083</th>\n      <td>GRCA-1108</td>\n      <td>Grand Canyon National Park</td>\n      <td>Accipitriformes</td>\n      <td>Accipitridae</td>\n      <td>Accipiter striatus</td>\n      <td>Sharp-Shinned Hawk</td>\n      <td>Species of Concern</td>\n      <td>True</td>\n    </tr>\n    <tr>\n      <th>42084</th>\n      <td>GRCA-1109</td>\n      <td>Grand Canyon National Park</td>\n      <td>Accipitriformes</td>\n      <td>Accipitridae</td>\n      <td>Aquila chrysaetos</td>\n      <td>Golden Eagle</td>\n      <td>Species of Concern</td>\n      <td>True</td>\n    </tr>\n    <tr>\n      <th>42085</th>\n      <td>GRCA-1110</td>\n      <td>Grand Canyon National Park</td>\n      <td>Accipitriformes</td>\n      <td>Accipitridae</td>\n      <td>Buteo albonotatus</td>\n      <td>Zone-Tailed Hawk</td>\n      <td>Least Concern</td>\n      <td>False</td>\n    </tr>\n  </tbody>\n</table>\n</div>"
     },
     "execution_count": 589,
     "metadata": {},
     "output_type": "execute_result"
    }
   ],
   "source": [
    "sw_birds['protected'] = sw_birds.conservation_status != 'Least Concern'\n",
    "sw_birds.head()"
   ],
   "metadata": {
    "collapsed": false
   }
  },
  {
   "cell_type": "markdown",
   "source": [
    "### For now we keep `species_id` but not sure how it's useful."
   ],
   "metadata": {
    "collapsed": false
   }
  },
  {
   "cell_type": "markdown",
   "source": [
    "---\n",
    "\n",
    "# Milestone\n",
    "\n",
    "---"
   ],
   "metadata": {
    "collapsed": false
   }
  },
  {
   "cell_type": "markdown",
   "source": [
    "### Need to filter `sw_birds` for raptors.\n",
    "- Using list of common 'types'\n",
    "- Using list of scientific families\n",
    "\n",
    "Lists need to be exhaustive. Research required\n",
    "\n",
    "We create two new columns `raptor_common` and `raptor_sci_fam` appending value of lists on search of columns if value $\\in$ lists."
   ],
   "metadata": {
    "collapsed": false
   }
  },
  {
   "cell_type": "markdown",
   "source": [
    "How many bird of prey `family` are there?"
   ],
   "metadata": {
    "collapsed": false
   }
  },
  {
   "cell_type": "code",
   "execution_count": 590,
   "outputs": [
    {
     "name": "stdout",
     "output_type": "stream",
     "text": [
      "There are 75 unique families\n"
     ]
    }
   ],
   "source": [
    "print(f\"There are {sw_birds.family.nunique()} unique families\\n\")"
   ],
   "metadata": {
    "collapsed": false
   }
  },
  {
   "cell_type": "markdown",
   "source": [
    "### `raptor_common`\n",
    "\n",
    "I've already defined a bird of prey 'type' list in the last project."
   ],
   "metadata": {
    "collapsed": false
   }
  },
  {
   "cell_type": "code",
   "execution_count": 591,
   "outputs": [
    {
     "name": "stdout",
     "output_type": "stream",
     "text": [
      "0\n"
     ]
    }
   ],
   "source": [
    "# This dataset is well formatted with zero lower case values\n",
    "lowercase_count = (sw_birds.applymap(lambda x: isinstance(x, str) and x.islower())).sum().sum()\n",
    "print(lowercase_count)"
   ],
   "metadata": {
    "collapsed": false
   }
  },
  {
   "cell_type": "code",
   "execution_count": 592,
   "outputs": [],
   "source": [
    "# Updated to include Caracara which was missed in the first project and found through wrangling\n",
    "birds_of_prey = [\"Eagle\", \"Hawk\", \"Falcon\", \"Buzzard\", \"Harrier\", \"Kite\", \"Owl\", \"Osprey\", \"Vulture\", \"Condor\", \"Kestrel\", 'Buteos', 'Accipiters', 'Caracara']"
   ],
   "metadata": {
    "collapsed": false
   }
  },
  {
   "cell_type": "code",
   "execution_count": 593,
   "outputs": [
    {
     "data": {
      "text/plain": "      species_id                   park_name            order        family  \\\n42081  GRCA-1106  Grand Canyon National Park  Accipitriformes  Accipitridae   \n42082  GRCA-1107  Grand Canyon National Park  Accipitriformes  Accipitridae   \n42083  GRCA-1108  Grand Canyon National Park  Accipitriformes  Accipitridae   \n42084  GRCA-1109  Grand Canyon National Park  Accipitriformes  Accipitridae   \n42085  GRCA-1110  Grand Canyon National Park  Accipitriformes  Accipitridae   \n\n          scientific_name        common_names conservation_status  protected  \\\n42081  Accipiter cooperii       Cooper's Hawk  Species of Concern       True   \n42082  Accipiter gentilis    Northern Goshawk       Least Concern      False   \n42083  Accipiter striatus  Sharp-Shinned Hawk  Species of Concern       True   \n42084   Aquila chrysaetos        Golden Eagle  Species of Concern       True   \n42085   Buteo albonotatus    Zone-Tailed Hawk       Least Concern      False   \n\n      raptor_common  \n42081          Hawk  \n42082                \n42083          Hawk  \n42084         Eagle  \n42085          Hawk  ",
      "text/html": "<div>\n<style scoped>\n    .dataframe tbody tr th:only-of-type {\n        vertical-align: middle;\n    }\n\n    .dataframe tbody tr th {\n        vertical-align: top;\n    }\n\n    .dataframe thead th {\n        text-align: right;\n    }\n</style>\n<table border=\"1\" class=\"dataframe\">\n  <thead>\n    <tr style=\"text-align: right;\">\n      <th></th>\n      <th>species_id</th>\n      <th>park_name</th>\n      <th>order</th>\n      <th>family</th>\n      <th>scientific_name</th>\n      <th>common_names</th>\n      <th>conservation_status</th>\n      <th>protected</th>\n      <th>raptor_common</th>\n    </tr>\n  </thead>\n  <tbody>\n    <tr>\n      <th>42081</th>\n      <td>GRCA-1106</td>\n      <td>Grand Canyon National Park</td>\n      <td>Accipitriformes</td>\n      <td>Accipitridae</td>\n      <td>Accipiter cooperii</td>\n      <td>Cooper's Hawk</td>\n      <td>Species of Concern</td>\n      <td>True</td>\n      <td>Hawk</td>\n    </tr>\n    <tr>\n      <th>42082</th>\n      <td>GRCA-1107</td>\n      <td>Grand Canyon National Park</td>\n      <td>Accipitriformes</td>\n      <td>Accipitridae</td>\n      <td>Accipiter gentilis</td>\n      <td>Northern Goshawk</td>\n      <td>Least Concern</td>\n      <td>False</td>\n      <td></td>\n    </tr>\n    <tr>\n      <th>42083</th>\n      <td>GRCA-1108</td>\n      <td>Grand Canyon National Park</td>\n      <td>Accipitriformes</td>\n      <td>Accipitridae</td>\n      <td>Accipiter striatus</td>\n      <td>Sharp-Shinned Hawk</td>\n      <td>Species of Concern</td>\n      <td>True</td>\n      <td>Hawk</td>\n    </tr>\n    <tr>\n      <th>42084</th>\n      <td>GRCA-1109</td>\n      <td>Grand Canyon National Park</td>\n      <td>Accipitriformes</td>\n      <td>Accipitridae</td>\n      <td>Aquila chrysaetos</td>\n      <td>Golden Eagle</td>\n      <td>Species of Concern</td>\n      <td>True</td>\n      <td>Eagle</td>\n    </tr>\n    <tr>\n      <th>42085</th>\n      <td>GRCA-1110</td>\n      <td>Grand Canyon National Park</td>\n      <td>Accipitriformes</td>\n      <td>Accipitridae</td>\n      <td>Buteo albonotatus</td>\n      <td>Zone-Tailed Hawk</td>\n      <td>Least Concern</td>\n      <td>False</td>\n      <td>Hawk</td>\n    </tr>\n  </tbody>\n</table>\n</div>"
     },
     "execution_count": 593,
     "metadata": {},
     "output_type": "execute_result"
    }
   ],
   "source": [
    "# We do an exact match search\n",
    "sw_birds['raptor_common'] = sw_birds.common_names.str.findall('({0})'.format('|'.join(birds_of_prey)))\n",
    "sw_birds['raptor_common'] = sw_birds['raptor_common'].apply('. '.join)\n",
    "sw_birds.head()"
   ],
   "metadata": {
    "collapsed": false
   }
  },
  {
   "cell_type": "code",
   "execution_count": 594,
   "outputs": [
    {
     "name": "stdout",
     "output_type": "stream",
     "text": [
      "Under common name:\n",
      "We have a total of 665 Raptors\n",
      "\n",
      "['Hawk', '', 'Eagle', 'Hawk. Hawk', 'Harrier', 'Vulture', 'Condor', 'Osprey', 'Falcon', 'Kestrel', 'Owl', 'Buzzard. Hawk', 'Osprey. Osprey', 'Caracara. Caracara', 'Owl. Owl', 'Kite', 'Kite. Kite', 'Caracara']\n"
     ]
    }
   ],
   "source": [
    "total_raptors_comm = sw_birds['raptor_common'].loc[sw_birds['raptor_common'] != ''].count()\n",
    "print(f\"Under common name:\\nWe have a total of {total_raptors_comm} Raptors\\n\")\n",
    "diff_com_types = sw_birds.raptor_common.unique().tolist()\n",
    "print(diff_com_types)"
   ],
   "metadata": {
    "collapsed": false
   }
  },
  {
   "cell_type": "markdown",
   "source": [
    "Need to check 'Buzzard. Hawk' which one is it? Will become clearer after `family` search and population"
   ],
   "metadata": {
    "collapsed": false
   }
  },
  {
   "cell_type": "markdown",
   "source": [
    "### `raptor_sci`\n",
    "\n",
    "##### So far I have been able to gather the following families;\n",
    "\n",
    "Sourced; \"According to OpenAI's language model ChatGPT(2023) [birds_of_prey_sci]\"\n",
    "\n",
    "- Accipitridae (Hawks, Eagles, and relatives)\n",
    "- Falconidae (Falcons)\n",
    "- Harpagiidae (Harriers)\n",
    "- Pandionidae (Ospreys)\n",
    "- Accipitridae (Kites)\n",
    "- Cathartidae (New World Vultures)\n",
    "- Buteo (Buzzards and Buteos)\n",
    "- Accipiter (Goshawks and Accipiters)\n",
    "- Tytonidae (Barn Owls)\n",
    "- Strigidae (Typical Owls)\n",
    "\n",
    "*Caveat emptor*, this list may not be comprehensive"
   ],
   "metadata": {
    "collapsed": false
   }
  },
  {
   "cell_type": "code",
   "execution_count": 595,
   "outputs": [],
   "source": [
    "birds_of_prey_sci = [\"Accipitridae\", \"Falconidae\", \"Harpagiidae\", \"Pandionidae\", \"Cathartidae\", \"Buteo\", \"Accipiter\", \"Tytonidae\", \"Strigidae\"]"
   ],
   "metadata": {
    "collapsed": false
   }
  },
  {
   "cell_type": "code",
   "execution_count": 596,
   "outputs": [],
   "source": [
    "sw_birds['raptor_sci_fam'] = sw_birds.family.str.findall('({0})'.format('|'.join(birds_of_prey_sci)))\n",
    "sw_birds['raptor_sci_fam'] = sw_birds['raptor_sci_fam'].apply('. '.join)"
   ],
   "metadata": {
    "collapsed": false
   }
  },
  {
   "cell_type": "code",
   "execution_count": 597,
   "outputs": [
    {
     "name": "stdout",
     "output_type": "stream",
     "text": [
      "Under scientific family:\n",
      "We have a total of 729 Raptors\n",
      "\n",
      "['Accipitridae', 'Cathartidae', 'Pandionidae', '', 'Falconidae', 'Strigidae', 'Tytonidae']\n"
     ]
    }
   ],
   "source": [
    "total_raptors_sci = sw_birds['raptor_sci_fam'].loc[sw_birds['raptor_sci_fam'] != ''].count()\n",
    "print(f\"Under scientific family:\\nWe have a total of {total_raptors_sci} Raptors\\n\")\n",
    "diff_sci_types = sw_birds.raptor_sci_fam.unique().tolist()\n",
    "print(diff_sci_types)"
   ],
   "metadata": {
    "collapsed": false
   }
  },
  {
   "cell_type": "markdown",
   "source": [
    "The lists `diff_com_types` and `diff_sci_types` are  $\\neq$"
   ],
   "metadata": {
    "collapsed": false
   }
  },
  {
   "cell_type": "code",
   "execution_count": 598,
   "outputs": [
    {
     "data": {
      "text/plain": "      species_id                   park_name            order        family  \\\n42081  GRCA-1106  Grand Canyon National Park  Accipitriformes  Accipitridae   \n42082  GRCA-1107  Grand Canyon National Park  Accipitriformes  Accipitridae   \n42083  GRCA-1108  Grand Canyon National Park  Accipitriformes  Accipitridae   \n42084  GRCA-1109  Grand Canyon National Park  Accipitriformes  Accipitridae   \n42085  GRCA-1110  Grand Canyon National Park  Accipitriformes  Accipitridae   \n\n          scientific_name        common_names conservation_status  protected  \\\n42081  Accipiter cooperii       Cooper's Hawk  Species of Concern       True   \n42082  Accipiter gentilis    Northern Goshawk       Least Concern      False   \n42083  Accipiter striatus  Sharp-Shinned Hawk  Species of Concern       True   \n42084   Aquila chrysaetos        Golden Eagle  Species of Concern       True   \n42085   Buteo albonotatus    Zone-Tailed Hawk       Least Concern      False   \n\n      raptor_common raptor_sci_fam  \n42081          Hawk   Accipitridae  \n42082                 Accipitridae  \n42083          Hawk   Accipitridae  \n42084         Eagle   Accipitridae  \n42085          Hawk   Accipitridae  ",
      "text/html": "<div>\n<style scoped>\n    .dataframe tbody tr th:only-of-type {\n        vertical-align: middle;\n    }\n\n    .dataframe tbody tr th {\n        vertical-align: top;\n    }\n\n    .dataframe thead th {\n        text-align: right;\n    }\n</style>\n<table border=\"1\" class=\"dataframe\">\n  <thead>\n    <tr style=\"text-align: right;\">\n      <th></th>\n      <th>species_id</th>\n      <th>park_name</th>\n      <th>order</th>\n      <th>family</th>\n      <th>scientific_name</th>\n      <th>common_names</th>\n      <th>conservation_status</th>\n      <th>protected</th>\n      <th>raptor_common</th>\n      <th>raptor_sci_fam</th>\n    </tr>\n  </thead>\n  <tbody>\n    <tr>\n      <th>42081</th>\n      <td>GRCA-1106</td>\n      <td>Grand Canyon National Park</td>\n      <td>Accipitriformes</td>\n      <td>Accipitridae</td>\n      <td>Accipiter cooperii</td>\n      <td>Cooper's Hawk</td>\n      <td>Species of Concern</td>\n      <td>True</td>\n      <td>Hawk</td>\n      <td>Accipitridae</td>\n    </tr>\n    <tr>\n      <th>42082</th>\n      <td>GRCA-1107</td>\n      <td>Grand Canyon National Park</td>\n      <td>Accipitriformes</td>\n      <td>Accipitridae</td>\n      <td>Accipiter gentilis</td>\n      <td>Northern Goshawk</td>\n      <td>Least Concern</td>\n      <td>False</td>\n      <td></td>\n      <td>Accipitridae</td>\n    </tr>\n    <tr>\n      <th>42083</th>\n      <td>GRCA-1108</td>\n      <td>Grand Canyon National Park</td>\n      <td>Accipitriformes</td>\n      <td>Accipitridae</td>\n      <td>Accipiter striatus</td>\n      <td>Sharp-Shinned Hawk</td>\n      <td>Species of Concern</td>\n      <td>True</td>\n      <td>Hawk</td>\n      <td>Accipitridae</td>\n    </tr>\n    <tr>\n      <th>42084</th>\n      <td>GRCA-1109</td>\n      <td>Grand Canyon National Park</td>\n      <td>Accipitriformes</td>\n      <td>Accipitridae</td>\n      <td>Aquila chrysaetos</td>\n      <td>Golden Eagle</td>\n      <td>Species of Concern</td>\n      <td>True</td>\n      <td>Eagle</td>\n      <td>Accipitridae</td>\n    </tr>\n    <tr>\n      <th>42085</th>\n      <td>GRCA-1110</td>\n      <td>Grand Canyon National Park</td>\n      <td>Accipitriformes</td>\n      <td>Accipitridae</td>\n      <td>Buteo albonotatus</td>\n      <td>Zone-Tailed Hawk</td>\n      <td>Least Concern</td>\n      <td>False</td>\n      <td>Hawk</td>\n      <td>Accipitridae</td>\n    </tr>\n  </tbody>\n</table>\n</div>"
     },
     "execution_count": 598,
     "metadata": {},
     "output_type": "execute_result"
    }
   ],
   "source": [
    "sw_birds.head()"
   ],
   "metadata": {
    "collapsed": false
   }
  },
  {
   "cell_type": "code",
   "execution_count": 599,
   "outputs": [
    {
     "name": "stdout",
     "output_type": "stream",
     "text": [
      "(731, 10)\n"
     ]
    }
   ],
   "source": [
    "raptors_df = (sw_birds[(sw_birds.raptor_common != '')\n",
    "                                | (sw_birds.raptor_sci_fam != '')])\n",
    "print(raptors_df.shape)"
   ],
   "metadata": {
    "collapsed": false
   }
  },
  {
   "cell_type": "code",
   "execution_count": 600,
   "outputs": [
    {
     "data": {
      "text/plain": "       species_id                       park_name            order  \\\n42082   GRCA-1107      Grand Canyon National Park  Accipitriformes   \n42198   GRCA-1223      Grand Canyon National Park    Falconiformes   \n42199   GRCA-1224      Grand Canyon National Park    Falconiformes   \n85437   PEFO-1063  Petrified Forest National Park  Accipitriformes   \n85500   PEFO-1126  Petrified Forest National Park    Falconiformes   \n...           ...                             ...              ...   \n10667   CANY-1134       Canyonlands National Park    Falconiformes   \n11830   CARE-1074      Capitol Reef National Park  Accipitriformes   \n11891   CARE-1135      Capitol Reef National Park    Falconiformes   \n117534  ZION-1082              Zion National Park  Accipitriformes   \n117632  ZION-1180              Zion National Park    Falconiformes   \n\n              family                scientific_name      common_names  \\\n42082   Accipitridae             Accipiter gentilis  Northern Goshawk   \n42198     Falconidae              Falco columbarius            Merlin   \n42199     Falconidae  Falco columbarius columbarius            Merlin   \n85437   Accipitridae             Accipiter gentilis  Northern Goshawk   \n85500     Falconidae              Falco columbarius            Merlin   \n...              ...                            ...               ...   \n10667     Falconidae              Falco columbarius            Merlin   \n11830   Accipitridae             Accipiter gentilis  Northern Goshawk   \n11891     Falconidae              Falco columbarius            Merlin   \n117534  Accipitridae             Accipiter gentilis  Northern Goshawk   \n117632    Falconidae              Falco columbarius            Merlin   \n\n       conservation_status  protected raptor_common raptor_sci_fam ambiguous  \n42082        Least Concern      False                 Accipitridae      True  \n42198   Species of Concern       True                   Falconidae      True  \n42199        Least Concern      False                   Falconidae      True  \n85437        Least Concern      False                 Accipitridae      True  \n85500   Species of Concern       True                   Falconidae      True  \n...                    ...        ...           ...            ...       ...  \n10667   Species of Concern       True                   Falconidae      True  \n11830        Least Concern      False                 Accipitridae      True  \n11891   Species of Concern       True                   Falconidae      True  \n117534       Least Concern      False                 Accipitridae      True  \n117632  Species of Concern       True                   Falconidae      True  \n\n[66 rows x 11 columns]",
      "text/html": "<div>\n<style scoped>\n    .dataframe tbody tr th:only-of-type {\n        vertical-align: middle;\n    }\n\n    .dataframe tbody tr th {\n        vertical-align: top;\n    }\n\n    .dataframe thead th {\n        text-align: right;\n    }\n</style>\n<table border=\"1\" class=\"dataframe\">\n  <thead>\n    <tr style=\"text-align: right;\">\n      <th></th>\n      <th>species_id</th>\n      <th>park_name</th>\n      <th>order</th>\n      <th>family</th>\n      <th>scientific_name</th>\n      <th>common_names</th>\n      <th>conservation_status</th>\n      <th>protected</th>\n      <th>raptor_common</th>\n      <th>raptor_sci_fam</th>\n      <th>ambiguous</th>\n    </tr>\n  </thead>\n  <tbody>\n    <tr>\n      <th>42082</th>\n      <td>GRCA-1107</td>\n      <td>Grand Canyon National Park</td>\n      <td>Accipitriformes</td>\n      <td>Accipitridae</td>\n      <td>Accipiter gentilis</td>\n      <td>Northern Goshawk</td>\n      <td>Least Concern</td>\n      <td>False</td>\n      <td></td>\n      <td>Accipitridae</td>\n      <td>True</td>\n    </tr>\n    <tr>\n      <th>42198</th>\n      <td>GRCA-1223</td>\n      <td>Grand Canyon National Park</td>\n      <td>Falconiformes</td>\n      <td>Falconidae</td>\n      <td>Falco columbarius</td>\n      <td>Merlin</td>\n      <td>Species of Concern</td>\n      <td>True</td>\n      <td></td>\n      <td>Falconidae</td>\n      <td>True</td>\n    </tr>\n    <tr>\n      <th>42199</th>\n      <td>GRCA-1224</td>\n      <td>Grand Canyon National Park</td>\n      <td>Falconiformes</td>\n      <td>Falconidae</td>\n      <td>Falco columbarius columbarius</td>\n      <td>Merlin</td>\n      <td>Least Concern</td>\n      <td>False</td>\n      <td></td>\n      <td>Falconidae</td>\n      <td>True</td>\n    </tr>\n    <tr>\n      <th>85437</th>\n      <td>PEFO-1063</td>\n      <td>Petrified Forest National Park</td>\n      <td>Accipitriformes</td>\n      <td>Accipitridae</td>\n      <td>Accipiter gentilis</td>\n      <td>Northern Goshawk</td>\n      <td>Least Concern</td>\n      <td>False</td>\n      <td></td>\n      <td>Accipitridae</td>\n      <td>True</td>\n    </tr>\n    <tr>\n      <th>85500</th>\n      <td>PEFO-1126</td>\n      <td>Petrified Forest National Park</td>\n      <td>Falconiformes</td>\n      <td>Falconidae</td>\n      <td>Falco columbarius</td>\n      <td>Merlin</td>\n      <td>Species of Concern</td>\n      <td>True</td>\n      <td></td>\n      <td>Falconidae</td>\n      <td>True</td>\n    </tr>\n    <tr>\n      <th>...</th>\n      <td>...</td>\n      <td>...</td>\n      <td>...</td>\n      <td>...</td>\n      <td>...</td>\n      <td>...</td>\n      <td>...</td>\n      <td>...</td>\n      <td>...</td>\n      <td>...</td>\n      <td>...</td>\n    </tr>\n    <tr>\n      <th>10667</th>\n      <td>CANY-1134</td>\n      <td>Canyonlands National Park</td>\n      <td>Falconiformes</td>\n      <td>Falconidae</td>\n      <td>Falco columbarius</td>\n      <td>Merlin</td>\n      <td>Species of Concern</td>\n      <td>True</td>\n      <td></td>\n      <td>Falconidae</td>\n      <td>True</td>\n    </tr>\n    <tr>\n      <th>11830</th>\n      <td>CARE-1074</td>\n      <td>Capitol Reef National Park</td>\n      <td>Accipitriformes</td>\n      <td>Accipitridae</td>\n      <td>Accipiter gentilis</td>\n      <td>Northern Goshawk</td>\n      <td>Least Concern</td>\n      <td>False</td>\n      <td></td>\n      <td>Accipitridae</td>\n      <td>True</td>\n    </tr>\n    <tr>\n      <th>11891</th>\n      <td>CARE-1135</td>\n      <td>Capitol Reef National Park</td>\n      <td>Falconiformes</td>\n      <td>Falconidae</td>\n      <td>Falco columbarius</td>\n      <td>Merlin</td>\n      <td>Species of Concern</td>\n      <td>True</td>\n      <td></td>\n      <td>Falconidae</td>\n      <td>True</td>\n    </tr>\n    <tr>\n      <th>117534</th>\n      <td>ZION-1082</td>\n      <td>Zion National Park</td>\n      <td>Accipitriformes</td>\n      <td>Accipitridae</td>\n      <td>Accipiter gentilis</td>\n      <td>Northern Goshawk</td>\n      <td>Least Concern</td>\n      <td>False</td>\n      <td></td>\n      <td>Accipitridae</td>\n      <td>True</td>\n    </tr>\n    <tr>\n      <th>117632</th>\n      <td>ZION-1180</td>\n      <td>Zion National Park</td>\n      <td>Falconiformes</td>\n      <td>Falconidae</td>\n      <td>Falco columbarius</td>\n      <td>Merlin</td>\n      <td>Species of Concern</td>\n      <td>True</td>\n      <td></td>\n      <td>Falconidae</td>\n      <td>True</td>\n    </tr>\n  </tbody>\n</table>\n<p>66 rows × 11 columns</p>\n</div>"
     },
     "execution_count": 600,
     "metadata": {},
     "output_type": "execute_result"
    }
   ],
   "source": [
    "# copy() is used to make an explicit copy of the original DataFrame. We work with a copy of the original DataFrame and not a view of it\n",
    "\n",
    "raptors_df = raptors_df.copy()\n",
    "mask = raptors_df['raptor_common'] == ''\n",
    "raptors_df.loc[mask, 'ambiguous'] = True\n",
    "result = raptors_df[raptors_df['ambiguous'] == True]\n",
    "result"
   ],
   "metadata": {
    "collapsed": false
   }
  },
  {
   "cell_type": "markdown",
   "source": [
    "#### We have already discovered the 'Merlin' is a Falcon. The 'Northern Goshawk' is a [Hawk](https://en.wikipedia.org/wiki/Northern_goshawk)\n",
    "\n",
    "- Manually assign \"Hawk\", \"Falcon\" to `raptor_common` for these birds in `sw_birds`\n"
   ],
   "metadata": {
    "collapsed": false
   }
  },
  {
   "cell_type": "code",
   "execution_count": 601,
   "outputs": [],
   "source": [
    "sw_birds.loc[sw_birds['common_names'] == 'Northern Goshawk', 'raptor_common'] = 'Hawk'\n",
    "sw_birds.loc[sw_birds['common_names'] == 'Merlin', 'raptor_common'] = 'Falcon'"
   ],
   "metadata": {
    "collapsed": false
   }
  },
  {
   "cell_type": "code",
   "execution_count": 602,
   "outputs": [
    {
     "data": {
      "text/plain": "      species_id                                    park_name  \\\n26308  DEVA-1223                   Death Valley National Park   \n26320  DEVA-1235                   Death Valley National Park   \n26456  DEVA-1371                   Death Valley National Park   \n26459  DEVA-1374                   Death Valley National Park   \n26808  DEVA-1723                   Death Valley National Park   \n26814  DEVA-1729                   Death Valley National Park   \n26817  DEVA-1732                   Death Valley National Park   \n26820  DEVA-1735                   Death Valley National Park   \n86453  PINN-1226                      Pinnacles National Park   \n87807  REDW-1165                        Redwood National Park   \n87810  REDW-1168                        Redwood National Park   \n87990  REDW-1348                        Redwood National Park   \n87991  REDW-1349                        Redwood National Park   \n87992  REDW-1350                        Redwood National Park   \n87993  REDW-1351                        Redwood National Park   \n87998  REDW-1356                        Redwood National Park   \n99085  SEKI-1146      Sequoia and Kings Canyon National Parks   \n44666  GRSA-1069  Great Sand Dunes National Park and Preserve   \n39752  GRBA-1430                    Great Basin National Park   \n\n                 order        family                 scientific_name  \\\n26308  Accipitriformes  Accipitridae          Buteo lineatus elegans   \n26320  Accipitriformes   Cathartidae     Pseudogryphus californianus   \n26456    Falconiformes    Falconidae  Falco columbarius richardsonii   \n26459    Falconiformes    Falconidae                Falco rusticolus   \n26808     Strigiformes     Strigidae     Athene cunicularia hypugaea   \n26814     Strigiformes     Strigidae         Megascops asio bendirei   \n26817     Strigiformes     Strigidae             Otus asio inyoensis   \n26820     Strigiformes     Strigidae             Syrnium occidentale   \n86453     Strigiformes     Strigidae         Glaucidium californicum   \n87807  Accipitriformes  Accipitridae       Buteo jamaicensis harlani   \n87810  Accipitriformes  Accipitridae          Buteo lineatus elegans   \n87990    Falconiformes    Falconidae      Falco columbarius bendirei   \n87991    Falconiformes    Falconidae   Falco columbarius columbarius   \n87992    Falconiformes    Falconidae   Falco columbarius richardsoni   \n87993    Falconiformes    Falconidae      Falco columbarius suckleyi   \n87998    Falconiformes    Falconidae         Falco peregrinus pealei   \n99085    Falconiformes    Falconidae                Falco rusticolus   \n44666  Accipitriformes  Accipitridae              Accipiter gentilis   \n39752     Strigiformes     Strigidae            Speotyto cunicularia   \n\n      common_names conservation_status  protected raptor_common  \\\n26308         None       Least Concern      False                 \n26320         None       Least Concern      False                 \n26456         None       Least Concern      False                 \n26459    Gyrfalcon       Least Concern      False                 \n26808         None  Species of Concern       True                 \n26814         None       Least Concern      False                 \n26817         None       Least Concern      False                 \n26820         None       Least Concern      False                 \n86453         None       Least Concern      False                 \n87807         None       Least Concern      False                 \n87810         None       Least Concern      False                 \n87990         None       Least Concern      False                 \n87991         None       Least Concern      False                 \n87992         None       Least Concern      False                 \n87993         None       Least Concern      False                 \n87998         None       Least Concern      False                 \n99085    Gyrfalcon       Least Concern      False                 \n44666      Goshawk       Least Concern      False                 \n39752         None       Least Concern      False                 \n\n      raptor_sci_fam ambiguous  \n26308   Accipitridae      True  \n26320    Cathartidae      True  \n26456     Falconidae      True  \n26459     Falconidae      True  \n26808      Strigidae      True  \n26814      Strigidae      True  \n26817      Strigidae      True  \n26820      Strigidae      True  \n86453      Strigidae      True  \n87807   Accipitridae      True  \n87810   Accipitridae      True  \n87990     Falconidae      True  \n87991     Falconidae      True  \n87992     Falconidae      True  \n87993     Falconidae      True  \n87998     Falconidae      True  \n99085     Falconidae      True  \n44666   Accipitridae      True  \n39752      Strigidae      True  ",
      "text/html": "<div>\n<style scoped>\n    .dataframe tbody tr th:only-of-type {\n        vertical-align: middle;\n    }\n\n    .dataframe tbody tr th {\n        vertical-align: top;\n    }\n\n    .dataframe thead th {\n        text-align: right;\n    }\n</style>\n<table border=\"1\" class=\"dataframe\">\n  <thead>\n    <tr style=\"text-align: right;\">\n      <th></th>\n      <th>species_id</th>\n      <th>park_name</th>\n      <th>order</th>\n      <th>family</th>\n      <th>scientific_name</th>\n      <th>common_names</th>\n      <th>conservation_status</th>\n      <th>protected</th>\n      <th>raptor_common</th>\n      <th>raptor_sci_fam</th>\n      <th>ambiguous</th>\n    </tr>\n  </thead>\n  <tbody>\n    <tr>\n      <th>26308</th>\n      <td>DEVA-1223</td>\n      <td>Death Valley National Park</td>\n      <td>Accipitriformes</td>\n      <td>Accipitridae</td>\n      <td>Buteo lineatus elegans</td>\n      <td>None</td>\n      <td>Least Concern</td>\n      <td>False</td>\n      <td></td>\n      <td>Accipitridae</td>\n      <td>True</td>\n    </tr>\n    <tr>\n      <th>26320</th>\n      <td>DEVA-1235</td>\n      <td>Death Valley National Park</td>\n      <td>Accipitriformes</td>\n      <td>Cathartidae</td>\n      <td>Pseudogryphus californianus</td>\n      <td>None</td>\n      <td>Least Concern</td>\n      <td>False</td>\n      <td></td>\n      <td>Cathartidae</td>\n      <td>True</td>\n    </tr>\n    <tr>\n      <th>26456</th>\n      <td>DEVA-1371</td>\n      <td>Death Valley National Park</td>\n      <td>Falconiformes</td>\n      <td>Falconidae</td>\n      <td>Falco columbarius richardsonii</td>\n      <td>None</td>\n      <td>Least Concern</td>\n      <td>False</td>\n      <td></td>\n      <td>Falconidae</td>\n      <td>True</td>\n    </tr>\n    <tr>\n      <th>26459</th>\n      <td>DEVA-1374</td>\n      <td>Death Valley National Park</td>\n      <td>Falconiformes</td>\n      <td>Falconidae</td>\n      <td>Falco rusticolus</td>\n      <td>Gyrfalcon</td>\n      <td>Least Concern</td>\n      <td>False</td>\n      <td></td>\n      <td>Falconidae</td>\n      <td>True</td>\n    </tr>\n    <tr>\n      <th>26808</th>\n      <td>DEVA-1723</td>\n      <td>Death Valley National Park</td>\n      <td>Strigiformes</td>\n      <td>Strigidae</td>\n      <td>Athene cunicularia hypugaea</td>\n      <td>None</td>\n      <td>Species of Concern</td>\n      <td>True</td>\n      <td></td>\n      <td>Strigidae</td>\n      <td>True</td>\n    </tr>\n    <tr>\n      <th>26814</th>\n      <td>DEVA-1729</td>\n      <td>Death Valley National Park</td>\n      <td>Strigiformes</td>\n      <td>Strigidae</td>\n      <td>Megascops asio bendirei</td>\n      <td>None</td>\n      <td>Least Concern</td>\n      <td>False</td>\n      <td></td>\n      <td>Strigidae</td>\n      <td>True</td>\n    </tr>\n    <tr>\n      <th>26817</th>\n      <td>DEVA-1732</td>\n      <td>Death Valley National Park</td>\n      <td>Strigiformes</td>\n      <td>Strigidae</td>\n      <td>Otus asio inyoensis</td>\n      <td>None</td>\n      <td>Least Concern</td>\n      <td>False</td>\n      <td></td>\n      <td>Strigidae</td>\n      <td>True</td>\n    </tr>\n    <tr>\n      <th>26820</th>\n      <td>DEVA-1735</td>\n      <td>Death Valley National Park</td>\n      <td>Strigiformes</td>\n      <td>Strigidae</td>\n      <td>Syrnium occidentale</td>\n      <td>None</td>\n      <td>Least Concern</td>\n      <td>False</td>\n      <td></td>\n      <td>Strigidae</td>\n      <td>True</td>\n    </tr>\n    <tr>\n      <th>86453</th>\n      <td>PINN-1226</td>\n      <td>Pinnacles National Park</td>\n      <td>Strigiformes</td>\n      <td>Strigidae</td>\n      <td>Glaucidium californicum</td>\n      <td>None</td>\n      <td>Least Concern</td>\n      <td>False</td>\n      <td></td>\n      <td>Strigidae</td>\n      <td>True</td>\n    </tr>\n    <tr>\n      <th>87807</th>\n      <td>REDW-1165</td>\n      <td>Redwood National Park</td>\n      <td>Accipitriformes</td>\n      <td>Accipitridae</td>\n      <td>Buteo jamaicensis harlani</td>\n      <td>None</td>\n      <td>Least Concern</td>\n      <td>False</td>\n      <td></td>\n      <td>Accipitridae</td>\n      <td>True</td>\n    </tr>\n    <tr>\n      <th>87810</th>\n      <td>REDW-1168</td>\n      <td>Redwood National Park</td>\n      <td>Accipitriformes</td>\n      <td>Accipitridae</td>\n      <td>Buteo lineatus elegans</td>\n      <td>None</td>\n      <td>Least Concern</td>\n      <td>False</td>\n      <td></td>\n      <td>Accipitridae</td>\n      <td>True</td>\n    </tr>\n    <tr>\n      <th>87990</th>\n      <td>REDW-1348</td>\n      <td>Redwood National Park</td>\n      <td>Falconiformes</td>\n      <td>Falconidae</td>\n      <td>Falco columbarius bendirei</td>\n      <td>None</td>\n      <td>Least Concern</td>\n      <td>False</td>\n      <td></td>\n      <td>Falconidae</td>\n      <td>True</td>\n    </tr>\n    <tr>\n      <th>87991</th>\n      <td>REDW-1349</td>\n      <td>Redwood National Park</td>\n      <td>Falconiformes</td>\n      <td>Falconidae</td>\n      <td>Falco columbarius columbarius</td>\n      <td>None</td>\n      <td>Least Concern</td>\n      <td>False</td>\n      <td></td>\n      <td>Falconidae</td>\n      <td>True</td>\n    </tr>\n    <tr>\n      <th>87992</th>\n      <td>REDW-1350</td>\n      <td>Redwood National Park</td>\n      <td>Falconiformes</td>\n      <td>Falconidae</td>\n      <td>Falco columbarius richardsoni</td>\n      <td>None</td>\n      <td>Least Concern</td>\n      <td>False</td>\n      <td></td>\n      <td>Falconidae</td>\n      <td>True</td>\n    </tr>\n    <tr>\n      <th>87993</th>\n      <td>REDW-1351</td>\n      <td>Redwood National Park</td>\n      <td>Falconiformes</td>\n      <td>Falconidae</td>\n      <td>Falco columbarius suckleyi</td>\n      <td>None</td>\n      <td>Least Concern</td>\n      <td>False</td>\n      <td></td>\n      <td>Falconidae</td>\n      <td>True</td>\n    </tr>\n    <tr>\n      <th>87998</th>\n      <td>REDW-1356</td>\n      <td>Redwood National Park</td>\n      <td>Falconiformes</td>\n      <td>Falconidae</td>\n      <td>Falco peregrinus pealei</td>\n      <td>None</td>\n      <td>Least Concern</td>\n      <td>False</td>\n      <td></td>\n      <td>Falconidae</td>\n      <td>True</td>\n    </tr>\n    <tr>\n      <th>99085</th>\n      <td>SEKI-1146</td>\n      <td>Sequoia and Kings Canyon National Parks</td>\n      <td>Falconiformes</td>\n      <td>Falconidae</td>\n      <td>Falco rusticolus</td>\n      <td>Gyrfalcon</td>\n      <td>Least Concern</td>\n      <td>False</td>\n      <td></td>\n      <td>Falconidae</td>\n      <td>True</td>\n    </tr>\n    <tr>\n      <th>44666</th>\n      <td>GRSA-1069</td>\n      <td>Great Sand Dunes National Park and Preserve</td>\n      <td>Accipitriformes</td>\n      <td>Accipitridae</td>\n      <td>Accipiter gentilis</td>\n      <td>Goshawk</td>\n      <td>Least Concern</td>\n      <td>False</td>\n      <td></td>\n      <td>Accipitridae</td>\n      <td>True</td>\n    </tr>\n    <tr>\n      <th>39752</th>\n      <td>GRBA-1430</td>\n      <td>Great Basin National Park</td>\n      <td>Strigiformes</td>\n      <td>Strigidae</td>\n      <td>Speotyto cunicularia</td>\n      <td>None</td>\n      <td>Least Concern</td>\n      <td>False</td>\n      <td></td>\n      <td>Strigidae</td>\n      <td>True</td>\n    </tr>\n  </tbody>\n</table>\n</div>"
     },
     "execution_count": 602,
     "metadata": {},
     "output_type": "execute_result"
    }
   ],
   "source": [
    "raptors_df_2 = sw_birds[(sw_birds.raptor_common != '') | (sw_birds.raptor_sci_fam != '')].copy()\n",
    "mask = raptors_df_2['raptor_common'] == ''\n",
    "raptors_df_2.loc[mask, 'ambiguous'] = True\n",
    "result2 = raptors_df_2[raptors_df_2['ambiguous'] == True]\n",
    "result2"
   ],
   "metadata": {
    "collapsed": false
   }
  },
  {
   "cell_type": "markdown",
   "source": [
    "- The 'Gyrfalcon' is a [Falcon](https://en.wikipedia.org/wiki/Gyrfalcon) which will be assigned manually to `raptor_common` index[99085]\n",
    "\n",
    "Will operate in `sw_birds`"
   ],
   "metadata": {
    "collapsed": false
   }
  },
  {
   "cell_type": "code",
   "execution_count": 603,
   "outputs": [],
   "source": [
    "# Gyrfalcon\n",
    "sw_birds.loc[26459, 'raptor_common'] = 'Falcon'\n",
    "sw_birds.loc[99085, 'raptor_common'] = 'Falcon'"
   ],
   "metadata": {
    "collapsed": false
   }
  },
  {
   "cell_type": "code",
   "execution_count": 604,
   "outputs": [
    {
     "data": {
      "text/plain": "species_id                              DEVA-1374\npark_name              Death Valley National Park\norder                               Falconiformes\nfamily                                 Falconidae\nscientific_name                  Falco rusticolus\ncommon_names                            Gyrfalcon\nconservation_status                 Least Concern\nprotected                                   False\nraptor_common                              Falcon\nraptor_sci_fam                         Falconidae\nName: 26459, dtype: object"
     },
     "execution_count": 604,
     "metadata": {},
     "output_type": "execute_result"
    }
   ],
   "source": [
    "sw_birds.loc[26459]"
   ],
   "metadata": {
    "collapsed": false
   }
  },
  {
   "cell_type": "code",
   "execution_count": 605,
   "outputs": [
    {
     "data": {
      "text/plain": "species_id                                           SEKI-1146\npark_name              Sequoia and Kings Canyon National Parks\norder                                            Falconiformes\nfamily                                              Falconidae\nscientific_name                               Falco rusticolus\ncommon_names                                         Gyrfalcon\nconservation_status                              Least Concern\nprotected                                                False\nraptor_common                                           Falcon\nraptor_sci_fam                                      Falconidae\nName: 99085, dtype: object"
     },
     "execution_count": 605,
     "metadata": {},
     "output_type": "execute_result"
    }
   ],
   "source": [
    "sw_birds.loc[99085]"
   ],
   "metadata": {
    "collapsed": false
   }
  },
  {
   "cell_type": "markdown",
   "source": [
    "We also assign a `raptor_common` to Hawk"
   ],
   "metadata": {
    "collapsed": false
   }
  },
  {
   "cell_type": "code",
   "execution_count": 606,
   "outputs": [],
   "source": [
    "sw_birds.loc[sw_birds['common_names'] == 'Goshawk', 'raptor_common'] = 'Hawk'"
   ],
   "metadata": {
    "collapsed": false
   }
  },
  {
   "cell_type": "markdown",
   "source": [
    "How many raptors in Redwood?"
   ],
   "metadata": {
    "collapsed": false
   }
  },
  {
   "cell_type": "code",
   "execution_count": 607,
   "outputs": [
    {
     "name": "stdout",
     "output_type": "stream",
     "text": [
      "(38, 10)\n"
     ]
    }
   ],
   "source": [
    "redwood_raptors = (sw_birds[(sw_birds.park_name == \"Redwood National Park\")\n",
    "                       & (sw_birds.raptor_common != '')])\n",
    "print(redwood_raptors.shape)"
   ],
   "metadata": {
    "collapsed": false
   }
  },
  {
   "cell_type": "markdown",
   "source": [
    "How many raptors in Death Valley?"
   ],
   "metadata": {
    "collapsed": false
   }
  },
  {
   "cell_type": "code",
   "execution_count": 608,
   "outputs": [
    {
     "name": "stdout",
     "output_type": "stream",
     "text": [
      "(40, 10)\n"
     ]
    }
   ],
   "source": [
    "death_vall_raptors = (sw_birds[(sw_birds.park_name == \"Death Valley National Park\")\n",
    "                       & (sw_birds.raptor_common != '')])\n",
    "print(death_vall_raptors.shape)"
   ],
   "metadata": {
    "collapsed": false
   }
  },
  {
   "cell_type": "markdown",
   "source": [
    "Most non-assigned `raptor_common` $=$ \"empty string\" were in 'Redwood National Park' & 'Death Valley National Park'\n",
    "- There's enough variety to justify deleting entries with no `common_names` in `raptor_df_2`\n",
    "- Could have searched and assigned `common_names` manually but this is already a lot of work."
   ],
   "metadata": {
    "collapsed": false
   }
  },
  {
   "cell_type": "markdown",
   "source": [
    "These are the ones we need to delete from `sw_birds`"
   ],
   "metadata": {
    "collapsed": false
   }
  },
  {
   "cell_type": "code",
   "execution_count": 609,
   "outputs": [
    {
     "name": "stderr",
     "output_type": "stream",
     "text": [
      "/var/folders/s9/z74lxq2n7d9ct45y9_ffymd00000gn/T/ipykernel_5180/3937105362.py:4: UserWarning: Boolean Series key will be reindexed to match DataFrame index.\n",
      "  result3 = raptors_df_3[raptors_df_2['ambiguous'] == True]\n"
     ]
    },
    {
     "data": {
      "text/plain": "      species_id                   park_name            order        family  \\\n26308  DEVA-1223  Death Valley National Park  Accipitriformes  Accipitridae   \n26320  DEVA-1235  Death Valley National Park  Accipitriformes   Cathartidae   \n26456  DEVA-1371  Death Valley National Park    Falconiformes    Falconidae   \n26808  DEVA-1723  Death Valley National Park     Strigiformes     Strigidae   \n26814  DEVA-1729  Death Valley National Park     Strigiformes     Strigidae   \n26817  DEVA-1732  Death Valley National Park     Strigiformes     Strigidae   \n26820  DEVA-1735  Death Valley National Park     Strigiformes     Strigidae   \n86453  PINN-1226     Pinnacles National Park     Strigiformes     Strigidae   \n87807  REDW-1165       Redwood National Park  Accipitriformes  Accipitridae   \n87810  REDW-1168       Redwood National Park  Accipitriformes  Accipitridae   \n87990  REDW-1348       Redwood National Park    Falconiformes    Falconidae   \n87991  REDW-1349       Redwood National Park    Falconiformes    Falconidae   \n87992  REDW-1350       Redwood National Park    Falconiformes    Falconidae   \n87993  REDW-1351       Redwood National Park    Falconiformes    Falconidae   \n87998  REDW-1356       Redwood National Park    Falconiformes    Falconidae   \n39752  GRBA-1430   Great Basin National Park     Strigiformes     Strigidae   \n\n                      scientific_name common_names conservation_status  \\\n26308          Buteo lineatus elegans         None       Least Concern   \n26320     Pseudogryphus californianus         None       Least Concern   \n26456  Falco columbarius richardsonii         None       Least Concern   \n26808     Athene cunicularia hypugaea         None  Species of Concern   \n26814         Megascops asio bendirei         None       Least Concern   \n26817             Otus asio inyoensis         None       Least Concern   \n26820             Syrnium occidentale         None       Least Concern   \n86453         Glaucidium californicum         None       Least Concern   \n87807       Buteo jamaicensis harlani         None       Least Concern   \n87810          Buteo lineatus elegans         None       Least Concern   \n87990      Falco columbarius bendirei         None       Least Concern   \n87991   Falco columbarius columbarius         None       Least Concern   \n87992   Falco columbarius richardsoni         None       Least Concern   \n87993      Falco columbarius suckleyi         None       Least Concern   \n87998         Falco peregrinus pealei         None       Least Concern   \n39752            Speotyto cunicularia         None       Least Concern   \n\n       protected raptor_common raptor_sci_fam ambiguous  \n26308      False                 Accipitridae      True  \n26320      False                  Cathartidae      True  \n26456      False                   Falconidae      True  \n26808       True                    Strigidae      True  \n26814      False                    Strigidae      True  \n26817      False                    Strigidae      True  \n26820      False                    Strigidae      True  \n86453      False                    Strigidae      True  \n87807      False                 Accipitridae      True  \n87810      False                 Accipitridae      True  \n87990      False                   Falconidae      True  \n87991      False                   Falconidae      True  \n87992      False                   Falconidae      True  \n87993      False                   Falconidae      True  \n87998      False                   Falconidae      True  \n39752      False                    Strigidae      True  ",
      "text/html": "<div>\n<style scoped>\n    .dataframe tbody tr th:only-of-type {\n        vertical-align: middle;\n    }\n\n    .dataframe tbody tr th {\n        vertical-align: top;\n    }\n\n    .dataframe thead th {\n        text-align: right;\n    }\n</style>\n<table border=\"1\" class=\"dataframe\">\n  <thead>\n    <tr style=\"text-align: right;\">\n      <th></th>\n      <th>species_id</th>\n      <th>park_name</th>\n      <th>order</th>\n      <th>family</th>\n      <th>scientific_name</th>\n      <th>common_names</th>\n      <th>conservation_status</th>\n      <th>protected</th>\n      <th>raptor_common</th>\n      <th>raptor_sci_fam</th>\n      <th>ambiguous</th>\n    </tr>\n  </thead>\n  <tbody>\n    <tr>\n      <th>26308</th>\n      <td>DEVA-1223</td>\n      <td>Death Valley National Park</td>\n      <td>Accipitriformes</td>\n      <td>Accipitridae</td>\n      <td>Buteo lineatus elegans</td>\n      <td>None</td>\n      <td>Least Concern</td>\n      <td>False</td>\n      <td></td>\n      <td>Accipitridae</td>\n      <td>True</td>\n    </tr>\n    <tr>\n      <th>26320</th>\n      <td>DEVA-1235</td>\n      <td>Death Valley National Park</td>\n      <td>Accipitriformes</td>\n      <td>Cathartidae</td>\n      <td>Pseudogryphus californianus</td>\n      <td>None</td>\n      <td>Least Concern</td>\n      <td>False</td>\n      <td></td>\n      <td>Cathartidae</td>\n      <td>True</td>\n    </tr>\n    <tr>\n      <th>26456</th>\n      <td>DEVA-1371</td>\n      <td>Death Valley National Park</td>\n      <td>Falconiformes</td>\n      <td>Falconidae</td>\n      <td>Falco columbarius richardsonii</td>\n      <td>None</td>\n      <td>Least Concern</td>\n      <td>False</td>\n      <td></td>\n      <td>Falconidae</td>\n      <td>True</td>\n    </tr>\n    <tr>\n      <th>26808</th>\n      <td>DEVA-1723</td>\n      <td>Death Valley National Park</td>\n      <td>Strigiformes</td>\n      <td>Strigidae</td>\n      <td>Athene cunicularia hypugaea</td>\n      <td>None</td>\n      <td>Species of Concern</td>\n      <td>True</td>\n      <td></td>\n      <td>Strigidae</td>\n      <td>True</td>\n    </tr>\n    <tr>\n      <th>26814</th>\n      <td>DEVA-1729</td>\n      <td>Death Valley National Park</td>\n      <td>Strigiformes</td>\n      <td>Strigidae</td>\n      <td>Megascops asio bendirei</td>\n      <td>None</td>\n      <td>Least Concern</td>\n      <td>False</td>\n      <td></td>\n      <td>Strigidae</td>\n      <td>True</td>\n    </tr>\n    <tr>\n      <th>26817</th>\n      <td>DEVA-1732</td>\n      <td>Death Valley National Park</td>\n      <td>Strigiformes</td>\n      <td>Strigidae</td>\n      <td>Otus asio inyoensis</td>\n      <td>None</td>\n      <td>Least Concern</td>\n      <td>False</td>\n      <td></td>\n      <td>Strigidae</td>\n      <td>True</td>\n    </tr>\n    <tr>\n      <th>26820</th>\n      <td>DEVA-1735</td>\n      <td>Death Valley National Park</td>\n      <td>Strigiformes</td>\n      <td>Strigidae</td>\n      <td>Syrnium occidentale</td>\n      <td>None</td>\n      <td>Least Concern</td>\n      <td>False</td>\n      <td></td>\n      <td>Strigidae</td>\n      <td>True</td>\n    </tr>\n    <tr>\n      <th>86453</th>\n      <td>PINN-1226</td>\n      <td>Pinnacles National Park</td>\n      <td>Strigiformes</td>\n      <td>Strigidae</td>\n      <td>Glaucidium californicum</td>\n      <td>None</td>\n      <td>Least Concern</td>\n      <td>False</td>\n      <td></td>\n      <td>Strigidae</td>\n      <td>True</td>\n    </tr>\n    <tr>\n      <th>87807</th>\n      <td>REDW-1165</td>\n      <td>Redwood National Park</td>\n      <td>Accipitriformes</td>\n      <td>Accipitridae</td>\n      <td>Buteo jamaicensis harlani</td>\n      <td>None</td>\n      <td>Least Concern</td>\n      <td>False</td>\n      <td></td>\n      <td>Accipitridae</td>\n      <td>True</td>\n    </tr>\n    <tr>\n      <th>87810</th>\n      <td>REDW-1168</td>\n      <td>Redwood National Park</td>\n      <td>Accipitriformes</td>\n      <td>Accipitridae</td>\n      <td>Buteo lineatus elegans</td>\n      <td>None</td>\n      <td>Least Concern</td>\n      <td>False</td>\n      <td></td>\n      <td>Accipitridae</td>\n      <td>True</td>\n    </tr>\n    <tr>\n      <th>87990</th>\n      <td>REDW-1348</td>\n      <td>Redwood National Park</td>\n      <td>Falconiformes</td>\n      <td>Falconidae</td>\n      <td>Falco columbarius bendirei</td>\n      <td>None</td>\n      <td>Least Concern</td>\n      <td>False</td>\n      <td></td>\n      <td>Falconidae</td>\n      <td>True</td>\n    </tr>\n    <tr>\n      <th>87991</th>\n      <td>REDW-1349</td>\n      <td>Redwood National Park</td>\n      <td>Falconiformes</td>\n      <td>Falconidae</td>\n      <td>Falco columbarius columbarius</td>\n      <td>None</td>\n      <td>Least Concern</td>\n      <td>False</td>\n      <td></td>\n      <td>Falconidae</td>\n      <td>True</td>\n    </tr>\n    <tr>\n      <th>87992</th>\n      <td>REDW-1350</td>\n      <td>Redwood National Park</td>\n      <td>Falconiformes</td>\n      <td>Falconidae</td>\n      <td>Falco columbarius richardsoni</td>\n      <td>None</td>\n      <td>Least Concern</td>\n      <td>False</td>\n      <td></td>\n      <td>Falconidae</td>\n      <td>True</td>\n    </tr>\n    <tr>\n      <th>87993</th>\n      <td>REDW-1351</td>\n      <td>Redwood National Park</td>\n      <td>Falconiformes</td>\n      <td>Falconidae</td>\n      <td>Falco columbarius suckleyi</td>\n      <td>None</td>\n      <td>Least Concern</td>\n      <td>False</td>\n      <td></td>\n      <td>Falconidae</td>\n      <td>True</td>\n    </tr>\n    <tr>\n      <th>87998</th>\n      <td>REDW-1356</td>\n      <td>Redwood National Park</td>\n      <td>Falconiformes</td>\n      <td>Falconidae</td>\n      <td>Falco peregrinus pealei</td>\n      <td>None</td>\n      <td>Least Concern</td>\n      <td>False</td>\n      <td></td>\n      <td>Falconidae</td>\n      <td>True</td>\n    </tr>\n    <tr>\n      <th>39752</th>\n      <td>GRBA-1430</td>\n      <td>Great Basin National Park</td>\n      <td>Strigiformes</td>\n      <td>Strigidae</td>\n      <td>Speotyto cunicularia</td>\n      <td>None</td>\n      <td>Least Concern</td>\n      <td>False</td>\n      <td></td>\n      <td>Strigidae</td>\n      <td>True</td>\n    </tr>\n  </tbody>\n</table>\n</div>"
     },
     "execution_count": 609,
     "metadata": {},
     "output_type": "execute_result"
    }
   ],
   "source": [
    "raptors_df_3 = sw_birds[(sw_birds.raptor_common == '') & (sw_birds.raptor_sci_fam != '')].copy()\n",
    "mask = raptors_df_3['raptor_common'] == ''\n",
    "raptors_df_3.loc[mask, 'ambiguous'] = True\n",
    "result3 = raptors_df_3[raptors_df_2['ambiguous'] == True]\n",
    "result3"
   ],
   "metadata": {
    "collapsed": false
   }
  },
  {
   "cell_type": "markdown",
   "source": [
    "Drop the indices $\\in$ `result` with conditionals from `sw_birds`. 16 to lose"
   ],
   "metadata": {
    "collapsed": false
   }
  },
  {
   "cell_type": "code",
   "execution_count": 610,
   "outputs": [
    {
     "data": {
      "text/plain": "(7045, 10)"
     },
     "execution_count": 610,
     "metadata": {},
     "output_type": "execute_result"
    }
   ],
   "source": [
    "sw_birds.shape"
   ],
   "metadata": {
    "collapsed": false
   }
  },
  {
   "cell_type": "code",
   "execution_count": 611,
   "outputs": [
    {
     "data": {
      "text/plain": "(7029, 10)"
     },
     "execution_count": 611,
     "metadata": {},
     "output_type": "execute_result"
    }
   ],
   "source": [
    "indices_to_drop = sw_birds[(sw_birds.raptor_common == '') & (sw_birds.raptor_sci_fam != '')].index\n",
    "sw_birds = sw_birds.drop(index=indices_to_drop)\n",
    "sw_birds.shape"
   ],
   "metadata": {
    "collapsed": false
   }
  },
  {
   "cell_type": "markdown",
   "source": [
    "----\n",
    "## How many raptors do we have?"
   ],
   "metadata": {
    "collapsed": false
   }
  },
  {
   "cell_type": "code",
   "execution_count": 612,
   "outputs": [
    {
     "name": "stdout",
     "output_type": "stream",
     "text": [
      "Under common name:\n",
      "We have a total of 715 Raptors\n",
      "\n",
      "['Hawk', 'Eagle', 'Hawk. Hawk', 'Harrier', 'Vulture', 'Condor', 'Osprey', '', 'Falcon', 'Kestrel', 'Owl', 'Buzzard. Hawk', 'Osprey. Osprey', 'Caracara. Caracara', 'Owl. Owl', 'Kite', 'Kite. Kite', 'Caracara']\n"
     ]
    }
   ],
   "source": [
    "total_raptors_comm = sw_birds['raptor_common'].loc[sw_birds['raptor_common'] != ''].count()\n",
    "print(f\"Under common name:\\nWe have a total of {total_raptors_comm} Raptors\\n\")\n",
    "diff_com_types = sw_birds.raptor_common.unique().tolist()\n",
    "print(diff_com_types)"
   ],
   "metadata": {
    "collapsed": false
   }
  },
  {
   "cell_type": "code",
   "execution_count": 613,
   "outputs": [
    {
     "name": "stdout",
     "output_type": "stream",
     "text": [
      "Under scientific family:\n",
      "We have a total of 713 Raptors\n",
      "\n",
      "['Accipitridae', 'Cathartidae', 'Pandionidae', '', 'Falconidae', 'Strigidae', 'Tytonidae']\n"
     ]
    }
   ],
   "source": [
    "total_raptors_sci = sw_birds['raptor_sci_fam'].loc[sw_birds['raptor_sci_fam'] != ''].count()\n",
    "print(f\"Under scientific family:\\nWe have a total of {total_raptors_sci} Raptors\\n\")\n",
    "diff_sci_types = sw_birds.raptor_sci_fam.unique().tolist()\n",
    "print(diff_sci_types)"
   ],
   "metadata": {
    "collapsed": false
   }
  },
  {
   "cell_type": "markdown",
   "source": [
    "Where is the missing one? Some `family` empty maybe?"
   ],
   "metadata": {
    "collapsed": false
   }
  },
  {
   "cell_type": "code",
   "execution_count": 614,
   "outputs": [
    {
     "data": {
      "text/plain": "       species_id                   park_name         order   family  \\\n26803   DEVA-1718  Death Valley National Park  Strigiformes  No Data   \n117822  ZION-1370          Zion National Park  Strigiformes  No Data   \n\n              scientific_name     common_names conservation_status  protected  \\\n26803   Psiloscops flammeolus  Flammulated Owl       Least Concern      False   \n117822  Psiloscops flammeolus  Flammulated Owl       Least Concern      False   \n\n       raptor_common raptor_sci_fam  \n26803            Owl                 \n117822           Owl                 ",
      "text/html": "<div>\n<style scoped>\n    .dataframe tbody tr th:only-of-type {\n        vertical-align: middle;\n    }\n\n    .dataframe tbody tr th {\n        vertical-align: top;\n    }\n\n    .dataframe thead th {\n        text-align: right;\n    }\n</style>\n<table border=\"1\" class=\"dataframe\">\n  <thead>\n    <tr style=\"text-align: right;\">\n      <th></th>\n      <th>species_id</th>\n      <th>park_name</th>\n      <th>order</th>\n      <th>family</th>\n      <th>scientific_name</th>\n      <th>common_names</th>\n      <th>conservation_status</th>\n      <th>protected</th>\n      <th>raptor_common</th>\n      <th>raptor_sci_fam</th>\n    </tr>\n  </thead>\n  <tbody>\n    <tr>\n      <th>26803</th>\n      <td>DEVA-1718</td>\n      <td>Death Valley National Park</td>\n      <td>Strigiformes</td>\n      <td>No Data</td>\n      <td>Psiloscops flammeolus</td>\n      <td>Flammulated Owl</td>\n      <td>Least Concern</td>\n      <td>False</td>\n      <td>Owl</td>\n      <td></td>\n    </tr>\n    <tr>\n      <th>117822</th>\n      <td>ZION-1370</td>\n      <td>Zion National Park</td>\n      <td>Strigiformes</td>\n      <td>No Data</td>\n      <td>Psiloscops flammeolus</td>\n      <td>Flammulated Owl</td>\n      <td>Least Concern</td>\n      <td>False</td>\n      <td>Owl</td>\n      <td></td>\n    </tr>\n  </tbody>\n</table>\n</div>"
     },
     "execution_count": 614,
     "metadata": {},
     "output_type": "execute_result"
    }
   ],
   "source": [
    "missing_fam = (sw_birds[(sw_birds.raptor_common != '')\n",
    "                                & (sw_birds.family == 'No Data')])\n",
    "missing_fam"
   ],
   "metadata": {
    "collapsed": false
   }
  },
  {
   "cell_type": "code",
   "execution_count": 615,
   "outputs": [
    {
     "data": {
      "text/plain": "       species_id                                    park_name         order  \\\n42530   GRCA-1555                   Grand Canyon National Park  Strigiformes   \n97449   SAGU-1344                        Saguaro National Park  Strigiformes   \n15250   CHIS-1392                Channel Islands National Park  Strigiformes   \n26803   DEVA-1718                   Death Valley National Park  Strigiformes   \n73120   LAVO-1339                Lassen Volcanic National Park  Strigiformes   \n88286   REDW-1644                        Redwood National Park  Strigiformes   \n99242   SEKI-1303      Sequoia and Kings Canyon National Parks  Strigiformes   \n115717  YOSE-1353                       Yosemite National Park  Strigiformes   \n8381    BLCA-1240   Black Canyon of the Gunnison National Park  Strigiformes   \n44902   GRSA-1305  Great Sand Dunes National Park and Preserve  Strigiformes   \n\n           family        scientific_name     common_names conservation_status  \\\n42530   Strigidae        Otus flammeolus  Flammulated Owl       Least Concern   \n97449   Strigidae        Otus flammeolus  Flammulated Owl       Least Concern   \n15250   Strigidae        Otus flammeolus  Flammulated Owl       Least Concern   \n26803     No Data  Psiloscops flammeolus  Flammulated Owl       Least Concern   \n73120   Strigidae        Otus flammeolus  Flammulated Owl       Least Concern   \n88286   Strigidae        Otus flammeolus  Flammulated Owl       Least Concern   \n99242   Strigidae        Otus flammeolus  Flammulated Owl       Least Concern   \n115717  Strigidae        Otus flammeolus  Flammulated Owl       Least Concern   \n8381    Strigidae        Otus flammeolus  Flammulated Owl       Least Concern   \n44902   Strigidae        Otus flammeolus  Flammulated Owl       Least Concern   \n\n        protected raptor_common raptor_sci_fam  \n42530       False           Owl      Strigidae  \n97449       False           Owl      Strigidae  \n15250       False           Owl      Strigidae  \n26803       False           Owl                 \n73120       False           Owl      Strigidae  \n88286       False           Owl      Strigidae  \n99242       False           Owl      Strigidae  \n115717      False           Owl      Strigidae  \n8381        False           Owl      Strigidae  \n44902       False           Owl      Strigidae  ",
      "text/html": "<div>\n<style scoped>\n    .dataframe tbody tr th:only-of-type {\n        vertical-align: middle;\n    }\n\n    .dataframe tbody tr th {\n        vertical-align: top;\n    }\n\n    .dataframe thead th {\n        text-align: right;\n    }\n</style>\n<table border=\"1\" class=\"dataframe\">\n  <thead>\n    <tr style=\"text-align: right;\">\n      <th></th>\n      <th>species_id</th>\n      <th>park_name</th>\n      <th>order</th>\n      <th>family</th>\n      <th>scientific_name</th>\n      <th>common_names</th>\n      <th>conservation_status</th>\n      <th>protected</th>\n      <th>raptor_common</th>\n      <th>raptor_sci_fam</th>\n    </tr>\n  </thead>\n  <tbody>\n    <tr>\n      <th>42530</th>\n      <td>GRCA-1555</td>\n      <td>Grand Canyon National Park</td>\n      <td>Strigiformes</td>\n      <td>Strigidae</td>\n      <td>Otus flammeolus</td>\n      <td>Flammulated Owl</td>\n      <td>Least Concern</td>\n      <td>False</td>\n      <td>Owl</td>\n      <td>Strigidae</td>\n    </tr>\n    <tr>\n      <th>97449</th>\n      <td>SAGU-1344</td>\n      <td>Saguaro National Park</td>\n      <td>Strigiformes</td>\n      <td>Strigidae</td>\n      <td>Otus flammeolus</td>\n      <td>Flammulated Owl</td>\n      <td>Least Concern</td>\n      <td>False</td>\n      <td>Owl</td>\n      <td>Strigidae</td>\n    </tr>\n    <tr>\n      <th>15250</th>\n      <td>CHIS-1392</td>\n      <td>Channel Islands National Park</td>\n      <td>Strigiformes</td>\n      <td>Strigidae</td>\n      <td>Otus flammeolus</td>\n      <td>Flammulated Owl</td>\n      <td>Least Concern</td>\n      <td>False</td>\n      <td>Owl</td>\n      <td>Strigidae</td>\n    </tr>\n    <tr>\n      <th>26803</th>\n      <td>DEVA-1718</td>\n      <td>Death Valley National Park</td>\n      <td>Strigiformes</td>\n      <td>No Data</td>\n      <td>Psiloscops flammeolus</td>\n      <td>Flammulated Owl</td>\n      <td>Least Concern</td>\n      <td>False</td>\n      <td>Owl</td>\n      <td></td>\n    </tr>\n    <tr>\n      <th>73120</th>\n      <td>LAVO-1339</td>\n      <td>Lassen Volcanic National Park</td>\n      <td>Strigiformes</td>\n      <td>Strigidae</td>\n      <td>Otus flammeolus</td>\n      <td>Flammulated Owl</td>\n      <td>Least Concern</td>\n      <td>False</td>\n      <td>Owl</td>\n      <td>Strigidae</td>\n    </tr>\n    <tr>\n      <th>88286</th>\n      <td>REDW-1644</td>\n      <td>Redwood National Park</td>\n      <td>Strigiformes</td>\n      <td>Strigidae</td>\n      <td>Otus flammeolus</td>\n      <td>Flammulated Owl</td>\n      <td>Least Concern</td>\n      <td>False</td>\n      <td>Owl</td>\n      <td>Strigidae</td>\n    </tr>\n    <tr>\n      <th>99242</th>\n      <td>SEKI-1303</td>\n      <td>Sequoia and Kings Canyon National Parks</td>\n      <td>Strigiformes</td>\n      <td>Strigidae</td>\n      <td>Otus flammeolus</td>\n      <td>Flammulated Owl</td>\n      <td>Least Concern</td>\n      <td>False</td>\n      <td>Owl</td>\n      <td>Strigidae</td>\n    </tr>\n    <tr>\n      <th>115717</th>\n      <td>YOSE-1353</td>\n      <td>Yosemite National Park</td>\n      <td>Strigiformes</td>\n      <td>Strigidae</td>\n      <td>Otus flammeolus</td>\n      <td>Flammulated Owl</td>\n      <td>Least Concern</td>\n      <td>False</td>\n      <td>Owl</td>\n      <td>Strigidae</td>\n    </tr>\n    <tr>\n      <th>8381</th>\n      <td>BLCA-1240</td>\n      <td>Black Canyon of the Gunnison National Park</td>\n      <td>Strigiformes</td>\n      <td>Strigidae</td>\n      <td>Otus flammeolus</td>\n      <td>Flammulated Owl</td>\n      <td>Least Concern</td>\n      <td>False</td>\n      <td>Owl</td>\n      <td>Strigidae</td>\n    </tr>\n    <tr>\n      <th>44902</th>\n      <td>GRSA-1305</td>\n      <td>Great Sand Dunes National Park and Preserve</td>\n      <td>Strigiformes</td>\n      <td>Strigidae</td>\n      <td>Otus flammeolus</td>\n      <td>Flammulated Owl</td>\n      <td>Least Concern</td>\n      <td>False</td>\n      <td>Owl</td>\n      <td>Strigidae</td>\n    </tr>\n  </tbody>\n</table>\n</div>"
     },
     "execution_count": 615,
     "metadata": {},
     "output_type": "execute_result"
    }
   ],
   "source": [
    "flam_owl = sw_birds[sw_birds.common_names == 'Flammulated Owl']\n",
    "flam_owl.head(10)"
   ],
   "metadata": {
    "collapsed": false
   }
  },
  {
   "cell_type": "code",
   "execution_count": 616,
   "outputs": [],
   "source": [
    "# Changing index[26803]\n",
    "sw_birds.loc[26803, 'family'] = 'Strigidae'\n",
    "sw_birds.loc[26803, 'raptor_sci_fam'] = 'Strigidae'\n",
    "sw_birds.loc[26803, 'scientific_name'] = 'Otus flammeolus'"
   ],
   "metadata": {
    "collapsed": false
   }
  },
  {
   "cell_type": "code",
   "execution_count": 617,
   "outputs": [],
   "source": [
    "# Changing index[117822]\n",
    "sw_birds.loc[117822, 'family'] = 'Strigidae'\n",
    "sw_birds.loc[117822, 'raptor_sci_fam'] = 'Strigidae'\n",
    "sw_birds.loc[117822, 'scientific_name'] = 'Otus flammeolus'"
   ],
   "metadata": {
    "collapsed": false
   }
  },
  {
   "cell_type": "code",
   "execution_count": 618,
   "outputs": [
    {
     "name": "stdout",
     "output_type": "stream",
     "text": [
      "Under scientific family:\n",
      "We have a total of 715 Raptors\n",
      "\n",
      "['Accipitridae', 'Cathartidae', 'Pandionidae', '', 'Falconidae', 'Strigidae', 'Tytonidae']\n"
     ]
    }
   ],
   "source": [
    "total_raptors_sci = sw_birds['raptor_sci_fam'].loc[sw_birds['raptor_sci_fam'] != ''].count()\n",
    "print(f\"Under scientific family:\\nWe have a total of {total_raptors_sci} Raptors\\n\")\n",
    "diff_sci_types = sw_birds.raptor_sci_fam.unique().tolist()\n",
    "print(diff_sci_types)"
   ],
   "metadata": {
    "collapsed": false
   }
  },
  {
   "cell_type": "markdown",
   "source": [
    "## So, `raptor_sci_fam` $=$ `raptor_common`! Boom!"
   ],
   "metadata": {
    "collapsed": false
   }
  },
  {
   "cell_type": "markdown",
   "source": [
    "----\n",
    "### Drop columns;\n",
    "- `raptor_sci_name`\n",
    "- `order`\n",
    "\n",
    "### Change\n",
    "- `raptor_common` $\\Rightarrow$ `raptor`"
   ],
   "metadata": {
    "collapsed": false
   }
  },
  {
   "cell_type": "code",
   "execution_count": 619,
   "outputs": [
    {
     "data": {
      "text/plain": "      species_id                   park_name        family  \\\n42081  GRCA-1106  Grand Canyon National Park  Accipitridae   \n42082  GRCA-1107  Grand Canyon National Park  Accipitridae   \n42083  GRCA-1108  Grand Canyon National Park  Accipitridae   \n42084  GRCA-1109  Grand Canyon National Park  Accipitridae   \n42085  GRCA-1110  Grand Canyon National Park  Accipitridae   \n\n          scientific_name        common_names conservation_status  protected  \\\n42081  Accipiter cooperii       Cooper's Hawk  Species of Concern       True   \n42082  Accipiter gentilis    Northern Goshawk       Least Concern      False   \n42083  Accipiter striatus  Sharp-Shinned Hawk  Species of Concern       True   \n42084   Aquila chrysaetos        Golden Eagle  Species of Concern       True   \n42085   Buteo albonotatus    Zone-Tailed Hawk       Least Concern      False   \n\n      raptor  \n42081   Hawk  \n42082   Hawk  \n42083   Hawk  \n42084  Eagle  \n42085   Hawk  ",
      "text/html": "<div>\n<style scoped>\n    .dataframe tbody tr th:only-of-type {\n        vertical-align: middle;\n    }\n\n    .dataframe tbody tr th {\n        vertical-align: top;\n    }\n\n    .dataframe thead th {\n        text-align: right;\n    }\n</style>\n<table border=\"1\" class=\"dataframe\">\n  <thead>\n    <tr style=\"text-align: right;\">\n      <th></th>\n      <th>species_id</th>\n      <th>park_name</th>\n      <th>family</th>\n      <th>scientific_name</th>\n      <th>common_names</th>\n      <th>conservation_status</th>\n      <th>protected</th>\n      <th>raptor</th>\n    </tr>\n  </thead>\n  <tbody>\n    <tr>\n      <th>42081</th>\n      <td>GRCA-1106</td>\n      <td>Grand Canyon National Park</td>\n      <td>Accipitridae</td>\n      <td>Accipiter cooperii</td>\n      <td>Cooper's Hawk</td>\n      <td>Species of Concern</td>\n      <td>True</td>\n      <td>Hawk</td>\n    </tr>\n    <tr>\n      <th>42082</th>\n      <td>GRCA-1107</td>\n      <td>Grand Canyon National Park</td>\n      <td>Accipitridae</td>\n      <td>Accipiter gentilis</td>\n      <td>Northern Goshawk</td>\n      <td>Least Concern</td>\n      <td>False</td>\n      <td>Hawk</td>\n    </tr>\n    <tr>\n      <th>42083</th>\n      <td>GRCA-1108</td>\n      <td>Grand Canyon National Park</td>\n      <td>Accipitridae</td>\n      <td>Accipiter striatus</td>\n      <td>Sharp-Shinned Hawk</td>\n      <td>Species of Concern</td>\n      <td>True</td>\n      <td>Hawk</td>\n    </tr>\n    <tr>\n      <th>42084</th>\n      <td>GRCA-1109</td>\n      <td>Grand Canyon National Park</td>\n      <td>Accipitridae</td>\n      <td>Aquila chrysaetos</td>\n      <td>Golden Eagle</td>\n      <td>Species of Concern</td>\n      <td>True</td>\n      <td>Eagle</td>\n    </tr>\n    <tr>\n      <th>42085</th>\n      <td>GRCA-1110</td>\n      <td>Grand Canyon National Park</td>\n      <td>Accipitridae</td>\n      <td>Buteo albonotatus</td>\n      <td>Zone-Tailed Hawk</td>\n      <td>Least Concern</td>\n      <td>False</td>\n      <td>Hawk</td>\n    </tr>\n  </tbody>\n</table>\n</div>"
     },
     "execution_count": 619,
     "metadata": {},
     "output_type": "execute_result"
    }
   ],
   "source": [
    "sw_birds.drop(columns=['order', 'raptor_sci_fam'], axis=1, inplace=True)\n",
    "sw_birds.rename(columns={'raptor_common': 'raptor'}, inplace=True)\n",
    "sw_birds.head()"
   ],
   "metadata": {
    "collapsed": false
   }
  },
  {
   "cell_type": "markdown",
   "source": [
    "#### Split `species_id` at '-', save park code, rename column `park_code` to match `sw_parks`"
   ],
   "metadata": {
    "collapsed": false
   }
  },
  {
   "cell_type": "code",
   "execution_count": 620,
   "outputs": [
    {
     "data": {
      "text/plain": "      park_code                   park_name        family     scientific_name  \\\n42081      GRCA  Grand Canyon National Park  Accipitridae  Accipiter cooperii   \n42082      GRCA  Grand Canyon National Park  Accipitridae  Accipiter gentilis   \n42083      GRCA  Grand Canyon National Park  Accipitridae  Accipiter striatus   \n42084      GRCA  Grand Canyon National Park  Accipitridae   Aquila chrysaetos   \n42085      GRCA  Grand Canyon National Park  Accipitridae   Buteo albonotatus   \n\n             common_names conservation_status  protected raptor  \n42081       Cooper's Hawk  Species of Concern       True   Hawk  \n42082    Northern Goshawk       Least Concern      False   Hawk  \n42083  Sharp-Shinned Hawk  Species of Concern       True   Hawk  \n42084        Golden Eagle  Species of Concern       True  Eagle  \n42085    Zone-Tailed Hawk       Least Concern      False   Hawk  ",
      "text/html": "<div>\n<style scoped>\n    .dataframe tbody tr th:only-of-type {\n        vertical-align: middle;\n    }\n\n    .dataframe tbody tr th {\n        vertical-align: top;\n    }\n\n    .dataframe thead th {\n        text-align: right;\n    }\n</style>\n<table border=\"1\" class=\"dataframe\">\n  <thead>\n    <tr style=\"text-align: right;\">\n      <th></th>\n      <th>park_code</th>\n      <th>park_name</th>\n      <th>family</th>\n      <th>scientific_name</th>\n      <th>common_names</th>\n      <th>conservation_status</th>\n      <th>protected</th>\n      <th>raptor</th>\n    </tr>\n  </thead>\n  <tbody>\n    <tr>\n      <th>42081</th>\n      <td>GRCA</td>\n      <td>Grand Canyon National Park</td>\n      <td>Accipitridae</td>\n      <td>Accipiter cooperii</td>\n      <td>Cooper's Hawk</td>\n      <td>Species of Concern</td>\n      <td>True</td>\n      <td>Hawk</td>\n    </tr>\n    <tr>\n      <th>42082</th>\n      <td>GRCA</td>\n      <td>Grand Canyon National Park</td>\n      <td>Accipitridae</td>\n      <td>Accipiter gentilis</td>\n      <td>Northern Goshawk</td>\n      <td>Least Concern</td>\n      <td>False</td>\n      <td>Hawk</td>\n    </tr>\n    <tr>\n      <th>42083</th>\n      <td>GRCA</td>\n      <td>Grand Canyon National Park</td>\n      <td>Accipitridae</td>\n      <td>Accipiter striatus</td>\n      <td>Sharp-Shinned Hawk</td>\n      <td>Species of Concern</td>\n      <td>True</td>\n      <td>Hawk</td>\n    </tr>\n    <tr>\n      <th>42084</th>\n      <td>GRCA</td>\n      <td>Grand Canyon National Park</td>\n      <td>Accipitridae</td>\n      <td>Aquila chrysaetos</td>\n      <td>Golden Eagle</td>\n      <td>Species of Concern</td>\n      <td>True</td>\n      <td>Eagle</td>\n    </tr>\n    <tr>\n      <th>42085</th>\n      <td>GRCA</td>\n      <td>Grand Canyon National Park</td>\n      <td>Accipitridae</td>\n      <td>Buteo albonotatus</td>\n      <td>Zone-Tailed Hawk</td>\n      <td>Least Concern</td>\n      <td>False</td>\n      <td>Hawk</td>\n    </tr>\n  </tbody>\n</table>\n</div>"
     },
     "execution_count": 620,
     "metadata": {},
     "output_type": "execute_result"
    }
   ],
   "source": [
    "sw_birds['species_id'] = sw_birds['species_id'].str.split('-').str[0]\n",
    "sw_birds.rename(columns={'species_id': 'park_code'}, inplace=True)\n",
    "sw_birds.head()"
   ],
   "metadata": {
    "collapsed": false
   }
  },
  {
   "cell_type": "markdown",
   "source": [
    "----\n",
    "&nbsp;\n",
    "#### Checking duplicated `common_names`"
   ],
   "metadata": {
    "collapsed": false
   }
  },
  {
   "cell_type": "code",
   "execution_count": 621,
   "outputs": [
    {
     "data": {
      "text/plain": "      park_code                                park_name        family  \\\n42092      GRCA               Grand Canyon National Park  Accipitridae   \n85442      PEFO           Petrified Forest National Park  Accipitridae   \n85448      PEFO           Petrified Forest National Park   Pandionidae   \n97213      SAGU                    Saguaro National Park  Accipitridae   \n97221      SAGU                    Saguaro National Park   Pandionidae   \n97255      SAGU                    Saguaro National Park    Falconidae   \n97443      SAGU                    Saguaro National Park     Strigidae   \n97445      SAGU                    Saguaro National Park     Strigidae   \n97446      SAGU                    Saguaro National Park     Strigidae   \n97447      SAGU                    Saguaro National Park     Strigidae   \n26804      DEVA               Death Valley National Park     Strigidae   \n26812      DEVA               Death Valley National Park     Strigidae   \n72887      LAVO            Lassen Volcanic National Park  Accipitridae   \n72897      LAVO            Lassen Volcanic National Park   Pandionidae   \n73119      LAVO            Lassen Volcanic National Park     Strigidae   \n73122      LAVO            Lassen Volcanic National Park     Strigidae   \n73124      LAVO            Lassen Volcanic National Park     Tytonidae   \n86302      PINN                  Pinnacles National Park   Pandionidae   \n88284      REDW                    Redwood National Park     Strigidae   \n99033      SEKI  Sequoia and Kings Canyon National Parks  Accipitridae   \n99043      SEKI  Sequoia and Kings Canyon National Parks   Pandionidae   \n99240      SEKI  Sequoia and Kings Canyon National Parks     Strigidae   \n99241      SEKI  Sequoia and Kings Canyon National Parks     Strigidae   \n99243      SEKI  Sequoia and Kings Canyon National Parks     Strigidae   \n99246      SEKI  Sequoia and Kings Canyon National Parks     Tytonidae   \n77168      MEVE                 Mesa Verde National Park  Accipitridae   \n77173      MEVE                 Mesa Verde National Park  Accipitridae   \n77176      MEVE                 Mesa Verde National Park  Accipitridae   \n77179      MEVE                 Mesa Verde National Park   Pandionidae   \n77396      MEVE                 Mesa Verde National Park     Strigidae   \n39445      GRBA                Great Basin National Park   Pandionidae   \n39753      GRBA                Great Basin National Park     Tytonidae   \n\n               scientific_name  \\\n42092  Buteogallus anthracinus   \n85442            Buteo lagopus   \n85448        Pandion haliaetus   \n97213            Buteo nitidus   \n97221        Pandion haliaetus   \n97255        Caracara cheriway   \n97443   Glaucidium brasilianum   \n97445           Megascops asio   \n97446    Megascops kennicottii   \n97447     Megascops trichopsis   \n26804        Aegolius acadicus   \n26812         Glaucidium gnoma   \n72887            Buteo lagopus   \n72897        Pandion haliaetus   \n73119         Glaucidium gnoma   \n73122           Strix nebulosa   \n73124                Tyto alba   \n86302        Pandion haliaetus   \n88284    Megascops kennicottii   \n99033            Buteo lagopus   \n99043        Pandion haliaetus   \n99240         Glaucidium gnoma   \n99241    Megascops kennicottii   \n99243           Strix nebulosa   \n99246                Tyto alba   \n77168            Buteo lagopus   \n77173         Elanus caeruleus   \n77176     Parabuteo unicinctus   \n77179        Pandion haliaetus   \n77396         Glaucidium gnoma   \n39445        Pandion haliaetus   \n39753                Tyto alba   \n\n                                            common_names conservation_status  \\\n42092               Common Black Hawk, Common Black-Hawk       Least Concern   \n85442  Roughleg, Rough-Legged Buzzard, Rough-Legged Hawk  Species of Concern   \n85448                             Osprey, Western Osprey  Species of Concern   \n97213                               Gray Hawk, Grey Hawk       Least Concern   \n97221                             Osprey, Western Osprey  Species of Concern   \n97255        Crested Caracara, Northern Crested Caracara       Least Concern   \n97443       Ferruginous Pygmy Owl, Ferruginous Pygmy-Owl       Least Concern   \n97445           Eastern Screech Owl, Eastern Screech-Owl       Least Concern   \n97446  Tecolote Occidental, Western Screech Owl, West...       Least Concern   \n97447       Whiskered Screech Owl, Whiskered Screech-Owl       Least Concern   \n26804                Northern Saw-Whet Owl, Saw-Whet Owl       Least Concern   \n26812                      Northern Pygmy-Owl, Pygmy Owl       Least Concern   \n72887  Roughleg, Rough-Legged Buzzard, Rough-Legged Hawk  Species of Concern   \n72897                             Osprey, Western Osprey  Species of Concern   \n73119             Mountain Pygmy Owl, Northern Pygmy-Owl       Least Concern   \n73122                     Great Gray Owl, Great Grey Owl       Least Concern   \n73124                          Barn Owl, Common Barn-Owl       Least Concern   \n86302                             Osprey, Western Osprey  Species of Concern   \n88284  Tecolote Occidental, Western Screech Owl, West...       Least Concern   \n99033  Roughleg, Rough-Legged Buzzard, Rough-Legged Hawk  Species of Concern   \n99043                             Osprey, Western Osprey  Species of Concern   \n99240             Mountain Pygmy Owl, Northern Pygmy-Owl       Least Concern   \n99241  Tecolote Occidental, Western Screech Owl, West...       Least Concern   \n99243                     Great Gray Owl, Great Grey Owl       Least Concern   \n99246                          Barn Owl, Common Barn-Owl       Least Concern   \n77168  Roughleg, Rough-Legged Buzzard, Rough-Legged Hawk  Species of Concern   \n77173           Black-Shouldered Kite, Black-Winged Kite  Species of Concern   \n77176                        Harris' Hawk, Harris's Hawk  Species of Concern   \n77179                             Osprey, Western Osprey  Species of Concern   \n77396             Mountain Pygmy Owl, Northern Pygmy-Owl       Least Concern   \n39445                             Osprey, Western Osprey  Species of Concern   \n39753                          Barn Owl, Common Barn-Owl       Least Concern   \n\n       protected              raptor  comma_count  \n42092      False          Hawk. Hawk            1  \n85442       True       Buzzard. Hawk            2  \n85448       True      Osprey. Osprey            1  \n97213      False          Hawk. Hawk            1  \n97221       True      Osprey. Osprey            1  \n97255      False  Caracara. Caracara            1  \n97443      False            Owl. Owl            1  \n97445      False            Owl. Owl            1  \n97446      False            Owl. Owl            2  \n97447      False            Owl. Owl            1  \n26804      False            Owl. Owl            1  \n26812      False            Owl. Owl            1  \n72887       True       Buzzard. Hawk            2  \n72897       True      Osprey. Osprey            1  \n73119      False            Owl. Owl            1  \n73122      False            Owl. Owl            1  \n73124      False            Owl. Owl            1  \n86302       True      Osprey. Osprey            1  \n88284      False            Owl. Owl            2  \n99033       True       Buzzard. Hawk            2  \n99043       True      Osprey. Osprey            1  \n99240      False            Owl. Owl            1  \n99241      False            Owl. Owl            2  \n99243      False            Owl. Owl            1  \n99246      False            Owl. Owl            1  \n77168       True       Buzzard. Hawk            2  \n77173       True          Kite. Kite            1  \n77176       True          Hawk. Hawk            1  \n77179       True      Osprey. Osprey            1  \n77396      False            Owl. Owl            1  \n39445       True      Osprey. Osprey            1  \n39753      False            Owl. Owl            1  ",
      "text/html": "<div>\n<style scoped>\n    .dataframe tbody tr th:only-of-type {\n        vertical-align: middle;\n    }\n\n    .dataframe tbody tr th {\n        vertical-align: top;\n    }\n\n    .dataframe thead th {\n        text-align: right;\n    }\n</style>\n<table border=\"1\" class=\"dataframe\">\n  <thead>\n    <tr style=\"text-align: right;\">\n      <th></th>\n      <th>park_code</th>\n      <th>park_name</th>\n      <th>family</th>\n      <th>scientific_name</th>\n      <th>common_names</th>\n      <th>conservation_status</th>\n      <th>protected</th>\n      <th>raptor</th>\n      <th>comma_count</th>\n    </tr>\n  </thead>\n  <tbody>\n    <tr>\n      <th>42092</th>\n      <td>GRCA</td>\n      <td>Grand Canyon National Park</td>\n      <td>Accipitridae</td>\n      <td>Buteogallus anthracinus</td>\n      <td>Common Black Hawk, Common Black-Hawk</td>\n      <td>Least Concern</td>\n      <td>False</td>\n      <td>Hawk. Hawk</td>\n      <td>1</td>\n    </tr>\n    <tr>\n      <th>85442</th>\n      <td>PEFO</td>\n      <td>Petrified Forest National Park</td>\n      <td>Accipitridae</td>\n      <td>Buteo lagopus</td>\n      <td>Roughleg, Rough-Legged Buzzard, Rough-Legged Hawk</td>\n      <td>Species of Concern</td>\n      <td>True</td>\n      <td>Buzzard. Hawk</td>\n      <td>2</td>\n    </tr>\n    <tr>\n      <th>85448</th>\n      <td>PEFO</td>\n      <td>Petrified Forest National Park</td>\n      <td>Pandionidae</td>\n      <td>Pandion haliaetus</td>\n      <td>Osprey, Western Osprey</td>\n      <td>Species of Concern</td>\n      <td>True</td>\n      <td>Osprey. Osprey</td>\n      <td>1</td>\n    </tr>\n    <tr>\n      <th>97213</th>\n      <td>SAGU</td>\n      <td>Saguaro National Park</td>\n      <td>Accipitridae</td>\n      <td>Buteo nitidus</td>\n      <td>Gray Hawk, Grey Hawk</td>\n      <td>Least Concern</td>\n      <td>False</td>\n      <td>Hawk. Hawk</td>\n      <td>1</td>\n    </tr>\n    <tr>\n      <th>97221</th>\n      <td>SAGU</td>\n      <td>Saguaro National Park</td>\n      <td>Pandionidae</td>\n      <td>Pandion haliaetus</td>\n      <td>Osprey, Western Osprey</td>\n      <td>Species of Concern</td>\n      <td>True</td>\n      <td>Osprey. Osprey</td>\n      <td>1</td>\n    </tr>\n    <tr>\n      <th>97255</th>\n      <td>SAGU</td>\n      <td>Saguaro National Park</td>\n      <td>Falconidae</td>\n      <td>Caracara cheriway</td>\n      <td>Crested Caracara, Northern Crested Caracara</td>\n      <td>Least Concern</td>\n      <td>False</td>\n      <td>Caracara. Caracara</td>\n      <td>1</td>\n    </tr>\n    <tr>\n      <th>97443</th>\n      <td>SAGU</td>\n      <td>Saguaro National Park</td>\n      <td>Strigidae</td>\n      <td>Glaucidium brasilianum</td>\n      <td>Ferruginous Pygmy Owl, Ferruginous Pygmy-Owl</td>\n      <td>Least Concern</td>\n      <td>False</td>\n      <td>Owl. Owl</td>\n      <td>1</td>\n    </tr>\n    <tr>\n      <th>97445</th>\n      <td>SAGU</td>\n      <td>Saguaro National Park</td>\n      <td>Strigidae</td>\n      <td>Megascops asio</td>\n      <td>Eastern Screech Owl, Eastern Screech-Owl</td>\n      <td>Least Concern</td>\n      <td>False</td>\n      <td>Owl. Owl</td>\n      <td>1</td>\n    </tr>\n    <tr>\n      <th>97446</th>\n      <td>SAGU</td>\n      <td>Saguaro National Park</td>\n      <td>Strigidae</td>\n      <td>Megascops kennicottii</td>\n      <td>Tecolote Occidental, Western Screech Owl, West...</td>\n      <td>Least Concern</td>\n      <td>False</td>\n      <td>Owl. Owl</td>\n      <td>2</td>\n    </tr>\n    <tr>\n      <th>97447</th>\n      <td>SAGU</td>\n      <td>Saguaro National Park</td>\n      <td>Strigidae</td>\n      <td>Megascops trichopsis</td>\n      <td>Whiskered Screech Owl, Whiskered Screech-Owl</td>\n      <td>Least Concern</td>\n      <td>False</td>\n      <td>Owl. Owl</td>\n      <td>1</td>\n    </tr>\n    <tr>\n      <th>26804</th>\n      <td>DEVA</td>\n      <td>Death Valley National Park</td>\n      <td>Strigidae</td>\n      <td>Aegolius acadicus</td>\n      <td>Northern Saw-Whet Owl, Saw-Whet Owl</td>\n      <td>Least Concern</td>\n      <td>False</td>\n      <td>Owl. Owl</td>\n      <td>1</td>\n    </tr>\n    <tr>\n      <th>26812</th>\n      <td>DEVA</td>\n      <td>Death Valley National Park</td>\n      <td>Strigidae</td>\n      <td>Glaucidium gnoma</td>\n      <td>Northern Pygmy-Owl, Pygmy Owl</td>\n      <td>Least Concern</td>\n      <td>False</td>\n      <td>Owl. Owl</td>\n      <td>1</td>\n    </tr>\n    <tr>\n      <th>72887</th>\n      <td>LAVO</td>\n      <td>Lassen Volcanic National Park</td>\n      <td>Accipitridae</td>\n      <td>Buteo lagopus</td>\n      <td>Roughleg, Rough-Legged Buzzard, Rough-Legged Hawk</td>\n      <td>Species of Concern</td>\n      <td>True</td>\n      <td>Buzzard. Hawk</td>\n      <td>2</td>\n    </tr>\n    <tr>\n      <th>72897</th>\n      <td>LAVO</td>\n      <td>Lassen Volcanic National Park</td>\n      <td>Pandionidae</td>\n      <td>Pandion haliaetus</td>\n      <td>Osprey, Western Osprey</td>\n      <td>Species of Concern</td>\n      <td>True</td>\n      <td>Osprey. Osprey</td>\n      <td>1</td>\n    </tr>\n    <tr>\n      <th>73119</th>\n      <td>LAVO</td>\n      <td>Lassen Volcanic National Park</td>\n      <td>Strigidae</td>\n      <td>Glaucidium gnoma</td>\n      <td>Mountain Pygmy Owl, Northern Pygmy-Owl</td>\n      <td>Least Concern</td>\n      <td>False</td>\n      <td>Owl. Owl</td>\n      <td>1</td>\n    </tr>\n    <tr>\n      <th>73122</th>\n      <td>LAVO</td>\n      <td>Lassen Volcanic National Park</td>\n      <td>Strigidae</td>\n      <td>Strix nebulosa</td>\n      <td>Great Gray Owl, Great Grey Owl</td>\n      <td>Least Concern</td>\n      <td>False</td>\n      <td>Owl. Owl</td>\n      <td>1</td>\n    </tr>\n    <tr>\n      <th>73124</th>\n      <td>LAVO</td>\n      <td>Lassen Volcanic National Park</td>\n      <td>Tytonidae</td>\n      <td>Tyto alba</td>\n      <td>Barn Owl, Common Barn-Owl</td>\n      <td>Least Concern</td>\n      <td>False</td>\n      <td>Owl. Owl</td>\n      <td>1</td>\n    </tr>\n    <tr>\n      <th>86302</th>\n      <td>PINN</td>\n      <td>Pinnacles National Park</td>\n      <td>Pandionidae</td>\n      <td>Pandion haliaetus</td>\n      <td>Osprey, Western Osprey</td>\n      <td>Species of Concern</td>\n      <td>True</td>\n      <td>Osprey. Osprey</td>\n      <td>1</td>\n    </tr>\n    <tr>\n      <th>88284</th>\n      <td>REDW</td>\n      <td>Redwood National Park</td>\n      <td>Strigidae</td>\n      <td>Megascops kennicottii</td>\n      <td>Tecolote Occidental, Western Screech Owl, West...</td>\n      <td>Least Concern</td>\n      <td>False</td>\n      <td>Owl. Owl</td>\n      <td>2</td>\n    </tr>\n    <tr>\n      <th>99033</th>\n      <td>SEKI</td>\n      <td>Sequoia and Kings Canyon National Parks</td>\n      <td>Accipitridae</td>\n      <td>Buteo lagopus</td>\n      <td>Roughleg, Rough-Legged Buzzard, Rough-Legged Hawk</td>\n      <td>Species of Concern</td>\n      <td>True</td>\n      <td>Buzzard. Hawk</td>\n      <td>2</td>\n    </tr>\n    <tr>\n      <th>99043</th>\n      <td>SEKI</td>\n      <td>Sequoia and Kings Canyon National Parks</td>\n      <td>Pandionidae</td>\n      <td>Pandion haliaetus</td>\n      <td>Osprey, Western Osprey</td>\n      <td>Species of Concern</td>\n      <td>True</td>\n      <td>Osprey. Osprey</td>\n      <td>1</td>\n    </tr>\n    <tr>\n      <th>99240</th>\n      <td>SEKI</td>\n      <td>Sequoia and Kings Canyon National Parks</td>\n      <td>Strigidae</td>\n      <td>Glaucidium gnoma</td>\n      <td>Mountain Pygmy Owl, Northern Pygmy-Owl</td>\n      <td>Least Concern</td>\n      <td>False</td>\n      <td>Owl. Owl</td>\n      <td>1</td>\n    </tr>\n    <tr>\n      <th>99241</th>\n      <td>SEKI</td>\n      <td>Sequoia and Kings Canyon National Parks</td>\n      <td>Strigidae</td>\n      <td>Megascops kennicottii</td>\n      <td>Tecolote Occidental, Western Screech Owl, West...</td>\n      <td>Least Concern</td>\n      <td>False</td>\n      <td>Owl. Owl</td>\n      <td>2</td>\n    </tr>\n    <tr>\n      <th>99243</th>\n      <td>SEKI</td>\n      <td>Sequoia and Kings Canyon National Parks</td>\n      <td>Strigidae</td>\n      <td>Strix nebulosa</td>\n      <td>Great Gray Owl, Great Grey Owl</td>\n      <td>Least Concern</td>\n      <td>False</td>\n      <td>Owl. Owl</td>\n      <td>1</td>\n    </tr>\n    <tr>\n      <th>99246</th>\n      <td>SEKI</td>\n      <td>Sequoia and Kings Canyon National Parks</td>\n      <td>Tytonidae</td>\n      <td>Tyto alba</td>\n      <td>Barn Owl, Common Barn-Owl</td>\n      <td>Least Concern</td>\n      <td>False</td>\n      <td>Owl. Owl</td>\n      <td>1</td>\n    </tr>\n    <tr>\n      <th>77168</th>\n      <td>MEVE</td>\n      <td>Mesa Verde National Park</td>\n      <td>Accipitridae</td>\n      <td>Buteo lagopus</td>\n      <td>Roughleg, Rough-Legged Buzzard, Rough-Legged Hawk</td>\n      <td>Species of Concern</td>\n      <td>True</td>\n      <td>Buzzard. Hawk</td>\n      <td>2</td>\n    </tr>\n    <tr>\n      <th>77173</th>\n      <td>MEVE</td>\n      <td>Mesa Verde National Park</td>\n      <td>Accipitridae</td>\n      <td>Elanus caeruleus</td>\n      <td>Black-Shouldered Kite, Black-Winged Kite</td>\n      <td>Species of Concern</td>\n      <td>True</td>\n      <td>Kite. Kite</td>\n      <td>1</td>\n    </tr>\n    <tr>\n      <th>77176</th>\n      <td>MEVE</td>\n      <td>Mesa Verde National Park</td>\n      <td>Accipitridae</td>\n      <td>Parabuteo unicinctus</td>\n      <td>Harris' Hawk, Harris's Hawk</td>\n      <td>Species of Concern</td>\n      <td>True</td>\n      <td>Hawk. Hawk</td>\n      <td>1</td>\n    </tr>\n    <tr>\n      <th>77179</th>\n      <td>MEVE</td>\n      <td>Mesa Verde National Park</td>\n      <td>Pandionidae</td>\n      <td>Pandion haliaetus</td>\n      <td>Osprey, Western Osprey</td>\n      <td>Species of Concern</td>\n      <td>True</td>\n      <td>Osprey. Osprey</td>\n      <td>1</td>\n    </tr>\n    <tr>\n      <th>77396</th>\n      <td>MEVE</td>\n      <td>Mesa Verde National Park</td>\n      <td>Strigidae</td>\n      <td>Glaucidium gnoma</td>\n      <td>Mountain Pygmy Owl, Northern Pygmy-Owl</td>\n      <td>Least Concern</td>\n      <td>False</td>\n      <td>Owl. Owl</td>\n      <td>1</td>\n    </tr>\n    <tr>\n      <th>39445</th>\n      <td>GRBA</td>\n      <td>Great Basin National Park</td>\n      <td>Pandionidae</td>\n      <td>Pandion haliaetus</td>\n      <td>Osprey, Western Osprey</td>\n      <td>Species of Concern</td>\n      <td>True</td>\n      <td>Osprey. Osprey</td>\n      <td>1</td>\n    </tr>\n    <tr>\n      <th>39753</th>\n      <td>GRBA</td>\n      <td>Great Basin National Park</td>\n      <td>Tytonidae</td>\n      <td>Tyto alba</td>\n      <td>Barn Owl, Common Barn-Owl</td>\n      <td>Least Concern</td>\n      <td>False</td>\n      <td>Owl. Owl</td>\n      <td>1</td>\n    </tr>\n  </tbody>\n</table>\n</div>"
     },
     "execution_count": 621,
     "metadata": {},
     "output_type": "execute_result"
    }
   ],
   "source": [
    "sw_birds['comma_count'] = sw_birds['common_names'].str.count(\",\")\n",
    "comma_raptors = (sw_birds['comma_count'] > 0) & (sw_birds['raptor'] != '')\n",
    "comma_raptors_df = sw_birds[comma_raptors]\n",
    "comma_raptors_df"
   ],
   "metadata": {
    "collapsed": false
   }
  },
  {
   "cell_type": "code",
   "execution_count": 622,
   "outputs": [
    {
     "name": "stdout",
     "output_type": "stream",
     "text": [
      "Comma separated names: \n",
      "\n",
      "['Common Black Hawk, Common Black-Hawk', 'Roughleg, Rough-Legged Buzzard, Rough-Legged Hawk', 'Osprey, Western Osprey', 'Gray Hawk, Grey Hawk', 'Osprey, Western Osprey', 'Crested Caracara, Northern Crested Caracara', 'Ferruginous Pygmy Owl, Ferruginous Pygmy-Owl', 'Eastern Screech Owl, Eastern Screech-Owl', 'Tecolote Occidental, Western Screech Owl, Western Screech-Owl', 'Whiskered Screech Owl, Whiskered Screech-Owl', 'Northern Saw-Whet Owl, Saw-Whet Owl', 'Northern Pygmy-Owl, Pygmy Owl', 'Roughleg, Rough-Legged Buzzard, Rough-Legged Hawk', 'Osprey, Western Osprey', 'Mountain Pygmy Owl, Northern Pygmy-Owl', 'Great Gray Owl, Great Grey Owl', 'Barn Owl, Common Barn-Owl', 'Osprey, Western Osprey', 'Tecolote Occidental, Western Screech Owl, Western Screech-Owl', 'Roughleg, Rough-Legged Buzzard, Rough-Legged Hawk', 'Osprey, Western Osprey', 'Mountain Pygmy Owl, Northern Pygmy-Owl', 'Tecolote Occidental, Western Screech Owl, Western Screech-Owl', 'Great Gray Owl, Great Grey Owl', 'Barn Owl, Common Barn-Owl', 'Roughleg, Rough-Legged Buzzard, Rough-Legged Hawk', 'Black-Shouldered Kite, Black-Winged Kite', \"Harris' Hawk, Harris's Hawk\", 'Osprey, Western Osprey', 'Mountain Pygmy Owl, Northern Pygmy-Owl', 'Osprey, Western Osprey', 'Barn Owl, Common Barn-Owl']\n"
     ]
    }
   ],
   "source": [
    "comma_raptors_list = comma_raptors_df.common_names.tolist()\n",
    "print(f\"Comma separated names: \\n\\n{comma_raptors_list}\")"
   ],
   "metadata": {
    "collapsed": false
   }
  },
  {
   "cell_type": "markdown",
   "source": [
    "## Need to find a way to automate this process...\n",
    "\n",
    "At least I'm not worried about comma-separated `common_names` for the 'not raptors'!"
   ],
   "metadata": {
    "collapsed": false
   }
  },
  {
   "cell_type": "code",
   "execution_count": 623,
   "outputs": [
    {
     "data": {
      "text/plain": "      park_code                                park_name       family  \\\n85448      PEFO           Petrified Forest National Park  Pandionidae   \n97221      SAGU                    Saguaro National Park  Pandionidae   \n72897      LAVO            Lassen Volcanic National Park  Pandionidae   \n86302      PINN                  Pinnacles National Park  Pandionidae   \n99043      SEKI  Sequoia and Kings Canyon National Parks  Pandionidae   \n\n         scientific_name            common_names conservation_status  \\\n85448  Pandion haliaetus  Osprey, Western Osprey  Species of Concern   \n97221  Pandion haliaetus  Osprey, Western Osprey  Species of Concern   \n72897  Pandion haliaetus  Osprey, Western Osprey  Species of Concern   \n86302  Pandion haliaetus  Osprey, Western Osprey  Species of Concern   \n99043  Pandion haliaetus  Osprey, Western Osprey  Species of Concern   \n\n       protected          raptor  comma_count  \n85448       True  Osprey. Osprey            1  \n97221       True  Osprey. Osprey            1  \n72897       True  Osprey. Osprey            1  \n86302       True  Osprey. Osprey            1  \n99043       True  Osprey. Osprey            1  ",
      "text/html": "<div>\n<style scoped>\n    .dataframe tbody tr th:only-of-type {\n        vertical-align: middle;\n    }\n\n    .dataframe tbody tr th {\n        vertical-align: top;\n    }\n\n    .dataframe thead th {\n        text-align: right;\n    }\n</style>\n<table border=\"1\" class=\"dataframe\">\n  <thead>\n    <tr style=\"text-align: right;\">\n      <th></th>\n      <th>park_code</th>\n      <th>park_name</th>\n      <th>family</th>\n      <th>scientific_name</th>\n      <th>common_names</th>\n      <th>conservation_status</th>\n      <th>protected</th>\n      <th>raptor</th>\n      <th>comma_count</th>\n    </tr>\n  </thead>\n  <tbody>\n    <tr>\n      <th>85448</th>\n      <td>PEFO</td>\n      <td>Petrified Forest National Park</td>\n      <td>Pandionidae</td>\n      <td>Pandion haliaetus</td>\n      <td>Osprey, Western Osprey</td>\n      <td>Species of Concern</td>\n      <td>True</td>\n      <td>Osprey. Osprey</td>\n      <td>1</td>\n    </tr>\n    <tr>\n      <th>97221</th>\n      <td>SAGU</td>\n      <td>Saguaro National Park</td>\n      <td>Pandionidae</td>\n      <td>Pandion haliaetus</td>\n      <td>Osprey, Western Osprey</td>\n      <td>Species of Concern</td>\n      <td>True</td>\n      <td>Osprey. Osprey</td>\n      <td>1</td>\n    </tr>\n    <tr>\n      <th>72897</th>\n      <td>LAVO</td>\n      <td>Lassen Volcanic National Park</td>\n      <td>Pandionidae</td>\n      <td>Pandion haliaetus</td>\n      <td>Osprey, Western Osprey</td>\n      <td>Species of Concern</td>\n      <td>True</td>\n      <td>Osprey. Osprey</td>\n      <td>1</td>\n    </tr>\n    <tr>\n      <th>86302</th>\n      <td>PINN</td>\n      <td>Pinnacles National Park</td>\n      <td>Pandionidae</td>\n      <td>Pandion haliaetus</td>\n      <td>Osprey, Western Osprey</td>\n      <td>Species of Concern</td>\n      <td>True</td>\n      <td>Osprey. Osprey</td>\n      <td>1</td>\n    </tr>\n    <tr>\n      <th>99043</th>\n      <td>SEKI</td>\n      <td>Sequoia and Kings Canyon National Parks</td>\n      <td>Pandionidae</td>\n      <td>Pandion haliaetus</td>\n      <td>Osprey, Western Osprey</td>\n      <td>Species of Concern</td>\n      <td>True</td>\n      <td>Osprey. Osprey</td>\n      <td>1</td>\n    </tr>\n  </tbody>\n</table>\n</div>"
     },
     "execution_count": 623,
     "metadata": {},
     "output_type": "execute_result"
    }
   ],
   "source": [
    "osprey = sw_birds[sw_birds.common_names == 'Osprey, Western Osprey']\n",
    "osprey.head()"
   ],
   "metadata": {
    "collapsed": false
   }
  },
  {
   "cell_type": "markdown",
   "source": [
    "- *Pandion haliaetus* is the 'Osprey'.\n",
    "- *Pandion haliaetus carolinensis* is the 'Western Osprey'\n",
    "- gray to grey\n",
    "- remove hyphens"
   ],
   "metadata": {
    "collapsed": false
   }
  },
  {
   "cell_type": "code",
   "execution_count": 624,
   "outputs": [],
   "source": [
    "# defining a function to complete the above.\n",
    "\n",
    "def clean_species_name(species_name):\n",
    "    if species_name == \"Osprey, Western Osprey\":\n",
    "        species_name = \"Osprey\"\n",
    "    if species_name == \"Gray Hawk, Grey Hawk\":\n",
    "        species_name = \"Grey Hawk\"\n",
    "    if species_name == \"Great Gray Owl, Great Grey Owl\":\n",
    "        species_name = \"Great Grey Owl\"\n",
    "    species_name = species_name.replace(\"-\", \" \")\n",
    "    species_list = species_name.split(\", \")\n",
    "    # Split at the commas\n",
    "    if len(species_list) > 1 and species_list[0] == species_list[1]:\n",
    "        species_name = species_list[0]\n",
    "    # If equal either side then return first index\n",
    "    else:\n",
    "        species_name = \", \".join(species_list)\n",
    "    # else add a comma again and retain value\n",
    "    return species_name"
   ],
   "metadata": {
    "collapsed": false
   }
  },
  {
   "cell_type": "code",
   "execution_count": 625,
   "outputs": [],
   "source": [
    "sw_birds['common_names'] = sw_birds['common_names'].apply(clean_species_name)"
   ],
   "metadata": {
    "collapsed": false
   }
  },
  {
   "cell_type": "code",
   "execution_count": 626,
   "outputs": [
    {
     "data": {
      "text/plain": "      park_code                                park_name        family  \\\n85442      PEFO           Petrified Forest National Park  Accipitridae   \n97255      SAGU                    Saguaro National Park    Falconidae   \n97446      SAGU                    Saguaro National Park     Strigidae   \n26804      DEVA               Death Valley National Park     Strigidae   \n26812      DEVA               Death Valley National Park     Strigidae   \n72887      LAVO            Lassen Volcanic National Park  Accipitridae   \n73119      LAVO            Lassen Volcanic National Park     Strigidae   \n73124      LAVO            Lassen Volcanic National Park     Tytonidae   \n88284      REDW                    Redwood National Park     Strigidae   \n99033      SEKI  Sequoia and Kings Canyon National Parks  Accipitridae   \n99240      SEKI  Sequoia and Kings Canyon National Parks     Strigidae   \n99241      SEKI  Sequoia and Kings Canyon National Parks     Strigidae   \n99246      SEKI  Sequoia and Kings Canyon National Parks     Tytonidae   \n77168      MEVE                 Mesa Verde National Park  Accipitridae   \n77173      MEVE                 Mesa Verde National Park  Accipitridae   \n77176      MEVE                 Mesa Verde National Park  Accipitridae   \n77396      MEVE                 Mesa Verde National Park     Strigidae   \n39753      GRBA                Great Basin National Park     Tytonidae   \n\n             scientific_name  \\\n85442          Buteo lagopus   \n97255      Caracara cheriway   \n97446  Megascops kennicottii   \n26804      Aegolius acadicus   \n26812       Glaucidium gnoma   \n72887          Buteo lagopus   \n73119       Glaucidium gnoma   \n73124              Tyto alba   \n88284  Megascops kennicottii   \n99033          Buteo lagopus   \n99240       Glaucidium gnoma   \n99241  Megascops kennicottii   \n99246              Tyto alba   \n77168          Buteo lagopus   \n77173       Elanus caeruleus   \n77176   Parabuteo unicinctus   \n77396       Glaucidium gnoma   \n39753              Tyto alba   \n\n                                            common_names conservation_status  \\\n85442  Roughleg, Rough Legged Buzzard, Rough Legged Hawk  Species of Concern   \n97255        Crested Caracara, Northern Crested Caracara       Least Concern   \n97446  Tecolote Occidental, Western Screech Owl, West...       Least Concern   \n26804                Northern Saw Whet Owl, Saw Whet Owl       Least Concern   \n26812                      Northern Pygmy Owl, Pygmy Owl       Least Concern   \n72887  Roughleg, Rough Legged Buzzard, Rough Legged Hawk  Species of Concern   \n73119             Mountain Pygmy Owl, Northern Pygmy Owl       Least Concern   \n73124                          Barn Owl, Common Barn Owl       Least Concern   \n88284  Tecolote Occidental, Western Screech Owl, West...       Least Concern   \n99033  Roughleg, Rough Legged Buzzard, Rough Legged Hawk  Species of Concern   \n99240             Mountain Pygmy Owl, Northern Pygmy Owl       Least Concern   \n99241  Tecolote Occidental, Western Screech Owl, West...       Least Concern   \n99246                          Barn Owl, Common Barn Owl       Least Concern   \n77168  Roughleg, Rough Legged Buzzard, Rough Legged Hawk  Species of Concern   \n77173           Black Shouldered Kite, Black Winged Kite  Species of Concern   \n77176                        Harris' Hawk, Harris's Hawk  Species of Concern   \n77396             Mountain Pygmy Owl, Northern Pygmy Owl       Least Concern   \n39753                          Barn Owl, Common Barn Owl       Least Concern   \n\n       protected              raptor  comma_count  \n85442       True       Buzzard. Hawk            2  \n97255      False  Caracara. Caracara            1  \n97446      False            Owl. Owl            2  \n26804      False            Owl. Owl            1  \n26812      False            Owl. Owl            1  \n72887       True       Buzzard. Hawk            2  \n73119      False            Owl. Owl            1  \n73124      False            Owl. Owl            1  \n88284      False            Owl. Owl            2  \n99033       True       Buzzard. Hawk            2  \n99240      False            Owl. Owl            1  \n99241      False            Owl. Owl            2  \n99246      False            Owl. Owl            1  \n77168       True       Buzzard. Hawk            2  \n77173       True          Kite. Kite            1  \n77176       True          Hawk. Hawk            1  \n77396      False            Owl. Owl            1  \n39753      False            Owl. Owl            1  ",
      "text/html": "<div>\n<style scoped>\n    .dataframe tbody tr th:only-of-type {\n        vertical-align: middle;\n    }\n\n    .dataframe tbody tr th {\n        vertical-align: top;\n    }\n\n    .dataframe thead th {\n        text-align: right;\n    }\n</style>\n<table border=\"1\" class=\"dataframe\">\n  <thead>\n    <tr style=\"text-align: right;\">\n      <th></th>\n      <th>park_code</th>\n      <th>park_name</th>\n      <th>family</th>\n      <th>scientific_name</th>\n      <th>common_names</th>\n      <th>conservation_status</th>\n      <th>protected</th>\n      <th>raptor</th>\n      <th>comma_count</th>\n    </tr>\n  </thead>\n  <tbody>\n    <tr>\n      <th>85442</th>\n      <td>PEFO</td>\n      <td>Petrified Forest National Park</td>\n      <td>Accipitridae</td>\n      <td>Buteo lagopus</td>\n      <td>Roughleg, Rough Legged Buzzard, Rough Legged Hawk</td>\n      <td>Species of Concern</td>\n      <td>True</td>\n      <td>Buzzard. Hawk</td>\n      <td>2</td>\n    </tr>\n    <tr>\n      <th>97255</th>\n      <td>SAGU</td>\n      <td>Saguaro National Park</td>\n      <td>Falconidae</td>\n      <td>Caracara cheriway</td>\n      <td>Crested Caracara, Northern Crested Caracara</td>\n      <td>Least Concern</td>\n      <td>False</td>\n      <td>Caracara. Caracara</td>\n      <td>1</td>\n    </tr>\n    <tr>\n      <th>97446</th>\n      <td>SAGU</td>\n      <td>Saguaro National Park</td>\n      <td>Strigidae</td>\n      <td>Megascops kennicottii</td>\n      <td>Tecolote Occidental, Western Screech Owl, West...</td>\n      <td>Least Concern</td>\n      <td>False</td>\n      <td>Owl. Owl</td>\n      <td>2</td>\n    </tr>\n    <tr>\n      <th>26804</th>\n      <td>DEVA</td>\n      <td>Death Valley National Park</td>\n      <td>Strigidae</td>\n      <td>Aegolius acadicus</td>\n      <td>Northern Saw Whet Owl, Saw Whet Owl</td>\n      <td>Least Concern</td>\n      <td>False</td>\n      <td>Owl. Owl</td>\n      <td>1</td>\n    </tr>\n    <tr>\n      <th>26812</th>\n      <td>DEVA</td>\n      <td>Death Valley National Park</td>\n      <td>Strigidae</td>\n      <td>Glaucidium gnoma</td>\n      <td>Northern Pygmy Owl, Pygmy Owl</td>\n      <td>Least Concern</td>\n      <td>False</td>\n      <td>Owl. Owl</td>\n      <td>1</td>\n    </tr>\n    <tr>\n      <th>72887</th>\n      <td>LAVO</td>\n      <td>Lassen Volcanic National Park</td>\n      <td>Accipitridae</td>\n      <td>Buteo lagopus</td>\n      <td>Roughleg, Rough Legged Buzzard, Rough Legged Hawk</td>\n      <td>Species of Concern</td>\n      <td>True</td>\n      <td>Buzzard. Hawk</td>\n      <td>2</td>\n    </tr>\n    <tr>\n      <th>73119</th>\n      <td>LAVO</td>\n      <td>Lassen Volcanic National Park</td>\n      <td>Strigidae</td>\n      <td>Glaucidium gnoma</td>\n      <td>Mountain Pygmy Owl, Northern Pygmy Owl</td>\n      <td>Least Concern</td>\n      <td>False</td>\n      <td>Owl. Owl</td>\n      <td>1</td>\n    </tr>\n    <tr>\n      <th>73124</th>\n      <td>LAVO</td>\n      <td>Lassen Volcanic National Park</td>\n      <td>Tytonidae</td>\n      <td>Tyto alba</td>\n      <td>Barn Owl, Common Barn Owl</td>\n      <td>Least Concern</td>\n      <td>False</td>\n      <td>Owl. Owl</td>\n      <td>1</td>\n    </tr>\n    <tr>\n      <th>88284</th>\n      <td>REDW</td>\n      <td>Redwood National Park</td>\n      <td>Strigidae</td>\n      <td>Megascops kennicottii</td>\n      <td>Tecolote Occidental, Western Screech Owl, West...</td>\n      <td>Least Concern</td>\n      <td>False</td>\n      <td>Owl. Owl</td>\n      <td>2</td>\n    </tr>\n    <tr>\n      <th>99033</th>\n      <td>SEKI</td>\n      <td>Sequoia and Kings Canyon National Parks</td>\n      <td>Accipitridae</td>\n      <td>Buteo lagopus</td>\n      <td>Roughleg, Rough Legged Buzzard, Rough Legged Hawk</td>\n      <td>Species of Concern</td>\n      <td>True</td>\n      <td>Buzzard. Hawk</td>\n      <td>2</td>\n    </tr>\n    <tr>\n      <th>99240</th>\n      <td>SEKI</td>\n      <td>Sequoia and Kings Canyon National Parks</td>\n      <td>Strigidae</td>\n      <td>Glaucidium gnoma</td>\n      <td>Mountain Pygmy Owl, Northern Pygmy Owl</td>\n      <td>Least Concern</td>\n      <td>False</td>\n      <td>Owl. Owl</td>\n      <td>1</td>\n    </tr>\n    <tr>\n      <th>99241</th>\n      <td>SEKI</td>\n      <td>Sequoia and Kings Canyon National Parks</td>\n      <td>Strigidae</td>\n      <td>Megascops kennicottii</td>\n      <td>Tecolote Occidental, Western Screech Owl, West...</td>\n      <td>Least Concern</td>\n      <td>False</td>\n      <td>Owl. Owl</td>\n      <td>2</td>\n    </tr>\n    <tr>\n      <th>99246</th>\n      <td>SEKI</td>\n      <td>Sequoia and Kings Canyon National Parks</td>\n      <td>Tytonidae</td>\n      <td>Tyto alba</td>\n      <td>Barn Owl, Common Barn Owl</td>\n      <td>Least Concern</td>\n      <td>False</td>\n      <td>Owl. Owl</td>\n      <td>1</td>\n    </tr>\n    <tr>\n      <th>77168</th>\n      <td>MEVE</td>\n      <td>Mesa Verde National Park</td>\n      <td>Accipitridae</td>\n      <td>Buteo lagopus</td>\n      <td>Roughleg, Rough Legged Buzzard, Rough Legged Hawk</td>\n      <td>Species of Concern</td>\n      <td>True</td>\n      <td>Buzzard. Hawk</td>\n      <td>2</td>\n    </tr>\n    <tr>\n      <th>77173</th>\n      <td>MEVE</td>\n      <td>Mesa Verde National Park</td>\n      <td>Accipitridae</td>\n      <td>Elanus caeruleus</td>\n      <td>Black Shouldered Kite, Black Winged Kite</td>\n      <td>Species of Concern</td>\n      <td>True</td>\n      <td>Kite. Kite</td>\n      <td>1</td>\n    </tr>\n    <tr>\n      <th>77176</th>\n      <td>MEVE</td>\n      <td>Mesa Verde National Park</td>\n      <td>Accipitridae</td>\n      <td>Parabuteo unicinctus</td>\n      <td>Harris' Hawk, Harris's Hawk</td>\n      <td>Species of Concern</td>\n      <td>True</td>\n      <td>Hawk. Hawk</td>\n      <td>1</td>\n    </tr>\n    <tr>\n      <th>77396</th>\n      <td>MEVE</td>\n      <td>Mesa Verde National Park</td>\n      <td>Strigidae</td>\n      <td>Glaucidium gnoma</td>\n      <td>Mountain Pygmy Owl, Northern Pygmy Owl</td>\n      <td>Least Concern</td>\n      <td>False</td>\n      <td>Owl. Owl</td>\n      <td>1</td>\n    </tr>\n    <tr>\n      <th>39753</th>\n      <td>GRBA</td>\n      <td>Great Basin National Park</td>\n      <td>Tytonidae</td>\n      <td>Tyto alba</td>\n      <td>Barn Owl, Common Barn Owl</td>\n      <td>Least Concern</td>\n      <td>False</td>\n      <td>Owl. Owl</td>\n      <td>1</td>\n    </tr>\n  </tbody>\n</table>\n</div>"
     },
     "execution_count": 626,
     "metadata": {},
     "output_type": "execute_result"
    }
   ],
   "source": [
    "sw_birds['comma_count'] = sw_birds['common_names'].str.count(\",\")\n",
    "comma_raptors = (sw_birds['comma_count'] > 0) & (sw_birds['raptor'] != '')\n",
    "comma_raptors_df = sw_birds[comma_raptors]\n",
    "comma_raptors_df"
   ],
   "metadata": {
    "collapsed": false
   }
  },
  {
   "cell_type": "markdown",
   "source": [
    "Now using some regex to analyse the remaining `common_names`"
   ],
   "metadata": {
    "collapsed": false
   }
  },
  {
   "cell_type": "code",
   "execution_count": 627,
   "outputs": [
    {
     "data": {
      "text/plain": "      park_code                       park_name        family  \\\n42322      GRCA      Grand Canyon National Park  Hirundinidae   \n42533      GRCA      Grand Canyon National Park     Tytonidae   \n85563      PEFO  Petrified Forest National Park  Hirundinidae   \n97322      SAGU           Saguaro National Park  Hirundinidae   \n97451      SAGU           Saguaro National Park     Tytonidae   \n15102      CHIS   Channel Islands National Park  Hirundinidae   \n15251      CHIS   Channel Islands National Park     Tytonidae   \n26586      DEVA      Death Valley National Park  Hirundinidae   \n26819      DEVA      Death Valley National Park     Strigidae   \n26821      DEVA      Death Valley National Park     Tytonidae   \n\n        scientific_name       common_names conservation_status  protected  \\\n42322   Hirundo rustica       Barn Swallow       Least Concern      False   \n42533         Tyto alba           Barn Owl       Least Concern      False   \n85563   Hirundo rustica       Barn Swallow       Least Concern      False   \n97322   Hirundo rustica       Barn Swallow       Least Concern      False   \n97451         Tyto alba           Barn Owl       Least Concern      False   \n15102   Hirundo rustica       Barn Swallow       Least Concern      False   \n15251         Tyto alba           Barn Owl       Least Concern      False   \n26586   Hirundo rustica       Barn Swallow       Least Concern      False   \n26819  Strix pratincola  American Barn Owl       Least Concern      False   \n26821         Tyto alba           Barn Owl       Least Concern      False   \n\n      raptor  comma_count  is_barn  \n42322                   0     True  \n42533    Owl            0     True  \n85563                   0     True  \n97322                   0     True  \n97451    Owl            0     True  \n15102                   0     True  \n15251    Owl            0     True  \n26586                   0     True  \n26819    Owl            0     True  \n26821    Owl            0     True  ",
      "text/html": "<div>\n<style scoped>\n    .dataframe tbody tr th:only-of-type {\n        vertical-align: middle;\n    }\n\n    .dataframe tbody tr th {\n        vertical-align: top;\n    }\n\n    .dataframe thead th {\n        text-align: right;\n    }\n</style>\n<table border=\"1\" class=\"dataframe\">\n  <thead>\n    <tr style=\"text-align: right;\">\n      <th></th>\n      <th>park_code</th>\n      <th>park_name</th>\n      <th>family</th>\n      <th>scientific_name</th>\n      <th>common_names</th>\n      <th>conservation_status</th>\n      <th>protected</th>\n      <th>raptor</th>\n      <th>comma_count</th>\n      <th>is_barn</th>\n    </tr>\n  </thead>\n  <tbody>\n    <tr>\n      <th>42322</th>\n      <td>GRCA</td>\n      <td>Grand Canyon National Park</td>\n      <td>Hirundinidae</td>\n      <td>Hirundo rustica</td>\n      <td>Barn Swallow</td>\n      <td>Least Concern</td>\n      <td>False</td>\n      <td></td>\n      <td>0</td>\n      <td>True</td>\n    </tr>\n    <tr>\n      <th>42533</th>\n      <td>GRCA</td>\n      <td>Grand Canyon National Park</td>\n      <td>Tytonidae</td>\n      <td>Tyto alba</td>\n      <td>Barn Owl</td>\n      <td>Least Concern</td>\n      <td>False</td>\n      <td>Owl</td>\n      <td>0</td>\n      <td>True</td>\n    </tr>\n    <tr>\n      <th>85563</th>\n      <td>PEFO</td>\n      <td>Petrified Forest National Park</td>\n      <td>Hirundinidae</td>\n      <td>Hirundo rustica</td>\n      <td>Barn Swallow</td>\n      <td>Least Concern</td>\n      <td>False</td>\n      <td></td>\n      <td>0</td>\n      <td>True</td>\n    </tr>\n    <tr>\n      <th>97322</th>\n      <td>SAGU</td>\n      <td>Saguaro National Park</td>\n      <td>Hirundinidae</td>\n      <td>Hirundo rustica</td>\n      <td>Barn Swallow</td>\n      <td>Least Concern</td>\n      <td>False</td>\n      <td></td>\n      <td>0</td>\n      <td>True</td>\n    </tr>\n    <tr>\n      <th>97451</th>\n      <td>SAGU</td>\n      <td>Saguaro National Park</td>\n      <td>Tytonidae</td>\n      <td>Tyto alba</td>\n      <td>Barn Owl</td>\n      <td>Least Concern</td>\n      <td>False</td>\n      <td>Owl</td>\n      <td>0</td>\n      <td>True</td>\n    </tr>\n    <tr>\n      <th>15102</th>\n      <td>CHIS</td>\n      <td>Channel Islands National Park</td>\n      <td>Hirundinidae</td>\n      <td>Hirundo rustica</td>\n      <td>Barn Swallow</td>\n      <td>Least Concern</td>\n      <td>False</td>\n      <td></td>\n      <td>0</td>\n      <td>True</td>\n    </tr>\n    <tr>\n      <th>15251</th>\n      <td>CHIS</td>\n      <td>Channel Islands National Park</td>\n      <td>Tytonidae</td>\n      <td>Tyto alba</td>\n      <td>Barn Owl</td>\n      <td>Least Concern</td>\n      <td>False</td>\n      <td>Owl</td>\n      <td>0</td>\n      <td>True</td>\n    </tr>\n    <tr>\n      <th>26586</th>\n      <td>DEVA</td>\n      <td>Death Valley National Park</td>\n      <td>Hirundinidae</td>\n      <td>Hirundo rustica</td>\n      <td>Barn Swallow</td>\n      <td>Least Concern</td>\n      <td>False</td>\n      <td></td>\n      <td>0</td>\n      <td>True</td>\n    </tr>\n    <tr>\n      <th>26819</th>\n      <td>DEVA</td>\n      <td>Death Valley National Park</td>\n      <td>Strigidae</td>\n      <td>Strix pratincola</td>\n      <td>American Barn Owl</td>\n      <td>Least Concern</td>\n      <td>False</td>\n      <td>Owl</td>\n      <td>0</td>\n      <td>True</td>\n    </tr>\n    <tr>\n      <th>26821</th>\n      <td>DEVA</td>\n      <td>Death Valley National Park</td>\n      <td>Tytonidae</td>\n      <td>Tyto alba</td>\n      <td>Barn Owl</td>\n      <td>Least Concern</td>\n      <td>False</td>\n      <td>Owl</td>\n      <td>0</td>\n      <td>True</td>\n    </tr>\n  </tbody>\n</table>\n</div>"
     },
     "execution_count": 627,
     "metadata": {},
     "output_type": "execute_result"
    }
   ],
   "source": [
    "sw_birds['is_barn'] = sw_birds.common_names.str.contains(r\"\\bBarn\\b\", regex=True)\n",
    "sw_birds[sw_birds.is_barn].head(10)"
   ],
   "metadata": {
    "collapsed": false
   }
  },
  {
   "cell_type": "code",
   "execution_count": 628,
   "outputs": [
    {
     "data": {
      "text/plain": "      park_code                                park_name        family  \\\n85442      PEFO           Petrified Forest National Park  Accipitridae   \n72887      LAVO            Lassen Volcanic National Park  Accipitridae   \n99033      SEKI  Sequoia and Kings Canyon National Parks  Accipitridae   \n77168      MEVE                 Mesa Verde National Park  Accipitridae   \n\n      scientific_name                                       common_names  \\\n85442   Buteo lagopus  Roughleg, Rough Legged Buzzard, Rough Legged Hawk   \n72887   Buteo lagopus  Roughleg, Rough Legged Buzzard, Rough Legged Hawk   \n99033   Buteo lagopus  Roughleg, Rough Legged Buzzard, Rough Legged Hawk   \n77168   Buteo lagopus  Roughleg, Rough Legged Buzzard, Rough Legged Hawk   \n\n      conservation_status  protected         raptor  comma_count  is_barn  \\\n85442  Species of Concern       True  Buzzard. Hawk            2    False   \n72887  Species of Concern       True  Buzzard. Hawk            2    False   \n99033  Species of Concern       True  Buzzard. Hawk            2    False   \n77168  Species of Concern       True  Buzzard. Hawk            2    False   \n\n       is_buzzard  \n85442        True  \n72887        True  \n99033        True  \n77168        True  ",
      "text/html": "<div>\n<style scoped>\n    .dataframe tbody tr th:only-of-type {\n        vertical-align: middle;\n    }\n\n    .dataframe tbody tr th {\n        vertical-align: top;\n    }\n\n    .dataframe thead th {\n        text-align: right;\n    }\n</style>\n<table border=\"1\" class=\"dataframe\">\n  <thead>\n    <tr style=\"text-align: right;\">\n      <th></th>\n      <th>park_code</th>\n      <th>park_name</th>\n      <th>family</th>\n      <th>scientific_name</th>\n      <th>common_names</th>\n      <th>conservation_status</th>\n      <th>protected</th>\n      <th>raptor</th>\n      <th>comma_count</th>\n      <th>is_barn</th>\n      <th>is_buzzard</th>\n    </tr>\n  </thead>\n  <tbody>\n    <tr>\n      <th>85442</th>\n      <td>PEFO</td>\n      <td>Petrified Forest National Park</td>\n      <td>Accipitridae</td>\n      <td>Buteo lagopus</td>\n      <td>Roughleg, Rough Legged Buzzard, Rough Legged Hawk</td>\n      <td>Species of Concern</td>\n      <td>True</td>\n      <td>Buzzard. Hawk</td>\n      <td>2</td>\n      <td>False</td>\n      <td>True</td>\n    </tr>\n    <tr>\n      <th>72887</th>\n      <td>LAVO</td>\n      <td>Lassen Volcanic National Park</td>\n      <td>Accipitridae</td>\n      <td>Buteo lagopus</td>\n      <td>Roughleg, Rough Legged Buzzard, Rough Legged Hawk</td>\n      <td>Species of Concern</td>\n      <td>True</td>\n      <td>Buzzard. Hawk</td>\n      <td>2</td>\n      <td>False</td>\n      <td>True</td>\n    </tr>\n    <tr>\n      <th>99033</th>\n      <td>SEKI</td>\n      <td>Sequoia and Kings Canyon National Parks</td>\n      <td>Accipitridae</td>\n      <td>Buteo lagopus</td>\n      <td>Roughleg, Rough Legged Buzzard, Rough Legged Hawk</td>\n      <td>Species of Concern</td>\n      <td>True</td>\n      <td>Buzzard. Hawk</td>\n      <td>2</td>\n      <td>False</td>\n      <td>True</td>\n    </tr>\n    <tr>\n      <th>77168</th>\n      <td>MEVE</td>\n      <td>Mesa Verde National Park</td>\n      <td>Accipitridae</td>\n      <td>Buteo lagopus</td>\n      <td>Roughleg, Rough Legged Buzzard, Rough Legged Hawk</td>\n      <td>Species of Concern</td>\n      <td>True</td>\n      <td>Buzzard. Hawk</td>\n      <td>2</td>\n      <td>False</td>\n      <td>True</td>\n    </tr>\n  </tbody>\n</table>\n</div>"
     },
     "execution_count": 628,
     "metadata": {},
     "output_type": "execute_result"
    }
   ],
   "source": [
    "sw_birds['is_buzzard'] = sw_birds.common_names.str.contains(r\"\\bBuzzard\\b\", regex=True)\n",
    "sw_birds[sw_birds.is_buzzard].head()"
   ],
   "metadata": {
    "collapsed": false
   }
  },
  {
   "cell_type": "code",
   "execution_count": 629,
   "outputs": [
    {
     "data": {
      "text/plain": "      park_code                       park_name     family  \\\n42529      GRCA      Grand Canyon National Park  Strigidae   \n85679      PEFO  Petrified Forest National Park  Strigidae   \n97445      SAGU           Saguaro National Park  Strigidae   \n97446      SAGU           Saguaro National Park  Strigidae   \n97447      SAGU           Saguaro National Park  Strigidae   \n\n             scientific_name  \\\n42529  Megascops kennicottii   \n85679  Megascops kennicottii   \n97445         Megascops asio   \n97446  Megascops kennicottii   \n97447   Megascops trichopsis   \n\n                                            common_names conservation_status  \\\n42529                                Western Screech Owl       Least Concern   \n85679                                Western Screech Owl       Least Concern   \n97445                                Eastern Screech Owl       Least Concern   \n97446  Tecolote Occidental, Western Screech Owl, West...       Least Concern   \n97447                              Whiskered Screech Owl       Least Concern   \n\n       protected    raptor  comma_count  is_barn  is_buzzard  is_megascops  \n42529      False       Owl            0    False       False          True  \n85679      False       Owl            0    False       False          True  \n97445      False  Owl. Owl            0    False       False          True  \n97446      False  Owl. Owl            2    False       False          True  \n97447      False  Owl. Owl            0    False       False          True  ",
      "text/html": "<div>\n<style scoped>\n    .dataframe tbody tr th:only-of-type {\n        vertical-align: middle;\n    }\n\n    .dataframe tbody tr th {\n        vertical-align: top;\n    }\n\n    .dataframe thead th {\n        text-align: right;\n    }\n</style>\n<table border=\"1\" class=\"dataframe\">\n  <thead>\n    <tr style=\"text-align: right;\">\n      <th></th>\n      <th>park_code</th>\n      <th>park_name</th>\n      <th>family</th>\n      <th>scientific_name</th>\n      <th>common_names</th>\n      <th>conservation_status</th>\n      <th>protected</th>\n      <th>raptor</th>\n      <th>comma_count</th>\n      <th>is_barn</th>\n      <th>is_buzzard</th>\n      <th>is_megascops</th>\n    </tr>\n  </thead>\n  <tbody>\n    <tr>\n      <th>42529</th>\n      <td>GRCA</td>\n      <td>Grand Canyon National Park</td>\n      <td>Strigidae</td>\n      <td>Megascops kennicottii</td>\n      <td>Western Screech Owl</td>\n      <td>Least Concern</td>\n      <td>False</td>\n      <td>Owl</td>\n      <td>0</td>\n      <td>False</td>\n      <td>False</td>\n      <td>True</td>\n    </tr>\n    <tr>\n      <th>85679</th>\n      <td>PEFO</td>\n      <td>Petrified Forest National Park</td>\n      <td>Strigidae</td>\n      <td>Megascops kennicottii</td>\n      <td>Western Screech Owl</td>\n      <td>Least Concern</td>\n      <td>False</td>\n      <td>Owl</td>\n      <td>0</td>\n      <td>False</td>\n      <td>False</td>\n      <td>True</td>\n    </tr>\n    <tr>\n      <th>97445</th>\n      <td>SAGU</td>\n      <td>Saguaro National Park</td>\n      <td>Strigidae</td>\n      <td>Megascops asio</td>\n      <td>Eastern Screech Owl</td>\n      <td>Least Concern</td>\n      <td>False</td>\n      <td>Owl. Owl</td>\n      <td>0</td>\n      <td>False</td>\n      <td>False</td>\n      <td>True</td>\n    </tr>\n    <tr>\n      <th>97446</th>\n      <td>SAGU</td>\n      <td>Saguaro National Park</td>\n      <td>Strigidae</td>\n      <td>Megascops kennicottii</td>\n      <td>Tecolote Occidental, Western Screech Owl, West...</td>\n      <td>Least Concern</td>\n      <td>False</td>\n      <td>Owl. Owl</td>\n      <td>2</td>\n      <td>False</td>\n      <td>False</td>\n      <td>True</td>\n    </tr>\n    <tr>\n      <th>97447</th>\n      <td>SAGU</td>\n      <td>Saguaro National Park</td>\n      <td>Strigidae</td>\n      <td>Megascops trichopsis</td>\n      <td>Whiskered Screech Owl</td>\n      <td>Least Concern</td>\n      <td>False</td>\n      <td>Owl. Owl</td>\n      <td>0</td>\n      <td>False</td>\n      <td>False</td>\n      <td>True</td>\n    </tr>\n  </tbody>\n</table>\n</div>"
     },
     "execution_count": 629,
     "metadata": {},
     "output_type": "execute_result"
    }
   ],
   "source": [
    "sw_birds['is_megascops'] = sw_birds.scientific_name.str.contains(r\"\\bMegascops\\b\", regex=True)\n",
    "sw_birds[sw_birds.is_megascops].head()"
   ],
   "metadata": {
    "collapsed": false
   }
  },
  {
   "cell_type": "code",
   "execution_count": 630,
   "outputs": [
    {
     "data": {
      "text/plain": "      park_code                      park_name     family  \\\n42528      GRCA     Grand Canyon National Park  Strigidae   \n97443      SAGU          Saguaro National Park  Strigidae   \n97444      SAGU          Saguaro National Park  Strigidae   \n26812      DEVA     Death Valley National Park  Strigidae   \n73119      LAVO  Lassen Volcanic National Park  Strigidae   \n\n              scientific_name                            common_names  \\\n42528        Glaucidium gnoma                      Northern Pygmy Owl   \n97443  Glaucidium brasilianum                   Ferruginous Pygmy Owl   \n97444        Glaucidium gnoma                      Northern Pygmy Owl   \n26812        Glaucidium gnoma           Northern Pygmy Owl, Pygmy Owl   \n73119        Glaucidium gnoma  Mountain Pygmy Owl, Northern Pygmy Owl   \n\n      conservation_status  protected    raptor  comma_count  is_barn  \\\n42528       Least Concern      False       Owl            0    False   \n97443       Least Concern      False  Owl. Owl            0    False   \n97444       Least Concern      False       Owl            0    False   \n26812       Least Concern      False  Owl. Owl            1    False   \n73119       Least Concern      False  Owl. Owl            1    False   \n\n       is_buzzard  is_megascops  is_glaucidium  \n42528       False         False           True  \n97443       False         False           True  \n97444       False         False           True  \n26812       False         False           True  \n73119       False         False           True  ",
      "text/html": "<div>\n<style scoped>\n    .dataframe tbody tr th:only-of-type {\n        vertical-align: middle;\n    }\n\n    .dataframe tbody tr th {\n        vertical-align: top;\n    }\n\n    .dataframe thead th {\n        text-align: right;\n    }\n</style>\n<table border=\"1\" class=\"dataframe\">\n  <thead>\n    <tr style=\"text-align: right;\">\n      <th></th>\n      <th>park_code</th>\n      <th>park_name</th>\n      <th>family</th>\n      <th>scientific_name</th>\n      <th>common_names</th>\n      <th>conservation_status</th>\n      <th>protected</th>\n      <th>raptor</th>\n      <th>comma_count</th>\n      <th>is_barn</th>\n      <th>is_buzzard</th>\n      <th>is_megascops</th>\n      <th>is_glaucidium</th>\n    </tr>\n  </thead>\n  <tbody>\n    <tr>\n      <th>42528</th>\n      <td>GRCA</td>\n      <td>Grand Canyon National Park</td>\n      <td>Strigidae</td>\n      <td>Glaucidium gnoma</td>\n      <td>Northern Pygmy Owl</td>\n      <td>Least Concern</td>\n      <td>False</td>\n      <td>Owl</td>\n      <td>0</td>\n      <td>False</td>\n      <td>False</td>\n      <td>False</td>\n      <td>True</td>\n    </tr>\n    <tr>\n      <th>97443</th>\n      <td>SAGU</td>\n      <td>Saguaro National Park</td>\n      <td>Strigidae</td>\n      <td>Glaucidium brasilianum</td>\n      <td>Ferruginous Pygmy Owl</td>\n      <td>Least Concern</td>\n      <td>False</td>\n      <td>Owl. Owl</td>\n      <td>0</td>\n      <td>False</td>\n      <td>False</td>\n      <td>False</td>\n      <td>True</td>\n    </tr>\n    <tr>\n      <th>97444</th>\n      <td>SAGU</td>\n      <td>Saguaro National Park</td>\n      <td>Strigidae</td>\n      <td>Glaucidium gnoma</td>\n      <td>Northern Pygmy Owl</td>\n      <td>Least Concern</td>\n      <td>False</td>\n      <td>Owl</td>\n      <td>0</td>\n      <td>False</td>\n      <td>False</td>\n      <td>False</td>\n      <td>True</td>\n    </tr>\n    <tr>\n      <th>26812</th>\n      <td>DEVA</td>\n      <td>Death Valley National Park</td>\n      <td>Strigidae</td>\n      <td>Glaucidium gnoma</td>\n      <td>Northern Pygmy Owl, Pygmy Owl</td>\n      <td>Least Concern</td>\n      <td>False</td>\n      <td>Owl. Owl</td>\n      <td>1</td>\n      <td>False</td>\n      <td>False</td>\n      <td>False</td>\n      <td>True</td>\n    </tr>\n    <tr>\n      <th>73119</th>\n      <td>LAVO</td>\n      <td>Lassen Volcanic National Park</td>\n      <td>Strigidae</td>\n      <td>Glaucidium gnoma</td>\n      <td>Mountain Pygmy Owl, Northern Pygmy Owl</td>\n      <td>Least Concern</td>\n      <td>False</td>\n      <td>Owl. Owl</td>\n      <td>1</td>\n      <td>False</td>\n      <td>False</td>\n      <td>False</td>\n      <td>True</td>\n    </tr>\n  </tbody>\n</table>\n</div>"
     },
     "execution_count": 630,
     "metadata": {},
     "output_type": "execute_result"
    }
   ],
   "source": [
    "sw_birds['is_glaucidium'] = sw_birds.scientific_name.str.contains(r\"\\bGlaucidium\\b\", regex=True)\n",
    "sw_birds[sw_birds.is_glaucidium].head()"
   ],
   "metadata": {
    "collapsed": false
   }
  },
  {
   "cell_type": "code",
   "execution_count": 631,
   "outputs": [],
   "source": [
    "# Second filtering function\n",
    "\n",
    "def clean_species_name_two(species_name):\n",
    "    if species_name == \"Barn Owl, Common Barn Owl\":\n",
    "        species_name = \"Barn Owl\"\n",
    "    if species_name == \"Roughleg, Rough Legged Buzzard, Rough Legged Hawk\":\n",
    "        species_name = \"Rough Legged Buzzard\"\n",
    "    if species_name == \"Tecolote Occidental, Western Screech Owl, Western Screech Owl\":\n",
    "        species_name = \"Western Screech Owl\"\n",
    "    if species_name == \"Mountain Pygmy Owl, Northern Pygmy Owl\":\n",
    "        species_name = \"Northern Pygmy Owl\"\n",
    "\n",
    "    return species_name"
   ],
   "metadata": {
    "collapsed": false
   }
  },
  {
   "cell_type": "code",
   "execution_count": 632,
   "outputs": [],
   "source": [
    "sw_birds['common_names'] = sw_birds['common_names'].apply(clean_species_name_two)"
   ],
   "metadata": {
    "collapsed": false
   }
  },
  {
   "cell_type": "code",
   "execution_count": 633,
   "outputs": [
    {
     "data": {
      "text/plain": "      park_code                   park_name        family  \\\n97255      SAGU       Saguaro National Park    Falconidae   \n26804      DEVA  Death Valley National Park     Strigidae   \n26812      DEVA  Death Valley National Park     Strigidae   \n77173      MEVE    Mesa Verde National Park  Accipitridae   \n77176      MEVE    Mesa Verde National Park  Accipitridae   \n\n            scientific_name                                 common_names  \\\n97255     Caracara cheriway  Crested Caracara, Northern Crested Caracara   \n26804     Aegolius acadicus          Northern Saw Whet Owl, Saw Whet Owl   \n26812      Glaucidium gnoma                Northern Pygmy Owl, Pygmy Owl   \n77173      Elanus caeruleus     Black Shouldered Kite, Black Winged Kite   \n77176  Parabuteo unicinctus                  Harris' Hawk, Harris's Hawk   \n\n      conservation_status  protected              raptor  comma_count  \\\n97255       Least Concern      False  Caracara. Caracara            1   \n26804       Least Concern      False            Owl. Owl            1   \n26812       Least Concern      False            Owl. Owl            1   \n77173  Species of Concern       True          Kite. Kite            1   \n77176  Species of Concern       True          Hawk. Hawk            1   \n\n       is_barn  is_buzzard  is_megascops  is_glaucidium  \n97255    False       False         False          False  \n26804    False       False         False          False  \n26812    False       False         False           True  \n77173    False       False         False          False  \n77176    False       False         False          False  ",
      "text/html": "<div>\n<style scoped>\n    .dataframe tbody tr th:only-of-type {\n        vertical-align: middle;\n    }\n\n    .dataframe tbody tr th {\n        vertical-align: top;\n    }\n\n    .dataframe thead th {\n        text-align: right;\n    }\n</style>\n<table border=\"1\" class=\"dataframe\">\n  <thead>\n    <tr style=\"text-align: right;\">\n      <th></th>\n      <th>park_code</th>\n      <th>park_name</th>\n      <th>family</th>\n      <th>scientific_name</th>\n      <th>common_names</th>\n      <th>conservation_status</th>\n      <th>protected</th>\n      <th>raptor</th>\n      <th>comma_count</th>\n      <th>is_barn</th>\n      <th>is_buzzard</th>\n      <th>is_megascops</th>\n      <th>is_glaucidium</th>\n    </tr>\n  </thead>\n  <tbody>\n    <tr>\n      <th>97255</th>\n      <td>SAGU</td>\n      <td>Saguaro National Park</td>\n      <td>Falconidae</td>\n      <td>Caracara cheriway</td>\n      <td>Crested Caracara, Northern Crested Caracara</td>\n      <td>Least Concern</td>\n      <td>False</td>\n      <td>Caracara. Caracara</td>\n      <td>1</td>\n      <td>False</td>\n      <td>False</td>\n      <td>False</td>\n      <td>False</td>\n    </tr>\n    <tr>\n      <th>26804</th>\n      <td>DEVA</td>\n      <td>Death Valley National Park</td>\n      <td>Strigidae</td>\n      <td>Aegolius acadicus</td>\n      <td>Northern Saw Whet Owl, Saw Whet Owl</td>\n      <td>Least Concern</td>\n      <td>False</td>\n      <td>Owl. Owl</td>\n      <td>1</td>\n      <td>False</td>\n      <td>False</td>\n      <td>False</td>\n      <td>False</td>\n    </tr>\n    <tr>\n      <th>26812</th>\n      <td>DEVA</td>\n      <td>Death Valley National Park</td>\n      <td>Strigidae</td>\n      <td>Glaucidium gnoma</td>\n      <td>Northern Pygmy Owl, Pygmy Owl</td>\n      <td>Least Concern</td>\n      <td>False</td>\n      <td>Owl. Owl</td>\n      <td>1</td>\n      <td>False</td>\n      <td>False</td>\n      <td>False</td>\n      <td>True</td>\n    </tr>\n    <tr>\n      <th>77173</th>\n      <td>MEVE</td>\n      <td>Mesa Verde National Park</td>\n      <td>Accipitridae</td>\n      <td>Elanus caeruleus</td>\n      <td>Black Shouldered Kite, Black Winged Kite</td>\n      <td>Species of Concern</td>\n      <td>True</td>\n      <td>Kite. Kite</td>\n      <td>1</td>\n      <td>False</td>\n      <td>False</td>\n      <td>False</td>\n      <td>False</td>\n    </tr>\n    <tr>\n      <th>77176</th>\n      <td>MEVE</td>\n      <td>Mesa Verde National Park</td>\n      <td>Accipitridae</td>\n      <td>Parabuteo unicinctus</td>\n      <td>Harris' Hawk, Harris's Hawk</td>\n      <td>Species of Concern</td>\n      <td>True</td>\n      <td>Hawk. Hawk</td>\n      <td>1</td>\n      <td>False</td>\n      <td>False</td>\n      <td>False</td>\n      <td>False</td>\n    </tr>\n  </tbody>\n</table>\n</div>"
     },
     "execution_count": 633,
     "metadata": {},
     "output_type": "execute_result"
    }
   ],
   "source": [
    "sw_birds['comma_count'] = sw_birds['common_names'].str.count(\",\")\n",
    "comma_raptors = (sw_birds['comma_count'] > 0) & (sw_birds['raptor'] != '')\n",
    "comma_raptors_df = sw_birds[comma_raptors]\n",
    "comma_raptors_df"
   ],
   "metadata": {
    "collapsed": false
   }
  },
  {
   "cell_type": "markdown",
   "source": [
    "Down to a few. Will perform manually"
   ],
   "metadata": {
    "collapsed": false
   }
  },
  {
   "cell_type": "markdown",
   "source": [
    "- [Black Winged Kite](https://en.wikipedia.org/wiki/Black-winged_kite)\n",
    "- [Northern Crested Caracara](https://ebird.org/species/crecar1)\n",
    "- [Harris's Hawk](https://en.wikipedia.org/wiki/Harris%27s_hawk)"
   ],
   "metadata": {
    "collapsed": false
   }
  },
  {
   "cell_type": "code",
   "execution_count": 634,
   "outputs": [],
   "source": [
    "sw_birds.loc[97255, 'common_names'] = 'Northern Crested Caracara'\n",
    "sw_birds.loc[77173, 'common_names'] = 'Black Winged Kite'\n",
    "sw_birds.loc[77176, 'common_names'] = \"Harris' Hawk\""
   ],
   "metadata": {
    "collapsed": false
   }
  },
  {
   "cell_type": "code",
   "execution_count": 635,
   "outputs": [
    {
     "data": {
      "text/plain": "      park_code                   park_name     family    scientific_name  \\\n26804      DEVA  Death Valley National Park  Strigidae  Aegolius acadicus   \n26812      DEVA  Death Valley National Park  Strigidae   Glaucidium gnoma   \n\n                              common_names conservation_status  protected  \\\n26804  Northern Saw Whet Owl, Saw Whet Owl       Least Concern      False   \n26812        Northern Pygmy Owl, Pygmy Owl       Least Concern      False   \n\n         raptor  comma_count  is_barn  is_buzzard  is_megascops  is_glaucidium  \n26804  Owl. Owl            1    False       False         False          False  \n26812  Owl. Owl            1    False       False         False           True  ",
      "text/html": "<div>\n<style scoped>\n    .dataframe tbody tr th:only-of-type {\n        vertical-align: middle;\n    }\n\n    .dataframe tbody tr th {\n        vertical-align: top;\n    }\n\n    .dataframe thead th {\n        text-align: right;\n    }\n</style>\n<table border=\"1\" class=\"dataframe\">\n  <thead>\n    <tr style=\"text-align: right;\">\n      <th></th>\n      <th>park_code</th>\n      <th>park_name</th>\n      <th>family</th>\n      <th>scientific_name</th>\n      <th>common_names</th>\n      <th>conservation_status</th>\n      <th>protected</th>\n      <th>raptor</th>\n      <th>comma_count</th>\n      <th>is_barn</th>\n      <th>is_buzzard</th>\n      <th>is_megascops</th>\n      <th>is_glaucidium</th>\n    </tr>\n  </thead>\n  <tbody>\n    <tr>\n      <th>26804</th>\n      <td>DEVA</td>\n      <td>Death Valley National Park</td>\n      <td>Strigidae</td>\n      <td>Aegolius acadicus</td>\n      <td>Northern Saw Whet Owl, Saw Whet Owl</td>\n      <td>Least Concern</td>\n      <td>False</td>\n      <td>Owl. Owl</td>\n      <td>1</td>\n      <td>False</td>\n      <td>False</td>\n      <td>False</td>\n      <td>False</td>\n    </tr>\n    <tr>\n      <th>26812</th>\n      <td>DEVA</td>\n      <td>Death Valley National Park</td>\n      <td>Strigidae</td>\n      <td>Glaucidium gnoma</td>\n      <td>Northern Pygmy Owl, Pygmy Owl</td>\n      <td>Least Concern</td>\n      <td>False</td>\n      <td>Owl. Owl</td>\n      <td>1</td>\n      <td>False</td>\n      <td>False</td>\n      <td>False</td>\n      <td>True</td>\n    </tr>\n  </tbody>\n</table>\n</div>"
     },
     "execution_count": 635,
     "metadata": {},
     "output_type": "execute_result"
    }
   ],
   "source": [
    "sw_birds['comma_count'] = sw_birds['common_names'].str.count(\",\")\n",
    "comma_raptors = (sw_birds['comma_count'] > 0) & (sw_birds['raptor'] != '')\n",
    "comma_raptors_df = sw_birds[comma_raptors]\n",
    "comma_raptors_df"
   ],
   "metadata": {
    "collapsed": false
   }
  },
  {
   "cell_type": "code",
   "execution_count": 636,
   "outputs": [
    {
     "data": {
      "text/plain": "       park_code                                   park_name     family  \\\n42528       GRCA                  Grand Canyon National Park  Strigidae   \n97443       SAGU                       Saguaro National Park  Strigidae   \n97444       SAGU                       Saguaro National Park  Strigidae   \n26812       DEVA                  Death Valley National Park  Strigidae   \n73119       LAVO               Lassen Volcanic National Park  Strigidae   \n86454       PINN                     Pinnacles National Park  Strigidae   \n88283       REDW                       Redwood National Park  Strigidae   \n99240       SEKI     Sequoia and Kings Canyon National Parks  Strigidae   \n115715      YOSE                      Yosemite National Park  Strigidae   \n8380        BLCA  Black Canyon of the Gunnison National Park  Strigidae   \n\n               scientific_name                   common_names  \\\n42528         Glaucidium gnoma             Northern Pygmy Owl   \n97443   Glaucidium brasilianum          Ferruginous Pygmy Owl   \n97444         Glaucidium gnoma             Northern Pygmy Owl   \n26812         Glaucidium gnoma  Northern Pygmy Owl, Pygmy Owl   \n73119         Glaucidium gnoma             Northern Pygmy Owl   \n86454         Glaucidium gnoma             Northern Pygmy Owl   \n88283         Glaucidium gnoma             Northern Pygmy Owl   \n99240         Glaucidium gnoma             Northern Pygmy Owl   \n115715        Glaucidium gnoma             Northern Pygmy Owl   \n8380          Glaucidium gnoma             Northern Pygmy Owl   \n\n       conservation_status  protected    raptor  comma_count  is_barn  \\\n42528        Least Concern      False       Owl            0    False   \n97443        Least Concern      False  Owl. Owl            0    False   \n97444        Least Concern      False       Owl            0    False   \n26812        Least Concern      False  Owl. Owl            1    False   \n73119        Least Concern      False  Owl. Owl            0    False   \n86454        Least Concern      False       Owl            0    False   \n88283        Least Concern      False       Owl            0    False   \n99240        Least Concern      False  Owl. Owl            0    False   \n115715       Least Concern      False       Owl            0    False   \n8380         Least Concern      False       Owl            0    False   \n\n        is_buzzard  is_megascops  is_glaucidium  \n42528        False         False           True  \n97443        False         False           True  \n97444        False         False           True  \n26812        False         False           True  \n73119        False         False           True  \n86454        False         False           True  \n88283        False         False           True  \n99240        False         False           True  \n115715       False         False           True  \n8380         False         False           True  ",
      "text/html": "<div>\n<style scoped>\n    .dataframe tbody tr th:only-of-type {\n        vertical-align: middle;\n    }\n\n    .dataframe tbody tr th {\n        vertical-align: top;\n    }\n\n    .dataframe thead th {\n        text-align: right;\n    }\n</style>\n<table border=\"1\" class=\"dataframe\">\n  <thead>\n    <tr style=\"text-align: right;\">\n      <th></th>\n      <th>park_code</th>\n      <th>park_name</th>\n      <th>family</th>\n      <th>scientific_name</th>\n      <th>common_names</th>\n      <th>conservation_status</th>\n      <th>protected</th>\n      <th>raptor</th>\n      <th>comma_count</th>\n      <th>is_barn</th>\n      <th>is_buzzard</th>\n      <th>is_megascops</th>\n      <th>is_glaucidium</th>\n    </tr>\n  </thead>\n  <tbody>\n    <tr>\n      <th>42528</th>\n      <td>GRCA</td>\n      <td>Grand Canyon National Park</td>\n      <td>Strigidae</td>\n      <td>Glaucidium gnoma</td>\n      <td>Northern Pygmy Owl</td>\n      <td>Least Concern</td>\n      <td>False</td>\n      <td>Owl</td>\n      <td>0</td>\n      <td>False</td>\n      <td>False</td>\n      <td>False</td>\n      <td>True</td>\n    </tr>\n    <tr>\n      <th>97443</th>\n      <td>SAGU</td>\n      <td>Saguaro National Park</td>\n      <td>Strigidae</td>\n      <td>Glaucidium brasilianum</td>\n      <td>Ferruginous Pygmy Owl</td>\n      <td>Least Concern</td>\n      <td>False</td>\n      <td>Owl. Owl</td>\n      <td>0</td>\n      <td>False</td>\n      <td>False</td>\n      <td>False</td>\n      <td>True</td>\n    </tr>\n    <tr>\n      <th>97444</th>\n      <td>SAGU</td>\n      <td>Saguaro National Park</td>\n      <td>Strigidae</td>\n      <td>Glaucidium gnoma</td>\n      <td>Northern Pygmy Owl</td>\n      <td>Least Concern</td>\n      <td>False</td>\n      <td>Owl</td>\n      <td>0</td>\n      <td>False</td>\n      <td>False</td>\n      <td>False</td>\n      <td>True</td>\n    </tr>\n    <tr>\n      <th>26812</th>\n      <td>DEVA</td>\n      <td>Death Valley National Park</td>\n      <td>Strigidae</td>\n      <td>Glaucidium gnoma</td>\n      <td>Northern Pygmy Owl, Pygmy Owl</td>\n      <td>Least Concern</td>\n      <td>False</td>\n      <td>Owl. Owl</td>\n      <td>1</td>\n      <td>False</td>\n      <td>False</td>\n      <td>False</td>\n      <td>True</td>\n    </tr>\n    <tr>\n      <th>73119</th>\n      <td>LAVO</td>\n      <td>Lassen Volcanic National Park</td>\n      <td>Strigidae</td>\n      <td>Glaucidium gnoma</td>\n      <td>Northern Pygmy Owl</td>\n      <td>Least Concern</td>\n      <td>False</td>\n      <td>Owl. Owl</td>\n      <td>0</td>\n      <td>False</td>\n      <td>False</td>\n      <td>False</td>\n      <td>True</td>\n    </tr>\n    <tr>\n      <th>86454</th>\n      <td>PINN</td>\n      <td>Pinnacles National Park</td>\n      <td>Strigidae</td>\n      <td>Glaucidium gnoma</td>\n      <td>Northern Pygmy Owl</td>\n      <td>Least Concern</td>\n      <td>False</td>\n      <td>Owl</td>\n      <td>0</td>\n      <td>False</td>\n      <td>False</td>\n      <td>False</td>\n      <td>True</td>\n    </tr>\n    <tr>\n      <th>88283</th>\n      <td>REDW</td>\n      <td>Redwood National Park</td>\n      <td>Strigidae</td>\n      <td>Glaucidium gnoma</td>\n      <td>Northern Pygmy Owl</td>\n      <td>Least Concern</td>\n      <td>False</td>\n      <td>Owl</td>\n      <td>0</td>\n      <td>False</td>\n      <td>False</td>\n      <td>False</td>\n      <td>True</td>\n    </tr>\n    <tr>\n      <th>99240</th>\n      <td>SEKI</td>\n      <td>Sequoia and Kings Canyon National Parks</td>\n      <td>Strigidae</td>\n      <td>Glaucidium gnoma</td>\n      <td>Northern Pygmy Owl</td>\n      <td>Least Concern</td>\n      <td>False</td>\n      <td>Owl. Owl</td>\n      <td>0</td>\n      <td>False</td>\n      <td>False</td>\n      <td>False</td>\n      <td>True</td>\n    </tr>\n    <tr>\n      <th>115715</th>\n      <td>YOSE</td>\n      <td>Yosemite National Park</td>\n      <td>Strigidae</td>\n      <td>Glaucidium gnoma</td>\n      <td>Northern Pygmy Owl</td>\n      <td>Least Concern</td>\n      <td>False</td>\n      <td>Owl</td>\n      <td>0</td>\n      <td>False</td>\n      <td>False</td>\n      <td>False</td>\n      <td>True</td>\n    </tr>\n    <tr>\n      <th>8380</th>\n      <td>BLCA</td>\n      <td>Black Canyon of the Gunnison National Park</td>\n      <td>Strigidae</td>\n      <td>Glaucidium gnoma</td>\n      <td>Northern Pygmy Owl</td>\n      <td>Least Concern</td>\n      <td>False</td>\n      <td>Owl</td>\n      <td>0</td>\n      <td>False</td>\n      <td>False</td>\n      <td>False</td>\n      <td>True</td>\n    </tr>\n  </tbody>\n</table>\n</div>"
     },
     "execution_count": 636,
     "metadata": {},
     "output_type": "execute_result"
    }
   ],
   "source": [
    "sw_birds[sw_birds.is_glaucidium].head(10)"
   ],
   "metadata": {
    "collapsed": false
   }
  },
  {
   "cell_type": "markdown",
   "source": [
    "Change [26812] to 'Northern Pygmy Owl'"
   ],
   "metadata": {
    "collapsed": false
   }
  },
  {
   "cell_type": "code",
   "execution_count": 637,
   "outputs": [],
   "source": [
    "sw_birds.at[26812, 'common_names'] = \"Northern Pygmy Owl\""
   ],
   "metadata": {
    "collapsed": false
   }
  },
  {
   "cell_type": "markdown",
   "source": [
    "Check 'Saw Whet Owl'"
   ],
   "metadata": {
    "collapsed": false
   }
  },
  {
   "cell_type": "code",
   "execution_count": 638,
   "outputs": [
    {
     "data": {
      "text/plain": "      park_code                      park_name     family  \\\n42521      GRCA     Grand Canyon National Park  Strigidae   \n97438      SAGU          Saguaro National Park  Strigidae   \n15245      CHIS  Channel Islands National Park  Strigidae   \n26804      DEVA     Death Valley National Park  Strigidae   \n26811      DEVA     Death Valley National Park  Strigidae   \n\n                   scientific_name                         common_names  \\\n42521            Aegolius acadicus                Northern Saw Whet Owl   \n97438            Aegolius acadicus                Northern Saw Whet Owl   \n15245            Aegolius acadicus                Northern Saw Whet Owl   \n26804            Aegolius acadicus  Northern Saw Whet Owl, Saw Whet Owl   \n26811  Cryptoglaux acadica acadica                         Saw Whet Owl   \n\n      conservation_status  protected    raptor  comma_count  is_barn  \\\n42521       Least Concern      False       Owl            0    False   \n97438       Least Concern      False       Owl            0    False   \n15245       Least Concern      False       Owl            0    False   \n26804       Least Concern      False  Owl. Owl            1    False   \n26811       Least Concern      False       Owl            0    False   \n\n       is_buzzard  is_megascops  is_glaucidium  is_saw_whet  \n42521       False         False          False         True  \n97438       False         False          False         True  \n15245       False         False          False         True  \n26804       False         False          False         True  \n26811       False         False          False         True  ",
      "text/html": "<div>\n<style scoped>\n    .dataframe tbody tr th:only-of-type {\n        vertical-align: middle;\n    }\n\n    .dataframe tbody tr th {\n        vertical-align: top;\n    }\n\n    .dataframe thead th {\n        text-align: right;\n    }\n</style>\n<table border=\"1\" class=\"dataframe\">\n  <thead>\n    <tr style=\"text-align: right;\">\n      <th></th>\n      <th>park_code</th>\n      <th>park_name</th>\n      <th>family</th>\n      <th>scientific_name</th>\n      <th>common_names</th>\n      <th>conservation_status</th>\n      <th>protected</th>\n      <th>raptor</th>\n      <th>comma_count</th>\n      <th>is_barn</th>\n      <th>is_buzzard</th>\n      <th>is_megascops</th>\n      <th>is_glaucidium</th>\n      <th>is_saw_whet</th>\n    </tr>\n  </thead>\n  <tbody>\n    <tr>\n      <th>42521</th>\n      <td>GRCA</td>\n      <td>Grand Canyon National Park</td>\n      <td>Strigidae</td>\n      <td>Aegolius acadicus</td>\n      <td>Northern Saw Whet Owl</td>\n      <td>Least Concern</td>\n      <td>False</td>\n      <td>Owl</td>\n      <td>0</td>\n      <td>False</td>\n      <td>False</td>\n      <td>False</td>\n      <td>False</td>\n      <td>True</td>\n    </tr>\n    <tr>\n      <th>97438</th>\n      <td>SAGU</td>\n      <td>Saguaro National Park</td>\n      <td>Strigidae</td>\n      <td>Aegolius acadicus</td>\n      <td>Northern Saw Whet Owl</td>\n      <td>Least Concern</td>\n      <td>False</td>\n      <td>Owl</td>\n      <td>0</td>\n      <td>False</td>\n      <td>False</td>\n      <td>False</td>\n      <td>False</td>\n      <td>True</td>\n    </tr>\n    <tr>\n      <th>15245</th>\n      <td>CHIS</td>\n      <td>Channel Islands National Park</td>\n      <td>Strigidae</td>\n      <td>Aegolius acadicus</td>\n      <td>Northern Saw Whet Owl</td>\n      <td>Least Concern</td>\n      <td>False</td>\n      <td>Owl</td>\n      <td>0</td>\n      <td>False</td>\n      <td>False</td>\n      <td>False</td>\n      <td>False</td>\n      <td>True</td>\n    </tr>\n    <tr>\n      <th>26804</th>\n      <td>DEVA</td>\n      <td>Death Valley National Park</td>\n      <td>Strigidae</td>\n      <td>Aegolius acadicus</td>\n      <td>Northern Saw Whet Owl, Saw Whet Owl</td>\n      <td>Least Concern</td>\n      <td>False</td>\n      <td>Owl. Owl</td>\n      <td>1</td>\n      <td>False</td>\n      <td>False</td>\n      <td>False</td>\n      <td>False</td>\n      <td>True</td>\n    </tr>\n    <tr>\n      <th>26811</th>\n      <td>DEVA</td>\n      <td>Death Valley National Park</td>\n      <td>Strigidae</td>\n      <td>Cryptoglaux acadica acadica</td>\n      <td>Saw Whet Owl</td>\n      <td>Least Concern</td>\n      <td>False</td>\n      <td>Owl</td>\n      <td>0</td>\n      <td>False</td>\n      <td>False</td>\n      <td>False</td>\n      <td>False</td>\n      <td>True</td>\n    </tr>\n  </tbody>\n</table>\n</div>"
     },
     "execution_count": 638,
     "metadata": {},
     "output_type": "execute_result"
    }
   ],
   "source": [
    "sw_birds['is_saw_whet'] = sw_birds.common_names.str.contains(r\"\\bSaw Whet\\b\", regex=True)\n",
    "sw_birds[sw_birds.is_saw_whet].head()"
   ],
   "metadata": {
    "collapsed": false
   }
  },
  {
   "cell_type": "markdown",
   "source": [
    "Change [26804] to 'Northern Saw Whet Owl"
   ],
   "metadata": {
    "collapsed": false
   }
  },
  {
   "cell_type": "code",
   "execution_count": 639,
   "outputs": [],
   "source": [
    "sw_birds.at[26804, 'common_names'] = \"Northern Saw Whet Owl\""
   ],
   "metadata": {
    "collapsed": false
   }
  },
  {
   "cell_type": "code",
   "execution_count": 640,
   "outputs": [
    {
     "data": {
      "text/plain": "Empty DataFrame\nColumns: [park_code, park_name, family, scientific_name, common_names, conservation_status, protected, raptor, comma_count, is_barn, is_buzzard, is_megascops, is_glaucidium, is_saw_whet]\nIndex: []",
      "text/html": "<div>\n<style scoped>\n    .dataframe tbody tr th:only-of-type {\n        vertical-align: middle;\n    }\n\n    .dataframe tbody tr th {\n        vertical-align: top;\n    }\n\n    .dataframe thead th {\n        text-align: right;\n    }\n</style>\n<table border=\"1\" class=\"dataframe\">\n  <thead>\n    <tr style=\"text-align: right;\">\n      <th></th>\n      <th>park_code</th>\n      <th>park_name</th>\n      <th>family</th>\n      <th>scientific_name</th>\n      <th>common_names</th>\n      <th>conservation_status</th>\n      <th>protected</th>\n      <th>raptor</th>\n      <th>comma_count</th>\n      <th>is_barn</th>\n      <th>is_buzzard</th>\n      <th>is_megascops</th>\n      <th>is_glaucidium</th>\n      <th>is_saw_whet</th>\n    </tr>\n  </thead>\n  <tbody>\n  </tbody>\n</table>\n</div>"
     },
     "execution_count": 640,
     "metadata": {},
     "output_type": "execute_result"
    }
   ],
   "source": [
    "# Double check if we have any comma separated common names\n",
    "sw_birds['comma_count'] = sw_birds['common_names'].str.count(\",\")\n",
    "comma_raptors = (sw_birds['comma_count'] > 0) & (sw_birds['raptor'] != '')\n",
    "comma_raptors_df = sw_birds[comma_raptors]\n",
    "comma_raptors_df"
   ],
   "metadata": {
    "collapsed": false
   }
  },
  {
   "cell_type": "markdown",
   "source": [
    "Remove extra columns"
   ],
   "metadata": {
    "collapsed": false
   }
  },
  {
   "cell_type": "code",
   "execution_count": 641,
   "outputs": [
    {
     "data": {
      "text/plain": "      park_code                   park_name        family     scientific_name  \\\n42081      GRCA  Grand Canyon National Park  Accipitridae  Accipiter cooperii   \n42082      GRCA  Grand Canyon National Park  Accipitridae  Accipiter gentilis   \n42083      GRCA  Grand Canyon National Park  Accipitridae  Accipiter striatus   \n42084      GRCA  Grand Canyon National Park  Accipitridae   Aquila chrysaetos   \n42085      GRCA  Grand Canyon National Park  Accipitridae   Buteo albonotatus   \n\n             common_names conservation_status  protected raptor  \n42081       Cooper's Hawk  Species of Concern       True   Hawk  \n42082    Northern Goshawk       Least Concern      False   Hawk  \n42083  Sharp Shinned Hawk  Species of Concern       True   Hawk  \n42084        Golden Eagle  Species of Concern       True  Eagle  \n42085    Zone Tailed Hawk       Least Concern      False   Hawk  ",
      "text/html": "<div>\n<style scoped>\n    .dataframe tbody tr th:only-of-type {\n        vertical-align: middle;\n    }\n\n    .dataframe tbody tr th {\n        vertical-align: top;\n    }\n\n    .dataframe thead th {\n        text-align: right;\n    }\n</style>\n<table border=\"1\" class=\"dataframe\">\n  <thead>\n    <tr style=\"text-align: right;\">\n      <th></th>\n      <th>park_code</th>\n      <th>park_name</th>\n      <th>family</th>\n      <th>scientific_name</th>\n      <th>common_names</th>\n      <th>conservation_status</th>\n      <th>protected</th>\n      <th>raptor</th>\n    </tr>\n  </thead>\n  <tbody>\n    <tr>\n      <th>42081</th>\n      <td>GRCA</td>\n      <td>Grand Canyon National Park</td>\n      <td>Accipitridae</td>\n      <td>Accipiter cooperii</td>\n      <td>Cooper's Hawk</td>\n      <td>Species of Concern</td>\n      <td>True</td>\n      <td>Hawk</td>\n    </tr>\n    <tr>\n      <th>42082</th>\n      <td>GRCA</td>\n      <td>Grand Canyon National Park</td>\n      <td>Accipitridae</td>\n      <td>Accipiter gentilis</td>\n      <td>Northern Goshawk</td>\n      <td>Least Concern</td>\n      <td>False</td>\n      <td>Hawk</td>\n    </tr>\n    <tr>\n      <th>42083</th>\n      <td>GRCA</td>\n      <td>Grand Canyon National Park</td>\n      <td>Accipitridae</td>\n      <td>Accipiter striatus</td>\n      <td>Sharp Shinned Hawk</td>\n      <td>Species of Concern</td>\n      <td>True</td>\n      <td>Hawk</td>\n    </tr>\n    <tr>\n      <th>42084</th>\n      <td>GRCA</td>\n      <td>Grand Canyon National Park</td>\n      <td>Accipitridae</td>\n      <td>Aquila chrysaetos</td>\n      <td>Golden Eagle</td>\n      <td>Species of Concern</td>\n      <td>True</td>\n      <td>Eagle</td>\n    </tr>\n    <tr>\n      <th>42085</th>\n      <td>GRCA</td>\n      <td>Grand Canyon National Park</td>\n      <td>Accipitridae</td>\n      <td>Buteo albonotatus</td>\n      <td>Zone Tailed Hawk</td>\n      <td>Least Concern</td>\n      <td>False</td>\n      <td>Hawk</td>\n    </tr>\n  </tbody>\n</table>\n</div>"
     },
     "execution_count": 641,
     "metadata": {},
     "output_type": "execute_result"
    }
   ],
   "source": [
    "sw_birds.drop(columns=['is_saw_whet', 'is_glaucidium', 'is_megascops', 'is_buzzard', 'is_barn', 'comma_count'], axis=1, inplace=True)\n",
    "sw_birds.head()"
   ],
   "metadata": {
    "collapsed": false
   }
  },
  {
   "cell_type": "markdown",
   "source": [
    "---"
   ],
   "metadata": {
    "collapsed": false
   }
  },
  {
   "cell_type": "markdown",
   "source": [
    "### Now to split extra values in `raptor`\n",
    "\"Roughleg, Rough Legged Buzzard, Rough Legged Hawk\" will need to be done separately as $=$ Buzzard. Hawk"
   ],
   "metadata": {
    "collapsed": false
   }
  },
  {
   "cell_type": "code",
   "execution_count": 642,
   "outputs": [],
   "source": [
    "sw_birds.loc[sw_birds['raptor'] == 'Buzzard. Hawk', 'raptor'] = 'Buzzard'\n",
    "sw_birds['raptor'] = sw_birds['raptor'].str.split('.').str[0]"
   ],
   "metadata": {
    "collapsed": false
   }
  },
  {
   "cell_type": "code",
   "execution_count": 643,
   "outputs": [
    {
     "name": "stdout",
     "output_type": "stream",
     "text": [
      "12 Unique raptors:\n",
      "\n",
      "['Hawk', 'Eagle', 'Harrier', 'Vulture', 'Condor', 'Osprey', '', 'Falcon', 'Kestrel', 'Owl', 'Buzzard', 'Caracara', 'Kite']\n"
     ]
    }
   ],
   "source": [
    "raptor_list = sw_birds.raptor.unique().tolist()\n",
    "print(f\"{len(raptor_list) - 1} Unique raptors:\\n\\n{raptor_list}\")"
   ],
   "metadata": {
    "collapsed": false
   }
  },
  {
   "cell_type": "code",
   "execution_count": 644,
   "outputs": [
    {
     "data": {
      "text/plain": "      park_code                   park_name        family     scientific_name  \\\n42081      GRCA  Grand Canyon National Park  Accipitridae  Accipiter cooperii   \n42082      GRCA  Grand Canyon National Park  Accipitridae  Accipiter gentilis   \n42083      GRCA  Grand Canyon National Park  Accipitridae  Accipiter striatus   \n42084      GRCA  Grand Canyon National Park  Accipitridae   Aquila chrysaetos   \n42085      GRCA  Grand Canyon National Park  Accipitridae   Buteo albonotatus   \n\n             common_names conservation_status  protected raptor  \n42081       Cooper's Hawk  Species of Concern       True   Hawk  \n42082    Northern Goshawk       Least Concern      False   Hawk  \n42083  Sharp Shinned Hawk  Species of Concern       True   Hawk  \n42084        Golden Eagle  Species of Concern       True  Eagle  \n42085    Zone Tailed Hawk       Least Concern      False   Hawk  ",
      "text/html": "<div>\n<style scoped>\n    .dataframe tbody tr th:only-of-type {\n        vertical-align: middle;\n    }\n\n    .dataframe tbody tr th {\n        vertical-align: top;\n    }\n\n    .dataframe thead th {\n        text-align: right;\n    }\n</style>\n<table border=\"1\" class=\"dataframe\">\n  <thead>\n    <tr style=\"text-align: right;\">\n      <th></th>\n      <th>park_code</th>\n      <th>park_name</th>\n      <th>family</th>\n      <th>scientific_name</th>\n      <th>common_names</th>\n      <th>conservation_status</th>\n      <th>protected</th>\n      <th>raptor</th>\n    </tr>\n  </thead>\n  <tbody>\n    <tr>\n      <th>42081</th>\n      <td>GRCA</td>\n      <td>Grand Canyon National Park</td>\n      <td>Accipitridae</td>\n      <td>Accipiter cooperii</td>\n      <td>Cooper's Hawk</td>\n      <td>Species of Concern</td>\n      <td>True</td>\n      <td>Hawk</td>\n    </tr>\n    <tr>\n      <th>42082</th>\n      <td>GRCA</td>\n      <td>Grand Canyon National Park</td>\n      <td>Accipitridae</td>\n      <td>Accipiter gentilis</td>\n      <td>Northern Goshawk</td>\n      <td>Least Concern</td>\n      <td>False</td>\n      <td>Hawk</td>\n    </tr>\n    <tr>\n      <th>42083</th>\n      <td>GRCA</td>\n      <td>Grand Canyon National Park</td>\n      <td>Accipitridae</td>\n      <td>Accipiter striatus</td>\n      <td>Sharp Shinned Hawk</td>\n      <td>Species of Concern</td>\n      <td>True</td>\n      <td>Hawk</td>\n    </tr>\n    <tr>\n      <th>42084</th>\n      <td>GRCA</td>\n      <td>Grand Canyon National Park</td>\n      <td>Accipitridae</td>\n      <td>Aquila chrysaetos</td>\n      <td>Golden Eagle</td>\n      <td>Species of Concern</td>\n      <td>True</td>\n      <td>Eagle</td>\n    </tr>\n    <tr>\n      <th>42085</th>\n      <td>GRCA</td>\n      <td>Grand Canyon National Park</td>\n      <td>Accipitridae</td>\n      <td>Buteo albonotatus</td>\n      <td>Zone Tailed Hawk</td>\n      <td>Least Concern</td>\n      <td>False</td>\n      <td>Hawk</td>\n    </tr>\n  </tbody>\n</table>\n</div>"
     },
     "execution_count": 644,
     "metadata": {},
     "output_type": "execute_result"
    }
   ],
   "source": [
    "sw_birds.head()"
   ],
   "metadata": {
    "collapsed": false
   }
  },
  {
   "cell_type": "markdown",
   "source": [
    "# It's clean but need to double check for any duplicates under `common_names`"
   ],
   "metadata": {
    "collapsed": false
   }
  },
  {
   "cell_type": "code",
   "execution_count": 645,
   "outputs": [
    {
     "data": {
      "text/plain": "      park_code                   park_name         family  \\\n42132      GRCA  Grand Canyon National Park       Apodidae   \n42133      GRCA  Grand Canyon National Park       Apodidae   \n42144      GRCA  Grand Canyon National Park  Caprimulgidae   \n42145      GRCA  Grand Canyon National Park  Caprimulgidae   \n42146      GRCA  Grand Canyon National Park  Caprimulgidae   \n...         ...                         ...            ...   \n39735      GRBA   Great Basin National Park        Picidae   \n39736      GRBA   Great Basin National Park        Picidae   \n39737      GRBA   Great Basin National Park        Picidae   \n4312       BIBE      Big Bend National Park        Laridae   \n4314       BIBE      Big Bend National Park        Laridae   \n\n                        scientific_name          common_names  \\\n42132              Aeronautes saxatalis  White Throated Swift   \n42133    Aeronautes saxatalis saxatalis  White Throated Swift   \n42144                  Chordeiles minor      Common Nighthawk   \n42145           Chordeiles minor henryi      Common Nighthawk   \n42146          Phalaenoptilus nuttallii       Common Poorwill   \n...                                 ...                   ...   \n39735                 Picoides villosus      Hairy Woodpecker   \n39736  Picoides villosus leucothorectis      Hairy Woodpecker   \n39737       Picoides villosus monticola      Hairy Woodpecker   \n4312                  Sterna antillarum            Least Tern   \n4314                Sternula antillarum            Least Tern   \n\n      conservation_status  protected raptor  \n42132       Least Concern      False         \n42133       Least Concern      False         \n42144       Least Concern      False         \n42145       Least Concern      False         \n42146       Least Concern      False         \n...                   ...        ...    ...  \n39735       Least Concern      False         \n39736       Least Concern      False         \n39737       Least Concern      False         \n4312           Endangered       True         \n4314        Least Concern      False         \n\n[425 rows x 8 columns]",
      "text/html": "<div>\n<style scoped>\n    .dataframe tbody tr th:only-of-type {\n        vertical-align: middle;\n    }\n\n    .dataframe tbody tr th {\n        vertical-align: top;\n    }\n\n    .dataframe thead th {\n        text-align: right;\n    }\n</style>\n<table border=\"1\" class=\"dataframe\">\n  <thead>\n    <tr style=\"text-align: right;\">\n      <th></th>\n      <th>park_code</th>\n      <th>park_name</th>\n      <th>family</th>\n      <th>scientific_name</th>\n      <th>common_names</th>\n      <th>conservation_status</th>\n      <th>protected</th>\n      <th>raptor</th>\n    </tr>\n  </thead>\n  <tbody>\n    <tr>\n      <th>42132</th>\n      <td>GRCA</td>\n      <td>Grand Canyon National Park</td>\n      <td>Apodidae</td>\n      <td>Aeronautes saxatalis</td>\n      <td>White Throated Swift</td>\n      <td>Least Concern</td>\n      <td>False</td>\n      <td></td>\n    </tr>\n    <tr>\n      <th>42133</th>\n      <td>GRCA</td>\n      <td>Grand Canyon National Park</td>\n      <td>Apodidae</td>\n      <td>Aeronautes saxatalis saxatalis</td>\n      <td>White Throated Swift</td>\n      <td>Least Concern</td>\n      <td>False</td>\n      <td></td>\n    </tr>\n    <tr>\n      <th>42144</th>\n      <td>GRCA</td>\n      <td>Grand Canyon National Park</td>\n      <td>Caprimulgidae</td>\n      <td>Chordeiles minor</td>\n      <td>Common Nighthawk</td>\n      <td>Least Concern</td>\n      <td>False</td>\n      <td></td>\n    </tr>\n    <tr>\n      <th>42145</th>\n      <td>GRCA</td>\n      <td>Grand Canyon National Park</td>\n      <td>Caprimulgidae</td>\n      <td>Chordeiles minor henryi</td>\n      <td>Common Nighthawk</td>\n      <td>Least Concern</td>\n      <td>False</td>\n      <td></td>\n    </tr>\n    <tr>\n      <th>42146</th>\n      <td>GRCA</td>\n      <td>Grand Canyon National Park</td>\n      <td>Caprimulgidae</td>\n      <td>Phalaenoptilus nuttallii</td>\n      <td>Common Poorwill</td>\n      <td>Least Concern</td>\n      <td>False</td>\n      <td></td>\n    </tr>\n    <tr>\n      <th>...</th>\n      <td>...</td>\n      <td>...</td>\n      <td>...</td>\n      <td>...</td>\n      <td>...</td>\n      <td>...</td>\n      <td>...</td>\n      <td>...</td>\n    </tr>\n    <tr>\n      <th>39735</th>\n      <td>GRBA</td>\n      <td>Great Basin National Park</td>\n      <td>Picidae</td>\n      <td>Picoides villosus</td>\n      <td>Hairy Woodpecker</td>\n      <td>Least Concern</td>\n      <td>False</td>\n      <td></td>\n    </tr>\n    <tr>\n      <th>39736</th>\n      <td>GRBA</td>\n      <td>Great Basin National Park</td>\n      <td>Picidae</td>\n      <td>Picoides villosus leucothorectis</td>\n      <td>Hairy Woodpecker</td>\n      <td>Least Concern</td>\n      <td>False</td>\n      <td></td>\n    </tr>\n    <tr>\n      <th>39737</th>\n      <td>GRBA</td>\n      <td>Great Basin National Park</td>\n      <td>Picidae</td>\n      <td>Picoides villosus monticola</td>\n      <td>Hairy Woodpecker</td>\n      <td>Least Concern</td>\n      <td>False</td>\n      <td></td>\n    </tr>\n    <tr>\n      <th>4312</th>\n      <td>BIBE</td>\n      <td>Big Bend National Park</td>\n      <td>Laridae</td>\n      <td>Sterna antillarum</td>\n      <td>Least Tern</td>\n      <td>Endangered</td>\n      <td>True</td>\n      <td></td>\n    </tr>\n    <tr>\n      <th>4314</th>\n      <td>BIBE</td>\n      <td>Big Bend National Park</td>\n      <td>Laridae</td>\n      <td>Sternula antillarum</td>\n      <td>Least Tern</td>\n      <td>Least Concern</td>\n      <td>False</td>\n      <td></td>\n    </tr>\n  </tbody>\n</table>\n<p>425 rows × 8 columns</p>\n</div>"
     },
     "execution_count": 645,
     "metadata": {},
     "output_type": "execute_result"
    }
   ],
   "source": [
    "duplicated_birds = sw_birds[sw_birds.duplicated(['common_names', 'park_name'], keep=False)]\n",
    "duplicated_birds"
   ],
   "metadata": {
    "collapsed": false
   }
  },
  {
   "cell_type": "code",
   "execution_count": 646,
   "outputs": [],
   "source": [
    "# We drop the above duplicates\n",
    "sw_birds = sw_birds.drop_duplicates(subset=['common_names', 'park_name'])"
   ],
   "metadata": {
    "collapsed": false
   }
  },
  {
   "cell_type": "markdown",
   "source": [
    "Are there any left equal to none?"
   ],
   "metadata": {
    "collapsed": false
   }
  },
  {
   "cell_type": "code",
   "execution_count": 647,
   "outputs": [
    {
     "data": {
      "text/plain": "Empty DataFrame\nColumns: [park_code, park_name, family, scientific_name, common_names, conservation_status, protected, raptor]\nIndex: []",
      "text/html": "<div>\n<style scoped>\n    .dataframe tbody tr th:only-of-type {\n        vertical-align: middle;\n    }\n\n    .dataframe tbody tr th {\n        vertical-align: top;\n    }\n\n    .dataframe thead th {\n        text-align: right;\n    }\n</style>\n<table border=\"1\" class=\"dataframe\">\n  <thead>\n    <tr style=\"text-align: right;\">\n      <th></th>\n      <th>park_code</th>\n      <th>park_name</th>\n      <th>family</th>\n      <th>scientific_name</th>\n      <th>common_names</th>\n      <th>conservation_status</th>\n      <th>protected</th>\n      <th>raptor</th>\n    </tr>\n  </thead>\n  <tbody>\n  </tbody>\n</table>\n</div>"
     },
     "execution_count": 647,
     "metadata": {},
     "output_type": "execute_result"
    }
   ],
   "source": [
    "duplicated_birds = sw_birds[(sw_birds['common_names'].isnull())]\n",
    "duplicated_birds"
   ],
   "metadata": {
    "collapsed": false
   }
  },
  {
   "cell_type": "markdown",
   "source": [
    "## Next;\n",
    "\n",
    "- Export `sw_birds` as .csv file\n",
    "- Export `sw_data` as .csv file and change park_name!\n",
    "- Export `sw_birds_extras_df` as .csv file\n",
    "\n",
    "## Start new jupyter notebook for analysis"
   ],
   "metadata": {
    "collapsed": false
   }
  },
  {
   "cell_type": "code",
   "execution_count": 648,
   "outputs": [
    {
     "data": {
      "text/plain": "   park_code                                park_name state  latitude  \\\n22      GRCA               Grand Canyon National Park    AZ     36.06   \n42      PEFO           Petrified Forest National Park    AZ     35.07   \n46      SAGU                    Saguaro National Park    AZ     32.25   \n10      CHIS            Channel Islands National Park    CA     34.01   \n15      DEVA               Death Valley National Park    CA     36.24   \n31      JOTR                Joshua Tree National Park    CA     33.79   \n36      LAVO            Lassen Volcanic National Park    CA     40.49   \n43      PINN                  Pinnacles National Park    CA     36.48   \n44      REDW                    Redwood National Park    CA     41.30   \n47      SEKI  Sequoia and Kings Canyon National Parks    CA     36.43   \n\n    longitude    hectares  \n22    -112.14   492665.95  \n42    -109.78    37851.50  \n46    -110.50    37004.49  \n10    -119.42   100993.84  \n15    -116.82  1918580.71  \n31    -115.90   319598.75  \n36    -121.51    43047.26  \n43    -121.16    10767.08  \n44    -124.00    45532.03  \n47    -118.68   350438.65  ",
      "text/html": "<div>\n<style scoped>\n    .dataframe tbody tr th:only-of-type {\n        vertical-align: middle;\n    }\n\n    .dataframe tbody tr th {\n        vertical-align: top;\n    }\n\n    .dataframe thead th {\n        text-align: right;\n    }\n</style>\n<table border=\"1\" class=\"dataframe\">\n  <thead>\n    <tr style=\"text-align: right;\">\n      <th></th>\n      <th>park_code</th>\n      <th>park_name</th>\n      <th>state</th>\n      <th>latitude</th>\n      <th>longitude</th>\n      <th>hectares</th>\n    </tr>\n  </thead>\n  <tbody>\n    <tr>\n      <th>22</th>\n      <td>GRCA</td>\n      <td>Grand Canyon National Park</td>\n      <td>AZ</td>\n      <td>36.06</td>\n      <td>-112.14</td>\n      <td>492665.95</td>\n    </tr>\n    <tr>\n      <th>42</th>\n      <td>PEFO</td>\n      <td>Petrified Forest National Park</td>\n      <td>AZ</td>\n      <td>35.07</td>\n      <td>-109.78</td>\n      <td>37851.50</td>\n    </tr>\n    <tr>\n      <th>46</th>\n      <td>SAGU</td>\n      <td>Saguaro National Park</td>\n      <td>AZ</td>\n      <td>32.25</td>\n      <td>-110.50</td>\n      <td>37004.49</td>\n    </tr>\n    <tr>\n      <th>10</th>\n      <td>CHIS</td>\n      <td>Channel Islands National Park</td>\n      <td>CA</td>\n      <td>34.01</td>\n      <td>-119.42</td>\n      <td>100993.84</td>\n    </tr>\n    <tr>\n      <th>15</th>\n      <td>DEVA</td>\n      <td>Death Valley National Park</td>\n      <td>CA</td>\n      <td>36.24</td>\n      <td>-116.82</td>\n      <td>1918580.71</td>\n    </tr>\n    <tr>\n      <th>31</th>\n      <td>JOTR</td>\n      <td>Joshua Tree National Park</td>\n      <td>CA</td>\n      <td>33.79</td>\n      <td>-115.90</td>\n      <td>319598.75</td>\n    </tr>\n    <tr>\n      <th>36</th>\n      <td>LAVO</td>\n      <td>Lassen Volcanic National Park</td>\n      <td>CA</td>\n      <td>40.49</td>\n      <td>-121.51</td>\n      <td>43047.26</td>\n    </tr>\n    <tr>\n      <th>43</th>\n      <td>PINN</td>\n      <td>Pinnacles National Park</td>\n      <td>CA</td>\n      <td>36.48</td>\n      <td>-121.16</td>\n      <td>10767.08</td>\n    </tr>\n    <tr>\n      <th>44</th>\n      <td>REDW</td>\n      <td>Redwood National Park</td>\n      <td>CA</td>\n      <td>41.30</td>\n      <td>-124.00</td>\n      <td>45532.03</td>\n    </tr>\n    <tr>\n      <th>47</th>\n      <td>SEKI</td>\n      <td>Sequoia and Kings Canyon National Parks</td>\n      <td>CA</td>\n      <td>36.43</td>\n      <td>-118.68</td>\n      <td>350438.65</td>\n    </tr>\n  </tbody>\n</table>\n</div>"
     },
     "execution_count": 648,
     "metadata": {},
     "output_type": "execute_result"
    }
   ],
   "source": [
    "sw_data.head(10)"
   ],
   "metadata": {
    "collapsed": false
   }
  },
  {
   "cell_type": "code",
   "execution_count": 649,
   "outputs": [],
   "source": [
    "# Split 'park_name' in this dataframe to remove 'National Park'\n",
    "\n",
    "sw_data['park_name'] = sw_data['park_name'].apply(lambda x: x[:-14] if x.endswith(\" National Park\") else x)\n",
    "# By inspection, lambda function will not apply to indices [47] or [23]\n",
    "sw_data.at[47, 'park_name'] = 'Sequoia & Kings Canyon'\n",
    "sw_data.at[23, 'park_name'] = 'Great Sand Dunes'"
   ],
   "metadata": {
    "collapsed": false
   }
  },
  {
   "cell_type": "code",
   "execution_count": 651,
   "outputs": [],
   "source": [
    "# Export as .csv\n",
    "#sw_birds.to_csv('sw_birds.csv', index=True)\n",
    "#sw_data.to_csv('sw_data.csv', index=False)\n",
    "#sw_birds_extras_df.to_csv('sw_extras.csv', index=True)"
   ],
   "metadata": {
    "collapsed": false
   }
  },
  {
   "cell_type": "markdown",
   "source": [
    "----"
   ],
   "metadata": {
    "collapsed": false
   }
  }
 ],
 "metadata": {
  "kernelspec": {
   "display_name": "Python 3",
   "language": "python",
   "name": "python3"
  },
  "language_info": {
   "codemirror_mode": {
    "name": "ipython",
    "version": 2
   },
   "file_extension": ".py",
   "mimetype": "text/x-python",
   "name": "python",
   "nbconvert_exporter": "python",
   "pygments_lexer": "ipython2",
   "version": "2.7.6"
  }
 },
 "nbformat": 4,
 "nbformat_minor": 0
}
